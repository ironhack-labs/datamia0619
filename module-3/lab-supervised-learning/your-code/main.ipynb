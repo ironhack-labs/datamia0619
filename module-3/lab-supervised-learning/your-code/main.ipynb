{
 "cells": [
  {
   "cell_type": "markdown",
   "metadata": {},
   "source": [
    "# Before your start:\n",
    "- Read the README.md file\n",
    "- Comment as much as you can and use the resources in the README.md file\n",
    "- Happy learning!"
   ]
  },
  {
   "cell_type": "code",
   "execution_count": 105,
   "metadata": {},
   "outputs": [],
   "source": [
    "# Import your libraries:\n",
    "\n",
    "%matplotlib inline\n",
    "\n",
    "import numpy as np\n",
    "import pandas as pd\n",
    "import os \n",
    "import sklearn as sk"
   ]
  },
  {
   "cell_type": "markdown",
   "metadata": {},
   "source": [
    "In this lab, we will explore a dataset that describes websites with different features and labels them either benign or malicious . We will use supervised learning algorithms to figure out what feature patterns malicious websites are likely to have and use our model to predict malicious websites.\n",
    "\n",
    "# Challenge 1 - Explore The Dataset\n",
    "\n",
    "Let's start by exploring the dataset. First load the data file:"
   ]
  },
  {
   "cell_type": "code",
   "execution_count": 2,
   "metadata": {},
   "outputs": [],
   "source": [
    "websites = pd.read_csv(os.getcwd()+'/website.csv')"
   ]
  },
  {
   "cell_type": "markdown",
   "metadata": {},
   "source": [
    "#### Explore the data from an bird's-eye view.\n",
    "\n",
    "You should already been very familiar with the procedures now so we won't provide the instructions step by step. Reflect on what you did in the previous labs and explore the dataset.\n",
    "\n",
    "Things you'll be looking for:\n",
    "\n",
    "* What the dataset looks like?\n",
    "* What are the data types?\n",
    "* Which columns contain the features of the websites?\n",
    "* Which column contains the feature we will predict? What is the code standing for benign vs malicious websites?\n",
    "* Do we need to transform any of the columns from categorical to ordinal values? If so what are these columns?\n",
    "\n",
    "Feel free to add additional cells for your explorations. Make sure to comment what you find out."
   ]
  },
  {
   "cell_type": "code",
   "execution_count": 3,
   "metadata": {},
   "outputs": [
    {
     "data": {
      "text/html": [
       "<div>\n",
       "<style scoped>\n",
       "    .dataframe tbody tr th:only-of-type {\n",
       "        vertical-align: middle;\n",
       "    }\n",
       "\n",
       "    .dataframe tbody tr th {\n",
       "        vertical-align: top;\n",
       "    }\n",
       "\n",
       "    .dataframe thead th {\n",
       "        text-align: right;\n",
       "    }\n",
       "</style>\n",
       "<table border=\"1\" class=\"dataframe\">\n",
       "  <thead>\n",
       "    <tr style=\"text-align: right;\">\n",
       "      <th></th>\n",
       "      <th>URL</th>\n",
       "      <th>URL_LENGTH</th>\n",
       "      <th>NUMBER_SPECIAL_CHARACTERS</th>\n",
       "      <th>CHARSET</th>\n",
       "      <th>SERVER</th>\n",
       "      <th>CONTENT_LENGTH</th>\n",
       "      <th>WHOIS_COUNTRY</th>\n",
       "      <th>WHOIS_STATEPRO</th>\n",
       "      <th>WHOIS_REGDATE</th>\n",
       "      <th>WHOIS_UPDATED_DATE</th>\n",
       "      <th>...</th>\n",
       "      <th>DIST_REMOTE_TCP_PORT</th>\n",
       "      <th>REMOTE_IPS</th>\n",
       "      <th>APP_BYTES</th>\n",
       "      <th>SOURCE_APP_PACKETS</th>\n",
       "      <th>REMOTE_APP_PACKETS</th>\n",
       "      <th>SOURCE_APP_BYTES</th>\n",
       "      <th>REMOTE_APP_BYTES</th>\n",
       "      <th>APP_PACKETS</th>\n",
       "      <th>DNS_QUERY_TIMES</th>\n",
       "      <th>Type</th>\n",
       "    </tr>\n",
       "  </thead>\n",
       "  <tbody>\n",
       "    <tr>\n",
       "      <th>0</th>\n",
       "      <td>M0_109</td>\n",
       "      <td>16</td>\n",
       "      <td>7</td>\n",
       "      <td>iso-8859-1</td>\n",
       "      <td>nginx</td>\n",
       "      <td>263.0</td>\n",
       "      <td>None</td>\n",
       "      <td>None</td>\n",
       "      <td>10/10/2015 18:21</td>\n",
       "      <td>None</td>\n",
       "      <td>...</td>\n",
       "      <td>0</td>\n",
       "      <td>2</td>\n",
       "      <td>700</td>\n",
       "      <td>9</td>\n",
       "      <td>10</td>\n",
       "      <td>1153</td>\n",
       "      <td>832</td>\n",
       "      <td>9</td>\n",
       "      <td>2.0</td>\n",
       "      <td>1</td>\n",
       "    </tr>\n",
       "    <tr>\n",
       "      <th>1</th>\n",
       "      <td>B0_2314</td>\n",
       "      <td>16</td>\n",
       "      <td>6</td>\n",
       "      <td>UTF-8</td>\n",
       "      <td>Apache/2.4.10</td>\n",
       "      <td>15087.0</td>\n",
       "      <td>None</td>\n",
       "      <td>None</td>\n",
       "      <td>None</td>\n",
       "      <td>None</td>\n",
       "      <td>...</td>\n",
       "      <td>7</td>\n",
       "      <td>4</td>\n",
       "      <td>1230</td>\n",
       "      <td>17</td>\n",
       "      <td>19</td>\n",
       "      <td>1265</td>\n",
       "      <td>1230</td>\n",
       "      <td>17</td>\n",
       "      <td>0.0</td>\n",
       "      <td>0</td>\n",
       "    </tr>\n",
       "    <tr>\n",
       "      <th>2</th>\n",
       "      <td>B0_911</td>\n",
       "      <td>16</td>\n",
       "      <td>6</td>\n",
       "      <td>us-ascii</td>\n",
       "      <td>Microsoft-HTTPAPI/2.0</td>\n",
       "      <td>324.0</td>\n",
       "      <td>None</td>\n",
       "      <td>None</td>\n",
       "      <td>None</td>\n",
       "      <td>None</td>\n",
       "      <td>...</td>\n",
       "      <td>0</td>\n",
       "      <td>0</td>\n",
       "      <td>0</td>\n",
       "      <td>0</td>\n",
       "      <td>0</td>\n",
       "      <td>0</td>\n",
       "      <td>0</td>\n",
       "      <td>0</td>\n",
       "      <td>0.0</td>\n",
       "      <td>0</td>\n",
       "    </tr>\n",
       "    <tr>\n",
       "      <th>3</th>\n",
       "      <td>B0_113</td>\n",
       "      <td>17</td>\n",
       "      <td>6</td>\n",
       "      <td>ISO-8859-1</td>\n",
       "      <td>nginx</td>\n",
       "      <td>162.0</td>\n",
       "      <td>US</td>\n",
       "      <td>AK</td>\n",
       "      <td>7/10/1997 4:00</td>\n",
       "      <td>12/09/2013 0:45</td>\n",
       "      <td>...</td>\n",
       "      <td>22</td>\n",
       "      <td>3</td>\n",
       "      <td>3812</td>\n",
       "      <td>39</td>\n",
       "      <td>37</td>\n",
       "      <td>18784</td>\n",
       "      <td>4380</td>\n",
       "      <td>39</td>\n",
       "      <td>8.0</td>\n",
       "      <td>0</td>\n",
       "    </tr>\n",
       "    <tr>\n",
       "      <th>4</th>\n",
       "      <td>B0_403</td>\n",
       "      <td>17</td>\n",
       "      <td>6</td>\n",
       "      <td>UTF-8</td>\n",
       "      <td>None</td>\n",
       "      <td>124140.0</td>\n",
       "      <td>US</td>\n",
       "      <td>TX</td>\n",
       "      <td>12/05/1996 0:00</td>\n",
       "      <td>11/04/2017 0:00</td>\n",
       "      <td>...</td>\n",
       "      <td>2</td>\n",
       "      <td>5</td>\n",
       "      <td>4278</td>\n",
       "      <td>61</td>\n",
       "      <td>62</td>\n",
       "      <td>129889</td>\n",
       "      <td>4586</td>\n",
       "      <td>61</td>\n",
       "      <td>4.0</td>\n",
       "      <td>0</td>\n",
       "    </tr>\n",
       "  </tbody>\n",
       "</table>\n",
       "<p>5 rows × 21 columns</p>\n",
       "</div>"
      ],
      "text/plain": [
       "       URL  URL_LENGTH  NUMBER_SPECIAL_CHARACTERS     CHARSET  \\\n",
       "0   M0_109          16                          7  iso-8859-1   \n",
       "1  B0_2314          16                          6       UTF-8   \n",
       "2   B0_911          16                          6    us-ascii   \n",
       "3   B0_113          17                          6  ISO-8859-1   \n",
       "4   B0_403          17                          6       UTF-8   \n",
       "\n",
       "                  SERVER  CONTENT_LENGTH WHOIS_COUNTRY WHOIS_STATEPRO  \\\n",
       "0                  nginx           263.0          None           None   \n",
       "1          Apache/2.4.10         15087.0          None           None   \n",
       "2  Microsoft-HTTPAPI/2.0           324.0          None           None   \n",
       "3                  nginx           162.0            US             AK   \n",
       "4                   None        124140.0            US             TX   \n",
       "\n",
       "      WHOIS_REGDATE WHOIS_UPDATED_DATE  ...  DIST_REMOTE_TCP_PORT  REMOTE_IPS  \\\n",
       "0  10/10/2015 18:21               None  ...                     0           2   \n",
       "1              None               None  ...                     7           4   \n",
       "2              None               None  ...                     0           0   \n",
       "3    7/10/1997 4:00    12/09/2013 0:45  ...                    22           3   \n",
       "4   12/05/1996 0:00    11/04/2017 0:00  ...                     2           5   \n",
       "\n",
       "   APP_BYTES  SOURCE_APP_PACKETS  REMOTE_APP_PACKETS  SOURCE_APP_BYTES  \\\n",
       "0        700                   9                  10              1153   \n",
       "1       1230                  17                  19              1265   \n",
       "2          0                   0                   0                 0   \n",
       "3       3812                  39                  37             18784   \n",
       "4       4278                  61                  62            129889   \n",
       "\n",
       "   REMOTE_APP_BYTES  APP_PACKETS  DNS_QUERY_TIMES  Type  \n",
       "0               832            9              2.0     1  \n",
       "1              1230           17              0.0     0  \n",
       "2                 0            0              0.0     0  \n",
       "3              4380           39              8.0     0  \n",
       "4              4586           61              4.0     0  \n",
       "\n",
       "[5 rows x 21 columns]"
      ]
     },
     "execution_count": 3,
     "metadata": {},
     "output_type": "execute_result"
    }
   ],
   "source": [
    "# Your code here\n",
    "websites.head()"
   ]
  },
  {
   "cell_type": "code",
   "execution_count": null,
   "metadata": {},
   "outputs": [],
   "source": []
  },
  {
   "cell_type": "code",
   "execution_count": 4,
   "metadata": {},
   "outputs": [
    {
     "data": {
      "text/plain": [
       "(1781, 21)"
      ]
     },
     "execution_count": 4,
     "metadata": {},
     "output_type": "execute_result"
    }
   ],
   "source": [
    "websites.shape"
   ]
  },
  {
   "cell_type": "code",
   "execution_count": 5,
   "metadata": {},
   "outputs": [
    {
     "data": {
      "text/plain": [
       "Index(['URL', 'URL_LENGTH', 'NUMBER_SPECIAL_CHARACTERS', 'CHARSET', 'SERVER',\n",
       "       'CONTENT_LENGTH', 'WHOIS_COUNTRY', 'WHOIS_STATEPRO', 'WHOIS_REGDATE',\n",
       "       'WHOIS_UPDATED_DATE', 'TCP_CONVERSATION_EXCHANGE',\n",
       "       'DIST_REMOTE_TCP_PORT', 'REMOTE_IPS', 'APP_BYTES', 'SOURCE_APP_PACKETS',\n",
       "       'REMOTE_APP_PACKETS', 'SOURCE_APP_BYTES', 'REMOTE_APP_BYTES',\n",
       "       'APP_PACKETS', 'DNS_QUERY_TIMES', 'Type'],\n",
       "      dtype='object')"
      ]
     },
     "execution_count": 5,
     "metadata": {},
     "output_type": "execute_result"
    }
   ],
   "source": [
    "websites.columns"
   ]
  },
  {
   "cell_type": "code",
   "execution_count": 6,
   "metadata": {},
   "outputs": [],
   "source": [
    "X = websites[['URL_LENGTH', 'CHARSET', 'SERVER',\n",
    "              'CONTENT_LENGTH', 'WHOIS_COUNTRY',\n",
    "              'WHOIS_REGDATE', 'WHOIS_UPDATED_DATE',\n",
    "              'TCP_CONVERSATION_EXCHANGE', 'DIST_REMOTE_TCP_PORT',\n",
    "             'REMOTE_IPS', 'APP_BYTES', 'SOURCE_APP_PACKETS', 'REMOTE_APP_PACKETS',\n",
    "             'DNS_QUERY_TIMES']]\n",
    "y = websites['Type']"
   ]
  },
  {
   "cell_type": "code",
   "execution_count": null,
   "metadata": {},
   "outputs": [],
   "source": []
  },
  {
   "cell_type": "code",
   "execution_count": 7,
   "metadata": {},
   "outputs": [
    {
     "data": {
      "text/plain": [
       "URL_LENGTH                     0\n",
       "CHARSET                        0\n",
       "SERVER                         1\n",
       "CONTENT_LENGTH               812\n",
       "WHOIS_COUNTRY                  0\n",
       "WHOIS_REGDATE                  0\n",
       "WHOIS_UPDATED_DATE             0\n",
       "TCP_CONVERSATION_EXCHANGE      0\n",
       "DIST_REMOTE_TCP_PORT           0\n",
       "REMOTE_IPS                     0\n",
       "APP_BYTES                      0\n",
       "SOURCE_APP_PACKETS             0\n",
       "REMOTE_APP_PACKETS             0\n",
       "DNS_QUERY_TIMES                1\n",
       "dtype: int64"
      ]
     },
     "execution_count": 7,
     "metadata": {},
     "output_type": "execute_result"
    }
   ],
   "source": [
    "X.isnull().sum()"
   ]
  },
  {
   "cell_type": "code",
   "execution_count": 8,
   "metadata": {},
   "outputs": [
    {
     "name": "stderr",
     "output_type": "stream",
     "text": [
      "/anaconda3/lib/python3.7/site-packages/pandas/core/frame.py:3940: SettingWithCopyWarning: \n",
      "A value is trying to be set on a copy of a slice from a DataFrame\n",
      "\n",
      "See the caveats in the documentation: http://pandas.pydata.org/pandas-docs/stable/indexing.html#indexing-view-versus-copy\n",
      "  errors=errors)\n"
     ]
    }
   ],
   "source": [
    "X.drop('CONTENT_LENGTH', inplace=True, axis=1)"
   ]
  },
  {
   "cell_type": "code",
   "execution_count": 9,
   "metadata": {},
   "outputs": [
    {
     "data": {
      "text/plain": [
       "URL_LENGTH                     int64\n",
       "CHARSET                       object\n",
       "SERVER                        object\n",
       "WHOIS_COUNTRY                 object\n",
       "WHOIS_REGDATE                 object\n",
       "WHOIS_UPDATED_DATE            object\n",
       "TCP_CONVERSATION_EXCHANGE      int64\n",
       "DIST_REMOTE_TCP_PORT           int64\n",
       "REMOTE_IPS                     int64\n",
       "APP_BYTES                      int64\n",
       "SOURCE_APP_PACKETS             int64\n",
       "REMOTE_APP_PACKETS             int64\n",
       "DNS_QUERY_TIMES              float64\n",
       "dtype: object"
      ]
     },
     "execution_count": 9,
     "metadata": {},
     "output_type": "execute_result"
    }
   ],
   "source": [
    "X.dtypes"
   ]
  },
  {
   "cell_type": "code",
   "execution_count": 10,
   "metadata": {},
   "outputs": [
    {
     "data": {
      "text/plain": [
       "(1781, 13)"
      ]
     },
     "execution_count": 10,
     "metadata": {},
     "output_type": "execute_result"
    }
   ],
   "source": [
    "X.shape"
   ]
  },
  {
   "cell_type": "code",
   "execution_count": 11,
   "metadata": {},
   "outputs": [
    {
     "data": {
      "text/plain": [
       "(1779, 13)"
      ]
     },
     "execution_count": 11,
     "metadata": {},
     "output_type": "execute_result"
    }
   ],
   "source": [
    "X = X.dropna()\n",
    "X.shape"
   ]
  },
  {
   "cell_type": "code",
   "execution_count": 12,
   "metadata": {},
   "outputs": [
    {
     "name": "stdout",
     "output_type": "stream",
     "text": [
      "CHARSET Unique Values:  ['iso-8859-1' 'UTF-8' 'us-ascii' 'ISO-8859-1' 'utf-8' 'None'\n",
      " 'windows-1251' 'ISO-8859' 'windows-1252']\n",
      "SERVER Unique Values:  ['nginx' 'Apache/2.4.10' 'Microsoft-HTTPAPI/2.0' 'None' 'Apache/2'\n",
      " 'nginx/1.10.1' 'Apache' 'Apache/2.2.15 (Red Hat)'\n",
      " 'Apache/2.4.23 (Unix) OpenSSL/1.0.1e-fips mod_bwlimited/1.4'\n",
      " 'openresty/1.11.2.1' 'Apache/2.2.22' 'Apache/2.4.7 (Ubuntu)'\n",
      " 'nginx/1.12.0'\n",
      " 'Apache/2.4.12 (Unix) OpenSSL/1.0.1e-fips mod_bwlimited/1.4'\n",
      " 'Oracle-iPlanet-Web-Server/7.0' 'cloudflare-nginx' 'nginx/1.6.2'\n",
      " 'openresty' 'Heptu web server' 'Pepyaka/1.11.3' 'nginx/1.8.0'\n",
      " 'nginx/1.10.1 + Phusion Passenger 5.0.30' 'Apache/2.2.29 (Amazon)'\n",
      " 'Microsoft-IIS/7.5' 'LiteSpeed'\n",
      " 'Apache/2.4.25 (cPanel) OpenSSL/1.0.1e-fips mod_bwlimited/1.4' 'tsa_c'\n",
      " 'Apache/2.2.0 (Fedora)' 'Apache/2.2.22 (Debian)' 'Apache/2.2.15 (CentOS)'\n",
      " 'Apache/2.4.25' 'Apache/2.4.25 (Amazon) PHP/7.0.14' 'GSE'\n",
      " 'Apache/2.4.23 (Unix) OpenSSL/0.9.8e-fips-rhel5 mod_bwlimited/1.4'\n",
      " 'Apache/2.4.25 (Amazon) OpenSSL/1.0.1k-fips' 'Apache/2.2.22 (Ubuntu)'\n",
      " 'Tengine'\n",
      " 'Apache/2.4.18 (Unix) OpenSSL/0.9.8e-fips-rhel5 mod_bwlimited/1.4'\n",
      " 'Apache/2.4.10 (Debian)' 'Apache/2.4.6 (CentOS) PHP/5.6.8'\n",
      " 'Sun-ONE-Web-Server/6.1'\n",
      " 'Apache/2.4.18 (Unix) OpenSSL/1.0.2e Communique/4.1.10' 'AmazonS3'\n",
      " 'Apache/1.3.37 (Unix) mod_perl/1.29 mod_ssl/2.8.28 OpenSSL/0.9.7e-p1'\n",
      " 'ATS' 'Apache/2.2.27 (CentOS)'\n",
      " 'Apache/2.2.29 (Unix) mod_ssl/2.2.29 OpenSSL/1.0.1e-fips DAV/2 mod_bwlimited/1.4'\n",
      " 'CherryPy/3.6.0' 'Server' 'KHL'\n",
      " 'Apache/2.4.6 (CentOS) OpenSSL/1.0.1e-fips mod_fcgid/2.3.9 PHP/5.4.16 mod_jk/1.2.40'\n",
      " 'Apache/2.2.3 (CentOS)' 'Apache/2.4'\n",
      " 'Apache/1.3.27 (Unix)  (Red-Hat/Linux) mod_perl/1.26 PHP/4.3.3 FrontPage/5.0.2 mod_ssl/2.8.12 OpenSSL/0.9.6b'\n",
      " 'mw2114.codfw.wmnet'\n",
      " 'Apache/2.2.31 (Unix) mod_ssl/2.2.31 OpenSSL/1.0.1e-fips mod_bwlimited/1.4 mod_perl/2.0.8 Perl/v5.10.1'\n",
      " 'Apache/1.3.34 (Unix) PHP/4.4.4' 'Apache/2.2.31 (Amazon)'\n",
      " 'Jetty(9.0.z-SNAPSHOT)' 'Apache/2.2.31 (CentOS)' 'Apache/2.4.12 (Ubuntu)'\n",
      " 'HTTPDaemon'\n",
      " 'Apache/2.2.29 (Unix) mod_ssl/2.2.29 OpenSSL/1.0.1e-fips mod_bwlimited/1.4'\n",
      " 'MediaFire' 'DOSarrest' 'mw2232.codfw.wmnet' 'Sucuri/Cloudproxy'\n",
      " 'Apache/2.4.23 (Unix)' 'nginx/0.7.65' 'mw2260.codfw.wmnet'\n",
      " 'Apache/2.2.32' 'mw2239.codfw.wmnet' 'DPS/1.1.8'\n",
      " 'Apache/2.0.52 (Red Hat)'\n",
      " 'Apache/2.2.25 (Unix) mod_ssl/2.2.25 OpenSSL/0.9.8e-fips-rhel5 mod_bwlimited/1.4'\n",
      " 'Apache/1.3.31 (Unix) PHP/4.3.9 mod_perl/1.29 rus/PL30.20'\n",
      " 'Apache/2.2.13 (Unix) mod_ssl/2.2.13 OpenSSL/0.9.8e-fips-rhel5 mod_auth_passthrough/2.1 mod_bwlimited/1.4 PHP/5.2.10'\n",
      " 'nginx/1.1.19' 'ATS/5.3.0' 'Apache/2.2.3 (Red Hat)' 'nginx/1.4.3'\n",
      " 'Apache/2.2.29 (Unix) mod_ssl/2.2.29 OpenSSL/1.0.1e-fips mod_bwlimited/1.4 PHP/5.4.35'\n",
      " 'Apache/2.2.14 (FreeBSD) mod_ssl/2.2.14 OpenSSL/0.9.8y DAV/2 PHP/5.2.12 with Suhosin-Patch'\n",
      " 'Apache/2.2.14 (Unix) mod_ssl/2.2.14 OpenSSL/0.9.8e-fips-rhel5'\n",
      " 'Apache/1.3.39 (Unix) PHP/5.2.5 mod_auth_passthrough/1.8 mod_bwlimited/1.4 mod_log_bytes/1.2 mod_gzip/1.3.26.1a FrontPage/5.0.2.2635 DAV/1.0.3 mod_ssl/2.8.30 OpenSSL/0.9.7a'\n",
      " 'SSWS' 'Microsoft-IIS/8.0' 'Apache/2.4.18 (Ubuntu)'\n",
      " 'Apache/2.4.6 (CentOS) OpenSSL/1.0.1e-fips PHP/5.4.16 mod_apreq2-20090110/2.8.0 mod_perl/2.0.10 Perl/v5.24.1'\n",
      " 'Apache/2.2.20 (Unix)' 'YouTubeFrontEnd' 'nginx/1.11.3' 'nginx/1.11.2'\n",
      " 'nginx/1.10.0 (Ubuntu)' 'nginx/1.8.1' 'nginx/1.11.10'\n",
      " 'Squeegit/1.2.5 (3_sir)'\n",
      " 'Virtuoso/07.20.3217 (Linux) i686-generic-linux-glibc212-64  VDB'\n",
      " 'Apache-Coyote/1.1' 'Yippee-Ki-Yay' 'mw2165.codfw.wmnet'\n",
      " 'mw2192.codfw.wmnet' 'Apache/2.2.23 (Amazon)' 'nginx/1.4.6 (Ubuntu)'\n",
      " 'nginx + Phusion Passenger' 'Proxy Pandeiro UOL' 'mw2231.codfw.wmnet'\n",
      " 'openresty/1.11.2.2' 'mw2109.codfw.wmnet' 'nginx/0.8.54' 'Apache/2.4.6'\n",
      " 'mw2225.codfw.wmnet' 'Apache/1.3.27 (Unix) PHP/4.4.1'\n",
      " 'mw2236.codfw.wmnet' 'mw2101.codfw.wmnet' 'Varnish' 'Resin/3.1.8'\n",
      " 'mw2164.codfw.wmnet' 'Microsoft-IIS/8.5' 'mw2242.codfw.wmnet'\n",
      " 'Apache/2.4.6 (CentOS) OpenSSL/1.0.1e-fips PHP/5.5.38'\n",
      " 'mw2175.codfw.wmnet' 'mw2107.codfw.wmnet' 'mw2190.codfw.wmnet'\n",
      " 'Apache/2.4.6 (CentOS)' 'nginx/1.13.0' 'barista/5.1.3'\n",
      " 'mw2103.codfw.wmnet' 'Apache/2.4.25 (Debian)' 'ECD (fll/0790)'\n",
      " 'Pagely Gateway/1.5.1' 'nginx/1.10.3'\n",
      " 'Apache/2.4.25 (FreeBSD) OpenSSL/1.0.1s-freebsd PHP/5.6.30'\n",
      " 'mw2097.codfw.wmnet' 'mw2233.codfw.wmnet' 'fbs' 'mw2199.codfw.wmnet'\n",
      " 'mw2255.codfw.wmnet' 'mw2228.codfw.wmnet'\n",
      " 'Apache/2.2.31 (Unix) mod_ssl/2.2.31 OpenSSL/1.0.1e-fips mod_bwlimited/1.4 mod_fcgid/2.3.9'\n",
      " 'gunicorn/19.7.1'\n",
      " 'Apache/2.2.31 (Unix) mod_ssl/2.2.31 OpenSSL/0.9.8e-fips-rhel5 mod_bwlimited/1.4'\n",
      " 'Apache/2.4.6 (CentOS) OpenSSL/1.0.1e-fips PHP/5.4.16'\n",
      " 'mw2241.codfw.wmnet'\n",
      " 'Apache/1.3.33 (Unix) mod_ssl/2.8.24 OpenSSL/0.9.7e-p1 PHP/4.4.8'\n",
      " 'lighttpd' 'mw2230.codfw.wmnet'\n",
      " 'Apache/2.4.6 (CentOS) OpenSSL/1.0.1e-fips' 'AkamaiGHost'\n",
      " 'mw2240.codfw.wmnet' 'nginx/1.10.2' 'PWS/8.2.0.7' 'nginx/1.2.1' 'nxfps'\n",
      " 'Apache/2.2.16 (Unix) mod_ssl/2.2.16 OpenSSL/0.9.8e-fips-rhel5 mod_auth_passthrough/2.1 mod_bwlimited/1.4'\n",
      " 'Play' 'mw2185.codfw.wmnet' 'Apache/2.4.10 (Unix) OpenSSL/1.0.1k'\n",
      " 'Apache/Not telling (Unix) AuthTDS/1.1' 'Apache/2.2.11 (Unix) PHP/5.2.6'\n",
      " 'Scratch Web Server' 'marrakesh 1.12.2' 'nginx/0.8.35'\n",
      " 'mw2182.codfw.wmnet' 'squid/3.3.8' 'nginx/1.10.0' 'Nginx (OpenBSD)'\n",
      " 'Zope/(2.13.16; python 2.6.8; linux2) ZServer/1.1'\n",
      " 'Apache/2.2.26 (Unix) mod_ssl/2.2.26 OpenSSL/0.9.8e-fips-rhel5 mod_bwlimited/1.4 PHP/5.4.26'\n",
      " 'Apache/2.2.21 (Unix) mod_ssl/2.2.21 OpenSSL/0.9.8e-fips-rhel5 PHP/5.3.10'\n",
      " 'Apache/2.2.27 (Unix) OpenAM Web Agent/4.0.1-1 mod_ssl/2.2.27 OpenSSL/1.0.1p PHP/5.3.28'\n",
      " 'mw2104.codfw.wmnet' '.V01 Apache' 'mw2110.codfw.wmnet'\n",
      " 'Apache/2.4.6 (Unix) mod_jk/1.2.37 PHP/5.5.1 OpenSSL/1.0.1g mod_fcgid/2.3.9'\n",
      " 'mw2176.codfw.wmnet' 'mw2187.codfw.wmnet' 'mw2106.codfw.wmnet'\n",
      " 'Microsoft-IIS/7.0'\n",
      " 'Apache/1.3.42 Ben-SSL/1.60 (Unix) mod_gzip/1.3.26.1a mod_fastcgi/2.4.6 mod_throttle/3.1.2 Chili!Soft-ASP/3.6.2 FrontPage/5.0.2.2635 mod_perl/1.31 PHP/4.4.9'\n",
      " 'Aeria Games & Entertainment' 'nginx/1.6.3 + Phusion Passenger'\n",
      " 'Apache/2.4.10 (Debian) PHP/5.6.30-0+deb8u1 mod_perl/2.0.9dev Perl/v5.20.2'\n",
      " 'mw2173.codfw.wmnet'\n",
      " 'Apache/2.4.6 (Red Hat Enterprise Linux) OpenSSL/1.0.1e-fips mod_fcgid/2.3.9 Communique/4.2.0'\n",
      " 'Apache/2.2.15 (CentOS) DAV/2 mod_ssl/2.2.15 OpenSSL/1.0.1e-fips PHP/5.3.3'\n",
      " 'Apache/2.4.6 (CentOS) OpenSSL/1.0.1e-fips PHP/7.0.14'\n",
      " 'mw2198.codfw.wmnet' 'mw2172.codfw.wmnet' 'nginx/1.2.6'\n",
      " 'Apache/2.4.6 (Unix) mod_jk/1.2.37'\n",
      " 'Apache/2.4.25 (Unix) OpenSSL/1.0.1e-fips mod_bwlimited/1.4'\n",
      " 'nginx/1.4.4' 'Cowboy' 'mw2113.codfw.wmnet'\n",
      " 'Apache/2.2.14 (Unix) mod_ssl/2.2.14 OpenSSL/0.9.8a'\n",
      " 'Apache/2.4.10 (Ubuntu)' 'mw2224.codfw.wmnet' 'mw2171.codfw.wmnet'\n",
      " 'mw2257.codfw.wmnet' 'mw2226.codfw.wmnet' 'DMS/1.0.42' 'nginx/1.6.3'\n",
      " 'Application-Server' 'Apache/2.4.6 (CentOS) mod_fcgid/2.3.9 PHP/5.6.30'\n",
      " 'mw2177.codfw.wmnet' 'lighttpd/1.4.28' 'mw2197.codfw.wmnet'\n",
      " 'Apache/2.2.31 (FreeBSD) PHP/5.4.15 mod_ssl/2.2.31 OpenSSL/1.0.2d DAV/2'\n",
      " 'Apache/2.2.26 (Unix) mod_ssl/2.2.26 OpenSSL/1.0.1e-fips DAV/2 mod_bwlimited/1.4'\n",
      " 'Apache/2.2.24 (Unix) DAV/2 PHP/5.3.26 mod_ssl/2.2.24 OpenSSL/0.9.8y'\n",
      " 'mw2178.codfw.wmnet' '294' 'Microsoft-IIS/6.0' 'nginx/1.7.4'\n",
      " 'Apache/2.2.22 (Debian) mod_python/3.3.1 Python/2.7.3 mod_ssl/2.2.22 OpenSSL/1.0.1t'\n",
      " 'Apache/2.4.16 (Ubuntu)' 'www.lexisnexis.com  9999' 'nginx/0.8.38'\n",
      " 'mw2238.codfw.wmnet' 'Pizza/pepperoni' 'XXXXXXXXXXXXXXXXXXXXXX' 'MI'\n",
      " 'Roxen/5.4.98-r2'\n",
      " 'Apache/2.2.31 (Unix) mod_ssl/2.2.31 OpenSSL/1.0.1e-fips mod_bwlimited/1.4'\n",
      " 'nginx/1.9.13' 'mw2180.codfw.wmnet' 'Apache/2.2.14 (Ubuntu)'\n",
      " 'ebay server' 'nginx/0.8.55' 'Apache/2.2.10 (Linux/SUSE)' 'nginx/1.7.12'\n",
      " 'Apache/2.0.63 (Unix) mod_ssl/2.0.63 OpenSSL/0.9.8e-fips-rhel5 mod_auth_passthrough/2.1 mod_bwlimited/1.4 PHP/5.3.6'\n",
      " 'Boston.com Frontend' 'My Arse' 'IdeaWebServer/v0.80'\n",
      " 'Apache/2.4.17 (Unix) OpenSSL/1.0.1e-fips PHP/5.6.19'\n",
      " 'Microsoft-IIS/7.5; litigation_essentials.lexisnexis.com  9999'\n",
      " 'Apache/2.2.16 (Debian)']\n",
      "WHOIS_COUNTRY Unique Values:  ['None' 'US' 'SC' 'GB' 'UK' 'RU' 'AU' 'CA' 'PA' 'se' 'IN' 'LU' 'TH'\n",
      " \"[u'GB'; u'UK']\" 'FR' 'NL' 'UG' 'JP' 'CN' 'SE' 'SI' 'IL' 'ru' 'KY' 'AT'\n",
      " 'CZ' 'PH' 'BE' 'NO' 'TR' 'LV' 'DE' 'ES' 'BR' 'us' 'KR' 'HK' 'UA' 'CH'\n",
      " 'United Kingdom' 'BS' 'PK' 'IT' 'Cyprus' 'BY' 'AE' 'IE' 'UY' 'KG']\n",
      "WHOIS_REGDATE Unique Values:  ['10/10/2015 18:21' 'None' '7/10/1997 4:00' '12/05/1996 0:00'\n",
      " '3/08/2016 14:30' '29/07/2002 0:00' '18/03/1997 0:00' '8/11/2014 7:41'\n",
      " '14/09/2007 0:00' '22/11/2016 0:00' '11/10/2002 0:00' '14/11/2002 0:00'\n",
      " '16/07/2000 0:00' '25/05/2013 0:00' '9/08/1999 0:00' '15/09/2013 0:00'\n",
      " '3/07/1999 0:00' '2/11/2003 0:00' '12/08/2008 22:10' '21/05/2009 0:00'\n",
      " '1/08/2002 0:00' '13/01/2005 0:00' '18/05/2005 19:41' '4/01/2001 0:00'\n",
      " '28/02/2008 10:58' '8/12/2006 0:00' '16/06/2000 0:00' '13/10/2000 0:00'\n",
      " '31/12/1999 0:00' '30/07/1996 0:00' '9/05/2008 0:00' '23/04/1999 0:00'\n",
      " '4/02/1997 0:00' '13/02/2003 0:00' '17/05/2008 0:00' '30/05/2002 0:00'\n",
      " '20/10/2005 0:00' '7/01/2006 0:00' '5/03/1996 5:00' '23/03/1995 0:00'\n",
      " '10/01/1998 0:00' '27/04/2016 0:00' '7/04/2011 0:00' '26/02/2009 0:00'\n",
      " '3/07/2002 0:00' '21/02/1995 0:00' '4/07/2007 0:00' '2/07/1998 0:00'\n",
      " '10/03/2005 0:00' '15/12/2004 0:00' '25/02/2008 0:00' '27/01/2005 0:00'\n",
      " '14/09/2006 0:00' '30/04/2010 14:12' '22/04/1997 0:00' '16/07/2016 0:00'\n",
      " '27/11/2016 19:09' '30/10/2009 0:00' '12/03/2009 21:00' '9/03/2000 17:50'\n",
      " '30/05/2008 0:00' '25/09/2000 0:00' '9/04/2002 0:00' '11/01/1997 0:00'\n",
      " '11/06/2000 0:00' '13/02/2002 19:55' '19/12/2007 0:00' '6/11/1997 0:00'\n",
      " '21/01/2000 0:00' '27/04/2009 0:00' '11/10/2000 0:00' '4/08/1998 0:00'\n",
      " '31/05/2000 0:00' '23/10/1999 0:00' '23/06/2010 0:00' '9/03/2000 0:00'\n",
      " '13/04/1994 0:00' '9/06/2010 0:00' '29/04/2009 0:00' '19/01/2015 0:00'\n",
      " '11/11/2015 0:00' '22/03/2017 0:00' '3/11/2009 0:00' '19/07/2010 20:03'\n",
      " '28/04/1997 0:00' '4/03/1996 0:00' '24/10/2007 0:00' '21/10/2004 0:00'\n",
      " '2002-03-20T23:59:59.0Z' '29/03/1997 0:00' '10/06/2008 0:00'\n",
      " '30/11/1999 0:00' '30/08/2004 0:00' '11/11/1996 0:00' '2/10/1995 4:00'\n",
      " '28/06/2011 0:00' '16/08/2016 0:00' '9/05/2000 17:31' '31/07/2000 0:00'\n",
      " '14/05/1999 0:00' '24/04/2009 0:00' '6/08/1998 0:00' '22/02/1996 0:00'\n",
      " '15/06/2007 0:00' '21/09/2009 0:00' '20/01/1995 0:00' '28/03/2006 0:00'\n",
      " '28/09/2007 16:06' '4/02/2017 0:00' '7/03/1996 0:00' '4/04/2003 0:00'\n",
      " '26/08/2015 0:00' '22/07/2004 0:00' '30/11/2004 0:00' '5/03/2008 0:00'\n",
      " '8/05/2003 0:00' '2/11/2010 21:52' '23/05/2006 0:00' '2/12/1998 0:00'\n",
      " '15/04/1999 0:00' '30/05/2003 0:00' '10/01/2002 0:57' '17/03/2006 0:00'\n",
      " '1/03/1999 0:00' '1/07/2015 0:00' '22/01/2006 0:00' '6/03/1996 5:00'\n",
      " '8/02/2013 0:00' '15/04/2003 0:00' '24/10/1996 0:00' '30/04/2016 0:00'\n",
      " '30/12/1999 0:00' '13/07/2001 0:00' '29/05/1996 0:00' '25/02/2004 0:00'\n",
      " '18/01/1995 0:00' '25/10/2014 0:00' '20/05/1996 0:00' '14/07/2000 0:00'\n",
      " '1/12/1996 5:00' '11/11/2000 0:00' '4/09/2004 0:00' '9/09/2005 13:44'\n",
      " '7/08/1996 0:00' '30/12/2005 0:00' '4/04/2006 0:00' '25/05/2000 0:00'\n",
      " '5/01/1996 0:00' '9/07/2008 0:00' '10/05/2006 20:00' '29/07/2006 0:00'\n",
      " '27/09/2010 0:00' '31/10/2008 0:00' '3/03/2000 0:00' '2/04/2008 0:00'\n",
      " '6/09/2016 0:00' '11/02/1997 0:00' '6/08/1995 0:00' '23/10/2008 0:00'\n",
      " '19/02/2009 0:00' '30/08/1998 0:00' '14/12/2006 0:00' '22/03/2005 3:36'\n",
      " '26/06/2009 0:00' '9/02/2000 14:17' '8/06/2007 0:00' '1/11/1994 0:00'\n",
      " '8/08/2013 0:00' '20/04/2000 0:00' '12/11/2016 0:00' '8/02/2000 0:00'\n",
      " '25/09/2003 0:00' '13/01/2001 0:12' '10/05/2002 0:00' '7/06/2005 0:00'\n",
      " '19/08/2012 0:00' '28/04/2003 0:00' '12/03/1999 0:00' '30/03/2011 0:00'\n",
      " '14/01/2008 0:00' '26/03/2000 0:00' '2/11/2002 0:00' '10/04/2010 0:00'\n",
      " '6/05/2010 16:44' '17/08/1999 12:43' '4/10/2006 0:00' '9/03/2007 0:00'\n",
      " '31/05/1996 0:00' '29/07/2004 0:00' '17/01/2005 0:00' '1/06/2005 0:00'\n",
      " '22/12/1999 0:00' '11/08/2002 0:00' '17/11/2003 0:00' '14/08/2008 0:00'\n",
      " '22/08/2010 0:00' '8/07/1996 0:00' '21/03/2014 0:00' '22/10/1998 0:00'\n",
      " '8/07/2010 0:00' '17/07/2009 0:00' '24/05/2001 20:47' '27/06/2004 0:00'\n",
      " '4/03/2004 0:00' '1/06/2004 0:00' '13/12/1995 0:00' '10/11/2000 0:00'\n",
      " '30/10/2003 0:00' '9/05/1998 0:00' '5/10/2006 0:00' '14/10/2005 0:00'\n",
      " '8/09/2003 0:00' '13/07/2008 0:00' '22/08/1996 0:00' '1/05/2002 0:00'\n",
      " '10/06/2005 0:00' '7/09/2000 0:00' '31/12/2015 0:00' '8/12/2007 0:00'\n",
      " '6/04/2008 0:00' '16/07/1998 0:00' '9/02/2001 0:00' '28/12/1999 0:00'\n",
      " '21/01/2008 0:00' '27/02/1996 0:00' '7/10/2006 0:00' '18/12/2004 0:00'\n",
      " '9/02/2009 0:00' '4/11/1998 0:00' '4/11/2016 0:00' '15/04/2004 0:00'\n",
      " '2/07/2010 0:00' '12/11/2007 20:49' '22/02/2006 0:00' '5/06/2000 0:00'\n",
      " '9/12/1996 0:00' '14/10/1999 0:00' '10/05/2006 23:10' '22/02/2001 0:00'\n",
      " '11/09/1997 4:00' '16/10/2000 0:00' '8/06/2006 0:00' '18/04/2001 0:00'\n",
      " '5/08/1993 0:00' '17/02/2011 0:00' '24/10/1999 0:00' '2/11/1996 0:00'\n",
      " '14/02/2000 0:00' '14/09/2009 8:39' '24/05/2000 0:00' '18/07/2005 0:00'\n",
      " '28/10/1999 0:00' '25/02/2006 0:00' '12/06/2007 0:00' '18/04/1995 0:00'\n",
      " '25/04/2000 0:00' '5/12/1997 0:00' '24/09/1996 0:00' '10/01/1992 0:00'\n",
      " '17/07/2001 0:00' '14/07/2011 0:00' '21/09/2001 0:00' '5/06/2003 0:00'\n",
      " '5/12/1996 0:00' '19/02/2002 1:02' '28/11/1999 0:00' '26/05/1997 0:00'\n",
      " '5/07/2008 0:00' '7/04/2007 0:00' '9/04/2011 16:13' '29/01/2004 16:01'\n",
      " '17/02/1999 5:00' '27/02/2000 15:05' '21/07/1995 0:00' '8/08/2002 0:00'\n",
      " '15/02/2005 0:00' '8/01/2009 10:56' '1/07/2007 5:40' '21/10/2006 0:00'\n",
      " '30/08/2000 0:00' '14/09/1995 0:00' '14/09/2000 8:47' '17/02/2006 0:00'\n",
      " '10/07/2002 0:00' '4/09/1996 4:00' '15/05/2005 0:00' '8/01/2004 0:00'\n",
      " '10/11/2009 0:00' '26/11/1996 0:00' '2/08/2010 0:00' '24/08/2003 0:00'\n",
      " '19/07/2010 0:00' '28/10/2008 0:00' '24/06/2003 0:00' '28/02/2008 0:00'\n",
      " '22/09/1993 0:00' '29/09/1994 0:00' '7/11/2016 0:00' '30/07/2009 4:01'\n",
      " '10/01/2007 15:27' '19/10/2005 0:00' '13/09/2001 23:03' '2/10/2005 0:00'\n",
      " '27/08/2002 0:00' '28/09/1996 0:00' '5/06/2006 0:00' '22/03/2006 0:00'\n",
      " '20/10/1998 0:00' '23/04/2002 18:56' '26/09/2005 0:00' '4/01/1995 0:00'\n",
      " '30/07/2004 0:00' '5/11/2008 0:00' '29/12/2005 0:00' '17/02/2009 0:00'\n",
      " '2/12/2005 0:00' '8/11/1998 0:00' '12/02/2002 0:00' '8/04/1996 0:00'\n",
      " '8/05/1996 0:00' '2/03/1999 0:00' '17/12/2007 0:00' '3/06/2000 0:00'\n",
      " '21/11/2016 0:00' '8/09/2007 0:00' '25/10/2006 0:00' '18/10/1994 0:00'\n",
      " '23/10/1996 0:00' '4/11/2003 0:00' '30/07/2002 0:00' '9/12/2008 0:00'\n",
      " '9/03/2010 0:00' '4/07/2001 23:21' '8/03/2016 0:00' '23/02/2010 0:00'\n",
      " '6/07/2016 14:30' '16/01/2016 0:00' '13/06/1997 0:00' '22/07/2005 18:52'\n",
      " '7/04/2002 20:00' '5/03/2013 20:51' '24/05/2004 0:00' '30/01/2006 0:00'\n",
      " '19/12/1997 0:00' '30/11/2006 0:00' '14/04/1999 0:00' '27/05/2008 0:00'\n",
      " '8/05/2004 20:53' '16/08/1999 0:00' '4/08/1995 0:00' '18/07/2002 0:00'\n",
      " '23/11/1994 0:00' '30/08/2015 0:00' '30/04/2009 0:00' '27/11/2006 0:00'\n",
      " '13/02/2017 0:00' '29/09/2015 0:00' '19/08/2004 0:00' '18/03/2016 0:00'\n",
      " '6/12/2010 0:00' '23/06/2003 0:00' '3/08/2004 0:00' '14/05/2002 0:00'\n",
      " '26/04/2001 0:00' '9/05/2004 18:06' '5/11/1997 5:00' '8/12/1995 0:00'\n",
      " '27/06/2001 0:00' '13/11/2002 0:00' '30/01/1996 0:00' '16/07/1999 0:00'\n",
      " '23/06/2006 0:00' '26/09/2003 0:00' '10/04/2002 0:00' '11/11/2006 0:00'\n",
      " '20/04/1995 4:00' '3/05/2015 0:00' '4/02/2005 0:00' '16/09/1996 4:00'\n",
      " '20/07/2006 0:00' '9/12/2003 0:00' '12/03/2008 0:00' '13/09/2000 0:00'\n",
      " '5/02/1999 0:00' '10/05/2000 0:00' '25/01/1995 0:00' '5/10/2005 0:00'\n",
      " '28/06/2006 0:00' '25/06/1997 0:00' '9/01/1998 0:00' '17/03/2000 0:00'\n",
      " '9/10/2016 17:08' '29/02/2008 0:00' '18/05/2001 0:00' '30/10/2002 0:00'\n",
      " '19/12/2000 0:00' '13/05/1998 0:00' '9/08/2009 0:00' '29/07/2007 0:00'\n",
      " '15/07/2009 0:00' '27/09/2000 0:00' '8/08/2001 0:00' '27/11/2002 0:00'\n",
      " '12/03/2009 1:58' '8/11/1993 0:00' '25/07/1998 0:00' '16/11/1999 0:00'\n",
      " '20/07/1998 4:00' '7/04/2003 0:00' '4/06/2009 0:00' '29/11/2000 0:00'\n",
      " '3/02/1999 0:00' '18/10/2000 0:00' '6/10/2005 0:00' '22/09/2009 0:00'\n",
      " '18/01/1994 0:00' '13/09/1996 4:00' '21/07/2008 0:00' '30/01/2007 0:00'\n",
      " '11/03/2017 0:00' '25/08/2004 0:00' '16/05/2001 0:00' '22/11/2003 0:00'\n",
      " '14/10/2016 0:00' '26/07/1995 0:00' '22/04/1999 0:00' '26/05/2006 0:00'\n",
      " '6/08/2002 0:00' '7/03/2000 0:00' '8/07/2000 0:00' '3/12/1999 0:00'\n",
      " '15/11/1998 0:00' '11/11/2007 0:00' '19/07/2004 0:00' '2/09/2003 0:00'\n",
      " '28/08/1998 0:00' '4/10/2003 0:00' '2/10/2007 0:00' '24/04/2007 0:00'\n",
      " '15/12/2010 0:00' '1/06/2001 0:00' '22/08/2007 0:00' '26/01/2001 0:00'\n",
      " '6/06/2007 0:00' '19/09/2002 0:00' '28/07/1995 0:00' '8/05/2001 0:00'\n",
      " '18/10/2002 0:00' '18/10/2004 0:00' '5/11/1997 0:00' '28/03/2000 0:00'\n",
      " '12/04/2000 0:00' '28/11/2006 0:00' '24/02/1996 0:00' '21/12/2005 0:00'\n",
      " '1/07/1998 0:00' '5/05/2004 0:00' '2/12/2004 0:00' '10/08/1998 0:00'\n",
      " '13/04/2005 0:00' '14/08/2000 0:00' '25/06/2002 0:00' '22/06/2014 0:00'\n",
      " '24/05/2015 0:00' '5/08/1999 0:00' '21/08/1998 0:00' '28/08/2003 0:00'\n",
      " '9/03/2004 0:00' '3/01/2002 0:00' '22/03/2009 0:00' '3/07/2000 17:33'\n",
      " '2/02/1996 0:00' '19/02/1997 0:00' '23/08/2010 0:00' '23/09/2009 0:00'\n",
      " '7/10/2005 16:25' '20/09/1995 0:00' '30/01/2003 0:00' '22/11/2000 0:00'\n",
      " '6/11/2001 1:42' '11/11/1999 0:00' '26/07/1990 0:00' '26/07/2003 0:00'\n",
      " '16/05/1995 0:00' '26/04/2004 0:00' '9/03/2006 0:00' '23/07/2011 0:00'\n",
      " '9/12/2002 0:00' '2/04/1999 0:00' '21/05/2007 21:12' '4/10/1996 0:00'\n",
      " '1/05/1996 0:00' '31/01/1995 5:00' '22/02/2007 0:00' '6/12/1994 0:00'\n",
      " '2/01/2003 0:00' '6/10/1999 0:00' '11/06/2003 0:00' '30/12/1996 0:00'\n",
      " '27/02/1998 5:00' '11/01/1999 0:00' '4/01/2007 0:00' '4/11/2004 22:27'\n",
      " '21/01/2007 22:31' '20/11/2007 0:00' '12/12/2003 0:00' '4/05/2001 0:00'\n",
      " '9/09/2002 0:00' '15/02/2000 0:00' '1/03/2005 0:00' '21/02/1992 0:00'\n",
      " '15/10/2005 0:00' '1/06/1996 0:00' '5/03/2005 0:00' '14/04/1998 0:00'\n",
      " '2/06/1994 0:00' '31/05/1995 0:00' '2/03/1995 0:00' '18/01/2008 0:00'\n",
      " '22/03/1999 0:00' '27/05/1998 0:00' '17/09/1998 0:00' '7/05/1998 0:00'\n",
      " '5/11/2003 0:00' '23/10/1994 0:00' '24/05/2010 0:00' '14/10/2007 12:24'\n",
      " '25/11/2016 0:00' '30/09/2002 0:00' '9/02/2007 0:00' '10/02/1999 0:00'\n",
      " '7/08/1995 0:00' '21/05/1997 0:00' '10/01/2006 0:00' '31/08/2004 0:00'\n",
      " '5/12/2005 0:00' '27/05/2002 0:00' '5/05/2001 0:00' '1/03/2008 0:00'\n",
      " '16/02/2005 0:00' '17/12/2005 0:00' '2/10/2002 0:00' '6/03/1998 0:00'\n",
      " '29/09/2005 0:00' '17/07/2000 0:00' '27/06/2015 0:00' '19/02/2005 0:00'\n",
      " '7/11/1996 0:00' '14/12/1995 5:00' '6/11/1998 0:00' '29/09/2000 0:00'\n",
      " '30/12/2002 0:00' '15/09/2003 0:00' '15/09/1997 0:00' '21/05/1998 0:00'\n",
      " '4/01/1997 0:00' '25/07/2003 18:21' '25/10/2005 0:00' '29/12/1999 0:00'\n",
      " '1/09/1995 4:00' '16/03/2003 8:22' '22/07/2008 0:00' '27/09/2013 0:00'\n",
      " '5/11/1999 0:00' 'b' '13/08/2002 0:00' '1/09/1998 0:00' '8/12/1997 0:00'\n",
      " '16/12/1993 5:00' '16/02/2001 9:00' '25/02/1999 0:00' '6/08/2004 0:00'\n",
      " '18/05/2003 7:22' '4/02/2003 0:00' '9/08/2002 18:13' '29/12/2008 0:00'\n",
      " '31/07/2006 0:00' '16/11/1998 0:00' '18/04/2000 0:00' '20/04/2001 0:00'\n",
      " '28/09/2005 0:00' '31/05/2005 0:00' '3/08/1998 0:00' '28/08/2007 0:00'\n",
      " '19/12/2006 0:00' '16/01/2001 0:00' '12/12/1990 0:00' '19/07/2016 0:00'\n",
      " '13/11/2003 0:00' '2/12/2000 0:00' '7/04/2006 16:53' '6/05/2006 0:00'\n",
      " '12/09/2009 21:54' '4/10/2010 0:00' '18/04/2005 22:11' '1/10/2001 0:00'\n",
      " '14/07/1998 4:00' '15/08/1995 0:00' '8/09/2004 0:00' '26/01/2001 12:11'\n",
      " '17/07/2006 0:00' '17/05/2001 0:00' '7/09/1993 0:00' '7/06/2001 0:00'\n",
      " '13/08/2004 0:00' '16/06/1996 0:00' '6/11/2007 0:00' '14/06/1995 0:00'\n",
      " '23/03/1998 0:00' '21/04/2002 0:00' '7/07/2007 0:00' '31/12/2005 0:00'\n",
      " '17/03/1996 5:00' '19/02/2002 0:00' '28/04/2005 0:00' '21/06/1997 0:00'\n",
      " '24/04/1999 0:00' '24/01/2001 0:00' '23/05/1997 0:00' '12/09/2002 0:00'\n",
      " '20/02/2006 0:00' '21/11/1997 0:00' '19/03/1999 0:00' '1/09/2016 0:00'\n",
      " '9/08/1995 0:00' '15/04/2010 0:00' '4/12/2014 0:00' '16/07/1998 16:08'\n",
      " '10/06/1999 0:00' '28/08/2001 0:00' '12/10/2003 0:00' '14/10/2001 0:00'\n",
      " '29/09/1998 0:00' '13/06/1995 0:00' '24/09/2006 0:00' '13/08/2003 0:00'\n",
      " '12/01/1995 0:00' '10/09/2003 0:00' '9/04/2008 0:00' '25/10/2002 0:00'\n",
      " '21/05/1995 0:00' '20/01/1998 0:00' '9/08/1996 0:00' '27/01/1999 0:00'\n",
      " '15/08/2013 0:00' '10/08/1999 0:00' '27/05/1997 0:00' '13/03/2000 0:00'\n",
      " '3/04/2011 0:00' '16/12/2004 0:00' '4/06/2010 0:00' '11/10/2005 0:00'\n",
      " '25/10/2003 0:00' '22/12/2003 0:00' '26/01/2007 0:00' '19/10/2006 0:00'\n",
      " '21/06/2004 6:33' '3/12/1996 0:00' '9/02/2005 0:00' '27/03/1998 0:00'\n",
      " '2/05/2005 0:00' '20/03/2002 0:00' '15/03/2005 0:00' '5/12/1996 5:00'\n",
      " '10/10/2006 0:00' '1/08/2007 0:00' '3/06/1993 0:00' '22/11/1996 0:00'\n",
      " '27/04/2007 0:00' '7/04/2006 10:47' '30/03/1994 0:00' '12/02/1999 0:00'\n",
      " '16/09/1996 0:00' '27/05/2010 0:00' '24/07/2006 17:52' '5/03/1998 0:00'\n",
      " '28/01/2006 0:00' '9/10/2014 0:00' '24/10/2000 0:00' '29/08/2001 0:00'\n",
      " '26/07/2005 0:00' '8/02/1996 0:00' '2/10/2001 13:00' '12/10/1997 4:00'\n",
      " '16/09/2004 0:00' '27/07/2003 0:00' '15/07/1999 0:00' '28/07/2007 0:00'\n",
      " '10/02/2000 0:00' '19/07/2004 14:56' '2/05/1996 0:00' '24/09/2009 0:00'\n",
      " '7/03/2001 0:00' '2/01/2001 0:00' '26/01/2006 21:09' '21/12/2006 0:00'\n",
      " '16/11/2016 0:00' '13/05/2011 0:00' '26/05/1998 0:00' '8/04/2000 0:00'\n",
      " '5/11/2007 0:00' '19/04/2006 0:00' '1/06/2006 0:00' '0' '10/03/1998 0:00'\n",
      " '23/01/2004 0:00' '3/03/1999 0:00' '3/06/1998 0:00' '11/01/2005 0:00'\n",
      " '2/06/2004 0:00' '11/06/2002 0:00' '15/11/1995 0:00' '15/12/1994 0:00'\n",
      " '23/07/1999 0:00' '17/08/1995 0:00' '7/09/1995 0:00' '29/01/2003 23:45'\n",
      " '3/08/1999 0:00' '27/01/2010 0:00' '28/12/1998 0:00' '18/01/1996 5:00'\n",
      " '17/11/2006 0:00' '21/05/2006 0:00' '24/11/2001 0:00' '6/09/1997 0:00'\n",
      " '31/10/1997 0:00' '22/09/2002 0:00' '1/05/2009 0:00' '8/04/2009 0:00'\n",
      " '10/05/2007 19:20' '8/04/1998 0:00' '20/10/2003 0:00' '5/08/2008 0:00'\n",
      " '29/03/2008 0:00' '15/12/2007 0:00' '3/09/1996 4:00' '2/08/2000 0:00'\n",
      " '5/11/2007 15:14' '9/01/2007 0:00' '29/03/2000 0:00' '20/03/2005 0:00'\n",
      " '3/07/2000 0:00' '3/10/1997 0:00' '31/01/1996 0:00' '20/08/2014 0:00'\n",
      " '16/11/1994 0:00' '16/05/2000 0:00' '14/12/2004 0:00' '2/10/2000 0:00'\n",
      " '16/06/2014 0:00' '7/02/2006 0:00' '29/04/1994 0:00' '7/12/2006 0:00'\n",
      " '14/04/2017 0:00' '10/08/1995 0:00' '18/10/2005 0:00' '23/06/1999 0:00'\n",
      " '3/05/2006 0:00' '26/05/1994 0:00' '17/08/2010 0:00' '2/03/2000 0:00'\n",
      " '26/01/2002 0:00' '4/02/1996 0:00' '23/07/2004 0:00' '17/05/2004 0:00'\n",
      " '19/11/1998 0:00' '18/06/2003 0:00' '7/07/1999 0:00' '25/02/2005 0:00'\n",
      " '22/08/2003 0:00' '20/08/2000 0:00' '3/03/2004 0:00' '10/11/1994 0:00'\n",
      " '9/07/1995 0:00' '22/09/2000 0:00' '17/04/1996 0:00' '25/11/1995 0:00'\n",
      " '2/04/2009 0:00' '10/12/2010 0:00' '5/11/1996 5:00' '8/03/2003 0:00'\n",
      " '12/08/2005 0:00' '23/11/1998 0:00' '14/03/2004 0:00' '27/06/1996 0:00'\n",
      " '19/05/2016 0:00' '24/05/2006 0:00' '12/02/2000 0:00' '3/05/2004 0:00'\n",
      " '15/12/1998 0:00' '15/04/2002 0:00' '5/02/2009 0:00' '7/07/1997 0:00'\n",
      " '5/03/1994 0:00' '22/05/1995 0:00' '23/04/1996 0:00' '25/03/2010 0:00'\n",
      " '27/01/1995 0:00' '17/09/2008 0:00' '9/08/1994 0:00' '26/03/2002 0:00'\n",
      " '26/04/1996 0:00' '19/05/2003 0:00' '20/10/2000 0:00' '2/07/1999 0:00'\n",
      " '17/03/2009 0:00' '27/05/2006 0:00' '25/07/1995 0:00' '11/08/2009 0:00'\n",
      " '24/03/2005 0:00' '29/03/1994 0:00' '1/02/1994 0:00' '2/01/2016 0:00'\n",
      " '24/02/2008 18:32' '2/12/1997 0:00' '17/10/2008 0:00' '16/02/2010 0:00'\n",
      " '10/05/1996 0:00' '27/01/2007 0:00' '8/06/2009 3:48' '19/04/2003 0:00'\n",
      " '20/12/1999 0:00' '29/12/2007 0:00' '10/01/2000 0:00' '17/05/2007 0:00'\n",
      " '10/08/2016 0:00' '23/12/1995 0:00' '3/01/2009 0:00' '22/11/1995 0:00'\n",
      " '26/06/2007 0:00' '1/03/1994 0:00' '13/12/1993 5:00' '1/04/2008 22:47'\n",
      " '28/11/1994 0:00' '9/12/1998 0:00' '6/09/2005 0:00' '7/11/2003 0:00'\n",
      " '18/03/1999 0:00' '8/02/2005 0:00' '8/12/2016 0:00' '21/11/1996 0:00'\n",
      " '3/09/1996 0:00' '29/09/1993 0:00' '19/12/1995 0:00' '23/03/1999 0:00'\n",
      " '27/01/2011 0:00' '13/01/1996 0:00' '28/02/1994 5:00' '26/06/1996 0:00'\n",
      " '16/05/1995 4:00' '16/07/2007 0:00' '22/05/2009 0:00' '10/03/2006 0:00'\n",
      " '18/12/2006 0:00' '10/09/1998 0:00' '26/06/1995 0:00' '28/12/2007 0:00'\n",
      " '28/07/1999 0:00' '28/02/2002 0:00' '8/02/1999 0:00' '16/06/2000 17:03'\n",
      " '27/02/1995 0:00' '13/02/1999 0:00' '12/06/2001 20:58' '23/05/1995 0:00'\n",
      " '16/01/2008 0:00' '31/07/1997 0:00' '4/03/2006 0:00' '1/11/2000 0:00'\n",
      " '18/12/2008 0:00' '31/08/2003 0:00' '3/06/1997 0:00' '29/04/1999 0:00'\n",
      " '22/06/1998 0:00' '14/12/1999 0:00' '28/01/2004 0:00' '28/03/2007 0:00'\n",
      " '27/07/1995 0:00' '15/06/2006 0:00' '13/07/1998 0:00' '8/01/1997 0:00'\n",
      " '29/07/1998 4:00' '14/08/1997 0:00' '23/11/2010 0:00' '20/12/2008 0:00'\n",
      " '26/06/1997 0:00' '15/02/1999 0:00' '1/04/1998 0:00' '14/11/2008 0:00']\n",
      "WHOIS_UPDATED_DATE Unique Values:  ['None' '12/09/2013 0:45' '11/04/2017 0:00' '3/10/2016 3:45'\n",
      " '1/07/2016 0:00' '19/03/2017 0:00' '9/09/2015 0:00' '23/11/2016 0:00'\n",
      " '6/10/2016 0:00' '19/04/2015 0:00' '4/07/2015 0:00' '23/05/2016 0:00'\n",
      " '10/02/2015 0:00' '25/02/2017 0:00' '7/08/2015 0:00' '29/06/2015 0:00'\n",
      " '13/07/2016 17:36' '15/05/2016 0:00' '22/03/2016 0:00' '2/03/2017 0:00'\n",
      " '19/05/2016 10:14' '3/03/2017 0:00' '14/02/2017 20:27' '14/12/2015 0:00'\n",
      " '18/05/2016 0:00' '27/04/2017 0:00' '9/04/2017 0:00' '4/07/2016 0:00'\n",
      " '27/11/2015 0:00' '25/07/2016 0:00' '8/11/2014 0:00' '14/02/2017 0:00'\n",
      " '31/05/2016 0:00' '30/09/2016 0:00' '14/12/2016 0:00' '27/05/2016 14:46'\n",
      " '11/11/2012 0:00' '29/04/2017 0:00' '8/04/2017 0:00' '6/01/2017 0:00'\n",
      " '2/07/2016 0:00' '19/02/2017 0:00' '5/07/2016 0:00' '6/02/2017 0:00'\n",
      " '4/01/2017 0:00' '13/11/2016 0:00' '26/02/2017 0:00' '15/11/2013 0:00'\n",
      " '9/09/2016 0:00' '12/03/2017 1:47' '22/02/2017 0:00' '22/12/2016 0:00'\n",
      " '1/02/2017 0:01' '27/10/2016 0:00' '30/05/2016 0:00' '18/07/2016 0:00'\n",
      " '10/04/2017 0:00' '30/04/2015 0:00' '23/02/2017 17:46' '21/11/2016 0:00'\n",
      " '6/11/2016 0:00' '8/11/2016 0:00' '27/02/2017 0:00' '12/12/2016 0:00'\n",
      " '2/04/2014 0:00' '13/08/2016 0:00' '23/04/2015 0:00' '13/02/2014 0:00'\n",
      " '13/03/2017 0:00' '21/06/2016 0:00' '8/03/2017 0:00' '16/02/2016 0:00'\n",
      " '23/03/2017 0:00' '4/03/2017 0:00' '20/09/2016 13:11' '24/04/2017 0:00'\n",
      " '7/01/2015 0:00' '22/10/2016 0:00' '14/10/2014 0:00'\n",
      " '2017-03-07T22:02:38.0Z' '29/11/2016 0:00' '9/06/2016 0:00'\n",
      " '6/03/2017 0:00' '18/08/2016 0:00' '27/04/2015 0:00' '30/09/2016 9:12'\n",
      " '26/03/2017 0:00' '11/10/2016 0:20' '29/06/2016 0:00' '18/03/2017 0:00'\n",
      " '7/11/2014 0:00' '16/01/2015 0:00' '12/05/2015 0:00' '9/08/2016 0:00'\n",
      " '18/04/2017 0:00' '22/11/2016 0:00' '24/02/2017 0:00' '28/03/2017 18:24'\n",
      " '4/02/2017 0:00' '9/03/2017 0:00' '5/04/2017 0:00' '26/08/2016 0:00'\n",
      " '23/06/2016 0:00' '7/03/2017 0:00' '14/04/2016 0:00' '9/05/2016 0:00'\n",
      " '20/10/2015 23:34' '13/07/2016 0:00' '2/12/2016 0:00' '20/06/2012 0:00'\n",
      " '10/07/2015 0:00' '26/02/2014 23:35' '14/08/2013 0:00' '7/03/2013 0:00'\n",
      " '4/03/2016 0:00' '22/01/2017 0:00' '28/10/2013 10:54' '15/03/2017 0:00'\n",
      " '19/02/2016 0:00' '19/10/2016 0:00' '4/09/2013 0:00' '4/10/2016 0:00'\n",
      " '8/01/2016 0:00' '26/04/2015 0:00' '21/03/2017 0:00' '16/01/2016 0:00'\n",
      " '20/03/2017 0:00' '26/08/2015 0:00' '26/10/2016 0:00' '24/10/2016 0:00'\n",
      " '22/03/2017 0:00' '30/11/2016 10:30' '3/05/2012 0:00' '24/08/2016 0:00'\n",
      " '10/09/2016 13:29' '14/05/2015 0:00' '5/11/2015 0:00' '24/05/2016 0:00'\n",
      " '5/05/2016 0:00' '14/07/2008 0:00' '28/09/2016 0:00' '1/12/2016 0:00'\n",
      " '12/01/2017 0:00' '23/01/2017 0:00' '12/03/2017 0:00' '10/09/2012 0:00'\n",
      " '24/07/2012 0:00' '22/12/2015 0:00' '13/12/2016 0:00' '22/03/2017 3:37'\n",
      " '29/03/2017 0:00' '18/09/2012 0:00' '27/10/2015 0:00' '26/07/2016 0:00'\n",
      " '25/04/2017 0:00' '26/04/2016 0:00' '16/11/2016 0:00' '31/10/2016 0:00'\n",
      " '18/07/2014 0:00' '12/12/2015 10:16' '27/07/2016 0:00' '24/06/2016 0:00'\n",
      " '28/04/2017 0:00' '14/01/2017 0:00' '2/02/2017 0:00' '20/09/2013 15:03'\n",
      " '21/04/2017 16:47' '3/03/2015 0:00' '15/04/2016 0:00' '3/01/2016 0:00'\n",
      " '18/01/2017 0:00' '24/05/2012 0:00' '11/11/2016 0:00' '16/03/2017 0:00'\n",
      " '7/07/2016 0:00' '27/01/2017 0:20' '19/11/2012 0:00' '5/10/2015 0:00'\n",
      " '2/06/2016 0:00' '10/11/2016 0:00' '10/09/2016 0:00' '10/05/2016 0:00'\n",
      " '21/04/2017 0:00' '9/12/2015 0:00' '1/09/2012 0:00' '4/06/2015 0:00'\n",
      " '8/12/2016 0:00' '25/12/2016 0:00' '28/03/2017 0:00' '18/12/2014 0:00'\n",
      " '16/05/2016 0:00' '28/12/2016 0:00' '28/12/2014 0:00' '17/04/2016 0:00'\n",
      " '27/01/2016 0:00' '15/11/2016 0:00' '22/02/2016 0:00' '28/03/2017 18:16'\n",
      " '6/07/2015 0:00' '9/10/2015 0:00' '20/11/2013 0:00' '11/05/2016 14:19'\n",
      " '24/01/2017 0:00' '9/12/2015 14:43' '25/10/2016 0:00' '19/04/2017 0:00'\n",
      " '18/02/2017 0:00' '29/07/2016 0:00' '26/11/2014 0:00' '14/02/2016 0:00'\n",
      " '6/09/2016 8:26' '25/05/2016 0:00' '18/06/2016 0:00' '29/08/2016 0:00'\n",
      " '26/02/2016 0:00' '5/10/2016 0:00' '14/11/2016 0:00' '4/08/2015 0:00'\n",
      " '31/03/2017 0:00' '30/01/2017 0:00' '5/01/2016 0:00' '28/05/2014 0:00'\n",
      " '30/06/2016 0:00' '30/11/2016 0:00' '9/09/2013 0:00' '23/04/2017 0:00'\n",
      " '30/08/2016 0:00' '28/02/2017 10:46' '29/12/2016 14:11' '19/12/2016 8:39'\n",
      " '31/05/2016 17:46' '26/09/2016 0:00' '29/07/2015 0:00' '9/01/2017 10:11'\n",
      " '8/12/2016 14:01' '18/04/2015 0:00' '12/05/2016 0:00' '15/09/2016 21:37'\n",
      " '19/08/2015 0:00' '16/08/2016 0:00' '18/10/2013 0:00' '26/04/2016 9:14'\n",
      " '15/04/2017 0:00' '3/01/2017 0:00' '21/04/2015 0:00' '2/11/2016 0:00'\n",
      " '4/05/2016 0:00' '20/07/2016 0:00' '3/04/2016 0:00' '22/08/2016 0:00'\n",
      " '15/02/2017 0:00' '7/11/2016 0:00' '19/04/2017 10:41' '9/01/2017 16:53'\n",
      " '18/10/2016 0:00' '28/06/2016 0:00' '13/02/2013 1:33' '7/02/2017 0:00'\n",
      " '3/10/2016 0:00' '1/06/2016 0:00' '24/03/2017 0:00' '4/12/2013 0:00'\n",
      " '20/08/2015 15:58' '23/07/2011 0:00' '30/03/2014 0:00' '7/10/2016 0:00'\n",
      " '30/09/2015 0:00' '16/02/2015 0:00' '16/03/2015 0:00' '16/10/2014 0:00'\n",
      " '18/11/2016 0:00' '27/01/2017 0:00' '1/02/2017 0:00' '15/12/2015 0:00'\n",
      " '13/01/2017 0:00' '28/02/2017 0:00' '4/11/2016 0:00' '26/06/2014 0:00'\n",
      " '18/01/2013 0:00' '19/04/2017 17:24' '5/09/2016 3:47' '21/07/2016 18:54'\n",
      " '5/05/2013 3:46' '14/04/2014 0:00' '5/11/2012 0:00' '17/04/2015 0:00'\n",
      " '8/08/2015 0:00' '27/05/2015 0:00' '4/04/2014 15:11' '17/08/2013 0:00'\n",
      " '26/01/2017 0:00' '10/07/2013 0:00' '2/07/2014 0:00' '5/01/2017 0:00'\n",
      " '14/03/2017 0:00' '7/12/2016 0:00' '8/12/2015 0:00' '2/01/2017 0:00'\n",
      " '4/08/2016 0:00' '24/04/2017 11:55' '5/09/2016 8:00' '4/04/2014 0:00'\n",
      " '29/03/2013 0:00' '23/11/2015 0:00' '17/06/2016 0:00' '7/03/2013 19:26'\n",
      " '5/04/2017 13:36' '5/03/2013 0:00' '19/05/2016 0:00' '16/06/2014 0:00'\n",
      " '11/10/2016 0:00' '5/12/2013 0:00' '21/05/2015 0:00' '1/02/2013 0:00'\n",
      " '17/01/2016 0:00' '21/02/2017 0:00' '19/03/2016 0:00' '6/07/2016 0:00'\n",
      " '16/12/2016 0:00' '9/07/2016 0:00' '20/04/2015 0:00' '10/10/2016 0:00'\n",
      " '9/11/2015 0:00' '18/04/2017 1:29' '12/10/2015 0:00' '5/03/2017 0:00'\n",
      " '5/11/2016 0:00' '21/02/2017 3:57' '1/11/2013 0:00' '21/10/2016 0:00'\n",
      " '29/01/2017 0:00' '16/07/2016 7:42' '13/05/2015 0:00' '1/05/2014 0:00'\n",
      " '14/10/2016 0:00' '25/02/2015 0:00' '21/07/2016 0:00' '8/09/2016 0:00'\n",
      " '15/10/2015 0:00' '5/03/2016 0:00' '6/10/2015 0:00' '23/12/2011 0:00'\n",
      " '18/12/2015 0:00' '18/09/2015 0:00' '17/12/2016 0:00' '8/12/2014 0:00'\n",
      " '31/08/2016 0:00' '17/05/2016 0:00' '24/07/2014 0:00' '19/12/2015 0:00'\n",
      " '4/09/2016 0:00' '26/11/2015 0:00' '30/04/2014 0:00' '28/04/2015 0:00'\n",
      " '17/10/2016 0:00' '2/07/2015 0:00' '14/04/2015 0:00' '4/04/2017 0:00'\n",
      " '13/03/2014 0:00' '27/12/2016 0:00' '26/06/2016 0:00' '20/04/2016 0:00'\n",
      " '25/11/2015 0:00' '10/07/2012 0:00' '29/04/2016 0:00' '22/06/2016 0:00'\n",
      " '22/04/2016 0:00' '10/02/2017 0:00' '4/01/2016 0:00' '12/01/2015 0:00'\n",
      " '4/07/2016 14:14' '7/04/2016 0:00' '10/09/2016 6:58' '31/01/2016 0:00'\n",
      " '11/03/2017 15:28' '16/04/2016 0:00' '23/02/2017 0:00' '7/12/2015 0:00'\n",
      " '2/05/2014 0:00' '6/05/2016 0:00' '27/03/2014 15:06' '17/01/2017 0:00'\n",
      " '25/03/2017 0:00' '4/12/2014 17:41' '3/11/2015 0:00' '1/01/2017 0:00'\n",
      " '13/12/2008 0:00' '18/10/2014 0:00' '30/10/2016 0:00' '17/12/2012 21:45'\n",
      " '21/09/2016 15:14' '23/12/2016 4:58' '27/03/2017 0:00' '14/01/2016 0:00'\n",
      " '13/05/2016 0:00' '9/11/2016 0:00' '29/08/2014 0:00' '10/01/2017 0:00'\n",
      " '7/09/2016 0:00' '13/09/2016 0:00' '2/04/2017 0:00' '14/04/2017 0:00'\n",
      " '18/11/2013 0:00' '15/07/2016 0:00' '16/09/2016 0:00' '1/11/2016 0:00'\n",
      " '1/09/2016 14:20' '24/09/2016 0:00' '9/02/2017 0:00' '27/03/2014 0:00'\n",
      " '11/11/2014 0:00' '22/04/2015 0:00' '28/01/2015 0:00' '24/02/2016 0:00'\n",
      " '18/11/2015 0:00' '30/03/2017 0:00' '18/04/2016 0:00' '20/02/2017 0:00'\n",
      " '25/08/2015 0:00' '6/12/2016 21:52' '5/09/2014 0:00' '18/11/2014 0:00'\n",
      " '16/01/2017 0:00' '9/04/2014 0:00' '6/12/2015 17:05' '20/10/2016 0:00'\n",
      " '1/03/2017 19:31' '29/03/2016 17:55' '22/07/2016 0:00' '29/09/2016 0:00'\n",
      " '11/08/2016 0:00' '17/03/2017 0:00' '15/10/2016 0:00' '18/10/2015 0:00'\n",
      " '9/09/2015 20:47' '23/09/2014 14:02' '14/09/2015 0:00' '18/01/2016 0:00'\n",
      " '28/08/2015 0:00' '19/05/2016 15:04' '3/04/2016 11:08' '22/05/2015 0:00'\n",
      " '29/04/2013 0:00' '8/06/2015 0:00' '19/07/2016 0:00' '3/11/2016 0:00'\n",
      " '8/04/2017 1:39' '5/05/2015 0:00' '23/08/2016 10:07' '21/10/2014 0:00'\n",
      " '22/03/2017 18:00' '27/09/2016 0:00' '11/07/2016 9:21' '7/12/2015 11:23'\n",
      " '15/04/2015 0:00' '5/08/2016 0:00' '20/08/2015 0:00' '28/03/2016 0:00'\n",
      " '1/10/2016 0:00' '29/05/2015 0:00' '31/12/2016 0:00' '1/06/2016 10:45'\n",
      " '25/04/2016 0:00' '23/02/2015 0:00' '6/05/2015 0:00' '11/03/2012 0:00'\n",
      " '2/09/2016 0:00' '2/10/2016 0:00' '11/04/2016 0:00' '18/12/2016 0:00'\n",
      " '17/03/2016 0:00' '14/08/2016 0:00' '19/12/2016 0:00' '11/09/2016 0:00'\n",
      " '28/03/2014 0:00' '14/10/2012 0:00' '10/02/2016 0:00' '11/03/2017 0:00'\n",
      " '19/09/2016 0:00' '21/01/2016 0:00' '17/03/2017 14:30' '11/12/2015 0:00'\n",
      " '3/04/2017 0:00' '31/05/2013 23:28' '6/04/2016 0:00' '20/04/2017 0:00'\n",
      " '19/04/2017 12:59' '15/09/2011 0:00' '21/06/2016 17:27' '29/02/2016 0:00'\n",
      " '30/12/2016 0:00' '6/01/2016 0:00' '21/05/2016 0:00' '15/09/2014 7:40'\n",
      " '5/04/2017 5:17' '28/10/2016 0:00' '21/05/2014 0:00' '31/01/2017 0:00'\n",
      " '21/09/2015 0:00' '1/02/2017 5:28' '1/03/2017 0:00' '18/08/2015 0:00'\n",
      " '12/08/2015 0:00' '11/04/2017 23:16' '13/06/2016 0:00' '31/01/2013 0:00'\n",
      " '29/07/2013 0:00' '24/02/2015 0:00' '8/01/2017 0:00' '23/01/2014 0:00'\n",
      " '21/03/2015 0:00' '5/06/2014 0:00' '15/09/2015 0:00' '10/12/2016 0:00'\n",
      " '7/08/2013 22:19' '20/01/2017 1:26' '23/10/2013 0:00' '31/03/2016 0:00'\n",
      " '17/05/2013 0:00' '11/01/2016 0:00' '22/09/2016 0:00' '1/11/2012 0:00'\n",
      " '2/05/2016 0:00' '12/02/2016 0:00' '18/04/2017 17:38' '15/01/2015 0:00'\n",
      " '6/08/2016 0:00' '30/09/2009 2:59' '26/04/2017 0:00' '12/03/2017 9:17'\n",
      " '30/04/2013 0:00' '3/08/2014 0:00' '20/07/2011 0:00' '28/10/2015 0:00'\n",
      " '20/07/2014 0:00' '3/06/2016 0:00' '31/07/2016 0:00' '8/02/2017 0:00'\n",
      " '30/08/2013 0:00' '12/06/2015 0:00' '24/08/2015 0:00' '8/08/2016 0:00'\n",
      " '17/08/2016 0:00' '10/08/2016 0:00' '14/06/2016 0:00' '27/12/2015 0:00'\n",
      " '26/12/2012 0:00' '8/10/2014 0:00' '29/08/2016 20:58' '12/08/2016 0:00'\n",
      " '2/02/2016 0:00' '24/04/2015 0:00' '13/04/2016 0:00' '21/04/2016 0:00'\n",
      " '3/03/2016 0:00' '20/12/2013 0:00' '9/03/2015 0:00' '27/09/2012 0:00'\n",
      " '28/04/2016 0:00' '13/02/2017 0:00' '25/02/2017 14:18' '11/02/2017 0:00'\n",
      " '30/05/2016 18:18' '26/09/2013 0:00' '5/08/2013 0:00' '2/07/2015 17:44'\n",
      " '2/04/2017 1:35' '7/04/2017 0:00' '13/08/2015 0:00' '15/02/2016 0:00'\n",
      " '11/12/2016 0:00' '16/01/2017 17:49' '14/01/2017 16:52' '12/07/2016 0:00'\n",
      " '7/05/2016 0:00' '25/11/2016 0:00' '17/02/2016 0:00' '13/11/2013 0:00'\n",
      " '29/11/2014 0:00' '13/07/2014 0:00' '11/08/2015 20:35' '28/01/2017 0:00'\n",
      " '10/06/2016 13:57' '12/11/2015 0:00' '14/01/2012 0:00' '20/05/2016 0:00'\n",
      " '27/05/2016 0:00' '2/04/2016 0:00' '2/06/2009 0:00' '17/03/2016 4:34'\n",
      " '20/11/2015 0:00' '15/07/2015 0:00' '9/12/2016 0:00']\n"
     ]
    }
   ],
   "source": [
    "for i in X.columns: \n",
    "    if X[i].dtypes == 'object': \n",
    "        print(i,'Unique Values: ', X[i].unique())\n",
    "#need to convert dates to datetime \n",
    "#simplify the servers, group them in more general categories"
   ]
  },
  {
   "cell_type": "code",
   "execution_count": 13,
   "metadata": {},
   "outputs": [],
   "source": [
    "#Remove 'None' values and other weird stuff\n",
    "X = X[(X['WHOIS_REGDATE']!='None')&(X['WHOIS_UPDATED_DATE']!='None')&\n",
    "     (X['WHOIS_REGDATE']!='b')]\n"
   ]
  },
  {
   "cell_type": "code",
   "execution_count": null,
   "metadata": {},
   "outputs": [],
   "source": []
  },
  {
   "cell_type": "code",
   "execution_count": 14,
   "metadata": {},
   "outputs": [
    {
     "data": {
      "text/plain": [
       "(1638, 13)"
      ]
     },
     "execution_count": 14,
     "metadata": {},
     "output_type": "execute_result"
    }
   ],
   "source": [
    "X.shape"
   ]
  },
  {
   "cell_type": "code",
   "execution_count": 15,
   "metadata": {},
   "outputs": [],
   "source": [
    "import datetime\n",
    "\n",
    "def clean_dates(column):\n",
    "    \n",
    "    split = X[column].apply(lambda x: x.split(' ')) #removing hour portion\n",
    "    dates_only = [i[0] for i in split]\n",
    "    dates_only = [i[:i.find('T')] if 'T' in i else i for i in dates_only]\n",
    "    dates_only = [i.replace('-','/') for i in dates_only]\n",
    "\n",
    "    for i in dates_only: \n",
    "        try:\n",
    "            if isinstance(int(i[:4]),int): \n",
    "                year = i[:4]\n",
    "                month = i[5:7] \n",
    "                day = i[-2:].lstrip('/')\n",
    "                index = dates_only.index(i) \n",
    "\n",
    "                dates_only[index] = day+'/'+month+'/'+year\n",
    "\n",
    "        except: \n",
    "            pass\n",
    "        \n",
    "        \n",
    "    return dates_only"
   ]
  },
  {
   "cell_type": "code",
   "execution_count": 16,
   "metadata": {},
   "outputs": [
    {
     "data": {
      "text/html": [
       "<div>\n",
       "<style scoped>\n",
       "    .dataframe tbody tr th:only-of-type {\n",
       "        vertical-align: middle;\n",
       "    }\n",
       "\n",
       "    .dataframe tbody tr th {\n",
       "        vertical-align: top;\n",
       "    }\n",
       "\n",
       "    .dataframe thead th {\n",
       "        text-align: right;\n",
       "    }\n",
       "</style>\n",
       "<table border=\"1\" class=\"dataframe\">\n",
       "  <thead>\n",
       "    <tr style=\"text-align: right;\">\n",
       "      <th></th>\n",
       "      <th>URL_LENGTH</th>\n",
       "      <th>CHARSET</th>\n",
       "      <th>SERVER</th>\n",
       "      <th>WHOIS_COUNTRY</th>\n",
       "      <th>WHOIS_REGDATE</th>\n",
       "      <th>WHOIS_UPDATED_DATE</th>\n",
       "      <th>TCP_CONVERSATION_EXCHANGE</th>\n",
       "      <th>DIST_REMOTE_TCP_PORT</th>\n",
       "      <th>REMOTE_IPS</th>\n",
       "      <th>APP_BYTES</th>\n",
       "      <th>SOURCE_APP_PACKETS</th>\n",
       "      <th>REMOTE_APP_PACKETS</th>\n",
       "      <th>DNS_QUERY_TIMES</th>\n",
       "    </tr>\n",
       "  </thead>\n",
       "  <tbody>\n",
       "    <tr>\n",
       "      <th>3</th>\n",
       "      <td>17</td>\n",
       "      <td>ISO-8859-1</td>\n",
       "      <td>nginx</td>\n",
       "      <td>US</td>\n",
       "      <td>729304</td>\n",
       "      <td>12/09/2013 0:45</td>\n",
       "      <td>31</td>\n",
       "      <td>22</td>\n",
       "      <td>3</td>\n",
       "      <td>3812</td>\n",
       "      <td>39</td>\n",
       "      <td>37</td>\n",
       "      <td>8.0</td>\n",
       "    </tr>\n",
       "  </tbody>\n",
       "</table>\n",
       "</div>"
      ],
      "text/plain": [
       "   URL_LENGTH     CHARSET SERVER WHOIS_COUNTRY  WHOIS_REGDATE  \\\n",
       "3          17  ISO-8859-1  nginx            US         729304   \n",
       "\n",
       "  WHOIS_UPDATED_DATE  TCP_CONVERSATION_EXCHANGE  DIST_REMOTE_TCP_PORT  \\\n",
       "3    12/09/2013 0:45                         31                    22   \n",
       "\n",
       "   REMOTE_IPS  APP_BYTES  SOURCE_APP_PACKETS  REMOTE_APP_PACKETS  \\\n",
       "3           3       3812                  39                  37   \n",
       "\n",
       "   DNS_QUERY_TIMES  \n",
       "3              8.0  "
      ]
     },
     "execution_count": 16,
     "metadata": {},
     "output_type": "execute_result"
    }
   ],
   "source": [
    "X.WHOIS_REGDATE = clean_dates('WHOIS_REGDATE')\n",
    "X.WHOIS_REGDATE = X.WHOIS_REGDATE.apply(lambda x: datetime.datetime.strptime(x,\"%d/%m/%Y\"))\n",
    "X.WHOIS_REGDATE = X.WHOIS_REGDATE.apply(lambda x: x.toordinal())\n",
    "X.head(1)"
   ]
  },
  {
   "cell_type": "code",
   "execution_count": 17,
   "metadata": {},
   "outputs": [
    {
     "data": {
      "text/html": [
       "<div>\n",
       "<style scoped>\n",
       "    .dataframe tbody tr th:only-of-type {\n",
       "        vertical-align: middle;\n",
       "    }\n",
       "\n",
       "    .dataframe tbody tr th {\n",
       "        vertical-align: top;\n",
       "    }\n",
       "\n",
       "    .dataframe thead th {\n",
       "        text-align: right;\n",
       "    }\n",
       "</style>\n",
       "<table border=\"1\" class=\"dataframe\">\n",
       "  <thead>\n",
       "    <tr style=\"text-align: right;\">\n",
       "      <th></th>\n",
       "      <th>URL_LENGTH</th>\n",
       "      <th>CHARSET</th>\n",
       "      <th>SERVER</th>\n",
       "      <th>WHOIS_COUNTRY</th>\n",
       "      <th>WHOIS_REGDATE</th>\n",
       "      <th>WHOIS_UPDATED_DATE</th>\n",
       "      <th>TCP_CONVERSATION_EXCHANGE</th>\n",
       "      <th>DIST_REMOTE_TCP_PORT</th>\n",
       "      <th>REMOTE_IPS</th>\n",
       "      <th>APP_BYTES</th>\n",
       "      <th>SOURCE_APP_PACKETS</th>\n",
       "      <th>REMOTE_APP_PACKETS</th>\n",
       "      <th>DNS_QUERY_TIMES</th>\n",
       "    </tr>\n",
       "  </thead>\n",
       "  <tbody>\n",
       "    <tr>\n",
       "      <th>3</th>\n",
       "      <td>17</td>\n",
       "      <td>ISO-8859-1</td>\n",
       "      <td>nginx</td>\n",
       "      <td>US</td>\n",
       "      <td>729304</td>\n",
       "      <td>735123</td>\n",
       "      <td>31</td>\n",
       "      <td>22</td>\n",
       "      <td>3</td>\n",
       "      <td>3812</td>\n",
       "      <td>39</td>\n",
       "      <td>37</td>\n",
       "      <td>8.0</td>\n",
       "    </tr>\n",
       "  </tbody>\n",
       "</table>\n",
       "</div>"
      ],
      "text/plain": [
       "   URL_LENGTH     CHARSET SERVER WHOIS_COUNTRY  WHOIS_REGDATE  \\\n",
       "3          17  ISO-8859-1  nginx            US         729304   \n",
       "\n",
       "   WHOIS_UPDATED_DATE  TCP_CONVERSATION_EXCHANGE  DIST_REMOTE_TCP_PORT  \\\n",
       "3              735123                         31                    22   \n",
       "\n",
       "   REMOTE_IPS  APP_BYTES  SOURCE_APP_PACKETS  REMOTE_APP_PACKETS  \\\n",
       "3           3       3812                  39                  37   \n",
       "\n",
       "   DNS_QUERY_TIMES  \n",
       "3              8.0  "
      ]
     },
     "execution_count": 17,
     "metadata": {},
     "output_type": "execute_result"
    }
   ],
   "source": [
    "X.WHOIS_UPDATED_DATE = clean_dates('WHOIS_UPDATED_DATE')\n",
    "X.WHOIS_UPDATED_DATE = X.WHOIS_UPDATED_DATE.apply(lambda x: datetime.datetime.strptime(x,\"%d/%m/%Y\"))\n",
    "X.WHOIS_UPDATED_DATE = X.WHOIS_UPDATED_DATE.apply(lambda x: x.toordinal())\n",
    "X.head(1)"
   ]
  },
  {
   "cell_type": "code",
   "execution_count": 18,
   "metadata": {},
   "outputs": [
    {
     "data": {
      "text/plain": [
       "URL_LENGTH                     int64\n",
       "CHARSET                       object\n",
       "SERVER                        object\n",
       "WHOIS_COUNTRY                 object\n",
       "WHOIS_REGDATE                  int64\n",
       "WHOIS_UPDATED_DATE             int64\n",
       "TCP_CONVERSATION_EXCHANGE      int64\n",
       "DIST_REMOTE_TCP_PORT           int64\n",
       "REMOTE_IPS                     int64\n",
       "APP_BYTES                      int64\n",
       "SOURCE_APP_PACKETS             int64\n",
       "REMOTE_APP_PACKETS             int64\n",
       "DNS_QUERY_TIMES              float64\n",
       "dtype: object"
      ]
     },
     "execution_count": 18,
     "metadata": {},
     "output_type": "execute_result"
    }
   ],
   "source": [
    "X.dtypes"
   ]
  },
  {
   "cell_type": "code",
   "execution_count": 19,
   "metadata": {},
   "outputs": [
    {
     "data": {
      "text/plain": [
       "3                    nginx\n",
       "4                     None\n",
       "5                    nginx\n",
       "6                 Apache/2\n",
       "7    Microsoft-HTTPAPI/2.0\n",
       "Name: SERVER, dtype: object"
      ]
     },
     "execution_count": 19,
     "metadata": {},
     "output_type": "execute_result"
    }
   ],
   "source": [
    "# Your comment here\n",
    "#lets clean these servers\n",
    "\n",
    "servers = []\n",
    "\n",
    "for i in X.SERVER: \n",
    "    \n",
    "    if 'apache' in i.lower(): \n",
    "        servers.append('Apache')\n",
    "        \n",
    "    elif 'nginx' in i.lower(): \n",
    "        servers.append('nginx')\n",
    "        \n",
    "    elif 'microsoft' in i.lower(): \n",
    "        servers.append('Microsoft')\n",
    "        \n",
    "    else:\n",
    "        servers.append('Other')\n",
    "        \n",
    "        \n",
    "X.SERVER.head()\n"
   ]
  },
  {
   "cell_type": "code",
   "execution_count": 20,
   "metadata": {},
   "outputs": [
    {
     "data": {
      "text/plain": [
       "Apache       594\n",
       "Other        490\n",
       "nginx        372\n",
       "Microsoft    182\n",
       "Name: Servers, dtype: int64"
      ]
     },
     "execution_count": 20,
     "metadata": {},
     "output_type": "execute_result"
    }
   ],
   "source": [
    "X['Servers'] = servers\n",
    "X.Servers.value_counts()"
   ]
  },
  {
   "cell_type": "code",
   "execution_count": 21,
   "metadata": {},
   "outputs": [],
   "source": [
    "X.drop('SERVER', inplace=True, axis=1)"
   ]
  },
  {
   "cell_type": "code",
   "execution_count": 22,
   "metadata": {},
   "outputs": [
    {
     "data": {
      "text/html": [
       "<div>\n",
       "<style scoped>\n",
       "    .dataframe tbody tr th:only-of-type {\n",
       "        vertical-align: middle;\n",
       "    }\n",
       "\n",
       "    .dataframe tbody tr th {\n",
       "        vertical-align: top;\n",
       "    }\n",
       "\n",
       "    .dataframe thead th {\n",
       "        text-align: right;\n",
       "    }\n",
       "</style>\n",
       "<table border=\"1\" class=\"dataframe\">\n",
       "  <thead>\n",
       "    <tr style=\"text-align: right;\">\n",
       "      <th></th>\n",
       "      <th>URL_LENGTH</th>\n",
       "      <th>CHARSET</th>\n",
       "      <th>WHOIS_COUNTRY</th>\n",
       "      <th>WHOIS_REGDATE</th>\n",
       "      <th>WHOIS_UPDATED_DATE</th>\n",
       "      <th>TCP_CONVERSATION_EXCHANGE</th>\n",
       "      <th>DIST_REMOTE_TCP_PORT</th>\n",
       "      <th>REMOTE_IPS</th>\n",
       "      <th>APP_BYTES</th>\n",
       "      <th>SOURCE_APP_PACKETS</th>\n",
       "      <th>REMOTE_APP_PACKETS</th>\n",
       "      <th>DNS_QUERY_TIMES</th>\n",
       "      <th>Servers</th>\n",
       "    </tr>\n",
       "  </thead>\n",
       "  <tbody>\n",
       "    <tr>\n",
       "      <th>3</th>\n",
       "      <td>17</td>\n",
       "      <td>ISO-8859-1</td>\n",
       "      <td>US</td>\n",
       "      <td>729304</td>\n",
       "      <td>735123</td>\n",
       "      <td>31</td>\n",
       "      <td>22</td>\n",
       "      <td>3</td>\n",
       "      <td>3812</td>\n",
       "      <td>39</td>\n",
       "      <td>37</td>\n",
       "      <td>8.0</td>\n",
       "      <td>nginx</td>\n",
       "    </tr>\n",
       "    <tr>\n",
       "      <th>4</th>\n",
       "      <td>17</td>\n",
       "      <td>UTF-8</td>\n",
       "      <td>US</td>\n",
       "      <td>728791</td>\n",
       "      <td>736430</td>\n",
       "      <td>57</td>\n",
       "      <td>2</td>\n",
       "      <td>5</td>\n",
       "      <td>4278</td>\n",
       "      <td>61</td>\n",
       "      <td>62</td>\n",
       "      <td>4.0</td>\n",
       "      <td>Other</td>\n",
       "    </tr>\n",
       "    <tr>\n",
       "      <th>5</th>\n",
       "      <td>18</td>\n",
       "      <td>UTF-8</td>\n",
       "      <td>SC</td>\n",
       "      <td>736179</td>\n",
       "      <td>736240</td>\n",
       "      <td>11</td>\n",
       "      <td>6</td>\n",
       "      <td>9</td>\n",
       "      <td>894</td>\n",
       "      <td>11</td>\n",
       "      <td>13</td>\n",
       "      <td>0.0</td>\n",
       "      <td>nginx</td>\n",
       "    </tr>\n",
       "    <tr>\n",
       "      <th>6</th>\n",
       "      <td>18</td>\n",
       "      <td>iso-8859-1</td>\n",
       "      <td>US</td>\n",
       "      <td>731060</td>\n",
       "      <td>736146</td>\n",
       "      <td>12</td>\n",
       "      <td>0</td>\n",
       "      <td>3</td>\n",
       "      <td>1189</td>\n",
       "      <td>14</td>\n",
       "      <td>13</td>\n",
       "      <td>2.0</td>\n",
       "      <td>Apache</td>\n",
       "    </tr>\n",
       "    <tr>\n",
       "      <th>7</th>\n",
       "      <td>19</td>\n",
       "      <td>us-ascii</td>\n",
       "      <td>US</td>\n",
       "      <td>729101</td>\n",
       "      <td>736407</td>\n",
       "      <td>0</td>\n",
       "      <td>0</td>\n",
       "      <td>0</td>\n",
       "      <td>0</td>\n",
       "      <td>0</td>\n",
       "      <td>0</td>\n",
       "      <td>0.0</td>\n",
       "      <td>Microsoft</td>\n",
       "    </tr>\n",
       "  </tbody>\n",
       "</table>\n",
       "</div>"
      ],
      "text/plain": [
       "   URL_LENGTH     CHARSET WHOIS_COUNTRY  WHOIS_REGDATE  WHOIS_UPDATED_DATE  \\\n",
       "3          17  ISO-8859-1            US         729304              735123   \n",
       "4          17       UTF-8            US         728791              736430   \n",
       "5          18       UTF-8            SC         736179              736240   \n",
       "6          18  iso-8859-1            US         731060              736146   \n",
       "7          19    us-ascii            US         729101              736407   \n",
       "\n",
       "   TCP_CONVERSATION_EXCHANGE  DIST_REMOTE_TCP_PORT  REMOTE_IPS  APP_BYTES  \\\n",
       "3                         31                    22           3       3812   \n",
       "4                         57                     2           5       4278   \n",
       "5                         11                     6           9        894   \n",
       "6                         12                     0           3       1189   \n",
       "7                          0                     0           0          0   \n",
       "\n",
       "   SOURCE_APP_PACKETS  REMOTE_APP_PACKETS  DNS_QUERY_TIMES    Servers  \n",
       "3                  39                  37              8.0      nginx  \n",
       "4                  61                  62              4.0      Other  \n",
       "5                  11                  13              0.0      nginx  \n",
       "6                  14                  13              2.0     Apache  \n",
       "7                   0                   0              0.0  Microsoft  "
      ]
     },
     "execution_count": 22,
     "metadata": {},
     "output_type": "execute_result"
    }
   ],
   "source": [
    "X.head()"
   ]
  },
  {
   "cell_type": "markdown",
   "metadata": {},
   "source": [
    "#### Next, evaluate if the columns in this dataset are strongly correlated.\n",
    "\n",
    "In the Mushroom supervised learning lab we did recently, we mentioned we are concerned if our dataset has strongly correlated columns because if it is the case we need to choose certain ML algorithms instead of others. We need to evaluate this for our dataset now.\n",
    "\n",
    "Luckily, most of the columns in this dataset are ordinal which makes things a lot easier for us. In the next cells below, evaluate the level of collinearity of the data.\n",
    "\n",
    "We provide some general directions for you to consult in order to complete this step:\n",
    "\n",
    "1. You will create a correlation matrix using the numeric columns in the dataset.\n",
    "\n",
    "1. Create a heatmap using `seaborn` to visualize which columns have high collinearity.\n",
    "\n",
    "1. Comment on which columns you might need to remove due to high collinearity."
   ]
  },
  {
   "cell_type": "code",
   "execution_count": 23,
   "metadata": {},
   "outputs": [],
   "source": [
    "df = X.join(y)"
   ]
  },
  {
   "cell_type": "code",
   "execution_count": 24,
   "metadata": {},
   "outputs": [
    {
     "data": {
      "text/html": [
       "<div>\n",
       "<style scoped>\n",
       "    .dataframe tbody tr th:only-of-type {\n",
       "        vertical-align: middle;\n",
       "    }\n",
       "\n",
       "    .dataframe tbody tr th {\n",
       "        vertical-align: top;\n",
       "    }\n",
       "\n",
       "    .dataframe thead th {\n",
       "        text-align: right;\n",
       "    }\n",
       "</style>\n",
       "<table border=\"1\" class=\"dataframe\">\n",
       "  <thead>\n",
       "    <tr style=\"text-align: right;\">\n",
       "      <th></th>\n",
       "      <th>URL_LENGTH</th>\n",
       "      <th>WHOIS_REGDATE</th>\n",
       "      <th>WHOIS_UPDATED_DATE</th>\n",
       "      <th>TCP_CONVERSATION_EXCHANGE</th>\n",
       "      <th>DIST_REMOTE_TCP_PORT</th>\n",
       "      <th>REMOTE_IPS</th>\n",
       "      <th>APP_BYTES</th>\n",
       "      <th>SOURCE_APP_PACKETS</th>\n",
       "      <th>REMOTE_APP_PACKETS</th>\n",
       "      <th>DNS_QUERY_TIMES</th>\n",
       "      <th>Type</th>\n",
       "    </tr>\n",
       "  </thead>\n",
       "  <tbody>\n",
       "    <tr>\n",
       "      <th>URL_LENGTH</th>\n",
       "      <td>1.000000</td>\n",
       "      <td>0.016289</td>\n",
       "      <td>-0.008647</td>\n",
       "      <td>-0.040536</td>\n",
       "      <td>-0.044016</td>\n",
       "      <td>-0.042777</td>\n",
       "      <td>-0.027875</td>\n",
       "      <td>-0.043633</td>\n",
       "      <td>-0.034964</td>\n",
       "      <td>-0.059236</td>\n",
       "      <td>0.267147</td>\n",
       "    </tr>\n",
       "    <tr>\n",
       "      <th>WHOIS_REGDATE</th>\n",
       "      <td>0.016289</td>\n",
       "      <td>1.000000</td>\n",
       "      <td>0.173462</td>\n",
       "      <td>-0.025370</td>\n",
       "      <td>-0.028347</td>\n",
       "      <td>-0.037078</td>\n",
       "      <td>0.008426</td>\n",
       "      <td>-0.031581</td>\n",
       "      <td>-0.020760</td>\n",
       "      <td>-0.095889</td>\n",
       "      <td>0.280972</td>\n",
       "    </tr>\n",
       "    <tr>\n",
       "      <th>WHOIS_UPDATED_DATE</th>\n",
       "      <td>-0.008647</td>\n",
       "      <td>0.173462</td>\n",
       "      <td>1.000000</td>\n",
       "      <td>-0.007642</td>\n",
       "      <td>-0.010155</td>\n",
       "      <td>-0.007818</td>\n",
       "      <td>0.003618</td>\n",
       "      <td>-0.009849</td>\n",
       "      <td>-0.014128</td>\n",
       "      <td>-0.036243</td>\n",
       "      <td>0.106459</td>\n",
       "    </tr>\n",
       "    <tr>\n",
       "      <th>TCP_CONVERSATION_EXCHANGE</th>\n",
       "      <td>-0.040536</td>\n",
       "      <td>-0.025370</td>\n",
       "      <td>-0.007642</td>\n",
       "      <td>1.000000</td>\n",
       "      <td>0.547074</td>\n",
       "      <td>0.318600</td>\n",
       "      <td>0.471183</td>\n",
       "      <td>0.997842</td>\n",
       "      <td>0.992172</td>\n",
       "      <td>0.341526</td>\n",
       "      <td>-0.048798</td>\n",
       "    </tr>\n",
       "    <tr>\n",
       "      <th>DIST_REMOTE_TCP_PORT</th>\n",
       "      <td>-0.044016</td>\n",
       "      <td>-0.028347</td>\n",
       "      <td>-0.010155</td>\n",
       "      <td>0.547074</td>\n",
       "      <td>1.000000</td>\n",
       "      <td>0.206382</td>\n",
       "      <td>0.816854</td>\n",
       "      <td>0.552112</td>\n",
       "      <td>0.576174</td>\n",
       "      <td>0.276124</td>\n",
       "      <td>-0.076520</td>\n",
       "    </tr>\n",
       "    <tr>\n",
       "      <th>REMOTE_IPS</th>\n",
       "      <td>-0.042777</td>\n",
       "      <td>-0.037078</td>\n",
       "      <td>-0.007818</td>\n",
       "      <td>0.318600</td>\n",
       "      <td>0.206382</td>\n",
       "      <td>1.000000</td>\n",
       "      <td>0.022409</td>\n",
       "      <td>0.348769</td>\n",
       "      <td>0.294339</td>\n",
       "      <td>0.548525</td>\n",
       "      <td>-0.129725</td>\n",
       "    </tr>\n",
       "    <tr>\n",
       "      <th>APP_BYTES</th>\n",
       "      <td>-0.027875</td>\n",
       "      <td>0.008426</td>\n",
       "      <td>0.003618</td>\n",
       "      <td>0.471183</td>\n",
       "      <td>0.816854</td>\n",
       "      <td>0.022409</td>\n",
       "      <td>1.000000</td>\n",
       "      <td>0.459647</td>\n",
       "      <td>0.487904</td>\n",
       "      <td>0.010771</td>\n",
       "      <td>-0.011212</td>\n",
       "    </tr>\n",
       "    <tr>\n",
       "      <th>SOURCE_APP_PACKETS</th>\n",
       "      <td>-0.043633</td>\n",
       "      <td>-0.031581</td>\n",
       "      <td>-0.009849</td>\n",
       "      <td>0.997842</td>\n",
       "      <td>0.552112</td>\n",
       "      <td>0.348769</td>\n",
       "      <td>0.459647</td>\n",
       "      <td>1.000000</td>\n",
       "      <td>0.990896</td>\n",
       "      <td>0.402092</td>\n",
       "      <td>-0.049115</td>\n",
       "    </tr>\n",
       "    <tr>\n",
       "      <th>REMOTE_APP_PACKETS</th>\n",
       "      <td>-0.034964</td>\n",
       "      <td>-0.020760</td>\n",
       "      <td>-0.014128</td>\n",
       "      <td>0.992172</td>\n",
       "      <td>0.576174</td>\n",
       "      <td>0.294339</td>\n",
       "      <td>0.487904</td>\n",
       "      <td>0.990896</td>\n",
       "      <td>1.000000</td>\n",
       "      <td>0.351600</td>\n",
       "      <td>-0.040258</td>\n",
       "    </tr>\n",
       "    <tr>\n",
       "      <th>DNS_QUERY_TIMES</th>\n",
       "      <td>-0.059236</td>\n",
       "      <td>-0.095889</td>\n",
       "      <td>-0.036243</td>\n",
       "      <td>0.341526</td>\n",
       "      <td>0.276124</td>\n",
       "      <td>0.548525</td>\n",
       "      <td>0.010771</td>\n",
       "      <td>0.402092</td>\n",
       "      <td>0.351600</td>\n",
       "      <td>1.000000</td>\n",
       "      <td>-0.020934</td>\n",
       "    </tr>\n",
       "    <tr>\n",
       "      <th>Type</th>\n",
       "      <td>0.267147</td>\n",
       "      <td>0.280972</td>\n",
       "      <td>0.106459</td>\n",
       "      <td>-0.048798</td>\n",
       "      <td>-0.076520</td>\n",
       "      <td>-0.129725</td>\n",
       "      <td>-0.011212</td>\n",
       "      <td>-0.049115</td>\n",
       "      <td>-0.040258</td>\n",
       "      <td>-0.020934</td>\n",
       "      <td>1.000000</td>\n",
       "    </tr>\n",
       "  </tbody>\n",
       "</table>\n",
       "</div>"
      ],
      "text/plain": [
       "                           URL_LENGTH  WHOIS_REGDATE  WHOIS_UPDATED_DATE  \\\n",
       "URL_LENGTH                   1.000000       0.016289           -0.008647   \n",
       "WHOIS_REGDATE                0.016289       1.000000            0.173462   \n",
       "WHOIS_UPDATED_DATE          -0.008647       0.173462            1.000000   \n",
       "TCP_CONVERSATION_EXCHANGE   -0.040536      -0.025370           -0.007642   \n",
       "DIST_REMOTE_TCP_PORT        -0.044016      -0.028347           -0.010155   \n",
       "REMOTE_IPS                  -0.042777      -0.037078           -0.007818   \n",
       "APP_BYTES                   -0.027875       0.008426            0.003618   \n",
       "SOURCE_APP_PACKETS          -0.043633      -0.031581           -0.009849   \n",
       "REMOTE_APP_PACKETS          -0.034964      -0.020760           -0.014128   \n",
       "DNS_QUERY_TIMES             -0.059236      -0.095889           -0.036243   \n",
       "Type                         0.267147       0.280972            0.106459   \n",
       "\n",
       "                           TCP_CONVERSATION_EXCHANGE  DIST_REMOTE_TCP_PORT  \\\n",
       "URL_LENGTH                                 -0.040536             -0.044016   \n",
       "WHOIS_REGDATE                              -0.025370             -0.028347   \n",
       "WHOIS_UPDATED_DATE                         -0.007642             -0.010155   \n",
       "TCP_CONVERSATION_EXCHANGE                   1.000000              0.547074   \n",
       "DIST_REMOTE_TCP_PORT                        0.547074              1.000000   \n",
       "REMOTE_IPS                                  0.318600              0.206382   \n",
       "APP_BYTES                                   0.471183              0.816854   \n",
       "SOURCE_APP_PACKETS                          0.997842              0.552112   \n",
       "REMOTE_APP_PACKETS                          0.992172              0.576174   \n",
       "DNS_QUERY_TIMES                             0.341526              0.276124   \n",
       "Type                                       -0.048798             -0.076520   \n",
       "\n",
       "                           REMOTE_IPS  APP_BYTES  SOURCE_APP_PACKETS  \\\n",
       "URL_LENGTH                  -0.042777  -0.027875           -0.043633   \n",
       "WHOIS_REGDATE               -0.037078   0.008426           -0.031581   \n",
       "WHOIS_UPDATED_DATE          -0.007818   0.003618           -0.009849   \n",
       "TCP_CONVERSATION_EXCHANGE    0.318600   0.471183            0.997842   \n",
       "DIST_REMOTE_TCP_PORT         0.206382   0.816854            0.552112   \n",
       "REMOTE_IPS                   1.000000   0.022409            0.348769   \n",
       "APP_BYTES                    0.022409   1.000000            0.459647   \n",
       "SOURCE_APP_PACKETS           0.348769   0.459647            1.000000   \n",
       "REMOTE_APP_PACKETS           0.294339   0.487904            0.990896   \n",
       "DNS_QUERY_TIMES              0.548525   0.010771            0.402092   \n",
       "Type                        -0.129725  -0.011212           -0.049115   \n",
       "\n",
       "                           REMOTE_APP_PACKETS  DNS_QUERY_TIMES      Type  \n",
       "URL_LENGTH                          -0.034964        -0.059236  0.267147  \n",
       "WHOIS_REGDATE                       -0.020760        -0.095889  0.280972  \n",
       "WHOIS_UPDATED_DATE                  -0.014128        -0.036243  0.106459  \n",
       "TCP_CONVERSATION_EXCHANGE            0.992172         0.341526 -0.048798  \n",
       "DIST_REMOTE_TCP_PORT                 0.576174         0.276124 -0.076520  \n",
       "REMOTE_IPS                           0.294339         0.548525 -0.129725  \n",
       "APP_BYTES                            0.487904         0.010771 -0.011212  \n",
       "SOURCE_APP_PACKETS                   0.990896         0.402092 -0.049115  \n",
       "REMOTE_APP_PACKETS                   1.000000         0.351600 -0.040258  \n",
       "DNS_QUERY_TIMES                      0.351600         1.000000 -0.020934  \n",
       "Type                                -0.040258        -0.020934  1.000000  "
      ]
     },
     "execution_count": 24,
     "metadata": {},
     "output_type": "execute_result"
    }
   ],
   "source": [
    "# Your code here\n",
    "\n",
    "\n",
    "import seaborn as sns\n",
    "df.corr()"
   ]
  },
  {
   "cell_type": "code",
   "execution_count": 25,
   "metadata": {},
   "outputs": [
    {
     "data": {
      "text/plain": [
       "<matplotlib.axes._subplots.AxesSubplot at 0x1a161e36a0>"
      ]
     },
     "execution_count": 25,
     "metadata": {},
     "output_type": "execute_result"
    },
    {
     "data": {
      "image/png": "[encoded data removed]",
      "text/plain": [
       "<Figure size 432x288 with 2 Axes>"
      ]
     },
     "metadata": {
      "needs_background": "light"
     },
     "output_type": "display_data"
    }
   ],
   "source": [
    "sns.heatmap(df.corr())"
   ]
  },
  {
   "cell_type": "code",
   "execution_count": 26,
   "metadata": {},
   "outputs": [
    {
     "name": "stdout",
     "output_type": "stream",
     "text": [
      "(1638, 13)\n",
      "(1781,)\n",
      "(1638, 14)\n"
     ]
    }
   ],
   "source": [
    "# Your comment here\n",
    "print(X.shape)\n",
    "print(y.shape)\n",
    "print(df.shape)"
   ]
  },
  {
   "cell_type": "markdown",
   "metadata": {},
   "source": [
    "# Challenge 2 - Remove Column Collinearity.\n",
    "\n",
    "From the heatmap you created, you should have seen at least 3 columns that can be removed due to high collinearity. Remove these columns from the dataset.\n",
    "\n",
    "Note that you should remove as few columns as you can. You don't have to remove all the columns at once. But instead, try removing one column, then produce the heatmap again to determine if additional columns should be removed. As long as the dataset no longer contains columns that are correlated for over 90%, you can stop. Also, keep in mind when two columns have high collinearity, you only need to remove one of them but not both.\n",
    "\n",
    "In the cells below, remove as few columns as you can to eliminate the high collinearity in the dataset. Make sure to comment on your way so that the instructional team can learn about your thinking process which allows them to give feedback. At the end, print the heatmap again."
   ]
  },
  {
   "cell_type": "code",
   "execution_count": 27,
   "metadata": {},
   "outputs": [],
   "source": [
    "# Your code here\n",
    "df.drop('SOURCE_APP_PACKETS',inplace=True,axis=1)\n",
    "df.drop('REMOTE_APP_PACKETS',inplace=True,axis=1)\n",
    "df.drop('DNS_QUERY_TIMES',inplace=True,axis=1)\n",
    "df.drop('APP_BYTES',inplace=True,axis=1)"
   ]
  },
  {
   "cell_type": "code",
   "execution_count": 28,
   "metadata": {},
   "outputs": [],
   "source": [
    "# Your comment here"
   ]
  },
  {
   "cell_type": "code",
   "execution_count": 29,
   "metadata": {},
   "outputs": [
    {
     "data": {
      "text/plain": [
       "<matplotlib.axes._subplots.AxesSubplot at 0x1a206602e8>"
      ]
     },
     "execution_count": 29,
     "metadata": {},
     "output_type": "execute_result"
    },
    {
     "data": {
      "image/png": "[encoded data removed]",
      "text/plain": [
       "<Figure size 432x288 with 2 Axes>"
      ]
     },
     "metadata": {
      "needs_background": "light"
     },
     "output_type": "display_data"
    }
   ],
   "source": [
    "# Print heatmap again\n",
    "sns.heatmap(df.corr())"
   ]
  },
  {
   "cell_type": "markdown",
   "metadata": {},
   "source": [
    "# Challenge 3 - Handle Missing Values\n",
    "\n",
    "The next step would be handling missing values. **We start by examining the number of missing values in each column, which you will do in the next cell.**"
   ]
  },
  {
   "cell_type": "code",
   "execution_count": 30,
   "metadata": {},
   "outputs": [
    {
     "data": {
      "text/plain": [
       "URL_LENGTH                   0\n",
       "CHARSET                      0\n",
       "WHOIS_COUNTRY                0\n",
       "WHOIS_REGDATE                0\n",
       "WHOIS_UPDATED_DATE           0\n",
       "TCP_CONVERSATION_EXCHANGE    0\n",
       "DIST_REMOTE_TCP_PORT         0\n",
       "REMOTE_IPS                   0\n",
       "Servers                      0\n",
       "Type                         0\n",
       "dtype: int64"
      ]
     },
     "execution_count": 30,
     "metadata": {},
     "output_type": "execute_result"
    }
   ],
   "source": [
    "# Your code here\n",
    "df.isnull().sum()"
   ]
  },
  {
   "cell_type": "markdown",
   "metadata": {},
   "source": [
    "If you remember in the previous labs, we drop a column if the column contains a high proportion of missing values. After dropping those problematic columns, we drop the rows with missing values.\n",
    "\n",
    "#### In the cells below, handle the missing values from the dataset. Remember to comment the rationale of your decisions."
   ]
  },
  {
   "cell_type": "code",
   "execution_count": 31,
   "metadata": {},
   "outputs": [],
   "source": [
    "# Your code here\n",
    "#already did this in step 1"
   ]
  },
  {
   "cell_type": "code",
   "execution_count": 32,
   "metadata": {},
   "outputs": [],
   "source": [
    "# Your comment here"
   ]
  },
  {
   "cell_type": "markdown",
   "metadata": {},
   "source": [
    "#### Again, examine the number of missing values in each column. \n",
    "\n",
    "If all cleaned, proceed. Otherwise, go back and do more cleaning."
   ]
  },
  {
   "cell_type": "code",
   "execution_count": 33,
   "metadata": {},
   "outputs": [],
   "source": [
    "# Examine missing values in each column\n"
   ]
  },
  {
   "cell_type": "markdown",
   "metadata": {},
   "source": [
    "# Challenge 4 - Handle `WHOIS_*` Categorical Data"
   ]
  },
  {
   "cell_type": "markdown",
   "metadata": {},
   "source": [
    "There are several categorical columns we need to handle. These columns are:\n",
    "\n",
    "* `URL`\n",
    "* `CHARSET`\n",
    "* `SERVER`\n",
    "* `WHOIS_COUNTRY`\n",
    "* `WHOIS_STATEPRO`\n",
    "* `WHOIS_REGDATE`\n",
    "* `WHOIS_UPDATED_DATE`\n",
    "\n",
    "How to handle string columns is always case by case. Let's start by working on `WHOIS_COUNTRY`. Your steps are:\n",
    "\n",
    "1. List out the unique values of `WHOIS_COUNTRY`.\n",
    "1. Consolidate the country values with consistent country codes. For example, the following values refer to the same country and should use consistent country code:\n",
    "    * `CY` and `Cyprus`\n",
    "    * `US` and `us`\n",
    "    * `SE` and `se`\n",
    "    * `GB`, `United Kingdom`, and `[u'GB'; u'UK']`\n",
    "\n",
    "#### In the cells below, fix the country values as intructed above."
   ]
  },
  {
   "cell_type": "code",
   "execution_count": 34,
   "metadata": {},
   "outputs": [
    {
     "data": {
      "text/plain": [
       "array(['US', 'SC', 'GB', 'None', 'UK', 'RU', 'AU', 'CA', 'PA', 'se', 'IN',\n",
       "       'LU', 'TH', \"[u'GB'; u'UK']\", 'FR', 'NL', 'UG', 'JP', 'CN', 'SE',\n",
       "       'SI', 'IL', 'ru', 'KY', 'AT', 'CZ', 'PH', 'BE', 'NO', 'TR', 'LV',\n",
       "       'DE', 'ES', 'us', 'KR', 'HK', 'UA', 'CH', 'BS', 'PK', 'IT',\n",
       "       'Cyprus', 'BY', 'AE', 'IE', 'UY', 'KG'], dtype=object)"
      ]
     },
     "execution_count": 34,
     "metadata": {},
     "output_type": "execute_result"
    }
   ],
   "source": [
    "# Your code here\n",
    "df.WHOIS_COUNTRY.unique()"
   ]
  },
  {
   "cell_type": "code",
   "execution_count": 35,
   "metadata": {},
   "outputs": [],
   "source": [
    "Cs = []\n",
    "\n",
    "for i in X.WHOIS_COUNTRY: \n",
    "    \n",
    "    if 'us' in i: \n",
    "        Cs.append('US')\n",
    "        \n",
    "    elif 'Cyprus' in i: \n",
    "        Cs.append('CY')\n",
    "        \n",
    "    elif 'se' in i: \n",
    "        Cs.append('SE')\n",
    "        \n",
    "    elif \"[u'GB'; u'UK']\" in i: \n",
    "        Cs.append('UK')\n",
    "        \n",
    "    elif 'GB' in i: \n",
    "        Cs.append('UK')\n",
    "        \n",
    "    elif 'ru' in i: \n",
    "        Cs.append('RU')\n",
    "        \n",
    "    else:\n",
    "        Cs.append(i)\n",
    "\n",
    "df['Country'] = Cs"
   ]
  },
  {
   "cell_type": "code",
   "execution_count": 36,
   "metadata": {},
   "outputs": [
    {
     "data": {
      "text/html": [
       "<div>\n",
       "<style scoped>\n",
       "    .dataframe tbody tr th:only-of-type {\n",
       "        vertical-align: middle;\n",
       "    }\n",
       "\n",
       "    .dataframe tbody tr th {\n",
       "        vertical-align: top;\n",
       "    }\n",
       "\n",
       "    .dataframe thead th {\n",
       "        text-align: right;\n",
       "    }\n",
       "</style>\n",
       "<table border=\"1\" class=\"dataframe\">\n",
       "  <thead>\n",
       "    <tr style=\"text-align: right;\">\n",
       "      <th></th>\n",
       "      <th>URL_LENGTH</th>\n",
       "      <th>CHARSET</th>\n",
       "      <th>WHOIS_REGDATE</th>\n",
       "      <th>WHOIS_UPDATED_DATE</th>\n",
       "      <th>TCP_CONVERSATION_EXCHANGE</th>\n",
       "      <th>DIST_REMOTE_TCP_PORT</th>\n",
       "      <th>REMOTE_IPS</th>\n",
       "      <th>Servers</th>\n",
       "      <th>Type</th>\n",
       "      <th>Country</th>\n",
       "    </tr>\n",
       "  </thead>\n",
       "  <tbody>\n",
       "    <tr>\n",
       "      <th>3</th>\n",
       "      <td>17</td>\n",
       "      <td>ISO-8859-1</td>\n",
       "      <td>729304</td>\n",
       "      <td>735123</td>\n",
       "      <td>31</td>\n",
       "      <td>22</td>\n",
       "      <td>3</td>\n",
       "      <td>nginx</td>\n",
       "      <td>0</td>\n",
       "      <td>US</td>\n",
       "    </tr>\n",
       "    <tr>\n",
       "      <th>4</th>\n",
       "      <td>17</td>\n",
       "      <td>UTF-8</td>\n",
       "      <td>728791</td>\n",
       "      <td>736430</td>\n",
       "      <td>57</td>\n",
       "      <td>2</td>\n",
       "      <td>5</td>\n",
       "      <td>Other</td>\n",
       "      <td>0</td>\n",
       "      <td>US</td>\n",
       "    </tr>\n",
       "    <tr>\n",
       "      <th>5</th>\n",
       "      <td>18</td>\n",
       "      <td>UTF-8</td>\n",
       "      <td>736179</td>\n",
       "      <td>736240</td>\n",
       "      <td>11</td>\n",
       "      <td>6</td>\n",
       "      <td>9</td>\n",
       "      <td>nginx</td>\n",
       "      <td>0</td>\n",
       "      <td>SC</td>\n",
       "    </tr>\n",
       "    <tr>\n",
       "      <th>6</th>\n",
       "      <td>18</td>\n",
       "      <td>iso-8859-1</td>\n",
       "      <td>731060</td>\n",
       "      <td>736146</td>\n",
       "      <td>12</td>\n",
       "      <td>0</td>\n",
       "      <td>3</td>\n",
       "      <td>Apache</td>\n",
       "      <td>0</td>\n",
       "      <td>US</td>\n",
       "    </tr>\n",
       "    <tr>\n",
       "      <th>7</th>\n",
       "      <td>19</td>\n",
       "      <td>us-ascii</td>\n",
       "      <td>729101</td>\n",
       "      <td>736407</td>\n",
       "      <td>0</td>\n",
       "      <td>0</td>\n",
       "      <td>0</td>\n",
       "      <td>Microsoft</td>\n",
       "      <td>0</td>\n",
       "      <td>US</td>\n",
       "    </tr>\n",
       "  </tbody>\n",
       "</table>\n",
       "</div>"
      ],
      "text/plain": [
       "   URL_LENGTH     CHARSET  WHOIS_REGDATE  WHOIS_UPDATED_DATE  \\\n",
       "3          17  ISO-8859-1         729304              735123   \n",
       "4          17       UTF-8         728791              736430   \n",
       "5          18       UTF-8         736179              736240   \n",
       "6          18  iso-8859-1         731060              736146   \n",
       "7          19    us-ascii         729101              736407   \n",
       "\n",
       "   TCP_CONVERSATION_EXCHANGE  DIST_REMOTE_TCP_PORT  REMOTE_IPS    Servers  \\\n",
       "3                         31                    22           3      nginx   \n",
       "4                         57                     2           5      Other   \n",
       "5                         11                     6           9      nginx   \n",
       "6                         12                     0           3     Apache   \n",
       "7                          0                     0           0  Microsoft   \n",
       "\n",
       "   Type Country  \n",
       "3     0      US  \n",
       "4     0      US  \n",
       "5     0      SC  \n",
       "6     0      US  \n",
       "7     0      US  "
      ]
     },
     "execution_count": 36,
     "metadata": {},
     "output_type": "execute_result"
    }
   ],
   "source": [
    "df.drop('WHOIS_COUNTRY',inplace=True,axis=1)\n",
    "df.head()"
   ]
  },
  {
   "cell_type": "markdown",
   "metadata": {},
   "source": [
    "Since we have fixed the country values, can we convert this column to ordinal now?\n",
    "\n",
    "Not yet. If you reflect on the previous labs how we handle categorical columns, you probably remember we ended up dropping a lot of those columns because there are too many unique values. Too many unique values in a column is not desirable in machine learning because it makes prediction inaccurate. But there are workarounds under certain conditions. One of the fixable conditions is:\n",
    "\n",
    "#### If a limited number of values account for the majority of data, we can retain these top values and re-label all other rare values.\n",
    "\n",
    "The `WHOIS_COUNTRY` column happens to be this case. You can verify it by print a bar chart of the `value_counts` in the next cell to verify:"
   ]
  },
  {
   "cell_type": "code",
   "execution_count": 37,
   "metadata": {},
   "outputs": [
    {
     "data": {
      "text/plain": [
       "<matplotlib.axes._subplots.AxesSubplot at 0x1a207449b0>"
      ]
     },
     "execution_count": 37,
     "metadata": {},
     "output_type": "execute_result"
    },
    {
     "data": {
      "image/png": "[encoded data removed]",
      "text/plain": [
       "<Figure size 432x288 with 1 Axes>"
      ]
     },
     "metadata": {
      "needs_background": "light"
     },
     "output_type": "display_data"
    }
   ],
   "source": [
    "# Your code here\n",
    "sns.barplot(df.Country.value_counts()[:11].index,\n",
    "            df.Country.value_counts()[:11])"
   ]
  },
  {
   "cell_type": "markdown",
   "metadata": {},
   "source": [
    "#### After verifying, now let's keep the top 10 values of the column and re-label other columns with `OTHER`."
   ]
  },
  {
   "cell_type": "code",
   "execution_count": 38,
   "metadata": {
    "scrolled": true
   },
   "outputs": [],
   "source": [
    "# Your code here\n",
    "top10 = df.Country.value_counts()[:10].index\n",
    "df.Country = np.where(df.Country.isin(top10), df.Country, 'Other' )"
   ]
  },
  {
   "cell_type": "code",
   "execution_count": 39,
   "metadata": {},
   "outputs": [
    {
     "data": {
      "text/plain": [
       "US       1106\n",
       "None      171\n",
       "Other      95\n",
       "CA         83\n",
       "ES         63\n",
       "AU         35\n",
       "UK         34\n",
       "PA         21\n",
       "JP         11\n",
       "CN         10\n",
       "CZ          9\n",
       "Name: Country, dtype: int64"
      ]
     },
     "execution_count": 39,
     "metadata": {},
     "output_type": "execute_result"
    }
   ],
   "source": [
    "df.Country.value_counts()"
   ]
  },
  {
   "cell_type": "markdown",
   "metadata": {},
   "source": [
    "Now since `WHOIS_COUNTRY` has been re-labelled, we don't need `WHOIS_STATEPRO` any more because the values of the states or provinces may not be relevant any more. We'll drop this column.\n",
    "\n",
    "In addition, we will also drop `WHOIS_REGDATE` and `WHOIS_UPDATED_DATE`. These are the registration and update dates of the website domains. Not of our concerns.\n",
    "\n",
    "#### In the next cell, drop `['WHOIS_STATEPRO', 'WHOIS_REGDATE', 'WHOIS_UPDATED_DATE']`."
   ]
  },
  {
   "cell_type": "code",
   "execution_count": 40,
   "metadata": {},
   "outputs": [],
   "source": [
    "# Your code here\n"
   ]
  },
  {
   "cell_type": "markdown",
   "metadata": {},
   "source": [
    "# Challenge 5 - Handle Remaining Categorical Data & Convert to Ordinal\n",
    "\n",
    "Now print the `dtypes` of the data again. Besides `WHOIS_COUNTRY` which we already fixed, there should be 3 categorical columns left: `URL`, `CHARSET`, and `SERVER`."
   ]
  },
  {
   "cell_type": "code",
   "execution_count": 41,
   "metadata": {},
   "outputs": [
    {
     "data": {
      "text/plain": [
       "URL_LENGTH                    int64\n",
       "CHARSET                      object\n",
       "WHOIS_REGDATE                 int64\n",
       "WHOIS_UPDATED_DATE            int64\n",
       "TCP_CONVERSATION_EXCHANGE     int64\n",
       "DIST_REMOTE_TCP_PORT          int64\n",
       "REMOTE_IPS                    int64\n",
       "Servers                      object\n",
       "Type                          int64\n",
       "Country                      object\n",
       "dtype: object"
      ]
     },
     "execution_count": 41,
     "metadata": {},
     "output_type": "execute_result"
    }
   ],
   "source": [
    "# Your code here\n",
    "df.dtypes"
   ]
  },
  {
   "cell_type": "markdown",
   "metadata": {},
   "source": [
    "#### `URL` is easy. We'll simply drop it because it has too many unique values that there's no way for us to consolidate."
   ]
  },
  {
   "cell_type": "code",
   "execution_count": 42,
   "metadata": {},
   "outputs": [],
   "source": [
    "# Your code here\n"
   ]
  },
  {
   "cell_type": "markdown",
   "metadata": {},
   "source": [
    "#### Print the unique value counts of `CHARSET`. You see there are only a few unique values. So we can keep it as it is."
   ]
  },
  {
   "cell_type": "code",
   "execution_count": 43,
   "metadata": {},
   "outputs": [
    {
     "data": {
      "text/plain": [
       "UTF-8           603\n",
       "ISO-8859-1      407\n",
       "utf-8           357\n",
       "us-ascii        144\n",
       "iso-8859-1      117\n",
       "None              7\n",
       "windows-1251      1\n",
       "windows-1252      1\n",
       "ISO-8859          1\n",
       "Name: CHARSET, dtype: int64"
      ]
     },
     "execution_count": 43,
     "metadata": {},
     "output_type": "execute_result"
    }
   ],
   "source": [
    "# Your code here\n",
    "df.CHARSET.value_counts()"
   ]
  },
  {
   "cell_type": "markdown",
   "metadata": {},
   "source": [
    "`SERVER` is a little more complicated. Print its unique values and think about how you can consolidate those values.\n",
    "\n",
    "#### Before you think of your own solution, don't read the instructions that come next."
   ]
  },
  {
   "cell_type": "code",
   "execution_count": 44,
   "metadata": {},
   "outputs": [],
   "source": [
    "# Your code here\n",
    "#done"
   ]
  },
  {
   "cell_type": "markdown",
   "metadata": {},
   "source": [
    "![Think Hard](../think-hard.jpg)"
   ]
  },
  {
   "cell_type": "code",
   "execution_count": 45,
   "metadata": {},
   "outputs": [],
   "source": [
    "# Your comment here\n",
    "#done"
   ]
  },
  {
   "cell_type": "markdown",
   "metadata": {},
   "source": [
    "Although there are so many unique values in the `SERVER` column, there are actually only 3 main server types: `Microsoft`, `Apache`, and `nginx`. Just check if each `SERVER` value contains any of those server types and re-label them. For `SERVER` values that don't contain any of those substrings, label with `Other`.\n",
    "\n",
    "At the end, your `SERVER` column should only contain 4 unique values: `Microsoft`, `Apache`, `nginx`, and `Other`."
   ]
  },
  {
   "cell_type": "code",
   "execution_count": 46,
   "metadata": {},
   "outputs": [],
   "source": [
    "# Your code here\n",
    "#done"
   ]
  },
  {
   "cell_type": "code",
   "execution_count": 63,
   "metadata": {
    "scrolled": false
   },
   "outputs": [
    {
     "data": {
      "text/plain": [
       "Apache       594\n",
       "Other        490\n",
       "nginx        372\n",
       "Microsoft    182\n",
       "Name: Servers, dtype: int64"
      ]
     },
     "execution_count": 63,
     "metadata": {},
     "output_type": "execute_result"
    }
   ],
   "source": [
    "# Count `SERVER` value counts here\n",
    "df.Servers.value_counts()"
   ]
  },
  {
   "cell_type": "markdown",
   "metadata": {},
   "source": [
    "OK, all our categorical data are fixed now. **Let's convert them to ordinal data using Pandas' `get_dummies` function ([documentation](https://pandas.pydata.org/pandas-docs/stable/generated/pandas.get_dummies.html)).** Make sure you drop the categorical columns by passing `drop_first=True` to `get_dummies` as we don't need them any more. **Also, assign the data with dummy values to a new variable `website_dummy`.**"
   ]
  },
  {
   "cell_type": "code",
   "execution_count": 65,
   "metadata": {},
   "outputs": [
    {
     "data": {
      "text/html": [
       "<div>\n",
       "<style scoped>\n",
       "    .dataframe tbody tr th:only-of-type {\n",
       "        vertical-align: middle;\n",
       "    }\n",
       "\n",
       "    .dataframe tbody tr th {\n",
       "        vertical-align: top;\n",
       "    }\n",
       "\n",
       "    .dataframe thead th {\n",
       "        text-align: right;\n",
       "    }\n",
       "</style>\n",
       "<table border=\"1\" class=\"dataframe\">\n",
       "  <thead>\n",
       "    <tr style=\"text-align: right;\">\n",
       "      <th></th>\n",
       "      <th>URL_LENGTH</th>\n",
       "      <th>WHOIS_REGDATE</th>\n",
       "      <th>WHOIS_UPDATED_DATE</th>\n",
       "      <th>TCP_CONVERSATION_EXCHANGE</th>\n",
       "      <th>DIST_REMOTE_TCP_PORT</th>\n",
       "      <th>REMOTE_IPS</th>\n",
       "      <th>Type</th>\n",
       "      <th>CHARSET_ISO-8859</th>\n",
       "      <th>CHARSET_ISO-8859-1</th>\n",
       "      <th>CHARSET_None</th>\n",
       "      <th>...</th>\n",
       "      <th>Country_CA</th>\n",
       "      <th>Country_CN</th>\n",
       "      <th>Country_CZ</th>\n",
       "      <th>Country_ES</th>\n",
       "      <th>Country_JP</th>\n",
       "      <th>Country_None</th>\n",
       "      <th>Country_Other</th>\n",
       "      <th>Country_PA</th>\n",
       "      <th>Country_UK</th>\n",
       "      <th>Country_US</th>\n",
       "    </tr>\n",
       "  </thead>\n",
       "  <tbody>\n",
       "    <tr>\n",
       "      <th>3</th>\n",
       "      <td>17</td>\n",
       "      <td>729304</td>\n",
       "      <td>735123</td>\n",
       "      <td>31</td>\n",
       "      <td>22</td>\n",
       "      <td>3</td>\n",
       "      <td>0</td>\n",
       "      <td>0</td>\n",
       "      <td>1</td>\n",
       "      <td>0</td>\n",
       "      <td>...</td>\n",
       "      <td>0</td>\n",
       "      <td>0</td>\n",
       "      <td>0</td>\n",
       "      <td>0</td>\n",
       "      <td>0</td>\n",
       "      <td>0</td>\n",
       "      <td>0</td>\n",
       "      <td>0</td>\n",
       "      <td>0</td>\n",
       "      <td>1</td>\n",
       "    </tr>\n",
       "    <tr>\n",
       "      <th>4</th>\n",
       "      <td>17</td>\n",
       "      <td>728791</td>\n",
       "      <td>736430</td>\n",
       "      <td>57</td>\n",
       "      <td>2</td>\n",
       "      <td>5</td>\n",
       "      <td>0</td>\n",
       "      <td>0</td>\n",
       "      <td>0</td>\n",
       "      <td>0</td>\n",
       "      <td>...</td>\n",
       "      <td>0</td>\n",
       "      <td>0</td>\n",
       "      <td>0</td>\n",
       "      <td>0</td>\n",
       "      <td>0</td>\n",
       "      <td>0</td>\n",
       "      <td>0</td>\n",
       "      <td>0</td>\n",
       "      <td>0</td>\n",
       "      <td>1</td>\n",
       "    </tr>\n",
       "    <tr>\n",
       "      <th>5</th>\n",
       "      <td>18</td>\n",
       "      <td>736179</td>\n",
       "      <td>736240</td>\n",
       "      <td>11</td>\n",
       "      <td>6</td>\n",
       "      <td>9</td>\n",
       "      <td>0</td>\n",
       "      <td>0</td>\n",
       "      <td>0</td>\n",
       "      <td>0</td>\n",
       "      <td>...</td>\n",
       "      <td>0</td>\n",
       "      <td>0</td>\n",
       "      <td>0</td>\n",
       "      <td>0</td>\n",
       "      <td>0</td>\n",
       "      <td>0</td>\n",
       "      <td>1</td>\n",
       "      <td>0</td>\n",
       "      <td>0</td>\n",
       "      <td>0</td>\n",
       "    </tr>\n",
       "    <tr>\n",
       "      <th>6</th>\n",
       "      <td>18</td>\n",
       "      <td>731060</td>\n",
       "      <td>736146</td>\n",
       "      <td>12</td>\n",
       "      <td>0</td>\n",
       "      <td>3</td>\n",
       "      <td>0</td>\n",
       "      <td>0</td>\n",
       "      <td>0</td>\n",
       "      <td>0</td>\n",
       "      <td>...</td>\n",
       "      <td>0</td>\n",
       "      <td>0</td>\n",
       "      <td>0</td>\n",
       "      <td>0</td>\n",
       "      <td>0</td>\n",
       "      <td>0</td>\n",
       "      <td>0</td>\n",
       "      <td>0</td>\n",
       "      <td>0</td>\n",
       "      <td>1</td>\n",
       "    </tr>\n",
       "    <tr>\n",
       "      <th>7</th>\n",
       "      <td>19</td>\n",
       "      <td>729101</td>\n",
       "      <td>736407</td>\n",
       "      <td>0</td>\n",
       "      <td>0</td>\n",
       "      <td>0</td>\n",
       "      <td>0</td>\n",
       "      <td>0</td>\n",
       "      <td>0</td>\n",
       "      <td>0</td>\n",
       "      <td>...</td>\n",
       "      <td>0</td>\n",
       "      <td>0</td>\n",
       "      <td>0</td>\n",
       "      <td>0</td>\n",
       "      <td>0</td>\n",
       "      <td>0</td>\n",
       "      <td>0</td>\n",
       "      <td>0</td>\n",
       "      <td>0</td>\n",
       "      <td>1</td>\n",
       "    </tr>\n",
       "  </tbody>\n",
       "</table>\n",
       "<p>5 rows × 31 columns</p>\n",
       "</div>"
      ],
      "text/plain": [
       "   URL_LENGTH  WHOIS_REGDATE  WHOIS_UPDATED_DATE  TCP_CONVERSATION_EXCHANGE  \\\n",
       "3          17         729304              735123                         31   \n",
       "4          17         728791              736430                         57   \n",
       "5          18         736179              736240                         11   \n",
       "6          18         731060              736146                         12   \n",
       "7          19         729101              736407                          0   \n",
       "\n",
       "   DIST_REMOTE_TCP_PORT  REMOTE_IPS  Type  CHARSET_ISO-8859  \\\n",
       "3                    22           3     0                 0   \n",
       "4                     2           5     0                 0   \n",
       "5                     6           9     0                 0   \n",
       "6                     0           3     0                 0   \n",
       "7                     0           0     0                 0   \n",
       "\n",
       "   CHARSET_ISO-8859-1  CHARSET_None  ...  Country_CA  Country_CN  Country_CZ  \\\n",
       "3                   1             0  ...           0           0           0   \n",
       "4                   0             0  ...           0           0           0   \n",
       "5                   0             0  ...           0           0           0   \n",
       "6                   0             0  ...           0           0           0   \n",
       "7                   0             0  ...           0           0           0   \n",
       "\n",
       "   Country_ES  Country_JP  Country_None  Country_Other  Country_PA  \\\n",
       "3           0           0             0              0           0   \n",
       "4           0           0             0              0           0   \n",
       "5           0           0             0              1           0   \n",
       "6           0           0             0              0           0   \n",
       "7           0           0             0              0           0   \n",
       "\n",
       "   Country_UK  Country_US  \n",
       "3           0           1  \n",
       "4           0           1  \n",
       "5           0           0  \n",
       "6           0           1  \n",
       "7           0           1  \n",
       "\n",
       "[5 rows x 31 columns]"
      ]
     },
     "execution_count": 65,
     "metadata": {},
     "output_type": "execute_result"
    }
   ],
   "source": [
    "# Your code here\n",
    "df_dummy = pd.get_dummies(df)"
   ]
  },
  {
   "cell_type": "code",
   "execution_count": 66,
   "metadata": {},
   "outputs": [
    {
     "data": {
      "text/plain": [
       "Index(['URL_LENGTH', 'WHOIS_REGDATE', 'WHOIS_UPDATED_DATE',\n",
       "       'TCP_CONVERSATION_EXCHANGE', 'DIST_REMOTE_TCP_PORT', 'REMOTE_IPS',\n",
       "       'Type', 'CHARSET_ISO-8859', 'CHARSET_ISO-8859-1', 'CHARSET_None',\n",
       "       'CHARSET_UTF-8', 'CHARSET_iso-8859-1', 'CHARSET_us-ascii',\n",
       "       'CHARSET_utf-8', 'CHARSET_windows-1251', 'CHARSET_windows-1252',\n",
       "       'Servers_Apache', 'Servers_Microsoft', 'Servers_Other', 'Servers_nginx',\n",
       "       'Country_AU', 'Country_CA', 'Country_CN', 'Country_CZ', 'Country_ES',\n",
       "       'Country_JP', 'Country_None', 'Country_Other', 'Country_PA',\n",
       "       'Country_UK', 'Country_US'],\n",
       "      dtype='object')"
      ]
     },
     "execution_count": 66,
     "metadata": {},
     "output_type": "execute_result"
    }
   ],
   "source": [
    "df_dummy.columns"
   ]
  },
  {
   "cell_type": "markdown",
   "metadata": {},
   "source": [
    "Now, inspect `website_dummy` to make sure the data and types are intended - there shouldn't be any categorical columns at this point."
   ]
  },
  {
   "cell_type": "code",
   "execution_count": 67,
   "metadata": {},
   "outputs": [
    {
     "data": {
      "text/plain": [
       "URL_LENGTH                   int64\n",
       "WHOIS_REGDATE                int64\n",
       "WHOIS_UPDATED_DATE           int64\n",
       "TCP_CONVERSATION_EXCHANGE    int64\n",
       "DIST_REMOTE_TCP_PORT         int64\n",
       "REMOTE_IPS                   int64\n",
       "Type                         int64\n",
       "CHARSET_ISO-8859             uint8\n",
       "CHARSET_ISO-8859-1           uint8\n",
       "CHARSET_None                 uint8\n",
       "CHARSET_UTF-8                uint8\n",
       "CHARSET_iso-8859-1           uint8\n",
       "CHARSET_us-ascii             uint8\n",
       "CHARSET_utf-8                uint8\n",
       "CHARSET_windows-1251         uint8\n",
       "CHARSET_windows-1252         uint8\n",
       "Servers_Apache               uint8\n",
       "Servers_Microsoft            uint8\n",
       "Servers_Other                uint8\n",
       "Servers_nginx                uint8\n",
       "Country_AU                   uint8\n",
       "Country_CA                   uint8\n",
       "Country_CN                   uint8\n",
       "Country_CZ                   uint8\n",
       "Country_ES                   uint8\n",
       "Country_JP                   uint8\n",
       "Country_None                 uint8\n",
       "Country_Other                uint8\n",
       "Country_PA                   uint8\n",
       "Country_UK                   uint8\n",
       "Country_US                   uint8\n",
       "dtype: object"
      ]
     },
     "execution_count": 67,
     "metadata": {},
     "output_type": "execute_result"
    }
   ],
   "source": [
    "# Your code here\n",
    "df_dummy.dtypes"
   ]
  },
  {
   "cell_type": "markdown",
   "metadata": {},
   "source": [
    "# Challenge 6 - Modeling, Prediction, and Evaluation\n",
    "\n",
    "We'll start off this section by splitting the data to train and test. **Name your 4 variables `X_train`, `X_test`, `y_train`, and `y_test`. Select 80% of the data for training and 20% for testing.**"
   ]
  },
  {
   "cell_type": "code",
   "execution_count": 78,
   "metadata": {},
   "outputs": [],
   "source": [
    "from sklearn.model_selection import train_test_split\n",
    "y = df_dummy.Type\n",
    "df_dummy.drop('Type',inplace=True,axis=1)\n",
    "X = df_dummy\n",
    "\n",
    "# Your code here:\n",
    "\n",
    "X_train, X_test, y_train, y_test = train_test_split(X, y, test_size=0.20)\n"
   ]
  },
  {
   "cell_type": "markdown",
   "metadata": {},
   "source": [
    "#### In this lab, we will try two different models and compare our results.\n",
    "\n",
    "The first model we will use in this lab is logistic regression. We have previously learned about logistic regression as a classification algorithm. In the cell below, load `LogisticRegression` from scikit-learn and initialize the model."
   ]
  },
  {
   "cell_type": "code",
   "execution_count": 79,
   "metadata": {},
   "outputs": [],
   "source": [
    "# Your code here:\n",
    "from sklearn.linear_model import LogisticRegression\n",
    "\n",
    "model = sk.linear_model.LogisticRegression()\n"
   ]
  },
  {
   "cell_type": "markdown",
   "metadata": {},
   "source": [
    "Next, fit the model to our training data. We have already separated our data into 4 parts. Use those in your model."
   ]
  },
  {
   "cell_type": "code",
   "execution_count": 80,
   "metadata": {},
   "outputs": [
    {
     "name": "stderr",
     "output_type": "stream",
     "text": [
      "/anaconda3/lib/python3.7/site-packages/sklearn/linear_model/logistic.py:433: FutureWarning: Default solver will be changed to 'lbfgs' in 0.22. Specify a solver to silence this warning.\n",
      "  FutureWarning)\n"
     ]
    },
    {
     "data": {
      "text/plain": [
       "LogisticRegression(C=1.0, class_weight=None, dual=False, fit_intercept=True,\n",
       "          intercept_scaling=1, max_iter=100, multi_class='warn',\n",
       "          n_jobs=None, penalty='l2', random_state=None, solver='warn',\n",
       "          tol=0.0001, verbose=0, warm_start=False)"
      ]
     },
     "execution_count": 80,
     "metadata": {},
     "output_type": "execute_result"
    }
   ],
   "source": [
    "# Your code here:\n",
    "model.fit(X_train,y_train)\n"
   ]
  },
  {
   "cell_type": "markdown",
   "metadata": {},
   "source": [
    "finally, import `confusion_matrix` and `accuracy_score` from `sklearn.metrics` and fit our testing data. Assign the fitted data to `y_pred` and print the confusion matrix as well as the accuracy score"
   ]
  },
  {
   "cell_type": "code",
   "execution_count": 87,
   "metadata": {},
   "outputs": [
    {
     "name": "stdout",
     "output_type": "stream",
     "text": [
      "0.9085365853658537\n",
      "[[298   0]\n",
      " [ 30   0]]\n"
     ]
    }
   ],
   "source": [
    "# Your code here:\n",
    "from sklearn.metrics import confusion_matrix, accuracy_score\n",
    "\n",
    "y_pred = model.predict(X_test)\n",
    "\n",
    "print(accuracy_score(y_test, y_pred))\n",
    "print(confusion_matrix(y_test, y_pred))"
   ]
  },
  {
   "cell_type": "markdown",
   "metadata": {},
   "source": [
    "What are your thoughts on the performance of the model? Write your conclusions below."
   ]
  },
  {
   "cell_type": "code",
   "execution_count": 54,
   "metadata": {},
   "outputs": [],
   "source": [
    "# Your conclusions here:\n",
    "#pretty good, would like to reduce the false negatives though\n"
   ]
  },
  {
   "cell_type": "markdown",
   "metadata": {},
   "source": [
    "#### Our second algorithm is is K-Nearest Neighbors. \n",
    "\n",
    "Though is it not required, we will fit a model using the training data and then test the performance of the model using the testing data. Start by loading `KNeighborsClassifier` from scikit-learn and then initializing and fitting the model. We'll start off with a model where k=3."
   ]
  },
  {
   "cell_type": "code",
   "execution_count": 103,
   "metadata": {},
   "outputs": [
    {
     "data": {
      "text/plain": [
       "KNeighborsClassifier(algorithm='auto', leaf_size=30, metric='minkowski',\n",
       "           metric_params=None, n_jobs=None, n_neighbors=3, p=2,\n",
       "           weights='uniform')"
      ]
     },
     "execution_count": 103,
     "metadata": {},
     "output_type": "execute_result"
    }
   ],
   "source": [
    "# Your code here:\n",
    "knn_model = sk.neighbors.KNeighborsClassifier(n_neighbors=3,\n",
    "                                       algorithm='auto', leaf_size=30, p=2, metric='minkowski',\n",
    "                                       metric_params=None, n_jobs=None)\n",
    "knn_model.fit(X_train,y_train)"
   ]
  },
  {
   "cell_type": "markdown",
   "metadata": {},
   "source": [
    "To test your model, compute the predicted values for the testing sample and print the confusion matrix as well as the accuracy score."
   ]
  },
  {
   "cell_type": "code",
   "execution_count": 104,
   "metadata": {},
   "outputs": [
    {
     "name": "stdout",
     "output_type": "stream",
     "text": [
      "0.9085365853658537\n",
      "[[298   0]\n",
      " [ 30   0]]\n"
     ]
    }
   ],
   "source": [
    "# Your code here:\n",
    "y_predict = knn_model.predict(X_test)\n",
    "print(accuracy_score(y_test, y_pred))\n",
    "print(confusion_matrix(y_test, y_pred))"
   ]
  },
  {
   "cell_type": "markdown",
   "metadata": {},
   "source": [
    "#### We'll create another K-Nearest Neighbors model with k=5. \n",
    "\n",
    "Initialize and fit the model below and print the confusion matrix and the accuracy score."
   ]
  },
  {
   "cell_type": "code",
   "execution_count": 102,
   "metadata": {},
   "outputs": [
    {
     "name": "stdout",
     "output_type": "stream",
     "text": [
      "0.9085365853658537\n",
      "[[298   0]\n",
      " [ 30   0]]\n"
     ]
    }
   ],
   "source": [
    "# Your code here:\n",
    "knn_model = sk.neighbors.KNeighborsClassifier(n_neighbors=5,\n",
    "                                       algorithm='auto', leaf_size=30, p=2, metric='minkowski',\n",
    "                                       metric_params=None, n_jobs=None)\n",
    "knn_model.fit(X_train,y_train)\n",
    "\n",
    "y_predict = knn_model.predict(X_test)\n",
    "print(accuracy_score(y_test, y_pred))\n",
    "print(confusion_matrix(y_test, y_pred))"
   ]
  },
  {
   "cell_type": "markdown",
   "metadata": {},
   "source": [
    "Did you see an improvement in the confusion matrix when increasing k to 5? Did you see an improvement in the accuracy score? Write your conclusions below."
   ]
  },
  {
   "cell_type": "code",
   "execution_count": 58,
   "metadata": {},
   "outputs": [],
   "source": [
    "# Your conclusions here:\n",
    "# pretty happy both models give the same results, but wished one could show to be a stronger..\n"
   ]
  },
  {
   "cell_type": "markdown",
   "metadata": {},
   "source": [
    "# Bonus Challenge - Feature Scaling\n",
    "\n",
    "Problem-solving in machine learning is iterative. You can improve your model prediction with various techniques (there is a sweetspot for the time you spend and the improvement you receive though). Now you've completed only one iteration of ML analysis. There are more iterations you can conduct to make improvements. In order to be able to do that, you will need deeper knowledge in statistics and master more data analysis techniques. In this bootcamp, we don't have time to achieve that advanced goal. But you will make constant efforts after the bootcamp to eventually get there.\n",
    "\n",
    "However, now we do want you to learn one of the advanced techniques which is called *feature scaling*. The idea of feature scaling is to standardize/normalize the range of independent variables or features of the data. This can make the outliers more apparent so that you can remove them. This step needs to happen during Challenge 6 after you split the training and test data because you don't want to split the data again which makes it impossible to compare your results with and without feature scaling. For general concepts about feature scaling, click [here](https://en.wikipedia.org/wiki/Feature_scaling). To read deeper, click [here](https://medium.com/greyatom/why-how-and-when-to-scale-your-features-4b30ab09db5e).\n",
    "\n",
    "In the next cell, attempt to improve your model prediction accuracy by means of feature scaling. A library you can utilize is `sklearn.preprocessing.RobustScaler` ([documentation](https://scikit-learn.org/stable/modules/generated/sklearn.preprocessing.RobustScaler.html)). You'll use the `RobustScaler` to fit and transform your `X_train`, then transform `X_test`. You will use logistic regression to fit and predict your transformed data and obtain the accuracy score in the same way. Compare the accuracy score with your normalized data with the previous accuracy data. Is there an improvement?"
   ]
  },
  {
   "cell_type": "code",
   "execution_count": 59,
   "metadata": {},
   "outputs": [],
   "source": [
    "# Your code here"
   ]
  }
 ],
 "metadata": {
  "kernelspec": {
   "display_name": "Python 3",
   "language": "python",
   "name": "python3"
  },
  "language_info": {
   "codemirror_mode": {
    "name": "ipython",
    "version": 3
   },
   "file_extension": ".py",
   "mimetype": "text/x-python",
   "name": "python",
   "nbconvert_exporter": "python",
   "pygments_lexer": "ipython3",
   "version": "3.7.1"
  }
 },
 "nbformat": 4,
 "nbformat_minor": 2
}
