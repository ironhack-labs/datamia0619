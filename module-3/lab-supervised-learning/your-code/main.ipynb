{
 "cells": [
  {
   "cell_type": "markdown",
   "metadata": {},
   "source": [
    "# Before your start:\n",
    "- Read the README.md file\n",
    "- Comment as much as you can and use the resources in the README.md file\n",
    "- Happy learning!"
   ]
  },
  {
   "cell_type": "code",
   "execution_count": 1,
   "metadata": {},
   "outputs": [],
   "source": [
    "# Import your libraries:\n",
    "\n",
    "%matplotlib inline\n",
    "\n",
    "import numpy as np\n",
    "import pandas as pd\n",
    "import seaborn as sns\n",
    "import matplotlib.pyplot as plt"
   ]
  },
  {
   "cell_type": "markdown",
   "metadata": {},
   "source": [
    "In this lab, we will explore a dataset that describes websites with different features and labels them either benign or malicious . We will use supervised learning algorithms to figure out what feature patterns malicious websites are likely to have and use our model to predict malicious websites.\n",
    "\n",
    "# Challenge 1 - Explore The Dataset\n",
    "\n",
    "Let's start by exploring the dataset. First load the data file:"
   ]
  },
  {
   "cell_type": "code",
   "execution_count": 2,
   "metadata": {},
   "outputs": [],
   "source": [
    "websites = pd.read_csv('../website.csv')"
   ]
  },
  {
   "cell_type": "markdown",
   "metadata": {},
   "source": [
    "#### Explore the data from an bird's-eye view.\n",
    "\n",
    "You should already been very familiar with the procedures now so we won't provide the instructions step by step. Reflect on what you did in the previous labs and explore the dataset.\n",
    "\n",
    "Things you'll be looking for:\n",
    "\n",
    "* What the dataset looks like?\n",
    "* What are the data types?\n",
    "* Which columns contain the features of the websites?\n",
    "* Which column contains the feature we will predict? What is the code standing for benign vs malicious websites?\n",
    "* Do we need to transform any of the columns from categorical to ordinal values? If so what are these columns?\n",
    "\n",
    "Feel free to add additional cells for your explorations. Make sure to comment what you find out."
   ]
  },
  {
   "cell_type": "code",
   "execution_count": 3,
   "metadata": {},
   "outputs": [
    {
     "data": {
      "text/html": [
       "<div>\n",
       "<style scoped>\n",
       "    .dataframe tbody tr th:only-of-type {\n",
       "        vertical-align: middle;\n",
       "    }\n",
       "\n",
       "    .dataframe tbody tr th {\n",
       "        vertical-align: top;\n",
       "    }\n",
       "\n",
       "    .dataframe thead th {\n",
       "        text-align: right;\n",
       "    }\n",
       "</style>\n",
       "<table border=\"1\" class=\"dataframe\">\n",
       "  <thead>\n",
       "    <tr style=\"text-align: right;\">\n",
       "      <th></th>\n",
       "      <th>URL</th>\n",
       "      <th>URL_LENGTH</th>\n",
       "      <th>NUMBER_SPECIAL_CHARACTERS</th>\n",
       "      <th>CHARSET</th>\n",
       "      <th>SERVER</th>\n",
       "      <th>CONTENT_LENGTH</th>\n",
       "      <th>WHOIS_COUNTRY</th>\n",
       "      <th>WHOIS_STATEPRO</th>\n",
       "      <th>WHOIS_REGDATE</th>\n",
       "      <th>WHOIS_UPDATED_DATE</th>\n",
       "      <th>TCP_CONVERSATION_EXCHANGE</th>\n",
       "      <th>DIST_REMOTE_TCP_PORT</th>\n",
       "      <th>REMOTE_IPS</th>\n",
       "      <th>APP_BYTES</th>\n",
       "      <th>SOURCE_APP_PACKETS</th>\n",
       "      <th>REMOTE_APP_PACKETS</th>\n",
       "      <th>SOURCE_APP_BYTES</th>\n",
       "      <th>REMOTE_APP_BYTES</th>\n",
       "      <th>APP_PACKETS</th>\n",
       "      <th>DNS_QUERY_TIMES</th>\n",
       "      <th>Type</th>\n",
       "    </tr>\n",
       "  </thead>\n",
       "  <tbody>\n",
       "    <tr>\n",
       "      <th>0</th>\n",
       "      <td>M0_109</td>\n",
       "      <td>16</td>\n",
       "      <td>7</td>\n",
       "      <td>iso-8859-1</td>\n",
       "      <td>nginx</td>\n",
       "      <td>263.0</td>\n",
       "      <td>None</td>\n",
       "      <td>None</td>\n",
       "      <td>10/10/2015 18:21</td>\n",
       "      <td>None</td>\n",
       "      <td>7</td>\n",
       "      <td>0</td>\n",
       "      <td>2</td>\n",
       "      <td>700</td>\n",
       "      <td>9</td>\n",
       "      <td>10</td>\n",
       "      <td>1153</td>\n",
       "      <td>832</td>\n",
       "      <td>9</td>\n",
       "      <td>2.0</td>\n",
       "      <td>1</td>\n",
       "    </tr>\n",
       "    <tr>\n",
       "      <th>1</th>\n",
       "      <td>B0_2314</td>\n",
       "      <td>16</td>\n",
       "      <td>6</td>\n",
       "      <td>UTF-8</td>\n",
       "      <td>Apache/2.4.10</td>\n",
       "      <td>15087.0</td>\n",
       "      <td>None</td>\n",
       "      <td>None</td>\n",
       "      <td>None</td>\n",
       "      <td>None</td>\n",
       "      <td>17</td>\n",
       "      <td>7</td>\n",
       "      <td>4</td>\n",
       "      <td>1230</td>\n",
       "      <td>17</td>\n",
       "      <td>19</td>\n",
       "      <td>1265</td>\n",
       "      <td>1230</td>\n",
       "      <td>17</td>\n",
       "      <td>0.0</td>\n",
       "      <td>0</td>\n",
       "    </tr>\n",
       "    <tr>\n",
       "      <th>2</th>\n",
       "      <td>B0_911</td>\n",
       "      <td>16</td>\n",
       "      <td>6</td>\n",
       "      <td>us-ascii</td>\n",
       "      <td>Microsoft-HTTPAPI/2.0</td>\n",
       "      <td>324.0</td>\n",
       "      <td>None</td>\n",
       "      <td>None</td>\n",
       "      <td>None</td>\n",
       "      <td>None</td>\n",
       "      <td>0</td>\n",
       "      <td>0</td>\n",
       "      <td>0</td>\n",
       "      <td>0</td>\n",
       "      <td>0</td>\n",
       "      <td>0</td>\n",
       "      <td>0</td>\n",
       "      <td>0</td>\n",
       "      <td>0</td>\n",
       "      <td>0.0</td>\n",
       "      <td>0</td>\n",
       "    </tr>\n",
       "    <tr>\n",
       "      <th>3</th>\n",
       "      <td>B0_113</td>\n",
       "      <td>17</td>\n",
       "      <td>6</td>\n",
       "      <td>ISO-8859-1</td>\n",
       "      <td>nginx</td>\n",
       "      <td>162.0</td>\n",
       "      <td>US</td>\n",
       "      <td>AK</td>\n",
       "      <td>7/10/1997 4:00</td>\n",
       "      <td>12/09/2013 0:45</td>\n",
       "      <td>31</td>\n",
       "      <td>22</td>\n",
       "      <td>3</td>\n",
       "      <td>3812</td>\n",
       "      <td>39</td>\n",
       "      <td>37</td>\n",
       "      <td>18784</td>\n",
       "      <td>4380</td>\n",
       "      <td>39</td>\n",
       "      <td>8.0</td>\n",
       "      <td>0</td>\n",
       "    </tr>\n",
       "    <tr>\n",
       "      <th>4</th>\n",
       "      <td>B0_403</td>\n",
       "      <td>17</td>\n",
       "      <td>6</td>\n",
       "      <td>UTF-8</td>\n",
       "      <td>None</td>\n",
       "      <td>124140.0</td>\n",
       "      <td>US</td>\n",
       "      <td>TX</td>\n",
       "      <td>12/05/1996 0:00</td>\n",
       "      <td>11/04/2017 0:00</td>\n",
       "      <td>57</td>\n",
       "      <td>2</td>\n",
       "      <td>5</td>\n",
       "      <td>4278</td>\n",
       "      <td>61</td>\n",
       "      <td>62</td>\n",
       "      <td>129889</td>\n",
       "      <td>4586</td>\n",
       "      <td>61</td>\n",
       "      <td>4.0</td>\n",
       "      <td>0</td>\n",
       "    </tr>\n",
       "  </tbody>\n",
       "</table>\n",
       "</div>"
      ],
      "text/plain": [
       "       URL  URL_LENGTH  NUMBER_SPECIAL_CHARACTERS     CHARSET  \\\n",
       "0   M0_109          16                          7  iso-8859-1   \n",
       "1  B0_2314          16                          6       UTF-8   \n",
       "2   B0_911          16                          6    us-ascii   \n",
       "3   B0_113          17                          6  ISO-8859-1   \n",
       "4   B0_403          17                          6       UTF-8   \n",
       "\n",
       "                  SERVER  CONTENT_LENGTH WHOIS_COUNTRY WHOIS_STATEPRO  \\\n",
       "0                  nginx           263.0          None           None   \n",
       "1          Apache/2.4.10         15087.0          None           None   \n",
       "2  Microsoft-HTTPAPI/2.0           324.0          None           None   \n",
       "3                  nginx           162.0            US             AK   \n",
       "4                   None        124140.0            US             TX   \n",
       "\n",
       "      WHOIS_REGDATE WHOIS_UPDATED_DATE  TCP_CONVERSATION_EXCHANGE  \\\n",
       "0  10/10/2015 18:21               None                          7   \n",
       "1              None               None                         17   \n",
       "2              None               None                          0   \n",
       "3    7/10/1997 4:00    12/09/2013 0:45                         31   \n",
       "4   12/05/1996 0:00    11/04/2017 0:00                         57   \n",
       "\n",
       "   DIST_REMOTE_TCP_PORT  REMOTE_IPS  APP_BYTES  SOURCE_APP_PACKETS  \\\n",
       "0                     0           2        700                   9   \n",
       "1                     7           4       1230                  17   \n",
       "2                     0           0          0                   0   \n",
       "3                    22           3       3812                  39   \n",
       "4                     2           5       4278                  61   \n",
       "\n",
       "   REMOTE_APP_PACKETS  SOURCE_APP_BYTES  REMOTE_APP_BYTES  APP_PACKETS  \\\n",
       "0                  10              1153               832            9   \n",
       "1                  19              1265              1230           17   \n",
       "2                   0                 0                 0            0   \n",
       "3                  37             18784              4380           39   \n",
       "4                  62            129889              4586           61   \n",
       "\n",
       "   DNS_QUERY_TIMES  Type  \n",
       "0              2.0     1  \n",
       "1              0.0     0  \n",
       "2              0.0     0  \n",
       "3              8.0     0  \n",
       "4              4.0     0  "
      ]
     },
     "execution_count": 3,
     "metadata": {},
     "output_type": "execute_result"
    }
   ],
   "source": [
    "pd.set_option('display.max_columns', None)\n",
    "websites.head()"
   ]
  },
  {
   "cell_type": "code",
   "execution_count": 4,
   "metadata": {},
   "outputs": [
    {
     "data": {
      "text/plain": [
       "URL                           object\n",
       "URL_LENGTH                     int64\n",
       "NUMBER_SPECIAL_CHARACTERS      int64\n",
       "CHARSET                       object\n",
       "SERVER                        object\n",
       "CONTENT_LENGTH               float64\n",
       "WHOIS_COUNTRY                 object\n",
       "WHOIS_STATEPRO                object\n",
       "WHOIS_REGDATE                 object\n",
       "WHOIS_UPDATED_DATE            object\n",
       "TCP_CONVERSATION_EXCHANGE      int64\n",
       "DIST_REMOTE_TCP_PORT           int64\n",
       "REMOTE_IPS                     int64\n",
       "APP_BYTES                      int64\n",
       "SOURCE_APP_PACKETS             int64\n",
       "REMOTE_APP_PACKETS             int64\n",
       "SOURCE_APP_BYTES               int64\n",
       "REMOTE_APP_BYTES               int64\n",
       "APP_PACKETS                    int64\n",
       "DNS_QUERY_TIMES              float64\n",
       "Type                           int64\n",
       "dtype: object"
      ]
     },
     "execution_count": 4,
     "metadata": {},
     "output_type": "execute_result"
    }
   ],
   "source": [
    "websites.dtypes"
   ]
  },
  {
   "cell_type": "code",
   "execution_count": 5,
   "metadata": {},
   "outputs": [],
   "source": [
    "# column Type is the one we're trying to predict. 1 stands for malicious and 0 for benign. "
   ]
  },
  {
   "cell_type": "code",
   "execution_count": 6,
   "metadata": {},
   "outputs": [
    {
     "data": {
      "text/plain": [
       "(1781, 21)"
      ]
     },
     "execution_count": 6,
     "metadata": {},
     "output_type": "execute_result"
    }
   ],
   "source": [
    "websites.shape"
   ]
  },
  {
   "cell_type": "markdown",
   "metadata": {},
   "source": [
    "#### Next, evaluate if the columns in this dataset are strongly correlated.\n",
    "\n",
    "In the Mushroom supervised learning lab we did recently, we mentioned we are concerned if our dataset has strongly correlated columns because if it is the case we need to choose certain ML algorithms instead of others. We need to evaluate this for our dataset now.\n",
    "\n",
    "Luckily, most of the columns in this dataset are ordinal which makes things a lot easier for us. In the next cells below, evaluate the level of collinearity of the data.\n",
    "\n",
    "We provide some general directions for you to consult in order to complete this step:\n",
    "\n",
    "1. You will create a correlation matrix using the numeric columns in the dataset.\n",
    "\n",
    "1. Create a heatmap using `seaborn` to visualize which columns have high collinearity.\n",
    "\n",
    "1. Comment on which columns you might need to remove due to high collinearity."
   ]
  },
  {
   "cell_type": "code",
   "execution_count": 7,
   "metadata": {},
   "outputs": [
    {
     "data": {
      "text/html": [
       "<div>\n",
       "<style scoped>\n",
       "    .dataframe tbody tr th:only-of-type {\n",
       "        vertical-align: middle;\n",
       "    }\n",
       "\n",
       "    .dataframe tbody tr th {\n",
       "        vertical-align: top;\n",
       "    }\n",
       "\n",
       "    .dataframe thead th {\n",
       "        text-align: right;\n",
       "    }\n",
       "</style>\n",
       "<table border=\"1\" class=\"dataframe\">\n",
       "  <thead>\n",
       "    <tr style=\"text-align: right;\">\n",
       "      <th></th>\n",
       "      <th>URL_LENGTH</th>\n",
       "      <th>NUMBER_SPECIAL_CHARACTERS</th>\n",
       "      <th>CONTENT_LENGTH</th>\n",
       "      <th>TCP_CONVERSATION_EXCHANGE</th>\n",
       "      <th>DIST_REMOTE_TCP_PORT</th>\n",
       "      <th>REMOTE_IPS</th>\n",
       "      <th>APP_BYTES</th>\n",
       "      <th>SOURCE_APP_PACKETS</th>\n",
       "      <th>REMOTE_APP_PACKETS</th>\n",
       "      <th>SOURCE_APP_BYTES</th>\n",
       "      <th>REMOTE_APP_BYTES</th>\n",
       "      <th>APP_PACKETS</th>\n",
       "      <th>DNS_QUERY_TIMES</th>\n",
       "      <th>Type</th>\n",
       "    </tr>\n",
       "  </thead>\n",
       "  <tbody>\n",
       "    <tr>\n",
       "      <th>URL_LENGTH</th>\n",
       "      <td>1.000000</td>\n",
       "      <td>0.917986</td>\n",
       "      <td>0.129745</td>\n",
       "      <td>-0.038407</td>\n",
       "      <td>-0.039839</td>\n",
       "      <td>-0.046367</td>\n",
       "      <td>-0.026446</td>\n",
       "      <td>-0.042264</td>\n",
       "      <td>-0.033779</td>\n",
       "      <td>-0.014857</td>\n",
       "      <td>-0.026686</td>\n",
       "      <td>-0.042264</td>\n",
       "      <td>-0.068582</td>\n",
       "      <td>0.162104</td>\n",
       "    </tr>\n",
       "    <tr>\n",
       "      <th>NUMBER_SPECIAL_CHARACTERS</th>\n",
       "      <td>0.917986</td>\n",
       "      <td>1.000000</td>\n",
       "      <td>0.214225</td>\n",
       "      <td>-0.037459</td>\n",
       "      <td>-0.042619</td>\n",
       "      <td>-0.047103</td>\n",
       "      <td>-0.023914</td>\n",
       "      <td>-0.040096</td>\n",
       "      <td>-0.030597</td>\n",
       "      <td>-0.014376</td>\n",
       "      <td>-0.024098</td>\n",
       "      <td>-0.040096</td>\n",
       "      <td>-0.050048</td>\n",
       "      <td>0.280897</td>\n",
       "    </tr>\n",
       "    <tr>\n",
       "      <th>CONTENT_LENGTH</th>\n",
       "      <td>0.129745</td>\n",
       "      <td>0.214225</td>\n",
       "      <td>1.000000</td>\n",
       "      <td>0.078451</td>\n",
       "      <td>-0.000381</td>\n",
       "      <td>0.004774</td>\n",
       "      <td>0.051202</td>\n",
       "      <td>0.074142</td>\n",
       "      <td>0.091077</td>\n",
       "      <td>0.100094</td>\n",
       "      <td>0.047595</td>\n",
       "      <td>0.074142</td>\n",
       "      <td>-0.045644</td>\n",
       "      <td>-0.090852</td>\n",
       "    </tr>\n",
       "    <tr>\n",
       "      <th>TCP_CONVERSATION_EXCHANGE</th>\n",
       "      <td>-0.038407</td>\n",
       "      <td>-0.037459</td>\n",
       "      <td>0.078451</td>\n",
       "      <td>1.000000</td>\n",
       "      <td>0.555188</td>\n",
       "      <td>0.331080</td>\n",
       "      <td>0.457320</td>\n",
       "      <td>0.997796</td>\n",
       "      <td>0.990848</td>\n",
       "      <td>0.865580</td>\n",
       "      <td>0.458702</td>\n",
       "      <td>0.997796</td>\n",
       "      <td>0.349832</td>\n",
       "      <td>-0.040202</td>\n",
       "    </tr>\n",
       "    <tr>\n",
       "      <th>DIST_REMOTE_TCP_PORT</th>\n",
       "      <td>-0.039839</td>\n",
       "      <td>-0.042619</td>\n",
       "      <td>-0.000381</td>\n",
       "      <td>0.555188</td>\n",
       "      <td>1.000000</td>\n",
       "      <td>0.210188</td>\n",
       "      <td>0.780238</td>\n",
       "      <td>0.558612</td>\n",
       "      <td>0.591188</td>\n",
       "      <td>0.313359</td>\n",
       "      <td>0.781212</td>\n",
       "      <td>0.558612</td>\n",
       "      <td>0.259942</td>\n",
       "      <td>-0.082925</td>\n",
       "    </tr>\n",
       "    <tr>\n",
       "      <th>REMOTE_IPS</th>\n",
       "      <td>-0.046367</td>\n",
       "      <td>-0.047103</td>\n",
       "      <td>0.004774</td>\n",
       "      <td>0.331080</td>\n",
       "      <td>0.210188</td>\n",
       "      <td>1.000000</td>\n",
       "      <td>0.023126</td>\n",
       "      <td>0.361104</td>\n",
       "      <td>0.304683</td>\n",
       "      <td>0.171651</td>\n",
       "      <td>0.025324</td>\n",
       "      <td>0.361104</td>\n",
       "      <td>0.548189</td>\n",
       "      <td>-0.078783</td>\n",
       "    </tr>\n",
       "    <tr>\n",
       "      <th>APP_BYTES</th>\n",
       "      <td>-0.026446</td>\n",
       "      <td>-0.023914</td>\n",
       "      <td>0.051202</td>\n",
       "      <td>0.457320</td>\n",
       "      <td>0.780238</td>\n",
       "      <td>0.023126</td>\n",
       "      <td>1.000000</td>\n",
       "      <td>0.445822</td>\n",
       "      <td>0.468999</td>\n",
       "      <td>0.074464</td>\n",
       "      <td>0.999992</td>\n",
       "      <td>0.445822</td>\n",
       "      <td>0.012221</td>\n",
       "      <td>-0.011262</td>\n",
       "    </tr>\n",
       "    <tr>\n",
       "      <th>SOURCE_APP_PACKETS</th>\n",
       "      <td>-0.042264</td>\n",
       "      <td>-0.040096</td>\n",
       "      <td>0.074142</td>\n",
       "      <td>0.997796</td>\n",
       "      <td>0.558612</td>\n",
       "      <td>0.361104</td>\n",
       "      <td>0.445822</td>\n",
       "      <td>1.000000</td>\n",
       "      <td>0.989285</td>\n",
       "      <td>0.857495</td>\n",
       "      <td>0.447448</td>\n",
       "      <td>1.000000</td>\n",
       "      <td>0.410843</td>\n",
       "      <td>-0.034414</td>\n",
       "    </tr>\n",
       "    <tr>\n",
       "      <th>REMOTE_APP_PACKETS</th>\n",
       "      <td>-0.033779</td>\n",
       "      <td>-0.030597</td>\n",
       "      <td>0.091077</td>\n",
       "      <td>0.990848</td>\n",
       "      <td>0.591188</td>\n",
       "      <td>0.304683</td>\n",
       "      <td>0.468999</td>\n",
       "      <td>0.989285</td>\n",
       "      <td>1.000000</td>\n",
       "      <td>0.880555</td>\n",
       "      <td>0.470401</td>\n",
       "      <td>0.989285</td>\n",
       "      <td>0.355716</td>\n",
       "      <td>-0.032897</td>\n",
       "    </tr>\n",
       "    <tr>\n",
       "      <th>SOURCE_APP_BYTES</th>\n",
       "      <td>-0.014857</td>\n",
       "      <td>-0.014376</td>\n",
       "      <td>0.100094</td>\n",
       "      <td>0.865580</td>\n",
       "      <td>0.313359</td>\n",
       "      <td>0.171651</td>\n",
       "      <td>0.074464</td>\n",
       "      <td>0.857495</td>\n",
       "      <td>0.880555</td>\n",
       "      <td>1.000000</td>\n",
       "      <td>0.075328</td>\n",
       "      <td>0.857495</td>\n",
       "      <td>0.215285</td>\n",
       "      <td>-0.043852</td>\n",
       "    </tr>\n",
       "    <tr>\n",
       "      <th>REMOTE_APP_BYTES</th>\n",
       "      <td>-0.026686</td>\n",
       "      <td>-0.024098</td>\n",
       "      <td>0.047595</td>\n",
       "      <td>0.458702</td>\n",
       "      <td>0.781212</td>\n",
       "      <td>0.025324</td>\n",
       "      <td>0.999992</td>\n",
       "      <td>0.447448</td>\n",
       "      <td>0.470401</td>\n",
       "      <td>0.075328</td>\n",
       "      <td>1.000000</td>\n",
       "      <td>0.447448</td>\n",
       "      <td>0.016215</td>\n",
       "      <td>-0.011004</td>\n",
       "    </tr>\n",
       "    <tr>\n",
       "      <th>APP_PACKETS</th>\n",
       "      <td>-0.042264</td>\n",
       "      <td>-0.040096</td>\n",
       "      <td>0.074142</td>\n",
       "      <td>0.997796</td>\n",
       "      <td>0.558612</td>\n",
       "      <td>0.361104</td>\n",
       "      <td>0.445822</td>\n",
       "      <td>1.000000</td>\n",
       "      <td>0.989285</td>\n",
       "      <td>0.857495</td>\n",
       "      <td>0.447448</td>\n",
       "      <td>1.000000</td>\n",
       "      <td>0.410843</td>\n",
       "      <td>-0.034414</td>\n",
       "    </tr>\n",
       "    <tr>\n",
       "      <th>DNS_QUERY_TIMES</th>\n",
       "      <td>-0.068582</td>\n",
       "      <td>-0.050048</td>\n",
       "      <td>-0.045644</td>\n",
       "      <td>0.349832</td>\n",
       "      <td>0.259942</td>\n",
       "      <td>0.548189</td>\n",
       "      <td>0.012221</td>\n",
       "      <td>0.410843</td>\n",
       "      <td>0.355716</td>\n",
       "      <td>0.215285</td>\n",
       "      <td>0.016215</td>\n",
       "      <td>0.410843</td>\n",
       "      <td>1.000000</td>\n",
       "      <td>0.068753</td>\n",
       "    </tr>\n",
       "    <tr>\n",
       "      <th>Type</th>\n",
       "      <td>0.162104</td>\n",
       "      <td>0.280897</td>\n",
       "      <td>-0.090852</td>\n",
       "      <td>-0.040202</td>\n",
       "      <td>-0.082925</td>\n",
       "      <td>-0.078783</td>\n",
       "      <td>-0.011262</td>\n",
       "      <td>-0.034414</td>\n",
       "      <td>-0.032897</td>\n",
       "      <td>-0.043852</td>\n",
       "      <td>-0.011004</td>\n",
       "      <td>-0.034414</td>\n",
       "      <td>0.068753</td>\n",
       "      <td>1.000000</td>\n",
       "    </tr>\n",
       "  </tbody>\n",
       "</table>\n",
       "</div>"
      ],
      "text/plain": [
       "                           URL_LENGTH  NUMBER_SPECIAL_CHARACTERS  \\\n",
       "URL_LENGTH                   1.000000                   0.917986   \n",
       "NUMBER_SPECIAL_CHARACTERS    0.917986                   1.000000   \n",
       "CONTENT_LENGTH               0.129745                   0.214225   \n",
       "TCP_CONVERSATION_EXCHANGE   -0.038407                  -0.037459   \n",
       "DIST_REMOTE_TCP_PORT        -0.039839                  -0.042619   \n",
       "REMOTE_IPS                  -0.046367                  -0.047103   \n",
       "APP_BYTES                   -0.026446                  -0.023914   \n",
       "SOURCE_APP_PACKETS          -0.042264                  -0.040096   \n",
       "REMOTE_APP_PACKETS          -0.033779                  -0.030597   \n",
       "SOURCE_APP_BYTES            -0.014857                  -0.014376   \n",
       "REMOTE_APP_BYTES            -0.026686                  -0.024098   \n",
       "APP_PACKETS                 -0.042264                  -0.040096   \n",
       "DNS_QUERY_TIMES             -0.068582                  -0.050048   \n",
       "Type                         0.162104                   0.280897   \n",
       "\n",
       "                           CONTENT_LENGTH  TCP_CONVERSATION_EXCHANGE  \\\n",
       "URL_LENGTH                       0.129745                  -0.038407   \n",
       "NUMBER_SPECIAL_CHARACTERS        0.214225                  -0.037459   \n",
       "CONTENT_LENGTH                   1.000000                   0.078451   \n",
       "TCP_CONVERSATION_EXCHANGE        0.078451                   1.000000   \n",
       "DIST_REMOTE_TCP_PORT            -0.000381                   0.555188   \n",
       "REMOTE_IPS                       0.004774                   0.331080   \n",
       "APP_BYTES                        0.051202                   0.457320   \n",
       "SOURCE_APP_PACKETS               0.074142                   0.997796   \n",
       "REMOTE_APP_PACKETS               0.091077                   0.990848   \n",
       "SOURCE_APP_BYTES                 0.100094                   0.865580   \n",
       "REMOTE_APP_BYTES                 0.047595                   0.458702   \n",
       "APP_PACKETS                      0.074142                   0.997796   \n",
       "DNS_QUERY_TIMES                 -0.045644                   0.349832   \n",
       "Type                            -0.090852                  -0.040202   \n",
       "\n",
       "                           DIST_REMOTE_TCP_PORT  REMOTE_IPS  APP_BYTES  \\\n",
       "URL_LENGTH                            -0.039839   -0.046367  -0.026446   \n",
       "NUMBER_SPECIAL_CHARACTERS             -0.042619   -0.047103  -0.023914   \n",
       "CONTENT_LENGTH                        -0.000381    0.004774   0.051202   \n",
       "TCP_CONVERSATION_EXCHANGE              0.555188    0.331080   0.457320   \n",
       "DIST_REMOTE_TCP_PORT                   1.000000    0.210188   0.780238   \n",
       "REMOTE_IPS                             0.210188    1.000000   0.023126   \n",
       "APP_BYTES                              0.780238    0.023126   1.000000   \n",
       "SOURCE_APP_PACKETS                     0.558612    0.361104   0.445822   \n",
       "REMOTE_APP_PACKETS                     0.591188    0.304683   0.468999   \n",
       "SOURCE_APP_BYTES                       0.313359    0.171651   0.074464   \n",
       "REMOTE_APP_BYTES                       0.781212    0.025324   0.999992   \n",
       "APP_PACKETS                            0.558612    0.361104   0.445822   \n",
       "DNS_QUERY_TIMES                        0.259942    0.548189   0.012221   \n",
       "Type                                  -0.082925   -0.078783  -0.011262   \n",
       "\n",
       "                           SOURCE_APP_PACKETS  REMOTE_APP_PACKETS  \\\n",
       "URL_LENGTH                          -0.042264           -0.033779   \n",
       "NUMBER_SPECIAL_CHARACTERS           -0.040096           -0.030597   \n",
       "CONTENT_LENGTH                       0.074142            0.091077   \n",
       "TCP_CONVERSATION_EXCHANGE            0.997796            0.990848   \n",
       "DIST_REMOTE_TCP_PORT                 0.558612            0.591188   \n",
       "REMOTE_IPS                           0.361104            0.304683   \n",
       "APP_BYTES                            0.445822            0.468999   \n",
       "SOURCE_APP_PACKETS                   1.000000            0.989285   \n",
       "REMOTE_APP_PACKETS                   0.989285            1.000000   \n",
       "SOURCE_APP_BYTES                     0.857495            0.880555   \n",
       "REMOTE_APP_BYTES                     0.447448            0.470401   \n",
       "APP_PACKETS                          1.000000            0.989285   \n",
       "DNS_QUERY_TIMES                      0.410843            0.355716   \n",
       "Type                                -0.034414           -0.032897   \n",
       "\n",
       "                           SOURCE_APP_BYTES  REMOTE_APP_BYTES  APP_PACKETS  \\\n",
       "URL_LENGTH                        -0.014857         -0.026686    -0.042264   \n",
       "NUMBER_SPECIAL_CHARACTERS         -0.014376         -0.024098    -0.040096   \n",
       "CONTENT_LENGTH                     0.100094          0.047595     0.074142   \n",
       "TCP_CONVERSATION_EXCHANGE          0.865580          0.458702     0.997796   \n",
       "DIST_REMOTE_TCP_PORT               0.313359          0.781212     0.558612   \n",
       "REMOTE_IPS                         0.171651          0.025324     0.361104   \n",
       "APP_BYTES                          0.074464          0.999992     0.445822   \n",
       "SOURCE_APP_PACKETS                 0.857495          0.447448     1.000000   \n",
       "REMOTE_APP_PACKETS                 0.880555          0.470401     0.989285   \n",
       "SOURCE_APP_BYTES                   1.000000          0.075328     0.857495   \n",
       "REMOTE_APP_BYTES                   0.075328          1.000000     0.447448   \n",
       "APP_PACKETS                        0.857495          0.447448     1.000000   \n",
       "DNS_QUERY_TIMES                    0.215285          0.016215     0.410843   \n",
       "Type                              -0.043852         -0.011004    -0.034414   \n",
       "\n",
       "                           DNS_QUERY_TIMES      Type  \n",
       "URL_LENGTH                       -0.068582  0.162104  \n",
       "NUMBER_SPECIAL_CHARACTERS        -0.050048  0.280897  \n",
       "CONTENT_LENGTH                   -0.045644 -0.090852  \n",
       "TCP_CONVERSATION_EXCHANGE         0.349832 -0.040202  \n",
       "DIST_REMOTE_TCP_PORT              0.259942 -0.082925  \n",
       "REMOTE_IPS                        0.548189 -0.078783  \n",
       "APP_BYTES                         0.012221 -0.011262  \n",
       "SOURCE_APP_PACKETS                0.410843 -0.034414  \n",
       "REMOTE_APP_PACKETS                0.355716 -0.032897  \n",
       "SOURCE_APP_BYTES                  0.215285 -0.043852  \n",
       "REMOTE_APP_BYTES                  0.016215 -0.011004  \n",
       "APP_PACKETS                       0.410843 -0.034414  \n",
       "DNS_QUERY_TIMES                   1.000000  0.068753  \n",
       "Type                              0.068753  1.000000  "
      ]
     },
     "execution_count": 7,
     "metadata": {},
     "output_type": "execute_result"
    }
   ],
   "source": [
    "websites.corr()"
   ]
  },
  {
   "cell_type": "code",
   "execution_count": 8,
   "metadata": {},
   "outputs": [
    {
     "data": {
      "text/plain": [
       "<matplotlib.axes._subplots.AxesSubplot at 0x1d4022bb080>"
      ]
     },
     "execution_count": 8,
     "metadata": {},
     "output_type": "execute_result"
    },
    {
     "data": {
      "image/png": "[encoded data removed]",
      "text/plain": [
       "<Figure size 432x288 with 2 Axes>"
      ]
     },
     "metadata": {
      "needs_background": "light"
     },
     "output_type": "display_data"
    }
   ],
   "source": [
    "sns.heatmap(websites.corr())"
   ]
  },
  {
   "cell_type": "code",
   "execution_count": 9,
   "metadata": {},
   "outputs": [
    {
     "data": {
      "text/plain": [
       "<matplotlib.axes._subplots.AxesSubplot at 0x1d4023e88d0>"
      ]
     },
     "execution_count": 9,
     "metadata": {},
     "output_type": "execute_result"
    },
    {
     "data": {
      "image/png": "[encoded data removed]",
      "text/plain": [
       "<Figure size 792x648 with 2 Axes>"
      ]
     },
     "metadata": {
      "needs_background": "light"
     },
     "output_type": "display_data"
    }
   ],
   "source": [
    "corr = websites.corr()\n",
    "mask = np.zeros_like(corr, dtype=np.bool)\n",
    "mask[np.triu_indices_from(mask)] = True\n",
    "f, ax = plt.subplots(figsize=(11, 9))\n",
    "cmap = sns.diverging_palette(220, 10, as_cmap=True)\n",
    "sns.heatmap(corr, mask=mask, cmap=cmap, vmax=.3, center=0,\n",
    "            square=True, linewidths=.5, cbar_kws={\"shrink\": .5})"
   ]
  },
  {
   "cell_type": "markdown",
   "metadata": {},
   "source": [
    "# Challenge 2 - Remove Column Collinearity.\n",
    "\n",
    "From the heatmap you created, you should have seen at least 3 columns that can be removed due to high collinearity. Remove these columns from the dataset.\n",
    "\n",
    "Note that you should remove as few columns as you can. You don't have to remove all the columns at once. But instead, try removing one column, then produce the heatmap again to determine if additional columns should be removed. As long as the dataset no longer contains columns that are correlated for over 90%, you can stop. Also, keep in mind when two columns have high collinearity, you only need to remove one of them but not both.\n",
    "\n",
    "In the cells below, remove as few columns as you can to eliminate the high collinearity in the dataset. Make sure to comment on your way so that the instructional team can learn about your thinking process which allows them to give feedback. At the end, print the heatmap again."
   ]
  },
  {
   "cell_type": "code",
   "execution_count": 10,
   "metadata": {},
   "outputs": [],
   "source": [
    "websites.drop([\"APP_PACKETS\", \"REMOTE_APP_PACKETS\", \"TCP_CONVERSATION_EXCHANGE\", \"APP_BYTES\"], axis = 1, inplace=True)"
   ]
  },
  {
   "cell_type": "code",
   "execution_count": 11,
   "metadata": {},
   "outputs": [
    {
     "data": {
      "text/plain": [
       "<matplotlib.axes._subplots.AxesSubplot at 0x1d4026d10b8>"
      ]
     },
     "execution_count": 11,
     "metadata": {},
     "output_type": "execute_result"
    },
    {
     "data": {
      "image/png": "[encoded data removed]",
      "text/plain": [
       "<Figure size 432x288 with 2 Axes>"
      ]
     },
     "metadata": {
      "needs_background": "light"
     },
     "output_type": "display_data"
    }
   ],
   "source": [
    "sns.heatmap(websites.corr())"
   ]
  },
  {
   "cell_type": "code",
   "execution_count": 12,
   "metadata": {},
   "outputs": [
    {
     "data": {
      "text/plain": [
       "<matplotlib.axes._subplots.AxesSubplot at 0x1d4026d0780>"
      ]
     },
     "execution_count": 12,
     "metadata": {},
     "output_type": "execute_result"
    },
    {
     "data": {
      "image/png": "[encoded data removed]",
      "text/plain": [
       "<Figure size 792x648 with 2 Axes>"
      ]
     },
     "metadata": {
      "needs_background": "light"
     },
     "output_type": "display_data"
    }
   ],
   "source": [
    "corr = websites.corr()\n",
    "mask = np.zeros_like(corr, dtype=np.bool)\n",
    "mask[np.triu_indices_from(mask)] = True\n",
    "f, ax = plt.subplots(figsize=(11, 9))\n",
    "cmap = sns.diverging_palette(220, 10, as_cmap=True)\n",
    "sns.heatmap(corr, mask=mask, cmap=cmap, vmax=.3, center=0,\n",
    "            square=True, linewidths=.5, cbar_kws={\"shrink\": .5})"
   ]
  },
  {
   "cell_type": "markdown",
   "metadata": {},
   "source": [
    "# Challenge 3 - Handle Missing Values\n",
    "\n",
    "The next step would be handling missing values. **We start by examining the number of missing values in each column, which you will do in the next cell.**"
   ]
  },
  {
   "cell_type": "code",
   "execution_count": 13,
   "metadata": {},
   "outputs": [
    {
     "data": {
      "text/plain": [
       "URL                            0\n",
       "URL_LENGTH                     0\n",
       "NUMBER_SPECIAL_CHARACTERS      0\n",
       "CHARSET                        0\n",
       "SERVER                         1\n",
       "CONTENT_LENGTH               812\n",
       "WHOIS_COUNTRY                  0\n",
       "WHOIS_STATEPRO                 0\n",
       "WHOIS_REGDATE                  0\n",
       "WHOIS_UPDATED_DATE             0\n",
       "DIST_REMOTE_TCP_PORT           0\n",
       "REMOTE_IPS                     0\n",
       "SOURCE_APP_PACKETS             0\n",
       "SOURCE_APP_BYTES               0\n",
       "REMOTE_APP_BYTES               0\n",
       "DNS_QUERY_TIMES                1\n",
       "Type                           0\n",
       "dtype: int64"
      ]
     },
     "execution_count": 13,
     "metadata": {},
     "output_type": "execute_result"
    }
   ],
   "source": [
    "websites.isna().sum()"
   ]
  },
  {
   "cell_type": "markdown",
   "metadata": {},
   "source": [
    "If you remember in the previous labs, we drop a column if the column contains a high proportion of missing values. After dropping those problematic columns, we drop the rows with missing values.\n",
    "\n",
    "#### In the cells below, handle the missing values from the dataset. Remember to comment the rationale of your decisions."
   ]
  },
  {
   "cell_type": "code",
   "execution_count": 14,
   "metadata": {},
   "outputs": [],
   "source": [
    "websites.drop(\"CONTENT_LENGTH\", axis = 1, inplace = True)"
   ]
  },
  {
   "cell_type": "code",
   "execution_count": 15,
   "metadata": {},
   "outputs": [],
   "source": [
    "# 45% of values are missing in a Content Length column. It cannot be a good predictor for us. Dropping it. "
   ]
  },
  {
   "cell_type": "markdown",
   "metadata": {},
   "source": [
    "#### Again, examine the number of missing values in each column. \n",
    "\n",
    "If all cleaned, proceed. Otherwise, go back and do more cleaning."
   ]
  },
  {
   "cell_type": "code",
   "execution_count": 16,
   "metadata": {},
   "outputs": [],
   "source": [
    "websites.dropna(inplace=True)\n",
    "#since there were only 2 missing values in the rest of the dataframe, we're dropping those rows."
   ]
  },
  {
   "cell_type": "markdown",
   "metadata": {},
   "source": [
    "# Challenge 4 - Handle `WHOIS_*` Categorical Data"
   ]
  },
  {
   "cell_type": "markdown",
   "metadata": {},
   "source": [
    "There are several categorical columns we need to handle. These columns are:\n",
    "\n",
    "* `URL`\n",
    "* `CHARSET`\n",
    "* `SERVER`\n",
    "* `WHOIS_COUNTRY`\n",
    "* `WHOIS_STATEPRO`\n",
    "* `WHOIS_REGDATE`\n",
    "* `WHOIS_UPDATED_DATE`\n",
    "\n",
    "How to handle string columns is always case by case. Let's start by working on `WHOIS_COUNTRY`. Your steps are:\n",
    "\n",
    "1. List out the unique values of `WHOIS_COUNTRY`.\n",
    "1. Consolidate the country values with consistent country codes. For example, the following values refer to the same country and should use consistent country code:\n",
    "    * `CY` and `Cyprus`\n",
    "    * `US` and `us`\n",
    "    * `SE` and `se`\n",
    "    * `GB`, `United Kingdom`, and `[u'GB'; u'UK']`\n",
    "\n",
    "#### In the cells below, fix the country values as intructed above."
   ]
  },
  {
   "cell_type": "code",
   "execution_count": 17,
   "metadata": {},
   "outputs": [
    {
     "data": {
      "text/plain": [
       "array(['None', 'US', 'SC', 'GB', 'UK', 'RU', 'AU', 'CA', 'PA', 'se', 'IN',\n",
       "       'LU', 'TH', \"[u'GB'; u'UK']\", 'FR', 'NL', 'UG', 'JP', 'CN', 'SE',\n",
       "       'SI', 'IL', 'ru', 'KY', 'AT', 'CZ', 'PH', 'BE', 'NO', 'TR', 'LV',\n",
       "       'DE', 'ES', 'BR', 'us', 'KR', 'HK', 'UA', 'CH', 'United Kingdom',\n",
       "       'BS', 'PK', 'IT', 'Cyprus', 'BY', 'AE', 'IE', 'UY', 'KG'],\n",
       "      dtype=object)"
      ]
     },
     "execution_count": 17,
     "metadata": {},
     "output_type": "execute_result"
    }
   ],
   "source": [
    "websites[\"WHOIS_COUNTRY\"].unique()"
   ]
  },
  {
   "cell_type": "code",
   "execution_count": 18,
   "metadata": {},
   "outputs": [
    {
     "data": {
      "text/plain": [
       "array(['None', 'US', 'SC', 'GB', 'RU', 'AU', 'CA', 'PA', 'SE', 'IN', 'LU',\n",
       "       'TH', 'FR', 'NL', 'UG', 'JP', 'CN', 'SI', 'IL', 'ru', 'KY', 'AT',\n",
       "       'CZ', 'PH', 'BE', 'NO', 'TR', 'LV', 'DE', 'ES', 'BR', 'KR', 'HK',\n",
       "       'UA', 'CH', 'United Kingdom', 'BS', 'PK', 'IT', 'CY', 'BY', 'AE',\n",
       "       'IE', 'UY', 'KG'], dtype=object)"
      ]
     },
     "execution_count": 18,
     "metadata": {},
     "output_type": "execute_result"
    }
   ],
   "source": [
    "websites['WHOIS_COUNTRY'] = np.where(websites['WHOIS_COUNTRY'] == 'Cyprus', 'CY', websites['WHOIS_COUNTRY'] )\n",
    "websites['WHOIS_COUNTRY'] = np.where(websites['WHOIS_COUNTRY'] == 'us', 'US', websites['WHOIS_COUNTRY'] )\n",
    "websites['WHOIS_COUNTRY'] = np.where(websites['WHOIS_COUNTRY'] == 'se', 'SE', websites['WHOIS_COUNTRY'] )\n",
    "websites['WHOIS_COUNTRY'] = websites['WHOIS_COUNTRY'].replace('[u\\'GB\\'; u\\'UK\\']', 'GB')\n",
    "websites['WHOIS_COUNTRY'] = np.where(websites['WHOIS_COUNTRY'] == 'UK', 'GB', websites['WHOIS_COUNTRY'] )\n",
    "websites['WHOIS_COUNTRY'].unique()"
   ]
  },
  {
   "cell_type": "markdown",
   "metadata": {},
   "source": [
    "Since we have fixed the country values, can we convert this column to ordinal now?\n",
    "\n",
    "Not yet. If you reflect on the previous labs how we handle categorical columns, you probably remember we ended up dropping a lot of those columns because there are too many unique values. Too many unique values in a column is not desirable in machine learning because it makes prediction inaccurate. But there are workarounds under certain conditions. One of the fixable conditions is:\n",
    "\n",
    "#### If a limited number of values account for the majority of data, we can retain these top values and re-label all other rare values.\n",
    "\n",
    "The `WHOIS_COUNTRY` column happens to be this case. You can verify it by print a bar chart of the `value_counts` in the next cell to verify:"
   ]
  },
  {
   "cell_type": "code",
   "execution_count": 19,
   "metadata": {},
   "outputs": [
    {
     "data": {
      "text/plain": [
       "<matplotlib.axes._subplots.AxesSubplot at 0x1d402616668>"
      ]
     },
     "execution_count": 19,
     "metadata": {},
     "output_type": "execute_result"
    },
    {
     "data": {
      "image/png": "[encoded data removed]",
      "text/plain": [
       "<Figure size 432x288 with 1 Axes>"
      ]
     },
     "metadata": {
      "needs_background": "light"
     },
     "output_type": "display_data"
    }
   ],
   "source": [
    "websites['WHOIS_COUNTRY'].value_counts().plot.bar()"
   ]
  },
  {
   "cell_type": "markdown",
   "metadata": {},
   "source": [
    "#### After verifying, now let's keep the top 10 values of the column and re-label other columns with `OTHER`."
   ]
  },
  {
   "cell_type": "code",
   "execution_count": 20,
   "metadata": {
    "scrolled": true
   },
   "outputs": [
    {
     "data": {
      "text/plain": [
       "['US', 'None', 'CA', 'ES', 'AU', 'GB', 'PA', 'JP', 'CN', 'IN']"
      ]
     },
     "execution_count": 20,
     "metadata": {},
     "output_type": "execute_result"
    }
   ],
   "source": [
    "countries = websites['WHOIS_COUNTRY'].value_counts()[:10]\n",
    "countries = list(countries.index)\n",
    "countries"
   ]
  },
  {
   "cell_type": "code",
   "execution_count": 21,
   "metadata": {},
   "outputs": [
    {
     "data": {
      "text/plain": [
       "array(['None', 'US', 'OTHER', 'GB', 'AU', 'CA', 'PA', 'IN', 'JP', 'CN',\n",
       "       'ES'], dtype=object)"
      ]
     },
     "execution_count": 21,
     "metadata": {},
     "output_type": "execute_result"
    }
   ],
   "source": [
    "websites[\"WHOIS_COUNTRY\"] = np.where(websites[\"WHOIS_COUNTRY\"].isin(countries), websites[\"WHOIS_COUNTRY\"], \"OTHER\")\n",
    "websites[\"WHOIS_COUNTRY\"].unique()"
   ]
  },
  {
   "cell_type": "markdown",
   "metadata": {},
   "source": [
    "Now since `WHOIS_COUNTRY` has been re-labelled, we don't need `WHOIS_STATEPRO` any more because the values of the states or provinces may not be relevant any more. We'll drop this column.\n",
    "\n",
    "In addition, we will also drop `WHOIS_REGDATE` and `WHOIS_UPDATED_DATE`. These are the registration and update dates of the website domains. Not of our concerns.\n",
    "\n",
    "#### In the next cell, drop `['WHOIS_STATEPRO', 'WHOIS_REGDATE', 'WHOIS_UPDATED_DATE']`."
   ]
  },
  {
   "cell_type": "code",
   "execution_count": 22,
   "metadata": {},
   "outputs": [],
   "source": [
    "# Your code here\n",
    "websites.drop(['WHOIS_STATEPRO', 'WHOIS_REGDATE', 'WHOIS_UPDATED_DATE'], axis = 1, inplace=True)"
   ]
  },
  {
   "cell_type": "markdown",
   "metadata": {},
   "source": [
    "# Challenge 5 - Handle Remaining Categorical Data & Convert to Ordinal\n",
    "\n",
    "Now print the `dtypes` of the data again. Besides `WHOIS_COUNTRY` which we already fixed, there should be 3 categorical columns left: `URL`, `CHARSET`, and `SERVER`."
   ]
  },
  {
   "cell_type": "code",
   "execution_count": 23,
   "metadata": {},
   "outputs": [
    {
     "data": {
      "text/plain": [
       "URL                           object\n",
       "URL_LENGTH                     int64\n",
       "NUMBER_SPECIAL_CHARACTERS      int64\n",
       "CHARSET                       object\n",
       "SERVER                        object\n",
       "WHOIS_COUNTRY                 object\n",
       "DIST_REMOTE_TCP_PORT           int64\n",
       "REMOTE_IPS                     int64\n",
       "SOURCE_APP_PACKETS             int64\n",
       "SOURCE_APP_BYTES               int64\n",
       "REMOTE_APP_BYTES               int64\n",
       "DNS_QUERY_TIMES              float64\n",
       "Type                           int64\n",
       "dtype: object"
      ]
     },
     "execution_count": 23,
     "metadata": {},
     "output_type": "execute_result"
    }
   ],
   "source": [
    "websites.dtypes"
   ]
  },
  {
   "cell_type": "markdown",
   "metadata": {},
   "source": [
    "#### `URL` is easy. We'll simply drop it because it has too many unique values that there's no way for us to consolidate."
   ]
  },
  {
   "cell_type": "code",
   "execution_count": 24,
   "metadata": {},
   "outputs": [],
   "source": [
    "websites.drop(\"URL\", axis = 1, inplace = True)"
   ]
  },
  {
   "cell_type": "markdown",
   "metadata": {},
   "source": [
    "#### Print the unique value counts of `CHARSET`. You see there are only a few unique values. So we can keep it as it is."
   ]
  },
  {
   "cell_type": "code",
   "execution_count": 25,
   "metadata": {},
   "outputs": [
    {
     "data": {
      "text/plain": [
       "UTF-8           674\n",
       "ISO-8859-1      427\n",
       "utf-8           379\n",
       "us-ascii        155\n",
       "iso-8859-1      134\n",
       "None              7\n",
       "ISO-8859          1\n",
       "windows-1251      1\n",
       "windows-1252      1\n",
       "Name: CHARSET, dtype: int64"
      ]
     },
     "execution_count": 25,
     "metadata": {},
     "output_type": "execute_result"
    }
   ],
   "source": [
    "websites[\"CHARSET\"].value_counts()"
   ]
  },
  {
   "cell_type": "markdown",
   "metadata": {},
   "source": [
    "`SERVER` is a little more complicated. Print its unique values and think about how you can consolidate those values.\n",
    "\n",
    "#### Before you think of your own solution, don't read the instructions that come next."
   ]
  },
  {
   "cell_type": "code",
   "execution_count": 26,
   "metadata": {},
   "outputs": [
    {
     "data": {
      "text/plain": [
       "Apache                                                                                                                385\n",
       "nginx                                                                                                                 211\n",
       "None                                                                                                                  175\n",
       "Microsoft-HTTPAPI/2.0                                                                                                 113\n",
       "cloudflare-nginx                                                                                                       94\n",
       "Microsoft-IIS/7.5                                                                                                      51\n",
       "GSE                                                                                                                    49\n",
       "Server                                                                                                                 49\n",
       "YouTubeFrontEnd                                                                                                        42\n",
       "nginx/1.12.0                                                                                                           36\n",
       "ATS                                                                                                                    30\n",
       "Apache/2.2.15 (CentOS)                                                                                                 25\n",
       "Apache-Coyote/1.1                                                                                                      20\n",
       "Apache/2                                                                                                               15\n",
       "Microsoft-IIS/8.5                                                                                                      15\n",
       "Microsoft-IIS/6.0                                                                                                      14\n",
       "Apache/2.2.14 (FreeBSD) mod_ssl/2.2.14 OpenSSL/0.9.8y DAV/2 PHP/5.2.12 with Suhosin-Patch                              13\n",
       "Apache/2.4.7 (Ubuntu)                                                                                                  13\n",
       "Apache/2.2.15 (Red Hat)                                                                                                12\n",
       "Apache/2.2.22 (Debian)                                                                                                 12\n",
       "nginx/1.4.6 (Ubuntu)                                                                                                    9\n",
       "nginx/1.8.1                                                                                                             9\n",
       "nginx/1.10.1                                                                                                            8\n",
       "nginx/1.8.0                                                                                                             8\n",
       "Varnish                                                                                                                 7\n",
       "Apache/2.4.25 (Amazon) OpenSSL/1.0.1k-fips                                                                              7\n",
       "Apache/2.2.31 (Amazon)                                                                                                  6\n",
       "nginx/1.6.2                                                                                                             6\n",
       "LiteSpeed                                                                                                               6\n",
       "Apache/2.4.25                                                                                                           6\n",
       "                                                                                                                     ... \n",
       "Apache/2.4.25 (FreeBSD) OpenSSL/1.0.1s-freebsd PHP/5.6.30                                                               1\n",
       "mw2180.codfw.wmnet                                                                                                      1\n",
       "CherryPy/3.6.0                                                                                                          1\n",
       "MediaFire                                                                                                               1\n",
       "Apache/2.4.25 (Unix) OpenSSL/1.0.1e-fips mod_bwlimited/1.4                                                              1\n",
       "Apache/2.4.10 (Unix) OpenSSL/1.0.1k                                                                                     1\n",
       "nginx/1.7.12                                                                                                            1\n",
       "Apache/2.4.25 (Debian)                                                                                                  1\n",
       "nginx/1.10.0 (Ubuntu)                                                                                                   1\n",
       "Zope/(2.13.16; python 2.6.8; linux2) ZServer/1.1                                                                        1\n",
       "mw2177.codfw.wmnet                                                                                                      1\n",
       "Apache/1.3.27 (Unix) PHP/4.4.1                                                                                          1\n",
       "mw2190.codfw.wmnet                                                                                                      1\n",
       "nginx/1.4.4                                                                                                             1\n",
       "Proxy Pandeiro UOL                                                                                                      1\n",
       "Apache/2.4.6 (CentOS) OpenSSL/1.0.1e-fips PHP/5.4.16 mod_apreq2-20090110/2.8.0 mod_perl/2.0.10 Perl/v5.24.1             1\n",
       "Apache/2.4.10 (Ubuntu)                                                                                                  1\n",
       "Apache/2.2.31 (Unix) mod_ssl/2.2.31 OpenSSL/1.0.1e-fips mod_bwlimited/1.4 mod_perl/2.0.8 Perl/v5.10.1                   1\n",
       "Apache/2.4.6 (CentOS) OpenSSL/1.0.1e-fips                                                                               1\n",
       "fbs                                                                                                                     1\n",
       "mw2104.codfw.wmnet                                                                                                      1\n",
       "Nginx (OpenBSD)                                                                                                         1\n",
       "Apache/2.2.0 (Fedora)                                                                                                   1\n",
       "Apache/2.4.23 (Unix)                                                                                                    1\n",
       "Aeria Games & Entertainment                                                                                             1\n",
       "Apache/2.0.63 (Unix) mod_ssl/2.0.63 OpenSSL/0.9.8e-fips-rhel5 mod_auth_passthrough/2.1 mod_bwlimited/1.4 PHP/5.3.6      1\n",
       "Apache/2.2.31 (FreeBSD) PHP/5.4.15 mod_ssl/2.2.31 OpenSSL/1.0.2d DAV/2                                                  1\n",
       "mw2197.codfw.wmnet                                                                                                      1\n",
       "Apache/2.2.20 (Unix)                                                                                                    1\n",
       "Apache/2.4.6 (CentOS) mod_fcgid/2.3.9 PHP/5.6.30                                                                        1\n",
       "Name: SERVER, Length: 239, dtype: int64"
      ]
     },
     "execution_count": 26,
     "metadata": {},
     "output_type": "execute_result"
    }
   ],
   "source": [
    "websites[\"SERVER\"].value_counts()"
   ]
  },
  {
   "cell_type": "code",
   "execution_count": 27,
   "metadata": {},
   "outputs": [],
   "source": [
    "server_list = []\n",
    "for server in websites[\"SERVER\"]:\n",
    "    if \"Microsoft\" in server:\n",
    "        server_list.append(\"Microsoft\")\n",
    "    elif \"Apache\" in server:\n",
    "        server_list.append(\"Apache\")\n",
    "    elif \"nginx\" in server:\n",
    "        server_list.append(\"nginx\")\n",
    "    else:\n",
    "        server_list.append(\"OTHER\")\n",
    "\n",
    "websites[\"SERVER\"] = server_list      "
   ]
  },
  {
   "cell_type": "markdown",
   "metadata": {},
   "source": [
    "![Think Hard](../think-hard.jpg)"
   ]
  },
  {
   "cell_type": "markdown",
   "metadata": {},
   "source": [
    "Although there are so many unique values in the `SERVER` column, there are actually only 3 main server types: `Microsoft`, `Apache`, and `nginx`. Just check if each `SERVER` value contains any of those server types and re-label them. For `SERVER` values that don't contain any of those substrings, label with `Other`.\n",
    "\n",
    "At the end, your `SERVER` column should only contain 4 unique values: `Microsoft`, `Apache`, `nginx`, and `Other`."
   ]
  },
  {
   "cell_type": "code",
   "execution_count": 28,
   "metadata": {
    "scrolled": false
   },
   "outputs": [
    {
     "data": {
      "text/plain": [
       "Apache       642\n",
       "OTHER        504\n",
       "nginx        435\n",
       "Microsoft    198\n",
       "Name: SERVER, dtype: int64"
      ]
     },
     "execution_count": 28,
     "metadata": {},
     "output_type": "execute_result"
    }
   ],
   "source": [
    "# Count `SERVER` value counts here\n",
    "websites[\"SERVER\"].value_counts()"
   ]
  },
  {
   "cell_type": "markdown",
   "metadata": {},
   "source": [
    "OK, all our categorical data are fixed now. **Let's convert them to ordinal data using Pandas' `get_dummies` function ([documentation](https://pandas.pydata.org/pandas-docs/stable/generated/pandas.get_dummies.html)).** Make sure you drop the categorical columns by passing `drop_first=True` to `get_dummies` as we don't need them any more. **Also, assign the data with dummy values to a new variable `website_dummy`.**"
   ]
  },
  {
   "cell_type": "code",
   "execution_count": 29,
   "metadata": {},
   "outputs": [
    {
     "data": {
      "text/html": [
       "<div>\n",
       "<style scoped>\n",
       "    .dataframe tbody tr th:only-of-type {\n",
       "        vertical-align: middle;\n",
       "    }\n",
       "\n",
       "    .dataframe tbody tr th {\n",
       "        vertical-align: top;\n",
       "    }\n",
       "\n",
       "    .dataframe thead th {\n",
       "        text-align: right;\n",
       "    }\n",
       "</style>\n",
       "<table border=\"1\" class=\"dataframe\">\n",
       "  <thead>\n",
       "    <tr style=\"text-align: right;\">\n",
       "      <th></th>\n",
       "      <th>URL_LENGTH</th>\n",
       "      <th>NUMBER_SPECIAL_CHARACTERS</th>\n",
       "      <th>DIST_REMOTE_TCP_PORT</th>\n",
       "      <th>REMOTE_IPS</th>\n",
       "      <th>SOURCE_APP_PACKETS</th>\n",
       "      <th>SOURCE_APP_BYTES</th>\n",
       "      <th>REMOTE_APP_BYTES</th>\n",
       "      <th>DNS_QUERY_TIMES</th>\n",
       "      <th>Type</th>\n",
       "      <th>CHARSET_ISO-8859-1</th>\n",
       "      <th>CHARSET_None</th>\n",
       "      <th>CHARSET_UTF-8</th>\n",
       "      <th>CHARSET_iso-8859-1</th>\n",
       "      <th>CHARSET_us-ascii</th>\n",
       "      <th>CHARSET_utf-8</th>\n",
       "      <th>CHARSET_windows-1251</th>\n",
       "      <th>CHARSET_windows-1252</th>\n",
       "      <th>SERVER_Microsoft</th>\n",
       "      <th>SERVER_OTHER</th>\n",
       "      <th>SERVER_nginx</th>\n",
       "      <th>WHOIS_COUNTRY_CA</th>\n",
       "      <th>WHOIS_COUNTRY_CN</th>\n",
       "      <th>WHOIS_COUNTRY_ES</th>\n",
       "      <th>WHOIS_COUNTRY_GB</th>\n",
       "      <th>WHOIS_COUNTRY_IN</th>\n",
       "      <th>WHOIS_COUNTRY_JP</th>\n",
       "      <th>WHOIS_COUNTRY_None</th>\n",
       "      <th>WHOIS_COUNTRY_OTHER</th>\n",
       "      <th>WHOIS_COUNTRY_PA</th>\n",
       "      <th>WHOIS_COUNTRY_US</th>\n",
       "    </tr>\n",
       "  </thead>\n",
       "  <tbody>\n",
       "    <tr>\n",
       "      <th>0</th>\n",
       "      <td>16</td>\n",
       "      <td>7</td>\n",
       "      <td>0</td>\n",
       "      <td>2</td>\n",
       "      <td>9</td>\n",
       "      <td>1153</td>\n",
       "      <td>832</td>\n",
       "      <td>2.0</td>\n",
       "      <td>1</td>\n",
       "      <td>0</td>\n",
       "      <td>0</td>\n",
       "      <td>0</td>\n",
       "      <td>1</td>\n",
       "      <td>0</td>\n",
       "      <td>0</td>\n",
       "      <td>0</td>\n",
       "      <td>0</td>\n",
       "      <td>0</td>\n",
       "      <td>0</td>\n",
       "      <td>1</td>\n",
       "      <td>0</td>\n",
       "      <td>0</td>\n",
       "      <td>0</td>\n",
       "      <td>0</td>\n",
       "      <td>0</td>\n",
       "      <td>0</td>\n",
       "      <td>1</td>\n",
       "      <td>0</td>\n",
       "      <td>0</td>\n",
       "      <td>0</td>\n",
       "    </tr>\n",
       "    <tr>\n",
       "      <th>1</th>\n",
       "      <td>16</td>\n",
       "      <td>6</td>\n",
       "      <td>7</td>\n",
       "      <td>4</td>\n",
       "      <td>17</td>\n",
       "      <td>1265</td>\n",
       "      <td>1230</td>\n",
       "      <td>0.0</td>\n",
       "      <td>0</td>\n",
       "      <td>0</td>\n",
       "      <td>0</td>\n",
       "      <td>1</td>\n",
       "      <td>0</td>\n",
       "      <td>0</td>\n",
       "      <td>0</td>\n",
       "      <td>0</td>\n",
       "      <td>0</td>\n",
       "      <td>0</td>\n",
       "      <td>0</td>\n",
       "      <td>0</td>\n",
       "      <td>0</td>\n",
       "      <td>0</td>\n",
       "      <td>0</td>\n",
       "      <td>0</td>\n",
       "      <td>0</td>\n",
       "      <td>0</td>\n",
       "      <td>1</td>\n",
       "      <td>0</td>\n",
       "      <td>0</td>\n",
       "      <td>0</td>\n",
       "    </tr>\n",
       "    <tr>\n",
       "      <th>2</th>\n",
       "      <td>16</td>\n",
       "      <td>6</td>\n",
       "      <td>0</td>\n",
       "      <td>0</td>\n",
       "      <td>0</td>\n",
       "      <td>0</td>\n",
       "      <td>0</td>\n",
       "      <td>0.0</td>\n",
       "      <td>0</td>\n",
       "      <td>0</td>\n",
       "      <td>0</td>\n",
       "      <td>0</td>\n",
       "      <td>0</td>\n",
       "      <td>1</td>\n",
       "      <td>0</td>\n",
       "      <td>0</td>\n",
       "      <td>0</td>\n",
       "      <td>1</td>\n",
       "      <td>0</td>\n",
       "      <td>0</td>\n",
       "      <td>0</td>\n",
       "      <td>0</td>\n",
       "      <td>0</td>\n",
       "      <td>0</td>\n",
       "      <td>0</td>\n",
       "      <td>0</td>\n",
       "      <td>1</td>\n",
       "      <td>0</td>\n",
       "      <td>0</td>\n",
       "      <td>0</td>\n",
       "    </tr>\n",
       "    <tr>\n",
       "      <th>3</th>\n",
       "      <td>17</td>\n",
       "      <td>6</td>\n",
       "      <td>22</td>\n",
       "      <td>3</td>\n",
       "      <td>39</td>\n",
       "      <td>18784</td>\n",
       "      <td>4380</td>\n",
       "      <td>8.0</td>\n",
       "      <td>0</td>\n",
       "      <td>1</td>\n",
       "      <td>0</td>\n",
       "      <td>0</td>\n",
       "      <td>0</td>\n",
       "      <td>0</td>\n",
       "      <td>0</td>\n",
       "      <td>0</td>\n",
       "      <td>0</td>\n",
       "      <td>0</td>\n",
       "      <td>0</td>\n",
       "      <td>1</td>\n",
       "      <td>0</td>\n",
       "      <td>0</td>\n",
       "      <td>0</td>\n",
       "      <td>0</td>\n",
       "      <td>0</td>\n",
       "      <td>0</td>\n",
       "      <td>0</td>\n",
       "      <td>0</td>\n",
       "      <td>0</td>\n",
       "      <td>1</td>\n",
       "    </tr>\n",
       "    <tr>\n",
       "      <th>4</th>\n",
       "      <td>17</td>\n",
       "      <td>6</td>\n",
       "      <td>2</td>\n",
       "      <td>5</td>\n",
       "      <td>61</td>\n",
       "      <td>129889</td>\n",
       "      <td>4586</td>\n",
       "      <td>4.0</td>\n",
       "      <td>0</td>\n",
       "      <td>0</td>\n",
       "      <td>0</td>\n",
       "      <td>1</td>\n",
       "      <td>0</td>\n",
       "      <td>0</td>\n",
       "      <td>0</td>\n",
       "      <td>0</td>\n",
       "      <td>0</td>\n",
       "      <td>0</td>\n",
       "      <td>1</td>\n",
       "      <td>0</td>\n",
       "      <td>0</td>\n",
       "      <td>0</td>\n",
       "      <td>0</td>\n",
       "      <td>0</td>\n",
       "      <td>0</td>\n",
       "      <td>0</td>\n",
       "      <td>0</td>\n",
       "      <td>0</td>\n",
       "      <td>0</td>\n",
       "      <td>1</td>\n",
       "    </tr>\n",
       "  </tbody>\n",
       "</table>\n",
       "</div>"
      ],
      "text/plain": [
       "   URL_LENGTH  NUMBER_SPECIAL_CHARACTERS  DIST_REMOTE_TCP_PORT  REMOTE_IPS  \\\n",
       "0          16                          7                     0           2   \n",
       "1          16                          6                     7           4   \n",
       "2          16                          6                     0           0   \n",
       "3          17                          6                    22           3   \n",
       "4          17                          6                     2           5   \n",
       "\n",
       "   SOURCE_APP_PACKETS  SOURCE_APP_BYTES  REMOTE_APP_BYTES  DNS_QUERY_TIMES  \\\n",
       "0                   9              1153               832              2.0   \n",
       "1                  17              1265              1230              0.0   \n",
       "2                   0                 0                 0              0.0   \n",
       "3                  39             18784              4380              8.0   \n",
       "4                  61            129889              4586              4.0   \n",
       "\n",
       "   Type  CHARSET_ISO-8859-1  CHARSET_None  CHARSET_UTF-8  CHARSET_iso-8859-1  \\\n",
       "0     1                   0             0              0                   1   \n",
       "1     0                   0             0              1                   0   \n",
       "2     0                   0             0              0                   0   \n",
       "3     0                   1             0              0                   0   \n",
       "4     0                   0             0              1                   0   \n",
       "\n",
       "   CHARSET_us-ascii  CHARSET_utf-8  CHARSET_windows-1251  \\\n",
       "0                 0              0                     0   \n",
       "1                 0              0                     0   \n",
       "2                 1              0                     0   \n",
       "3                 0              0                     0   \n",
       "4                 0              0                     0   \n",
       "\n",
       "   CHARSET_windows-1252  SERVER_Microsoft  SERVER_OTHER  SERVER_nginx  \\\n",
       "0                     0                 0             0             1   \n",
       "1                     0                 0             0             0   \n",
       "2                     0                 1             0             0   \n",
       "3                     0                 0             0             1   \n",
       "4                     0                 0             1             0   \n",
       "\n",
       "   WHOIS_COUNTRY_CA  WHOIS_COUNTRY_CN  WHOIS_COUNTRY_ES  WHOIS_COUNTRY_GB  \\\n",
       "0                 0                 0                 0                 0   \n",
       "1                 0                 0                 0                 0   \n",
       "2                 0                 0                 0                 0   \n",
       "3                 0                 0                 0                 0   \n",
       "4                 0                 0                 0                 0   \n",
       "\n",
       "   WHOIS_COUNTRY_IN  WHOIS_COUNTRY_JP  WHOIS_COUNTRY_None  \\\n",
       "0                 0                 0                   1   \n",
       "1                 0                 0                   1   \n",
       "2                 0                 0                   1   \n",
       "3                 0                 0                   0   \n",
       "4                 0                 0                   0   \n",
       "\n",
       "   WHOIS_COUNTRY_OTHER  WHOIS_COUNTRY_PA  WHOIS_COUNTRY_US  \n",
       "0                    0                 0                 0  \n",
       "1                    0                 0                 0  \n",
       "2                    0                 0                 0  \n",
       "3                    0                 0                 1  \n",
       "4                    0                 0                 1  "
      ]
     },
     "execution_count": 29,
     "metadata": {},
     "output_type": "execute_result"
    }
   ],
   "source": [
    "# Your code here\n",
    "website_dummy = pd.get_dummies(websites, columns=([\"CHARSET\", \"SERVER\", \"WHOIS_COUNTRY\"]), drop_first=True)\n",
    "website_dummy.head()"
   ]
  },
  {
   "cell_type": "markdown",
   "metadata": {},
   "source": [
    "Now, inspect `website_dummy` to make sure the data and types are intended - there shouldn't be any categorical columns at this point."
   ]
  },
  {
   "cell_type": "code",
   "execution_count": 30,
   "metadata": {},
   "outputs": [
    {
     "data": {
      "text/plain": [
       "URL_LENGTH                     int64\n",
       "NUMBER_SPECIAL_CHARACTERS      int64\n",
       "DIST_REMOTE_TCP_PORT           int64\n",
       "REMOTE_IPS                     int64\n",
       "SOURCE_APP_PACKETS             int64\n",
       "SOURCE_APP_BYTES               int64\n",
       "REMOTE_APP_BYTES               int64\n",
       "DNS_QUERY_TIMES              float64\n",
       "Type                           int64\n",
       "CHARSET_ISO-8859-1             uint8\n",
       "CHARSET_None                   uint8\n",
       "CHARSET_UTF-8                  uint8\n",
       "CHARSET_iso-8859-1             uint8\n",
       "CHARSET_us-ascii               uint8\n",
       "CHARSET_utf-8                  uint8\n",
       "CHARSET_windows-1251           uint8\n",
       "CHARSET_windows-1252           uint8\n",
       "SERVER_Microsoft               uint8\n",
       "SERVER_OTHER                   uint8\n",
       "SERVER_nginx                   uint8\n",
       "WHOIS_COUNTRY_CA               uint8\n",
       "WHOIS_COUNTRY_CN               uint8\n",
       "WHOIS_COUNTRY_ES               uint8\n",
       "WHOIS_COUNTRY_GB               uint8\n",
       "WHOIS_COUNTRY_IN               uint8\n",
       "WHOIS_COUNTRY_JP               uint8\n",
       "WHOIS_COUNTRY_None             uint8\n",
       "WHOIS_COUNTRY_OTHER            uint8\n",
       "WHOIS_COUNTRY_PA               uint8\n",
       "WHOIS_COUNTRY_US               uint8\n",
       "dtype: object"
      ]
     },
     "execution_count": 30,
     "metadata": {},
     "output_type": "execute_result"
    }
   ],
   "source": [
    "website_dummy.dtypes"
   ]
  },
  {
   "cell_type": "markdown",
   "metadata": {},
   "source": [
    "# Challenge 6 - Modeling, Prediction, and Evaluation\n",
    "\n",
    "We'll start off this section by splitting the data to train and test. **Name your 4 variables `X_train`, `X_test`, `y_train`, and `y_test`. Select 80% of the data for training and 20% for testing.**"
   ]
  },
  {
   "cell_type": "code",
   "execution_count": 31,
   "metadata": {},
   "outputs": [],
   "source": [
    "from sklearn.model_selection import train_test_split\n",
    "X = website_dummy\n",
    "y = websites[\"Type\"]\n",
    "X_train, X_test, y_train, y_test = train_test_split(X, y, test_size=0.2)"
   ]
  },
  {
   "cell_type": "markdown",
   "metadata": {},
   "source": [
    "#### In this lab, we will try two different models and compare our results.\n",
    "\n",
    "The first model we will use in this lab is logistic regression. We have previously learned about logistic regression as a classification algorithm. In the cell below, load `LogisticRegression` from scikit-learn and initialize the model."
   ]
  },
  {
   "cell_type": "code",
   "execution_count": 32,
   "metadata": {},
   "outputs": [],
   "source": [
    "from sklearn.linear_model import LogisticRegression\n",
    "website_model = LogisticRegression()"
   ]
  },
  {
   "cell_type": "markdown",
   "metadata": {},
   "source": [
    "Next, fit the model to our training data. We have already separated our data into 4 parts. Use those in your model."
   ]
  },
  {
   "cell_type": "code",
   "execution_count": 33,
   "metadata": {},
   "outputs": [
    {
     "name": "stderr",
     "output_type": "stream",
     "text": [
      "c:\\users\\regi_\\appdata\\local\\programs\\python\\python37\\lib\\site-packages\\sklearn\\linear_model\\logistic.py:432: FutureWarning: Default solver will be changed to 'lbfgs' in 0.22. Specify a solver to silence this warning.\n",
      "  FutureWarning)\n",
      "c:\\users\\regi_\\appdata\\local\\programs\\python\\python37\\lib\\site-packages\\sklearn\\svm\\base.py:929: ConvergenceWarning: Liblinear failed to converge, increase the number of iterations.\n",
      "  \"the number of iterations.\", ConvergenceWarning)\n"
     ]
    }
   ],
   "source": [
    "website_model = website_model.fit(X_train, y_train)"
   ]
  },
  {
   "cell_type": "markdown",
   "metadata": {},
   "source": [
    "finally, import `confusion_matrix` and `accuracy_score` from `sklearn.metrics` and fit our testing data. Assign the fitted data to `y_pred` and print the confusion matrix as well as the accuracy score"
   ]
  },
  {
   "cell_type": "code",
   "execution_count": 34,
   "metadata": {},
   "outputs": [],
   "source": [
    "from sklearn.metrics import confusion_matrix\n",
    "from sklearn.metrics import accuracy_score"
   ]
  },
  {
   "cell_type": "code",
   "execution_count": 35,
   "metadata": {},
   "outputs": [
    {
     "data": {
      "text/plain": [
       "array([[313,   0],\n",
       "       [ 42,   1]], dtype=int64)"
      ]
     },
     "execution_count": 35,
     "metadata": {},
     "output_type": "execute_result"
    }
   ],
   "source": [
    "y_pred = website_model.predict(X_test)\n",
    "confusion_matrix(y_test, y_pred)"
   ]
  },
  {
   "cell_type": "markdown",
   "metadata": {},
   "source": [
    "What are your thoughts on the performance of the model? Write your conclusions below."
   ]
  },
  {
   "cell_type": "code",
   "execution_count": 36,
   "metadata": {},
   "outputs": [],
   "source": [
    "# the model did good on predicting true positive (the 313 websites that are benign were predicted as benign). \n",
    "#Classification Rate is still good : 93%"
   ]
  },
  {
   "cell_type": "markdown",
   "metadata": {},
   "source": [
    "#### Our second algorithm is is K-Nearest Neighbors. \n",
    "\n",
    "Though is it not required, we will fit a model using the training data and then test the performance of the model using the testing data. Start by loading `KNeighborsClassifier` from scikit-learn and then initializing and fitting the model. We'll start off with a model where k=3."
   ]
  },
  {
   "cell_type": "code",
   "execution_count": 37,
   "metadata": {},
   "outputs": [],
   "source": [
    "from sklearn.neighbors import KNeighborsClassifier"
   ]
  },
  {
   "cell_type": "code",
   "execution_count": 38,
   "metadata": {},
   "outputs": [],
   "source": [
    "website_knn3 = KNeighborsClassifier(n_neighbors=3).fit(X_test, y_test)"
   ]
  },
  {
   "cell_type": "markdown",
   "metadata": {},
   "source": [
    "To test your model, compute the predicted values for the testing sample and print the confusion matrix as well as the accuracy score."
   ]
  },
  {
   "cell_type": "code",
   "execution_count": 39,
   "metadata": {},
   "outputs": [
    {
     "data": {
      "text/plain": [
       "array([[308,   5],\n",
       "       [ 16,  27]], dtype=int64)"
      ]
     },
     "execution_count": 39,
     "metadata": {},
     "output_type": "execute_result"
    }
   ],
   "source": [
    "y_pred = website_knn3.predict(X_test)\n",
    "confusion_matrix(y_test, y_pred)"
   ]
  },
  {
   "cell_type": "code",
   "execution_count": 40,
   "metadata": {},
   "outputs": [
    {
     "data": {
      "text/plain": [
       "0.9410112359550562"
      ]
     },
     "execution_count": 40,
     "metadata": {},
     "output_type": "execute_result"
    }
   ],
   "source": [
    "from sklearn.metrics import accuracy_score\n",
    "accuracy_score(y_test, y_pred)"
   ]
  },
  {
   "cell_type": "markdown",
   "metadata": {},
   "source": [
    "#### We'll create another K-Nearest Neighbors model with k=5. \n",
    "\n",
    "Initialize and fit the model below and print the confusion matrix and the accuracy score."
   ]
  },
  {
   "cell_type": "code",
   "execution_count": 41,
   "metadata": {},
   "outputs": [
    {
     "data": {
      "text/plain": [
       "array([[307,   6],\n",
       "       [ 22,  21]], dtype=int64)"
      ]
     },
     "execution_count": 41,
     "metadata": {},
     "output_type": "execute_result"
    }
   ],
   "source": [
    "website_knn5 = KNeighborsClassifier(n_neighbors=5).fit(X_test, y_test)\n",
    "y_pred = website_knn5.predict(X_test)\n",
    "confusion_matrix(y_test, y_pred)"
   ]
  },
  {
   "cell_type": "code",
   "execution_count": 42,
   "metadata": {},
   "outputs": [
    {
     "data": {
      "text/plain": [
       "0.9213483146067416"
      ]
     },
     "execution_count": 42,
     "metadata": {},
     "output_type": "execute_result"
    }
   ],
   "source": [
    "accuracy_score(y_test, y_pred)"
   ]
  },
  {
   "cell_type": "markdown",
   "metadata": {},
   "source": [
    "Did you see an improvement in the confusion matrix when increasing k to 5? Did you see an improvement in the accuracy score? Write your conclusions below."
   ]
  },
  {
   "cell_type": "code",
   "execution_count": 43,
   "metadata": {},
   "outputs": [],
   "source": [
    "# Your conclusions here:\n",
    "# There is an improvement in predicting the malicious websites (true false). However, the accuracy score went down by 1%. Maybe we overfitted the data."
   ]
  },
  {
   "cell_type": "markdown",
   "metadata": {},
   "source": [
    "# Bonus Challenge - Feature Scaling\n",
    "\n",
    "Problem-solving in machine learning is iterative. You can improve your model prediction with various techniques (there is a sweetspot for the time you spend and the improvement you receive though). Now you've completed only one iteration of ML analysis. There are more iterations you can conduct to make improvements. In order to be able to do that, you will need deeper knowledge in statistics and master more data analysis techniques. In this bootcamp, we don't have time to achieve that advanced goal. But you will make constant efforts after the bootcamp to eventually get there.\n",
    "\n",
    "However, now we do want you to learn one of the advanced techniques which is called *feature scaling*. The idea of feature scaling is to standardize/normalize the range of independent variables or features of the data. This can make the outliers more apparent so that you can remove them. This step needs to happen during Challenge 6 after you split the training and test data because you don't want to split the data again which makes it impossible to compare your results with and without feature scaling. For general concepts about feature scaling, click [here](https://en.wikipedia.org/wiki/Feature_scaling). To read deeper, click [here](https://medium.com/greyatom/why-how-and-when-to-scale-your-features-4b30ab09db5e).\n",
    "\n",
    "In the next cell, attempt to improve your model prediction accuracy by means of feature scaling. A library you can utilize is `sklearn.preprocessing.RobustScaler` ([documentation](https://scikit-learn.org/stable/modules/generated/sklearn.preprocessing.RobustScaler.html)). You'll use the `RobustScaler` to fit and transform your `X_train`, then transform `X_test`. You will use logistic regression to fit and predict your transformed data and obtain the accuracy score in the same way. Compare the accuracy score with your normalized data with the previous accuracy data. Is there an improvement?"
   ]
  },
  {
   "cell_type": "code",
   "execution_count": 44,
   "metadata": {},
   "outputs": [],
   "source": [
    "# Your code here"
   ]
  }
 ],
 "metadata": {
  "kernelspec": {
   "display_name": "Python 3",
   "language": "python",
   "name": "python3"
  },
  "language_info": {
   "codemirror_mode": {
    "name": "ipython",
    "version": 3
   },
   "file_extension": ".py",
   "mimetype": "text/x-python",
   "name": "python",
   "nbconvert_exporter": "python",
   "pygments_lexer": "ipython3",
   "version": "3.7.3"
  }
 },
 "nbformat": 4,
 "nbformat_minor": 2
}
