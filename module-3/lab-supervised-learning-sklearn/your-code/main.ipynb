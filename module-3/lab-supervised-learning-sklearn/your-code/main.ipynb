{
 "cells": [
  {
   "cell_type": "markdown",
   "metadata": {},
   "source": [
    "# Before your start:\n",
    "- Read the README.md file\n",
    "- Comment as much as you can and use the resources in the README.md file\n",
    "- Happy learning!"
   ]
  },
  {
   "cell_type": "code",
   "execution_count": 1,
   "metadata": {},
   "outputs": [],
   "source": [
    "# Import your libraries:\n",
    "import sklearn as sk \n",
    "import pandas as pd \n",
    "import numpy as np \n",
    "import os \n",
    "import scipy"
   ]
  },
  {
   "cell_type": "markdown",
   "metadata": {},
   "source": [
    "# Challenge 1 - Explore the Scikit-Learn Datasets\n",
    "\n",
    "Before starting to work on our own datasets, let's first explore the datasets that are included in this Python library. These datasets have been cleaned and formatted for use in ML algorithms."
   ]
  },
  {
   "cell_type": "markdown",
   "metadata": {},
   "source": [
    "First, we will load the diabetes dataset. Do this in the cell below by importing the datasets and then loading the dataset  to the `diabetes` variable using the `load_diabetes()` function ([documentation](https://scikit-learn.org/stable/modules/generated/sklearn.datasets.load_diabetes.html))."
   ]
  },
  {
   "cell_type": "code",
   "execution_count": 5,
   "metadata": {},
   "outputs": [],
   "source": [
    "# Your code here:\n",
    "from sklearn import datasets \n",
    "dic = datasets.load_diabetes()"
   ]
  },
  {
   "cell_type": "markdown",
   "metadata": {},
   "source": [
    "Let's explore this variable by looking at the different attributes (keys) of `diabetes`. Note that the `load_diabetes` function does not return dataframes. It returns you a Python dictionary."
   ]
  },
  {
   "cell_type": "code",
   "execution_count": 6,
   "metadata": {},
   "outputs": [
    {
     "data": {
      "text/plain": [
       "dict_keys(['data', 'target', 'DESCR', 'feature_names', 'data_filename', 'target_filename'])"
      ]
     },
     "execution_count": 6,
     "metadata": {},
     "output_type": "execute_result"
    }
   ],
   "source": [
    "# Your code here:\n",
    "dic.keys()"
   ]
  },
  {
   "cell_type": "markdown",
   "metadata": {},
   "source": [
    "#### The next step is to read the description of the dataset. \n",
    "\n",
    "Print the description in the cell below using the `DESCR` attribute of the `diabetes` variable. Read the data description carefully to fully understand what each column represents.\n",
    "\n",
    "*Hint: If your output is ill-formatted by displaying linebreaks as `\\n`, it means you are not using the `print` function.*"
   ]
  },
  {
   "cell_type": "code",
   "execution_count": 8,
   "metadata": {
    "scrolled": false
   },
   "outputs": [
    {
     "name": "stdout",
     "output_type": "stream",
     "text": [
      ".. _diabetes_dataset:\n",
      "\n",
      "Diabetes dataset\n",
      "----------------\n",
      "\n",
      "Ten baseline variables, age, sex, body mass index, average blood\n",
      "pressure, and six blood serum measurements were obtained for each of n =\n",
      "442 diabetes patients, as well as the response of interest, a\n",
      "quantitative measure of disease progression one year after baseline.\n",
      "\n",
      "**Data Set Characteristics:**\n",
      "\n",
      "  :Number of Instances: 442\n",
      "\n",
      "  :Number of Attributes: First 10 columns are numeric predictive values\n",
      "\n",
      "  :Target: Column 11 is a quantitative measure of disease progression one year after baseline\n",
      "\n",
      "  :Attribute Information:\n",
      "      - Age\n",
      "      - Sex\n",
      "      - Body mass index\n",
      "      - Average blood pressure\n",
      "      - S1\n",
      "      - S2\n",
      "      - S3\n",
      "      - S4\n",
      "      - S5\n",
      "      - S6\n",
      "\n",
      "Note: Each of these 10 feature variables have been mean centered and scaled by the standard deviation times `n_samples` (i.e. the sum of squares of each column totals 1).\n",
      "\n",
      "Source URL:\n",
      "http://www4.stat.ncsu.edu/~boos/var.select/diabetes.html\n",
      "\n",
      "For more information see:\n",
      "Bradley Efron, Trevor Hastie, Iain Johnstone and Robert Tibshirani (2004) \"Least Angle Regression,\" Annals of Statistics (with discussion), 407-499.\n",
      "(http://web.stanford.edu/~hastie/Papers/LARS/LeastAngle_2002.pdf)\n"
     ]
    }
   ],
   "source": [
    "# Your code here:\n",
    "print(dic.DESCR)"
   ]
  },
  {
   "cell_type": "markdown",
   "metadata": {},
   "source": [
    "#### Based on the data description, answer the following questions:\n",
    "\n",
    "1. How many attributes are there in the data? What do they mean?\n",
    "\n",
    "1. What is the relation between `diabetes['data']` and `diabetes['target']`?\n",
    "\n",
    "1. How many records are there in the data?"
   ]
  },
  {
   "cell_type": "code",
   "execution_count": null,
   "metadata": {},
   "outputs": [],
   "source": [
    "# Enter your answer here:\n",
    "#1. 10 attributes \n",
    "#2. features vs target/label\n",
    "#3. 442"
   ]
  },
  {
   "cell_type": "markdown",
   "metadata": {},
   "source": [
    "#### Now explore what are contained in the *data* portion as well as the *target* portion of `diabetes`. \n",
    "\n",
    "Scikit-learn typically takes in 2D numpy arrays as input (though pandas dataframes are also accepted). Inspect the shape of `data` and `target`. Confirm they are consistent with the data description."
   ]
  },
  {
   "cell_type": "code",
   "execution_count": 14,
   "metadata": {},
   "outputs": [],
   "source": [
    "# Your code here:\n",
    "X = pd.DataFrame(dic['data'])\n",
    "y = pd.DataFrame(dic['target'])"
   ]
  },
  {
   "cell_type": "code",
   "execution_count": 15,
   "metadata": {},
   "outputs": [
    {
     "data": {
      "text/plain": [
       "(442, 10)"
      ]
     },
     "execution_count": 15,
     "metadata": {},
     "output_type": "execute_result"
    }
   ],
   "source": [
    "X.shape"
   ]
  },
  {
   "cell_type": "markdown",
   "metadata": {},
   "source": [
    "# Challenge 2 - Perform Supervised Learning on the Dataset"
   ]
  },
  {
   "cell_type": "markdown",
   "metadata": {},
   "source": [
    "The data have already been split to predictor (*data*) and response (*target*) variables. Given this information, we'll apply what we have previously learned about linear regression and apply the algorithm to the diabetes dataset.\n",
    "\n",
    "#### Let's briefly revisit the linear regression formula:\n",
    "\n",
    "```\n",
    "y = β0 + β1X1 + β2X2 + ... + βnXn + ϵ\n",
    "```\n",
    "\n",
    "...where:\n",
    "\n",
    "- X1-Xn: data \n",
    "- β0: intercept \n",
    "- β1-βn: coefficients \n",
    "- ϵ: error (cannot explained by model)\n",
    "- y: target\n",
    "\n",
    "Also take a look at the `sklearn.linear_model.LinearRegression` [documentation](https://scikit-learn.org/stable/modules/generated/sklearn.linear_model.LinearRegression.html).\n",
    "\n",
    "#### In the cell below, import the `linear_model` class from `sklearn`. "
   ]
  },
  {
   "cell_type": "code",
   "execution_count": 17,
   "metadata": {},
   "outputs": [
    {
     "data": {
      "text/plain": [
       "LinearRegression(copy_X=True,\n",
       "         fit_intercept=            0         1         2         3         4         5         6  \\\n",
       "0    0.038076  0.050680  0.061696  0.021872 -0.044223 -0.034821 -0.043401\n",
       "1   -0.001882 -0.044642 -0.051474 -0.026328 -0.008449 -0.019163  0.074412\n",
       "2    0.085299  0.050680  0.044451 -0.005671 -0.045599 -...1\n",
       "440  0.026560  0.044528 -0.025930\n",
       "441 -0.039493 -0.004220  0.003064\n",
       "\n",
       "[442 rows x 10 columns],\n",
       "         n_jobs=None,\n",
       "         normalize=         0\n",
       "0    151.0\n",
       "1     75.0\n",
       "2    141.0\n",
       "3    206.0\n",
       "4    135.0\n",
       "5     97.0\n",
       "6    138.0\n",
       "7     63.0\n",
       "8    110.0\n",
       "9    310.0\n",
       "10   101.0\n",
       "11    69.0\n",
       "12   179.0\n",
       "13   185.0\n",
       "14   118.0\n",
       "15   171.0\n",
       "16   166.0\n",
       "17   144.0\n",
       "18    97.0\n",
       "19   168.0\n",
       "20    68.0\n",
       "21    49.0\n",
       "22    68.0\n",
       "23   245.0\n",
       "24   184.0\n",
       "25  ...435   64.0\n",
       "436   48.0\n",
       "437  178.0\n",
       "438  104.0\n",
       "439  132.0\n",
       "440  220.0\n",
       "441   57.0\n",
       "\n",
       "[442 rows x 1 columns])"
      ]
     },
     "execution_count": 17,
     "metadata": {},
     "output_type": "execute_result"
    }
   ],
   "source": [
    "# Your code here:\n",
    "from sklearn import linear_model \n",
    "\n",
    "sk.linear_model.LinearRegression(X,y)"
   ]
  },
  {
   "cell_type": "markdown",
   "metadata": {},
   "source": [
    "#### Create a new instance of the linear regression model and assign the new instance to the variable `diabetes_model`."
   ]
  },
  {
   "cell_type": "code",
   "execution_count": 28,
   "metadata": {},
   "outputs": [],
   "source": [
    "# Your code here:\n",
    "model = sk.linear_model.LinearRegression()"
   ]
  },
  {
   "cell_type": "markdown",
   "metadata": {},
   "source": [
    "#### Next, let's split the training and test data.\n",
    "\n",
    "Define `diabetes_data_train`, `diabetes_target_train`, `diabetes_data_test`, and `diabetes_target_test`. Use the last 20 records for the test data and the rest for the training data."
   ]
  },
  {
   "cell_type": "code",
   "execution_count": 21,
   "metadata": {},
   "outputs": [],
   "source": [
    "# Your code here:\n",
    "from sklearn.model_selection import train_test_split\n",
    "\n",
    "X_train, X_test, y_train, y_test = train_test_split(X, y, test_size=0.95)"
   ]
  },
  {
   "cell_type": "markdown",
   "metadata": {},
   "source": [
    "Fit the training data and target to `diabetes_model`. Print the *intercept* and *coefficients* of the model."
   ]
  },
  {
   "cell_type": "code",
   "execution_count": 29,
   "metadata": {},
   "outputs": [
    {
     "data": {
      "text/plain": [
       "LinearRegression(copy_X=True, fit_intercept=True, n_jobs=None,\n",
       "         normalize=False)"
      ]
     },
     "execution_count": 29,
     "metadata": {},
     "output_type": "execute_result"
    }
   ],
   "source": [
    "# Your code here:\n",
    "model.fit(X_train, y_train)\n"
   ]
  },
  {
   "cell_type": "code",
   "execution_count": 30,
   "metadata": {},
   "outputs": [
    {
     "data": {
      "text/plain": [
       "array([158.71991125])"
      ]
     },
     "execution_count": 30,
     "metadata": {},
     "output_type": "execute_result"
    }
   ],
   "source": [
    "model.intercept_"
   ]
  },
  {
   "cell_type": "code",
   "execution_count": 33,
   "metadata": {},
   "outputs": [
    {
     "data": {
      "text/plain": [
       "array([[ 127.05331042, -504.3932857 ,  435.66577092,  -87.81944027,\n",
       "        1193.76941661, -344.41094162, -875.54006239, -294.45574162,\n",
       "          81.0756197 ,  784.16934272]])"
      ]
     },
     "execution_count": 33,
     "metadata": {},
     "output_type": "execute_result"
    }
   ],
   "source": [
    "model.coef_"
   ]
  },
  {
   "cell_type": "code",
   "execution_count": 35,
   "metadata": {},
   "outputs": [
    {
     "data": {
      "text/plain": [
       "0.7188852247494879"
      ]
     },
     "execution_count": 35,
     "metadata": {},
     "output_type": "execute_result"
    }
   ],
   "source": [
    "model.score(X_train,y_train)"
   ]
  },
  {
   "cell_type": "markdown",
   "metadata": {},
   "source": [
    "#### Inspecting the results\n",
    "\n",
    "From the outputs you should have seen:\n",
    "\n",
    "- The intercept is a float number.\n",
    "- The coefficients are an array containing 10 float numbers.\n",
    "\n",
    "This is the linear regression model fitted to your training dataset.\n",
    "\n",
    "#### Using your fitted linear regression model, predict the *y* of `diabetes_data_test`."
   ]
  },
  {
   "cell_type": "code",
   "execution_count": 38,
   "metadata": {},
   "outputs": [
    {
     "data": {
      "text/plain": [
       "array([[180.30594627],\n",
       "       [108.26398432],\n",
       "       [ 62.9915751 ],\n",
       "       [262.20521845],\n",
       "       [ 28.40687338],\n",
       "       [117.69516642],\n",
       "       [118.13350004],\n",
       "       [158.80744183],\n",
       "       [ 77.08266816],\n",
       "       [242.48118288],\n",
       "       [257.25731551],\n",
       "       [224.18465501],\n",
       "       [147.7100475 ],\n",
       "       [200.45034942],\n",
       "       [265.5470897 ],\n",
       "       [ 43.20503427],\n",
       "       [197.33679991],\n",
       "       [119.72665249],\n",
       "       [133.94847409],\n",
       "       [114.91173669],\n",
       "       [196.53183771],\n",
       "       [109.97740298],\n",
       "       [  4.25546324],\n",
       "       [ 29.85422544],\n",
       "       [331.07115665],\n",
       "       [ 78.65074945],\n",
       "       [211.52204454],\n",
       "       [166.65309231],\n",
       "       [191.95263164],\n",
       "       [ 96.00068695],\n",
       "       [106.68503886],\n",
       "       [132.82937132],\n",
       "       [178.88688821],\n",
       "       [296.71911953],\n",
       "       [ 40.44027905],\n",
       "       [142.08911636],\n",
       "       [141.48653279],\n",
       "       [113.15792432],\n",
       "       [244.01681205],\n",
       "       [166.71742852],\n",
       "       [266.70604753],\n",
       "       [221.91225014],\n",
       "       [156.22465138],\n",
       "       [225.85149816],\n",
       "       [207.14881368],\n",
       "       [232.22778802],\n",
       "       [ 10.44069178],\n",
       "       [309.32813746],\n",
       "       [188.52973191],\n",
       "       [195.34200352],\n",
       "       [239.52290015],\n",
       "       [ 56.81821716],\n",
       "       [233.57815314],\n",
       "       [114.35951939],\n",
       "       [142.08563861],\n",
       "       [ 46.92044445],\n",
       "       [129.30754188],\n",
       "       [173.90421809],\n",
       "       [216.87571164],\n",
       "       [131.59475374],\n",
       "       [-16.05851095],\n",
       "       [310.79109784],\n",
       "       [161.51721936],\n",
       "       [148.69199154],\n",
       "       [208.33917533],\n",
       "       [205.90803734],\n",
       "       [129.97731605],\n",
       "       [204.27312018],\n",
       "       [284.70496246],\n",
       "       [123.36858313],\n",
       "       [ 81.06259001],\n",
       "       [263.25820237],\n",
       "       [183.62021894],\n",
       "       [114.52829146],\n",
       "       [149.64046414],\n",
       "       [168.4775523 ],\n",
       "       [ 68.20251916],\n",
       "       [151.65471114],\n",
       "       [ 71.36784846],\n",
       "       [204.44268033],\n",
       "       [208.92055428],\n",
       "       [172.99858405],\n",
       "       [194.17881006],\n",
       "       [137.96633247],\n",
       "       [312.20644148],\n",
       "       [179.87282497],\n",
       "       [ 77.15343197],\n",
       "       [308.43324209],\n",
       "       [232.18600009],\n",
       "       [245.48670296],\n",
       "       [ 71.41863279],\n",
       "       [131.15329108],\n",
       "       [158.10690587],\n",
       "       [ 34.52380094],\n",
       "       [258.63604366],\n",
       "       [118.22970276],\n",
       "       [ 77.66761721],\n",
       "       [130.86536384],\n",
       "       [362.41422095],\n",
       "       [ 93.16563383],\n",
       "       [ 35.91172478],\n",
       "       [ 47.27315622],\n",
       "       [149.59416043],\n",
       "       [ 34.1045443 ],\n",
       "       [169.62341936],\n",
       "       [114.20856647],\n",
       "       [ 94.06596413],\n",
       "       [244.99638331],\n",
       "       [138.19120077],\n",
       "       [170.52456165],\n",
       "       [-42.46937238],\n",
       "       [100.39824399],\n",
       "       [282.57061624],\n",
       "       [204.18918729],\n",
       "       [139.62993082],\n",
       "       [106.19421314],\n",
       "       [161.8200996 ],\n",
       "       [163.53463204],\n",
       "       [108.06863038],\n",
       "       [308.2654263 ],\n",
       "       [170.07045931],\n",
       "       [119.69204415],\n",
       "       [ 67.69145153],\n",
       "       [174.21018521],\n",
       "       [207.1997285 ],\n",
       "       [256.49829064],\n",
       "       [194.33869566],\n",
       "       [182.13265251],\n",
       "       [ 56.68539371],\n",
       "       [243.69484835],\n",
       "       [287.52165378],\n",
       "       [145.26388604],\n",
       "       [152.51187183],\n",
       "       [ 13.34070301],\n",
       "       [ 48.68164969],\n",
       "       [104.14087397],\n",
       "       [ 70.3563181 ],\n",
       "       [238.60245825],\n",
       "       [104.87995488],\n",
       "       [184.55102463],\n",
       "       [ 29.50663565],\n",
       "       [280.07694978],\n",
       "       [268.45666353],\n",
       "       [243.16320234],\n",
       "       [290.7357776 ],\n",
       "       [263.58532162],\n",
       "       [131.61777877],\n",
       "       [348.01489122],\n",
       "       [217.55865014],\n",
       "       [117.94074673],\n",
       "       [  5.85068426],\n",
       "       [176.00441502],\n",
       "       [ 43.49718302],\n",
       "       [ 37.31693108],\n",
       "       [120.28252827],\n",
       "       [125.75065903],\n",
       "       [274.41979496],\n",
       "       [256.15458365],\n",
       "       [171.94371076],\n",
       "       [127.89224329],\n",
       "       [215.31681695],\n",
       "       [158.05991452],\n",
       "       [ 94.40439498],\n",
       "       [153.55863539],\n",
       "       [357.04600552],\n",
       "       [205.62596178],\n",
       "       [339.31396846],\n",
       "       [ 75.45350007],\n",
       "       [110.79511258],\n",
       "       [ 42.31715809],\n",
       "       [202.35350902],\n",
       "       [125.19107784],\n",
       "       [ 69.90851206],\n",
       "       [102.68828227],\n",
       "       [ 26.0338637 ],\n",
       "       [ 39.99780974],\n",
       "       [151.06313575],\n",
       "       [140.8255804 ],\n",
       "       [209.39720204],\n",
       "       [114.23510165],\n",
       "       [148.53541077],\n",
       "       [229.17869183],\n",
       "       [255.19256525],\n",
       "       [113.40740766],\n",
       "       [ 87.8145712 ],\n",
       "       [117.69168254],\n",
       "       [125.42150008],\n",
       "       [ 54.06882484],\n",
       "       [143.36248832],\n",
       "       [115.12757739],\n",
       "       [172.05320748],\n",
       "       [221.93505947],\n",
       "       [114.18277885],\n",
       "       [277.40804934],\n",
       "       [137.1799512 ],\n",
       "       [228.96646137],\n",
       "       [352.53224598],\n",
       "       [ 53.79075442],\n",
       "       [ 95.68522069],\n",
       "       [ 17.03098235],\n",
       "       [ 18.62252153],\n",
       "       [130.84822266],\n",
       "       [125.00368567],\n",
       "       [208.22905319],\n",
       "       [-20.30453218],\n",
       "       [155.77254791],\n",
       "       [134.38228507],\n",
       "       [122.63681485],\n",
       "       [321.16189815],\n",
       "       [ 48.22714803],\n",
       "       [138.00635537],\n",
       "       [284.41008212],\n",
       "       [204.29063113],\n",
       "       [180.87030888],\n",
       "       [132.56488676],\n",
       "       [170.66002638],\n",
       "       [178.33037152],\n",
       "       [ 49.03214958],\n",
       "       [ 97.4523961 ],\n",
       "       [ 24.74592546],\n",
       "       [112.77793486],\n",
       "       [126.66046575],\n",
       "       [ 19.83616165],\n",
       "       [ 92.21788357],\n",
       "       [122.09886364],\n",
       "       [ 78.22179301],\n",
       "       [ 52.86306017],\n",
       "       [ 71.27697866],\n",
       "       [125.45452496],\n",
       "       [130.84897021],\n",
       "       [129.38297011],\n",
       "       [344.116946  ],\n",
       "       [223.00620981],\n",
       "       [ 73.22793116],\n",
       "       [335.93347732],\n",
       "       [185.27434451],\n",
       "       [308.90488104],\n",
       "       [  2.86025705],\n",
       "       [153.23923419],\n",
       "       [201.11040701],\n",
       "       [169.90772841],\n",
       "       [ 76.21551967],\n",
       "       [131.5364419 ],\n",
       "       [115.75112371],\n",
       "       [265.19948501],\n",
       "       [ 61.1705942 ],\n",
       "       [263.45771262],\n",
       "       [236.56248521],\n",
       "       [208.20507156],\n",
       "       [271.20130506],\n",
       "       [ 91.44791685],\n",
       "       [252.72145563],\n",
       "       [177.44441524],\n",
       "       [118.23264146],\n",
       "       [139.28493446],\n",
       "       [279.03905741],\n",
       "       [268.30882616],\n",
       "       [136.05972868],\n",
       "       [ 93.37826142],\n",
       "       [122.24973383],\n",
       "       [187.08026459],\n",
       "       [133.66590682],\n",
       "       [153.52260256],\n",
       "       [264.76819391],\n",
       "       [179.48054358],\n",
       "       [ 92.26335708],\n",
       "       [192.38044388],\n",
       "       [144.39016046],\n",
       "       [193.48939228],\n",
       "       [287.78207059],\n",
       "       [160.57112025],\n",
       "       [179.38467438],\n",
       "       [168.38347735],\n",
       "       [234.65940173],\n",
       "       [123.6867473 ],\n",
       "       [166.20676831],\n",
       "       [206.58254878],\n",
       "       [279.1337414 ],\n",
       "       [ 92.29799806],\n",
       "       [ 87.58005083],\n",
       "       [159.27361948],\n",
       "       [234.33291379],\n",
       "       [325.61685122],\n",
       "       [276.72634728],\n",
       "       [268.65126296],\n",
       "       [129.66002024],\n",
       "       [129.25591756],\n",
       "       [196.02868033],\n",
       "       [201.34518369],\n",
       "       [189.98274554],\n",
       "       [ 87.60726578],\n",
       "       [ 44.6823899 ],\n",
       "       [172.98423148],\n",
       "       [211.45302705],\n",
       "       [241.02858111],\n",
       "       [208.84359475],\n",
       "       [ 89.42634959],\n",
       "       [256.99211757],\n",
       "       [ 47.7635221 ],\n",
       "       [ 74.76384748],\n",
       "       [ 57.0412075 ],\n",
       "       [150.66660843],\n",
       "       [191.46532841],\n",
       "       [167.63358763],\n",
       "       [326.75157193],\n",
       "       [129.14620265],\n",
       "       [122.3677925 ],\n",
       "       [157.36528414],\n",
       "       [159.1358811 ],\n",
       "       [239.20746691],\n",
       "       [197.1799109 ],\n",
       "       [180.03257391],\n",
       "       [168.29097308],\n",
       "       [112.72660688],\n",
       "       [265.68801599],\n",
       "       [206.04483501],\n",
       "       [209.24825093],\n",
       "       [ 80.96351957],\n",
       "       [357.47582877],\n",
       "       [343.29791707],\n",
       "       [180.50610946],\n",
       "       [288.39549994],\n",
       "       [185.08734835],\n",
       "       [190.41719529],\n",
       "       [190.99434075],\n",
       "       [181.88638972],\n",
       "       [135.69481229],\n",
       "       [ 68.03976521],\n",
       "       [114.77681329],\n",
       "       [131.55573811],\n",
       "       [ 13.86538277],\n",
       "       [160.19503901],\n",
       "       [220.69083812],\n",
       "       [111.56669446],\n",
       "       [170.45302032],\n",
       "       [181.198685  ],\n",
       "       [109.02349748],\n",
       "       [200.52368607],\n",
       "       [ 78.99315676],\n",
       "       [205.26959058],\n",
       "       [209.20282251],\n",
       "       [179.7127984 ],\n",
       "       [130.05779899],\n",
       "       [128.38800967],\n",
       "       [183.42067042],\n",
       "       [ 89.61337399],\n",
       "       [ 84.62093058],\n",
       "       [231.89228182],\n",
       "       [226.15825749],\n",
       "       [249.0850565 ],\n",
       "       [119.48651646],\n",
       "       [203.16816241],\n",
       "       [135.7981754 ],\n",
       "       [201.81836763],\n",
       "       [ 82.25630058],\n",
       "       [141.50366512],\n",
       "       [168.78054563],\n",
       "       [144.40581868],\n",
       "       [ 74.6956416 ],\n",
       "       [192.34463161],\n",
       "       [169.03141404],\n",
       "       [226.46746382],\n",
       "       [258.17396722],\n",
       "       [105.11190991],\n",
       "       [ -2.80682747],\n",
       "       [143.27218846],\n",
       "       [171.61355882],\n",
       "       [ 13.69370112],\n",
       "       [ 13.88148991],\n",
       "       [277.8974386 ],\n",
       "       [ 89.5920961 ],\n",
       "       [128.78352658],\n",
       "       [ 93.33074177],\n",
       "       [204.07237518],\n",
       "       [230.91032585],\n",
       "       [151.79359896],\n",
       "       [262.69875888],\n",
       "       [ 55.3179903 ],\n",
       "       [157.69702222],\n",
       "       [130.19091433],\n",
       "       [ 70.29820969],\n",
       "       [287.43580983],\n",
       "       [180.10634781],\n",
       "       [ -3.94099627],\n",
       "       [291.73747362],\n",
       "       [224.77274383],\n",
       "       [270.49614646],\n",
       "       [ 74.702844  ],\n",
       "       [335.74842571],\n",
       "       [288.36024516],\n",
       "       [ 31.02501564],\n",
       "       [129.71525856],\n",
       "       [200.0260311 ],\n",
       "       [ 80.9484743 ],\n",
       "       [308.26477103],\n",
       "       [204.78610427],\n",
       "       [136.64752778],\n",
       "       [285.4626011 ],\n",
       "       [ 28.17421831],\n",
       "       [ 32.31234039],\n",
       "       [105.07449972],\n",
       "       [-33.06681058],\n",
       "       [ 75.27283548],\n",
       "       [191.9392317 ],\n",
       "       [254.52465767],\n",
       "       [ 55.02555923],\n",
       "       [106.53139966],\n",
       "       [114.08544571],\n",
       "       [105.15146894],\n",
       "       [ 83.64553664],\n",
       "       [132.3273503 ],\n",
       "       [189.15942575],\n",
       "       [243.29629107],\n",
       "       [173.37869482],\n",
       "       [188.24039899],\n",
       "       [ 17.05322499],\n",
       "       [119.4961447 ],\n",
       "       [108.72508154],\n",
       "       [269.28127481],\n",
       "       [ 63.76438947]])"
      ]
     },
     "execution_count": 38,
     "metadata": {},
     "output_type": "execute_result"
    }
   ],
   "source": [
    "# Your code here:\n",
    "import statsmodels.api as sm\n",
    "\n",
    "predictions = model.predict(X_test)\n",
    "predictions\n"
   ]
  },
  {
   "cell_type": "code",
   "execution_count": null,
   "metadata": {},
   "outputs": [],
   "source": []
  },
  {
   "cell_type": "markdown",
   "metadata": {},
   "source": [
    "#### Print your `diabetes_target_test` and compare with the prediction. "
   ]
  },
  {
   "cell_type": "code",
   "execution_count": 50,
   "metadata": {},
   "outputs": [
    {
     "data": {
      "text/html": [
       "<div>\n",
       "<style scoped>\n",
       "    .dataframe tbody tr th:only-of-type {\n",
       "        vertical-align: middle;\n",
       "    }\n",
       "\n",
       "    .dataframe tbody tr th {\n",
       "        vertical-align: top;\n",
       "    }\n",
       "\n",
       "    .dataframe thead th {\n",
       "        text-align: right;\n",
       "    }\n",
       "</style>\n",
       "<table border=\"1\" class=\"dataframe\">\n",
       "  <thead>\n",
       "    <tr style=\"text-align: right;\">\n",
       "      <th></th>\n",
       "      <th>label</th>\n",
       "      <th>predictions</th>\n",
       "    </tr>\n",
       "  </thead>\n",
       "  <tbody>\n",
       "    <tr>\n",
       "      <th>333</th>\n",
       "      <td>164.0</td>\n",
       "      <td>180.305946</td>\n",
       "    </tr>\n",
       "    <tr>\n",
       "      <th>68</th>\n",
       "      <td>160.0</td>\n",
       "      <td>108.263984</td>\n",
       "    </tr>\n",
       "    <tr>\n",
       "      <th>31</th>\n",
       "      <td>59.0</td>\n",
       "      <td>62.991575</td>\n",
       "    </tr>\n",
       "    <tr>\n",
       "      <th>346</th>\n",
       "      <td>139.0</td>\n",
       "      <td>262.205218</td>\n",
       "    </tr>\n",
       "    <tr>\n",
       "      <th>257</th>\n",
       "      <td>63.0</td>\n",
       "      <td>28.406873</td>\n",
       "    </tr>\n",
       "  </tbody>\n",
       "</table>\n",
       "</div>"
      ],
      "text/plain": [
       "     label  predictions\n",
       "333  164.0   180.305946\n",
       "68   160.0   108.263984\n",
       "31    59.0    62.991575\n",
       "346  139.0   262.205218\n",
       "257   63.0    28.406873"
      ]
     },
     "execution_count": 50,
     "metadata": {},
     "output_type": "execute_result"
    }
   ],
   "source": [
    "# Your code here:\n",
    "compare = pd.DataFrame()\n",
    "compare['label'] = y_test[0]\n",
    "compare['predictions'] = predictions\n",
    "compare.head()\n"
   ]
  },
  {
   "cell_type": "code",
   "execution_count": 51,
   "metadata": {},
   "outputs": [
    {
     "data": {
      "text/html": [
       "<div>\n",
       "<style scoped>\n",
       "    .dataframe tbody tr th:only-of-type {\n",
       "        vertical-align: middle;\n",
       "    }\n",
       "\n",
       "    .dataframe tbody tr th {\n",
       "        vertical-align: top;\n",
       "    }\n",
       "\n",
       "    .dataframe thead th {\n",
       "        text-align: right;\n",
       "    }\n",
       "</style>\n",
       "<table border=\"1\" class=\"dataframe\">\n",
       "  <thead>\n",
       "    <tr style=\"text-align: right;\">\n",
       "      <th></th>\n",
       "      <th>label</th>\n",
       "      <th>predictions</th>\n",
       "    </tr>\n",
       "  </thead>\n",
       "  <tbody>\n",
       "    <tr>\n",
       "      <th>count</th>\n",
       "      <td>420.000000</td>\n",
       "      <td>420.000000</td>\n",
       "    </tr>\n",
       "    <tr>\n",
       "      <th>mean</th>\n",
       "      <td>151.883333</td>\n",
       "      <td>158.814764</td>\n",
       "    </tr>\n",
       "    <tr>\n",
       "      <th>std</th>\n",
       "      <td>77.220993</td>\n",
       "      <td>81.956184</td>\n",
       "    </tr>\n",
       "    <tr>\n",
       "      <th>min</th>\n",
       "      <td>25.000000</td>\n",
       "      <td>-42.469372</td>\n",
       "    </tr>\n",
       "    <tr>\n",
       "      <th>25%</th>\n",
       "      <td>86.750000</td>\n",
       "      <td>105.141579</td>\n",
       "    </tr>\n",
       "    <tr>\n",
       "      <th>50%</th>\n",
       "      <td>140.000000</td>\n",
       "      <td>153.380918</td>\n",
       "    </tr>\n",
       "    <tr>\n",
       "      <th>75%</th>\n",
       "      <td>210.500000</td>\n",
       "      <td>208.862835</td>\n",
       "    </tr>\n",
       "    <tr>\n",
       "      <th>max</th>\n",
       "      <td>346.000000</td>\n",
       "      <td>362.414221</td>\n",
       "    </tr>\n",
       "  </tbody>\n",
       "</table>\n",
       "</div>"
      ],
      "text/plain": [
       "            label  predictions\n",
       "count  420.000000   420.000000\n",
       "mean   151.883333   158.814764\n",
       "std     77.220993    81.956184\n",
       "min     25.000000   -42.469372\n",
       "25%     86.750000   105.141579\n",
       "50%    140.000000   153.380918\n",
       "75%    210.500000   208.862835\n",
       "max    346.000000   362.414221"
      ]
     },
     "execution_count": 51,
     "metadata": {},
     "output_type": "execute_result"
    }
   ],
   "source": [
    "compare.describe()"
   ]
  },
  {
   "cell_type": "markdown",
   "metadata": {},
   "source": [
    "#### Is `diabetes_target_test` exactly the same as the model prediction? Explain."
   ]
  },
  {
   "cell_type": "code",
   "execution_count": 49,
   "metadata": {},
   "outputs": [
    {
     "data": {
      "image/png": "[encoded data removed]",
      "text/plain": [
       "<Figure size 432x288 with 1 Axes>"
      ]
     },
     "execution_count": 49,
     "metadata": {},
     "output_type": "execute_result"
    },
    {
     "data": {
      "image/png": "[encoded data removed]",
      "text/plain": [
       "<Figure size 432x288 with 1 Axes>"
      ]
     },
     "metadata": {
      "needs_background": "light"
     },
     "output_type": "display_data"
    }
   ],
   "source": [
    "# Your explanation here:\n",
    "#no, it only has R2 of .7 so chillout \n",
    "\n",
    "residuals = y_test - predictions\n",
    "sm.qqplot(residuals)\n"
   ]
  },
  {
   "cell_type": "markdown",
   "metadata": {},
   "source": [
    "# Bonus Challenge 1 - Hypothesis Testing with `statsmodels`\n",
    "\n",
    "After generating the linear regression model from the dataset, you probably wonder: then what? What is the statistical way to know if my model is reliable or not?\n",
    "\n",
    "Good question. We'll discuss that using Scikit-Learn in Challenge 5. But for now, let's use a fool-proof way by using the ([Linear Regression class of StatsModels](https://www.statsmodels.org/dev/regression.html)) which can also conduct linear regression analysis plus much more such as calcuating the F-score of the linear model as well as the standard errors and t-scores for each coefficient. The F-score and t-scores will tell you whether you can trust your linear model.\n",
    "\n",
    "To understand the statistical meaning of conducting hypothesis testing (e.g. F-test, t-test) for slopes, read [this webpage](https://onlinecourses.science.psu.edu/stat501/node/297/) at your leisure time. We'll give you a brief overview next.\n",
    "\n",
    "* The F-test of your linear model is to verify whether at least one of your coefficients is significantly different from zero. Translating that into the *null hypothesis* and *alternative hypothesis*, that is:\n",
    "\n",
    "    ```\n",
    "    H0 : β1 = β2 = ... = β10 = 0\n",
    "    HA : At least one βj ≠ 0 (for j = 1, 2, ..., 10)\n",
    "    ```\n",
    "\n",
    "* The t-tests on each coefficient is to check whether the confidence interval for the variable contains zero. If the confidence interval contains zero, it means the null hypothesis for that variable is not rejected. In other words, this particular vaiable is not contributing to your linear model and you can remove it from your formula.\n",
    "\n",
    "Read the documentations of [StatsModels Linear Regression](https://www.statsmodels.org/dev/regression.html) as well as its [`OLS` class](https://www.statsmodels.org/dev/generated/statsmodels.regression.linear_model.OLS.html) which stands for *ordinary least squares*.\n",
    "\n",
    "#### In the next cell, analyze `diabetes_data_train` and `diabetes_target_train` with the linear regression model of `statsmodels`. Print the fit summary.\n",
    "\n",
    "Your output should look like:\n",
    "\n",
    "![statsmodels regression](../statsmodels.png)"
   ]
  },
  {
   "cell_type": "code",
   "execution_count": null,
   "metadata": {},
   "outputs": [],
   "source": [
    "# Your code here:\n"
   ]
  },
  {
   "cell_type": "markdown",
   "metadata": {},
   "source": [
    "#### Interpreting hypothesis testing results\n",
    "\n",
    "Answer the following questions in the cell below:\n",
    "\n",
    "1. What is the F-score of your linear model and is the null hypothesis rejected?\n",
    "\n",
    "1. Does any of the t-tests of the coefficients produce a confidence interval containing zero? What are they?\n",
    "\n",
    "1. How will you modify your linear reguression model according to the test results above?"
   ]
  },
  {
   "cell_type": "code",
   "execution_count": null,
   "metadata": {},
   "outputs": [],
   "source": [
    "# Your answers here:"
   ]
  },
  {
   "cell_type": "markdown",
   "metadata": {},
   "source": [
    "# Challenge 3 - Peform Supervised Learning on a Pandas Dataframe"
   ]
  },
  {
   "cell_type": "markdown",
   "metadata": {},
   "source": [
    "Now that we have dealt with data that has been formatted for scikit-learn, let's look at data that we will need to format ourselves.\n",
    "\n",
    "In the next cell, load the `auto-mpg.csv` file included in this folder and assign it to a variable called `auto`."
   ]
  },
  {
   "cell_type": "code",
   "execution_count": null,
   "metadata": {},
   "outputs": [],
   "source": [
    "# Your code here:\n"
   ]
  },
  {
   "cell_type": "markdown",
   "metadata": {},
   "source": [
    "Look at the first 5 rows using the `head()` function:"
   ]
  },
  {
   "cell_type": "code",
   "execution_count": null,
   "metadata": {},
   "outputs": [],
   "source": [
    "# Your code here:\n"
   ]
  },
  {
   "cell_type": "markdown",
   "metadata": {},
   "source": [
    "Evaluate the data to ensure that all numeric columns are correctly detected as such by pandas. If a column is misclassified as object, coerce it to numeric."
   ]
  },
  {
   "cell_type": "code",
   "execution_count": null,
   "metadata": {},
   "outputs": [],
   "source": [
    "# Your code here:\n"
   ]
  },
  {
   "cell_type": "markdown",
   "metadata": {},
   "source": [
    "What is the newest model year and the oldest model year?"
   ]
  },
  {
   "cell_type": "code",
   "execution_count": null,
   "metadata": {},
   "outputs": [],
   "source": [
    "# Your code here:\n"
   ]
  },
  {
   "cell_type": "markdown",
   "metadata": {},
   "source": [
    "Check the dataset for missing values and remove all rows containing at least one missing value."
   ]
  },
  {
   "cell_type": "code",
   "execution_count": null,
   "metadata": {},
   "outputs": [],
   "source": [
    "# Your code here:\n"
   ]
  },
  {
   "cell_type": "markdown",
   "metadata": {},
   "source": [
    "Find the frequency table for the `cylinders` column using the `value_counts()` function. How many possible values of cylinders are there?"
   ]
  },
  {
   "cell_type": "code",
   "execution_count": null,
   "metadata": {},
   "outputs": [],
   "source": [
    "# Your code here:\n"
   ]
  },
  {
   "cell_type": "markdown",
   "metadata": {},
   "source": [
    "We would like to generate a linear regression model that will predict mpg. To do this, first drop the `car_name` column since it does not contain any quantitative data. Next separate the dataframe to predictor and response variables. Separate those into test and training data with 80% of the data in the training set and the remainder in the test set. \n",
    "\n",
    "Assign the predictor and response training data to `X_train` and `y_train` respectively. Similarly, assign the predictor and response test data to `X_test` and `y_test`.\n",
    "\n",
    "*Hint: To separate data for training and test, use the `train_test_split` method we used in previous labs.*"
   ]
  },
  {
   "cell_type": "code",
   "execution_count": null,
   "metadata": {},
   "outputs": [],
   "source": [
    "# Your code here:\n"
   ]
  },
  {
   "cell_type": "markdown",
   "metadata": {},
   "source": [
    "Now we will processed and peform linear regression on this data to predict the mpg for each vehicle. \n",
    "\n",
    "#### In the next cell, create an instance of the linear regression model and call it `auto_model`. Fit `auto_model` with your training data."
   ]
  },
  {
   "cell_type": "code",
   "execution_count": null,
   "metadata": {},
   "outputs": [],
   "source": [
    "# Your code here:\n"
   ]
  },
  {
   "cell_type": "markdown",
   "metadata": {},
   "source": [
    "# Challenge 4 - Evaluate the Model\n",
    "\n",
    "In addition to evaluating your model with F-test and t-test, you can also use the *Coefficient of Determination* (a.k.a. *r squared score*). This method does not simply tell *yes* or *no* about the model fit but instead indicates how much variation can be explained by the model. Based on the r squared score, you can decide whether to improve your model in order to obtain a better fit.\n",
    "\n",
    "You can learn about the r squared score [here](). Its formula is:\n",
    "\n",
    "![R Squared](../r-squared.png)\n",
    "\n",
    "...where:\n",
    "\n",
    "* yi is an actual data point.\n",
    "* ŷi is the corresponding data point on the estimated regression line.\n",
    "\n",
    "By adding the squares of the difference between all yi-ŷi pairs, we have a measure called SSE (*error sum of squares*) which is an application of the r squared score to indicate the extent to which the estimated regression model is different from the actual data. And we attribute that difference to the random error that is unavoidable in the real world. Obviously, we want the SSE value to be as small as possible.\n",
    "\n",
    "#### In the next cell, compute the predicted *y* based on `X_train` and call it `y_pred`. Then calcualte the r squared score between `y_pred` and `y_train` which indicates how well the estimated regression model fits the training data.\n",
    "\n",
    "*Hint: r squared score can be calculated using `sklearn.metrics.r2_score` ([documentation](https://scikit-learn.org/stable/modules/generated/sklearn.metrics.r2_score.html)).*"
   ]
  },
  {
   "cell_type": "code",
   "execution_count": null,
   "metadata": {},
   "outputs": [],
   "source": [
    "# Your code here:\n"
   ]
  },
  {
   "cell_type": "markdown",
   "metadata": {},
   "source": [
    "#### Our next step is to evaluate the model using the test data. \n",
    "\n",
    "We would like to ensure that our model is not overfitting the data. This means that our model was made to fit too closely to the training data by being overly complex. If a model is overfitted, it is not generalizable to data outside the training data. In that case, we need to reduce the complexity of the model by removing certain features (variables).\n",
    "\n",
    "In the cell below, use the model to generate the predicted values for the test data and assign them to `y_test_pred`. Compute the r squared score of the predicted `y_test_pred` and the oberserved `y_test` data."
   ]
  },
  {
   "cell_type": "code",
   "execution_count": null,
   "metadata": {},
   "outputs": [],
   "source": [
    "# Your code here:\n"
   ]
  },
  {
   "cell_type": "markdown",
   "metadata": {},
   "source": [
    "#### Explaining the results\n",
    "\n",
    "The r squared scores of the training data and the test data are pretty close (0.8146 vs 0.7818). This means our model is not overfitted. However, there is still room to improve the model fit. Move on to the next challenge."
   ]
  },
  {
   "cell_type": "markdown",
   "metadata": {},
   "source": [
    "# Challenge 5 - Improve the Model Fit\n",
    "\n",
    "While the most common way to improve the fit of a model is by using [regularization](https://datanice.github.io/machine-learning-101-what-is-regularization-interactive.html), there are other simpler ways to improve model fit. The first is to create a simpler model. The second is to increase the train sample size.\n",
    "\n",
    "Let us start with the easier option and increase our train sample size to 90% of the data. Create a new test train split and name the new predictors and response variables `X_train09`, `X_test09`, `y_train09`, `y_test09`."
   ]
  },
  {
   "cell_type": "code",
   "execution_count": null,
   "metadata": {},
   "outputs": [],
   "source": [
    "# Your code here:\n"
   ]
  },
  {
   "cell_type": "markdown",
   "metadata": {},
   "source": [
    "Initialize a new linear regression model. Name this model `auto_model09`. Fit the model to the new sample (training) data."
   ]
  },
  {
   "cell_type": "code",
   "execution_count": null,
   "metadata": {},
   "outputs": [],
   "source": [
    "# Your code here:\n"
   ]
  },
  {
   "cell_type": "markdown",
   "metadata": {},
   "source": [
    "Compute the predicted values and r squared score for our new model and new sample data."
   ]
  },
  {
   "cell_type": "code",
   "execution_count": null,
   "metadata": {},
   "outputs": [],
   "source": [
    "# Your code here:\n"
   ]
  },
  {
   "cell_type": "markdown",
   "metadata": {},
   "source": [
    "Compute the r squared score for the smaller test set. Is there an improvement in the test r squared?"
   ]
  },
  {
   "cell_type": "code",
   "execution_count": null,
   "metadata": {},
   "outputs": [],
   "source": [
    "# Your code here:\n"
   ]
  },
  {
   "cell_type": "markdown",
   "metadata": {},
   "source": [
    "# Bonus Challenge 2 - Backward Elimination \n",
    "\n",
    "The main way to produce a simpler linear regression model is to reduce the number of variables used in the model. In scikit-learn, we can do this by using recursive feature elimination. You can read more about RFE [here](https://scikit-learn.org/stable/modules/generated/sklearn.feature_selection.RFE.html).\n",
    "\n",
    "In the next cell, we will import RFE"
   ]
  },
  {
   "cell_type": "code",
   "execution_count": null,
   "metadata": {},
   "outputs": [],
   "source": [
    "from sklearn.feature_selection import RFE"
   ]
  },
  {
   "cell_type": "markdown",
   "metadata": {},
   "source": [
    "Follow the documentation and initialize an RFE model using the `auto_model` linear regression model. Set `n_features_to_select=3`"
   ]
  },
  {
   "cell_type": "code",
   "execution_count": null,
   "metadata": {},
   "outputs": [],
   "source": [
    "# Your code here:\n"
   ]
  },
  {
   "cell_type": "markdown",
   "metadata": {},
   "source": [
    "Fit the model and print the ranking"
   ]
  },
  {
   "cell_type": "code",
   "execution_count": null,
   "metadata": {},
   "outputs": [],
   "source": [
    "# Your code here:\n"
   ]
  },
  {
   "cell_type": "markdown",
   "metadata": {},
   "source": [
    "Feature importance is ranked from most important (1) to least important (4). Generate a model with the three most important features. The features correspond to variable names. For example, feature 1 is `cylinders` and feature 2 is `displacement`.\n",
    "\n",
    "Perform a test-train split on this reduced column data and call the split data `X_train_reduced`, `X_test_reduced`, `y_test_reduced`, `y_train_reduced`. Use an 80% split."
   ]
  },
  {
   "cell_type": "code",
   "execution_count": null,
   "metadata": {},
   "outputs": [],
   "source": [
    "# Your code here:\n"
   ]
  },
  {
   "cell_type": "markdown",
   "metadata": {},
   "source": [
    "Generate a new model called `auto_model_reduced` and fit this model. Then proceed to compute the r squared score for the model. Did this cause an improvement in the r squared score?"
   ]
  },
  {
   "cell_type": "code",
   "execution_count": null,
   "metadata": {},
   "outputs": [],
   "source": [
    "# Your code here: \n"
   ]
  },
  {
   "cell_type": "markdown",
   "metadata": {},
   "source": [
    "#### Conclusion\n",
    "\n",
    "You may obtain the impression from this lab that without knowing statistical methods in depth, it is difficult to make major progress in machine learning. That is correct. If you are motivated to become a data scientist, statistics is the subject you must be proficient in and there is no shortcut. \n",
    "\n",
    "Completing these labs is not likely to make you a data scientist. But you will have a good sense about what are there in machine learning and what are good for you. In your future career, you can choose one of the three tracks:\n",
    "\n",
    "* Data scientists who need to be proficient in statistical methods.\n",
    "\n",
    "* Data engineers who need to be good at programming.\n",
    "\n",
    "* Data integration specialists who are business or content experts but also understand data and programming. This cross-disciplinary track brings together data, technology, and business and will be in high demands in the next decade."
   ]
  }
 ],
 "metadata": {
  "kernelspec": {
   "display_name": "Python 3",
   "language": "python",
   "name": "python3"
  },
  "language_info": {
   "codemirror_mode": {
    "name": "ipython",
    "version": 3
   },
   "file_extension": ".py",
   "mimetype": "text/x-python",
   "name": "python",
   "nbconvert_exporter": "python",
   "pygments_lexer": "ipython3",
   "version": "3.7.1"
  }
 },
 "nbformat": 4,
 "nbformat_minor": 2
}
