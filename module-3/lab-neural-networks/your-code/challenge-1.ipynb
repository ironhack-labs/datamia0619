{
 "cells": [
  {
   "cell_type": "markdown",
   "metadata": {},
   "source": [
    "# Challenge 1 - Tic Tac Toe\n",
    "\n",
    "In this lab you will perform deep learning analysis on a dataset of playing [Tic Tac Toe](https://en.wikipedia.org/wiki/Tic-tac-toe).\n",
    "\n",
    "There are 9 grids in Tic Tac Toe that are coded as the following picture shows:\n",
    "\n",
    "![Tic Tac Toe Grids](tttboard.jpg)\n",
    "\n",
    "In the first 9 columns of the dataset you can find which marks (`x` or `o`) exist in the grids. If there is no mark in a certain grid, it is labeled as `b`. The last column is `class` which tells you whether Player X (who always moves first in Tic Tac Toe) wins in this configuration. Note that when `class` has the value `False`, it means either Player O wins the game or it ends up as a draw."
   ]
  },
  {
   "cell_type": "markdown",
   "metadata": {},
   "source": [
    "Follow the steps suggested below to conduct a neural network analysis using Tensorflow and Keras. You will build a deep learning model to predict whether Player X wins the game or not.\n",
    "\n",
    "## Step 1: Data Engineering\n",
    "\n",
    "This dataset is almost in the ready-to-use state so you do not need to worry about missing values and so on. Still, some simple data engineering is needed.\n",
    "\n",
    "1. Read `tic-tac-toe.csv` into a dataframe.\n",
    "1. Inspect the dataset. Determine if the dataset is reliable by eyeballing the data.\n",
    "1. Convert the categorical values to numeric in all columns.\n",
    "1. Separate the inputs and output.\n",
    "1. Normalize the input data."
   ]
  },
  {
   "cell_type": "code",
   "execution_count": 4,
   "metadata": {},
   "outputs": [
    {
     "data": {
      "text/html": [
       "<div>\n",
       "<style scoped>\n",
       "    .dataframe tbody tr th:only-of-type {\n",
       "        vertical-align: middle;\n",
       "    }\n",
       "\n",
       "    .dataframe tbody tr th {\n",
       "        vertical-align: top;\n",
       "    }\n",
       "\n",
       "    .dataframe thead th {\n",
       "        text-align: right;\n",
       "    }\n",
       "</style>\n",
       "<table border=\"1\" class=\"dataframe\">\n",
       "  <thead>\n",
       "    <tr style=\"text-align: right;\">\n",
       "      <th></th>\n",
       "      <th>TL</th>\n",
       "      <th>TM</th>\n",
       "      <th>TR</th>\n",
       "      <th>ML</th>\n",
       "      <th>MM</th>\n",
       "      <th>MR</th>\n",
       "      <th>BL</th>\n",
       "      <th>BM</th>\n",
       "      <th>BR</th>\n",
       "      <th>class</th>\n",
       "    </tr>\n",
       "  </thead>\n",
       "  <tbody>\n",
       "    <tr>\n",
       "      <th>0</th>\n",
       "      <td>x</td>\n",
       "      <td>x</td>\n",
       "      <td>x</td>\n",
       "      <td>x</td>\n",
       "      <td>o</td>\n",
       "      <td>o</td>\n",
       "      <td>x</td>\n",
       "      <td>o</td>\n",
       "      <td>o</td>\n",
       "      <td>True</td>\n",
       "    </tr>\n",
       "    <tr>\n",
       "      <th>1</th>\n",
       "      <td>x</td>\n",
       "      <td>x</td>\n",
       "      <td>x</td>\n",
       "      <td>x</td>\n",
       "      <td>o</td>\n",
       "      <td>o</td>\n",
       "      <td>o</td>\n",
       "      <td>x</td>\n",
       "      <td>o</td>\n",
       "      <td>True</td>\n",
       "    </tr>\n",
       "    <tr>\n",
       "      <th>2</th>\n",
       "      <td>x</td>\n",
       "      <td>x</td>\n",
       "      <td>x</td>\n",
       "      <td>x</td>\n",
       "      <td>o</td>\n",
       "      <td>o</td>\n",
       "      <td>o</td>\n",
       "      <td>o</td>\n",
       "      <td>x</td>\n",
       "      <td>True</td>\n",
       "    </tr>\n",
       "    <tr>\n",
       "      <th>3</th>\n",
       "      <td>x</td>\n",
       "      <td>x</td>\n",
       "      <td>x</td>\n",
       "      <td>x</td>\n",
       "      <td>o</td>\n",
       "      <td>o</td>\n",
       "      <td>o</td>\n",
       "      <td>b</td>\n",
       "      <td>b</td>\n",
       "      <td>True</td>\n",
       "    </tr>\n",
       "    <tr>\n",
       "      <th>4</th>\n",
       "      <td>x</td>\n",
       "      <td>x</td>\n",
       "      <td>x</td>\n",
       "      <td>x</td>\n",
       "      <td>o</td>\n",
       "      <td>o</td>\n",
       "      <td>b</td>\n",
       "      <td>o</td>\n",
       "      <td>b</td>\n",
       "      <td>True</td>\n",
       "    </tr>\n",
       "  </tbody>\n",
       "</table>\n",
       "</div>"
      ],
      "text/plain": [
       "  TL TM TR ML MM MR BL BM BR  class\n",
       "0  x  x  x  x  o  o  x  o  o   True\n",
       "1  x  x  x  x  o  o  o  x  o   True\n",
       "2  x  x  x  x  o  o  o  o  x   True\n",
       "3  x  x  x  x  o  o  o  b  b   True\n",
       "4  x  x  x  x  o  o  b  o  b   True"
      ]
     },
     "execution_count": 4,
     "metadata": {},
     "output_type": "execute_result"
    }
   ],
   "source": [
    "# your code here\n",
    "import pandas as pd\n",
    "\n",
    "tic_tac_toe = pd.read_csv('tic-tac-toe.csv')\n",
    "tic_tac_toe.head()"
   ]
  },
  {
   "cell_type": "code",
   "execution_count": 16,
   "metadata": {},
   "outputs": [
    {
     "data": {
      "text/html": [
       "<div>\n",
       "<style scoped>\n",
       "    .dataframe tbody tr th:only-of-type {\n",
       "        vertical-align: middle;\n",
       "    }\n",
       "\n",
       "    .dataframe tbody tr th {\n",
       "        vertical-align: top;\n",
       "    }\n",
       "\n",
       "    .dataframe thead th {\n",
       "        text-align: right;\n",
       "    }\n",
       "</style>\n",
       "<table border=\"1\" class=\"dataframe\">\n",
       "  <thead>\n",
       "    <tr style=\"text-align: right;\">\n",
       "      <th></th>\n",
       "      <th>TL</th>\n",
       "      <th>TM</th>\n",
       "      <th>TR</th>\n",
       "      <th>ML</th>\n",
       "      <th>MM</th>\n",
       "      <th>MR</th>\n",
       "      <th>BL</th>\n",
       "      <th>BM</th>\n",
       "      <th>BR</th>\n",
       "      <th>class</th>\n",
       "    </tr>\n",
       "  </thead>\n",
       "  <tbody>\n",
       "    <tr>\n",
       "      <th>0</th>\n",
       "      <td>x</td>\n",
       "      <td>x</td>\n",
       "      <td>x</td>\n",
       "      <td>x</td>\n",
       "      <td>o</td>\n",
       "      <td>o</td>\n",
       "      <td>x</td>\n",
       "      <td>o</td>\n",
       "      <td>o</td>\n",
       "      <td>1</td>\n",
       "    </tr>\n",
       "    <tr>\n",
       "      <th>1</th>\n",
       "      <td>x</td>\n",
       "      <td>x</td>\n",
       "      <td>x</td>\n",
       "      <td>x</td>\n",
       "      <td>o</td>\n",
       "      <td>o</td>\n",
       "      <td>o</td>\n",
       "      <td>x</td>\n",
       "      <td>o</td>\n",
       "      <td>1</td>\n",
       "    </tr>\n",
       "    <tr>\n",
       "      <th>2</th>\n",
       "      <td>x</td>\n",
       "      <td>x</td>\n",
       "      <td>x</td>\n",
       "      <td>x</td>\n",
       "      <td>o</td>\n",
       "      <td>o</td>\n",
       "      <td>o</td>\n",
       "      <td>o</td>\n",
       "      <td>x</td>\n",
       "      <td>1</td>\n",
       "    </tr>\n",
       "    <tr>\n",
       "      <th>3</th>\n",
       "      <td>x</td>\n",
       "      <td>x</td>\n",
       "      <td>x</td>\n",
       "      <td>x</td>\n",
       "      <td>o</td>\n",
       "      <td>o</td>\n",
       "      <td>o</td>\n",
       "      <td>b</td>\n",
       "      <td>b</td>\n",
       "      <td>1</td>\n",
       "    </tr>\n",
       "    <tr>\n",
       "      <th>4</th>\n",
       "      <td>x</td>\n",
       "      <td>x</td>\n",
       "      <td>x</td>\n",
       "      <td>x</td>\n",
       "      <td>o</td>\n",
       "      <td>o</td>\n",
       "      <td>b</td>\n",
       "      <td>o</td>\n",
       "      <td>b</td>\n",
       "      <td>1</td>\n",
       "    </tr>\n",
       "  </tbody>\n",
       "</table>\n",
       "</div>"
      ],
      "text/plain": [
       "  TL TM TR ML MM MR BL BM BR  class\n",
       "0  x  x  x  x  o  o  x  o  o      1\n",
       "1  x  x  x  x  o  o  o  x  o      1\n",
       "2  x  x  x  x  o  o  o  o  x      1\n",
       "3  x  x  x  x  o  o  o  b  b      1\n",
       "4  x  x  x  x  o  o  b  o  b      1"
      ]
     },
     "execution_count": 16,
     "metadata": {},
     "output_type": "execute_result"
    }
   ],
   "source": [
    "from sklearn.preprocessing import LabelEncoder\n",
    "\n",
    "tic_tac_toe['class'] = pd.Series(LabelEncoder().fit_transform(tic_tac_toe['class']))\n",
    "tic_tac_toe.head()"
   ]
  },
  {
   "cell_type": "code",
   "execution_count": 30,
   "metadata": {},
   "outputs": [],
   "source": [
    "# assign features to inputs and target to outputs\n",
    "inputs = tic_tac_toe.drop(['class'], axis = 1)\n",
    "outputs = tic_tac_toe['class']"
   ]
  },
  {
   "cell_type": "code",
   "execution_count": 31,
   "metadata": {},
   "outputs": [],
   "source": [
    "# One hot encoding for inputs\n",
    "inputs = pd.get_dummies(inputs).astype('float')"
   ]
  },
  {
   "cell_type": "markdown",
   "metadata": {},
   "source": [
    "## Step 2: Build Neural Network\n",
    "\n",
    "To build the neural network, you can refer to your own codes you wrote while following the [Deep Learning with Python, TensorFlow, and Keras tutorial](https://www.youtube.com/watch?v=wQ8BIBpya2k) in the lesson. It's pretty similar to what you will be doing in this lab.\n",
    "\n",
    "1. Split the training and test data.\n",
    "1. Create a `Sequential` model.\n",
    "1. Add several layers to your model. Make sure you use ReLU as the activation function for the middle layers. Use Softmax for the output layer because each output has a single lable and all the label probabilities add up to 1.\n",
    "1. Compile the model using `adam` as the optimizer and `sparse_categorical_crossentropy` as the loss function. For metrics, use `accuracy` for now.\n",
    "1. Fit the training data.\n",
    "1. Evaluate your neural network model with the test data.\n",
    "1. Save your model as `tic-tac-toe.model`."
   ]
  },
  {
   "cell_type": "code",
   "execution_count": 34,
   "metadata": {},
   "outputs": [],
   "source": [
    "# your code here\n",
    "# split train and test\n",
    "from sklearn.model_selection import train_test_split\n",
    "X_train, X_test, y_train, y_test = train_test_split(inputs, outputs)"
   ]
  },
  {
   "cell_type": "code",
   "execution_count": 61,
   "metadata": {},
   "outputs": [],
   "source": [
    "import tensorflow as tf\n",
    "import numpy as np"
   ]
  },
  {
   "cell_type": "code",
   "execution_count": 95,
   "metadata": {},
   "outputs": [
    {
     "name": "stdout",
     "output_type": "stream",
     "text": [
      "Epoch 1/20\n",
      "718/718 [==============================] - 0s 186us/sample - loss: 1.4417 - acc: 0.5669\n",
      "Epoch 2/20\n",
      "718/718 [==============================] - 0s 45us/sample - loss: 0.6039 - acc: 0.6950\n",
      "Epoch 3/20\n",
      "718/718 [==============================] - 0s 43us/sample - loss: 0.5195 - acc: 0.7437\n",
      "Epoch 4/20\n",
      "718/718 [==============================] - 0s 42us/sample - loss: 0.4788 - acc: 0.7591\n",
      "Epoch 5/20\n",
      "718/718 [==============================] - 0s 44us/sample - loss: 0.4279 - acc: 0.7911\n",
      "Epoch 6/20\n",
      "718/718 [==============================] - 0s 44us/sample - loss: 0.3745 - acc: 0.8370\n",
      "Epoch 7/20\n",
      "718/718 [==============================] - 0s 47us/sample - loss: 0.3126 - acc: 0.8872\n",
      "Epoch 8/20\n",
      "718/718 [==============================] - 0s 38us/sample - loss: 0.2528 - acc: 0.9373\n",
      "Epoch 9/20\n",
      "718/718 [==============================] - 0s 40us/sample - loss: 0.2053 - acc: 0.9499\n",
      "Epoch 10/20\n",
      "718/718 [==============================] - 0s 39us/sample - loss: 0.1522 - acc: 0.9791\n",
      "Epoch 11/20\n",
      "718/718 [==============================] - 0s 36us/sample - loss: 0.1156 - acc: 0.9847\n",
      "Epoch 12/20\n",
      "718/718 [==============================] - 0s 47us/sample - loss: 0.0887 - acc: 0.9875\n",
      "Epoch 13/20\n",
      "718/718 [==============================] - 0s 51us/sample - loss: 0.0708 - acc: 0.9861\n",
      "Epoch 14/20\n",
      "718/718 [==============================] - 0s 50us/sample - loss: 0.0570 - acc: 0.9916\n",
      "Epoch 15/20\n",
      "718/718 [==============================] - 0s 48us/sample - loss: 0.0444 - acc: 0.9944\n",
      "Epoch 16/20\n",
      "718/718 [==============================] - 0s 55us/sample - loss: 0.0396 - acc: 0.9930\n",
      "Epoch 17/20\n",
      "718/718 [==============================] - 0s 45us/sample - loss: 0.0319 - acc: 0.9958\n",
      "Epoch 18/20\n",
      "718/718 [==============================] - 0s 48us/sample - loss: 0.0278 - acc: 0.9972\n",
      "Epoch 19/20\n",
      "718/718 [==============================] - 0s 42us/sample - loss: 0.0232 - acc: 1.0000\n",
      "Epoch 20/20\n",
      "718/718 [==============================] - 0s 52us/sample - loss: 0.0191 - acc: 0.9986\n",
      "240/240 [==============================] - 0s 330us/sample - loss: 0.0839 - acc: 0.9750\n"
     ]
    }
   ],
   "source": [
    "model = tf.keras.models.Sequential()\n",
    "model.add(tf.keras.layers.Flatten())\n",
    "model.add(tf.keras.layers.Dense(128, activation=tf.nn.relu))\n",
    "model.add(tf.keras.layers.Dense(128, activation=tf.nn.relu))\n",
    "model.add(tf.keras.layers.Dense(10, activation=tf.nn.softmax))\n",
    "model.compile(optimizer = 'adam', loss = 'sparse_categorical_crossentropy', metrics=['accuracy'])\n",
    "model.fit(X_train.values, y_train.values, epochs=20)\n",
    "val_loss, val_acc = model.evaluate(X_test.values, y_test.values)\n",
    "model.save('tic_tac_toe.model')"
   ]
  },
  {
   "cell_type": "code",
   "execution_count": 96,
   "metadata": {},
   "outputs": [
    {
     "data": {
      "text/plain": [
       "0.0839377502600352"
      ]
     },
     "execution_count": 96,
     "metadata": {},
     "output_type": "execute_result"
    }
   ],
   "source": [
    "val_loss"
   ]
  },
  {
   "cell_type": "code",
   "execution_count": 97,
   "metadata": {},
   "outputs": [
    {
     "data": {
      "text/plain": [
       "0.975"
      ]
     },
     "execution_count": 97,
     "metadata": {},
     "output_type": "execute_result"
    }
   ],
   "source": [
    "val_acc"
   ]
  },
  {
   "cell_type": "markdown",
   "metadata": {},
   "source": [
    "## Step 3: Make Predictions\n",
    "\n",
    "Now load your saved model and use it to make predictions on a few random rows in the test dataset. Check if the predictions are correct."
   ]
  },
  {
   "cell_type": "code",
   "execution_count": 98,
   "metadata": {},
   "outputs": [
    {
     "name": "stderr",
     "output_type": "stream",
     "text": [
      "W0801 13:28:50.191154 139802848909120 hdf5_format.py:263] Sequential models without an `input_shape` passed to the first layer cannot reload their optimizer state. As a result, your model isstarting with a freshly initialized optimizer.\n"
     ]
    },
    {
     "name": "stdout",
     "output_type": "stream",
     "text": [
      "0\n"
     ]
    }
   ],
   "source": [
    "# your code here\n",
    "new_model = tf.keras.models.load_model('tic_tac_toe.model')\n",
    "predictions = new_model.predict(X_test.values)\n",
    "print(np.argmax(predictions[0]))"
   ]
  },
  {
   "cell_type": "markdown",
   "metadata": {},
   "source": [
    "## Step 4: Improve Your Model\n",
    "\n",
    "Did your model achieve low loss (<0.1) and high accuracy (>0.95)? If not, try to improve your model.\n",
    "\n",
    "But how? There are so many things you can play with in Tensorflow and in the next challenge you'll learn about these things. But in this challenge, let's just do a few things to see if they will help.\n",
    "\n",
    "* Add more layers to your model. If the data are complex you need more layers. But don't use more layers than you need. If adding more layers does not improve the model performance you don't need additional layers.\n",
    "* Adjust the learning rate when you compile the model. This means you will create a custom `tf.keras.optimizers.Adam` instance where you specify the learning rate you want. Then pass the instance to `model.compile` as the optimizer.\n",
    "    * `tf.keras.optimizers.Adam` [reference](https://www.tensorflow.org/api_docs/python/tf/keras/optimizers/Adam).\n",
    "    * Don't worry if you don't understand what the learning rate does. You'll learn about it in the next challenge.\n",
    "* Adjust the number of epochs when you fit the training data to the model. Your model performance continues to improve as you train more epochs. But eventually it will reach the ceiling and the performance will stay the same."
   ]
  },
  {
   "cell_type": "markdown",
   "metadata": {},
   "source": [
    "### Adjusting number of Epochs"
   ]
  },
  {
   "cell_type": "code",
   "execution_count": 101,
   "metadata": {},
   "outputs": [
    {
     "name": "stdout",
     "output_type": "stream",
     "text": [
      "240/240 [==============================] - 0s 695us/sample - loss: 0.0562 - acc: 0.9750\n",
      "\n",
      "---5 Epochs---\n",
      "\n",
      "Loss: 0.056200 \n",
      "Accuracy: 0.975000\n",
      "240/240 [==============================] - 0s 718us/sample - loss: 0.0789 - acc: 0.9667\n",
      "\n",
      "---10 Epochs---\n",
      "\n",
      "Loss: 0.078882 \n",
      "Accuracy: 0.966667\n",
      "240/240 [==============================] - 0s 756us/sample - loss: 0.0656 - acc: 0.9792\n",
      "\n",
      "---15 Epochs---\n",
      "\n",
      "Loss: 0.065642 \n",
      "Accuracy: 0.979167\n",
      "240/240 [==============================] - 0s 746us/sample - loss: 0.0954 - acc: 0.9583\n",
      "\n",
      "---20 Epochs---\n",
      "\n",
      "Loss: 0.095439 \n",
      "Accuracy: 0.958333\n",
      "240/240 [==============================] - 0s 741us/sample - loss: 0.0716 - acc: 0.9750\n",
      "\n",
      "---25 Epochs---\n",
      "\n",
      "Loss: 0.071611 \n",
      "Accuracy: 0.975000\n",
      "240/240 [==============================] - 0s 774us/sample - loss: 0.0652 - acc: 0.9792\n",
      "\n",
      "---30 Epochs---\n",
      "\n",
      "Loss: 0.065170 \n",
      "Accuracy: 0.979167\n",
      "240/240 [==============================] - 0s 834us/sample - loss: 0.0746 - acc: 0.9708\n",
      "\n",
      "---35 Epochs---\n",
      "\n",
      "Loss: 0.074640 \n",
      "Accuracy: 0.970833\n",
      "240/240 [==============================] - 0s 795us/sample - loss: 0.0722 - acc: 0.9750\n",
      "\n",
      "---40 Epochs---\n",
      "\n",
      "Loss: 0.072185 \n",
      "Accuracy: 0.975000\n",
      "240/240 [==============================] - 0s 807us/sample - loss: 0.0553 - acc: 0.9833\n",
      "\n",
      "---45 Epochs---\n",
      "\n",
      "Loss: 0.055350 \n",
      "Accuracy: 0.983333\n",
      "240/240 [==============================] - 0s 842us/sample - loss: 0.0866 - acc: 0.9708\n",
      "\n",
      "---50 Epochs---\n",
      "\n",
      "Loss: 0.086606 \n",
      "Accuracy: 0.970833\n",
      "240/240 [==============================] - 0s 877us/sample - loss: 0.0732 - acc: 0.9750\n",
      "\n",
      "---55 Epochs---\n",
      "\n",
      "Loss: 0.073194 \n",
      "Accuracy: 0.975000\n",
      "240/240 [==============================] - 0s 950us/sample - loss: 0.0866 - acc: 0.9833\n",
      "\n",
      "---60 Epochs---\n",
      "\n",
      "Loss: 0.086597 \n",
      "Accuracy: 0.983333\n",
      "240/240 [==============================] - 0s 945us/sample - loss: 0.0939 - acc: 0.9708\n",
      "\n",
      "---65 Epochs---\n",
      "\n",
      "Loss: 0.093897 \n",
      "Accuracy: 0.970833\n",
      "240/240 [==============================] - 0s 967us/sample - loss: 0.0916 - acc: 0.9625\n",
      "\n",
      "---70 Epochs---\n",
      "\n",
      "Loss: 0.091640 \n",
      "Accuracy: 0.962500\n",
      "240/240 [==============================] - 0s 927us/sample - loss: 0.0876 - acc: 0.9667\n",
      "\n",
      "---75 Epochs---\n",
      "\n",
      "Loss: 0.087606 \n",
      "Accuracy: 0.966667\n",
      "240/240 [==============================] - 0s 961us/sample - loss: 0.0767 - acc: 0.9750\n",
      "\n",
      "---80 Epochs---\n",
      "\n",
      "Loss: 0.076692 \n",
      "Accuracy: 0.975000\n",
      "240/240 [==============================] - 0s 968us/sample - loss: 0.0617 - acc: 0.9708\n",
      "\n",
      "---85 Epochs---\n",
      "\n",
      "Loss: 0.061719 \n",
      "Accuracy: 0.970833\n",
      "240/240 [==============================] - 0s 994us/sample - loss: 0.0740 - acc: 0.9750\n",
      "\n",
      "---90 Epochs---\n",
      "\n",
      "Loss: 0.073955 \n",
      "Accuracy: 0.975000\n",
      "240/240 [==============================] - 0s 1ms/sample - loss: 0.0750 - acc: 0.9750\n",
      "\n",
      "---95 Epochs---\n",
      "\n",
      "Loss: 0.074984 \n",
      "Accuracy: 0.975000\n"
     ]
    }
   ],
   "source": [
    "# your code here\n",
    "x = [] # stores epoch increments\n",
    "y = [] # stores acc\n",
    "z = [] # stores loss\n",
    "\n",
    "for e in range(5, 100, 5):\n",
    "    model = tf.keras.models.Sequential()\n",
    "    model.add(tf.keras.layers.Flatten())\n",
    "    model.add(tf.keras.layers.Dense(128, activation=tf.nn.relu))\n",
    "    model.add(tf.keras.layers.Dense(128, activation=tf.nn.relu))\n",
    "    model.add(tf.keras.layers.Dense(10, activation=tf.nn.softmax))\n",
    "    model.compile(optimizer = 'adam', loss = 'sparse_categorical_crossentropy', metrics=['accuracy'])\n",
    "    model.fit(X_train.values, y_train.values, epochs=20, verbose = 0)\n",
    "    val_loss, val_acc = model.evaluate(X_test.values, y_test.values)\n",
    "    x.append(e)\n",
    "    y.append(val_acc)\n",
    "    z.append(val_loss)\n",
    "    print(\"\\n---{} Epochs---\\n\".format(e))\n",
    "    print(\"Loss: %f\" % val_loss,\"\\nAccuracy: %f\" % val_acc)"
   ]
  },
  {
   "cell_type": "code",
   "execution_count": 114,
   "metadata": {},
   "outputs": [
    {
     "data": {
      "text/plain": [
       "Text(0, 0.5, 'Accuracy')"
      ]
     },
     "execution_count": 114,
     "metadata": {},
     "output_type": "execute_result"
    },
    {
     "data": {
      "image/png": "[encoded data removed]",
      "text/plain": [
       "<Figure size 432x288 with 1 Axes>"
      ]
     },
     "metadata": {
      "needs_background": "light"
     },
     "output_type": "display_data"
    }
   ],
   "source": [
    "import seaborn as sns\n",
    "\n",
    "sns.scatterplot(x, y, hue = z)\n",
    "plt.xlabel('Epochs')\n",
    "plt.ylabel('Accuracy')"
   ]
  },
  {
   "cell_type": "markdown",
   "metadata": {},
   "source": [
    "**Which approach(es) did you find helpful to improve your model performance?**"
   ]
  },
  {
   "cell_type": "code",
   "execution_count": null,
   "metadata": {},
   "outputs": [],
   "source": [
    "# your answer here\n",
    "# number of epochs "
   ]
  },
  {
   "cell_type": "markdown",
   "metadata": {},
   "source": [
    "![Ironhack logo](https://i.imgur.com/1QgrNNw.png)\n",
    "\n",
    "# Challenge 2: Tensorflow Hyperparameter Tuning\n",
    "\n",
    "## Getting Started\n",
    "\n",
    "From the lesson and Challenge 1 you should have noticed that understanding the concepts in neural network analysis such as *learning rate*, *epoch*, *optimizer*, *loss function* and so on is essential for you to optimize the neural network models you build. In this challenge you will study several learning pieces that discuss the hyperparameters in Tensorflow. \n",
    "\n",
    "**[Neural Networks: Structure](https://developers.google.com/machine-learning/crash-course/introduction-to-neural-networks/anatomy)**\n",
    "\n",
    "**[Understanding Deep Learning with TensorFlow Playground](https://medium.com/@andrewt3000/understanding-tensorflow-playground-c20cdb7a250b)**\n",
    "\n",
    "After that, complete [this exercise](https://developers.google.com/machine-learning/crash-course/introduction-to-neural-networks/playground-exercises) on tuning the Tensorflow hyperpamameters in the [Tensorflow Playground](https://playground.tensorflow.org/).\n",
    "\n",
    "Finally, using what you have learned, try tuning the hyperparameters for the spiral dataset in order to reach training and test loss <0.05 as shown in the following:\n",
    "\n",
    "![spiral output](challenge-2.png)\n",
    "\n",
    "After you're done, submit a screenshot of your Playground including the following information:\n",
    "\n",
    "* Epoch\n",
    "* Learning rate\n",
    "* Activation function\n",
    "* Features included\n",
    "* Hidden layers and neurons\n",
    "* Test and training loss\n",
    "\n",
    "**Do not google for the end solution!**"
   ]
  },
  {
   "cell_type": "markdown",
   "metadata": {},
   "source": [
    "# Challenge 2 result"
   ]
  },
  {
   "cell_type": "markdown",
   "metadata": {},
   "source": [
    "![result](result_nn.png)"
   ]
  },
  {
   "cell_type": "code",
   "execution_count": null,
   "metadata": {},
   "outputs": [],
   "source": []
  }
 ],
 "metadata": {
  "kernelspec": {
   "display_name": "Python 3",
   "language": "python",
   "name": "python3"
  },
  "language_info": {
   "codemirror_mode": {
    "name": "ipython",
    "version": 3
   },
   "file_extension": ".py",
   "mimetype": "text/x-python",
   "name": "python",
   "nbconvert_exporter": "python",
   "pygments_lexer": "ipython3",
   "version": "3.7.3"
  }
 },
 "nbformat": 4,
 "nbformat_minor": 4
}
