{
 "cells": [
  {
   "cell_type": "code",
   "execution_count": 1,
   "metadata": {},
   "outputs": [],
   "source": [
    "#Lets try and create a ML algo for prediction of malignent/begnine breast tumors"
   ]
  },
  {
   "cell_type": "code",
   "execution_count": 190,
   "metadata": {},
   "outputs": [],
   "source": [
    "#Import Libraries\n",
    "import os \n",
    "import numpy as np \n",
    "import pandas as pd \n",
    "import sklearn \n",
    "import matplotlib.pyplot as plt\n",
    "import seaborn as sns\n",
    "import warnings\n",
    "warnings.filterwarnings(\"ignore\", category=FutureWarning)\n"
   ]
  },
  {
   "cell_type": "code",
   "execution_count": 3,
   "metadata": {},
   "outputs": [],
   "source": [
    "#import the data, create DataFrame\n",
    "df = pd.read_csv(os.getcwd()+'/data.csv')"
   ]
  },
  {
   "cell_type": "code",
   "execution_count": 4,
   "metadata": {},
   "outputs": [
    {
     "name": "stdout",
     "output_type": "stream",
     "text": [
      "(569, 33)\n"
     ]
    },
    {
     "data": {
      "text/html": [
       "<div>\n",
       "<style scoped>\n",
       "    .dataframe tbody tr th:only-of-type {\n",
       "        vertical-align: middle;\n",
       "    }\n",
       "\n",
       "    .dataframe tbody tr th {\n",
       "        vertical-align: top;\n",
       "    }\n",
       "\n",
       "    .dataframe thead th {\n",
       "        text-align: right;\n",
       "    }\n",
       "</style>\n",
       "<table border=\"1\" class=\"dataframe\">\n",
       "  <thead>\n",
       "    <tr style=\"text-align: right;\">\n",
       "      <th></th>\n",
       "      <th>id</th>\n",
       "      <th>diagnosis</th>\n",
       "      <th>radius_mean</th>\n",
       "      <th>texture_mean</th>\n",
       "      <th>perimeter_mean</th>\n",
       "      <th>area_mean</th>\n",
       "      <th>smoothness_mean</th>\n",
       "      <th>compactness_mean</th>\n",
       "      <th>concavity_mean</th>\n",
       "      <th>concave points_mean</th>\n",
       "      <th>...</th>\n",
       "      <th>texture_worst</th>\n",
       "      <th>perimeter_worst</th>\n",
       "      <th>area_worst</th>\n",
       "      <th>smoothness_worst</th>\n",
       "      <th>compactness_worst</th>\n",
       "      <th>concavity_worst</th>\n",
       "      <th>concave points_worst</th>\n",
       "      <th>symmetry_worst</th>\n",
       "      <th>fractal_dimension_worst</th>\n",
       "      <th>Unnamed: 32</th>\n",
       "    </tr>\n",
       "  </thead>\n",
       "  <tbody>\n",
       "    <tr>\n",
       "      <th>0</th>\n",
       "      <td>842302</td>\n",
       "      <td>M</td>\n",
       "      <td>17.99</td>\n",
       "      <td>10.38</td>\n",
       "      <td>122.80</td>\n",
       "      <td>1001.0</td>\n",
       "      <td>0.11840</td>\n",
       "      <td>0.27760</td>\n",
       "      <td>0.3001</td>\n",
       "      <td>0.14710</td>\n",
       "      <td>...</td>\n",
       "      <td>17.33</td>\n",
       "      <td>184.60</td>\n",
       "      <td>2019.0</td>\n",
       "      <td>0.1622</td>\n",
       "      <td>0.6656</td>\n",
       "      <td>0.7119</td>\n",
       "      <td>0.2654</td>\n",
       "      <td>0.4601</td>\n",
       "      <td>0.11890</td>\n",
       "      <td>NaN</td>\n",
       "    </tr>\n",
       "    <tr>\n",
       "      <th>1</th>\n",
       "      <td>842517</td>\n",
       "      <td>M</td>\n",
       "      <td>20.57</td>\n",
       "      <td>17.77</td>\n",
       "      <td>132.90</td>\n",
       "      <td>1326.0</td>\n",
       "      <td>0.08474</td>\n",
       "      <td>0.07864</td>\n",
       "      <td>0.0869</td>\n",
       "      <td>0.07017</td>\n",
       "      <td>...</td>\n",
       "      <td>23.41</td>\n",
       "      <td>158.80</td>\n",
       "      <td>1956.0</td>\n",
       "      <td>0.1238</td>\n",
       "      <td>0.1866</td>\n",
       "      <td>0.2416</td>\n",
       "      <td>0.1860</td>\n",
       "      <td>0.2750</td>\n",
       "      <td>0.08902</td>\n",
       "      <td>NaN</td>\n",
       "    </tr>\n",
       "    <tr>\n",
       "      <th>2</th>\n",
       "      <td>84300903</td>\n",
       "      <td>M</td>\n",
       "      <td>19.69</td>\n",
       "      <td>21.25</td>\n",
       "      <td>130.00</td>\n",
       "      <td>1203.0</td>\n",
       "      <td>0.10960</td>\n",
       "      <td>0.15990</td>\n",
       "      <td>0.1974</td>\n",
       "      <td>0.12790</td>\n",
       "      <td>...</td>\n",
       "      <td>25.53</td>\n",
       "      <td>152.50</td>\n",
       "      <td>1709.0</td>\n",
       "      <td>0.1444</td>\n",
       "      <td>0.4245</td>\n",
       "      <td>0.4504</td>\n",
       "      <td>0.2430</td>\n",
       "      <td>0.3613</td>\n",
       "      <td>0.08758</td>\n",
       "      <td>NaN</td>\n",
       "    </tr>\n",
       "    <tr>\n",
       "      <th>3</th>\n",
       "      <td>84348301</td>\n",
       "      <td>M</td>\n",
       "      <td>11.42</td>\n",
       "      <td>20.38</td>\n",
       "      <td>77.58</td>\n",
       "      <td>386.1</td>\n",
       "      <td>0.14250</td>\n",
       "      <td>0.28390</td>\n",
       "      <td>0.2414</td>\n",
       "      <td>0.10520</td>\n",
       "      <td>...</td>\n",
       "      <td>26.50</td>\n",
       "      <td>98.87</td>\n",
       "      <td>567.7</td>\n",
       "      <td>0.2098</td>\n",
       "      <td>0.8663</td>\n",
       "      <td>0.6869</td>\n",
       "      <td>0.2575</td>\n",
       "      <td>0.6638</td>\n",
       "      <td>0.17300</td>\n",
       "      <td>NaN</td>\n",
       "    </tr>\n",
       "    <tr>\n",
       "      <th>4</th>\n",
       "      <td>84358402</td>\n",
       "      <td>M</td>\n",
       "      <td>20.29</td>\n",
       "      <td>14.34</td>\n",
       "      <td>135.10</td>\n",
       "      <td>1297.0</td>\n",
       "      <td>0.10030</td>\n",
       "      <td>0.13280</td>\n",
       "      <td>0.1980</td>\n",
       "      <td>0.10430</td>\n",
       "      <td>...</td>\n",
       "      <td>16.67</td>\n",
       "      <td>152.20</td>\n",
       "      <td>1575.0</td>\n",
       "      <td>0.1374</td>\n",
       "      <td>0.2050</td>\n",
       "      <td>0.4000</td>\n",
       "      <td>0.1625</td>\n",
       "      <td>0.2364</td>\n",
       "      <td>0.07678</td>\n",
       "      <td>NaN</td>\n",
       "    </tr>\n",
       "  </tbody>\n",
       "</table>\n",
       "<p>5 rows × 33 columns</p>\n",
       "</div>"
      ],
      "text/plain": [
       "         id diagnosis  radius_mean  texture_mean  perimeter_mean  area_mean  \\\n",
       "0    842302         M        17.99         10.38          122.80     1001.0   \n",
       "1    842517         M        20.57         17.77          132.90     1326.0   \n",
       "2  84300903         M        19.69         21.25          130.00     1203.0   \n",
       "3  84348301         M        11.42         20.38           77.58      386.1   \n",
       "4  84358402         M        20.29         14.34          135.10     1297.0   \n",
       "\n",
       "   smoothness_mean  compactness_mean  concavity_mean  concave points_mean  \\\n",
       "0          0.11840           0.27760          0.3001              0.14710   \n",
       "1          0.08474           0.07864          0.0869              0.07017   \n",
       "2          0.10960           0.15990          0.1974              0.12790   \n",
       "3          0.14250           0.28390          0.2414              0.10520   \n",
       "4          0.10030           0.13280          0.1980              0.10430   \n",
       "\n",
       "   ...  texture_worst  perimeter_worst  area_worst  smoothness_worst  \\\n",
       "0  ...          17.33           184.60      2019.0            0.1622   \n",
       "1  ...          23.41           158.80      1956.0            0.1238   \n",
       "2  ...          25.53           152.50      1709.0            0.1444   \n",
       "3  ...          26.50            98.87       567.7            0.2098   \n",
       "4  ...          16.67           152.20      1575.0            0.1374   \n",
       "\n",
       "   compactness_worst  concavity_worst  concave points_worst  symmetry_worst  \\\n",
       "0             0.6656           0.7119                0.2654          0.4601   \n",
       "1             0.1866           0.2416                0.1860          0.2750   \n",
       "2             0.4245           0.4504                0.2430          0.3613   \n",
       "3             0.8663           0.6869                0.2575          0.6638   \n",
       "4             0.2050           0.4000                0.1625          0.2364   \n",
       "\n",
       "   fractal_dimension_worst  Unnamed: 32  \n",
       "0                  0.11890          NaN  \n",
       "1                  0.08902          NaN  \n",
       "2                  0.08758          NaN  \n",
       "3                  0.17300          NaN  \n",
       "4                  0.07678          NaN  \n",
       "\n",
       "[5 rows x 33 columns]"
      ]
     },
     "execution_count": 4,
     "metadata": {},
     "output_type": "execute_result"
    }
   ],
   "source": [
    "#lets take a look at the DataFrame\n",
    "print(df.shape)\n",
    "df.head()"
   ]
  },
  {
   "cell_type": "code",
   "execution_count": 5,
   "metadata": {},
   "outputs": [
    {
     "data": {
      "text/plain": [
       "id                           int64\n",
       "diagnosis                   object\n",
       "radius_mean                float64\n",
       "texture_mean               float64\n",
       "perimeter_mean             float64\n",
       "area_mean                  float64\n",
       "smoothness_mean            float64\n",
       "compactness_mean           float64\n",
       "concavity_mean             float64\n",
       "concave points_mean        float64\n",
       "symmetry_mean              float64\n",
       "fractal_dimension_mean     float64\n",
       "radius_se                  float64\n",
       "texture_se                 float64\n",
       "perimeter_se               float64\n",
       "area_se                    float64\n",
       "smoothness_se              float64\n",
       "compactness_se             float64\n",
       "concavity_se               float64\n",
       "concave points_se          float64\n",
       "symmetry_se                float64\n",
       "fractal_dimension_se       float64\n",
       "radius_worst               float64\n",
       "texture_worst              float64\n",
       "perimeter_worst            float64\n",
       "area_worst                 float64\n",
       "smoothness_worst           float64\n",
       "compactness_worst          float64\n",
       "concavity_worst            float64\n",
       "concave points_worst       float64\n",
       "symmetry_worst             float64\n",
       "fractal_dimension_worst    float64\n",
       "Unnamed: 32                float64\n",
       "dtype: object"
      ]
     },
     "execution_count": 5,
     "metadata": {},
     "output_type": "execute_result"
    }
   ],
   "source": [
    "#We have 569 records and 33 features. \n",
    "#lets look at all the column names and their datatypes to see if we need to do any cleaning:\n",
    "df.dtypes"
   ]
  },
  {
   "cell_type": "code",
   "execution_count": 6,
   "metadata": {},
   "outputs": [
    {
     "data": {
      "text/plain": [
       "id                           0\n",
       "diagnosis                    0\n",
       "radius_mean                  0\n",
       "texture_mean                 0\n",
       "perimeter_mean               0\n",
       "area_mean                    0\n",
       "smoothness_mean              0\n",
       "compactness_mean             0\n",
       "concavity_mean               0\n",
       "concave points_mean          0\n",
       "symmetry_mean                0\n",
       "fractal_dimension_mean       0\n",
       "radius_se                    0\n",
       "texture_se                   0\n",
       "perimeter_se                 0\n",
       "area_se                      0\n",
       "smoothness_se                0\n",
       "compactness_se               0\n",
       "concavity_se                 0\n",
       "concave points_se            0\n",
       "symmetry_se                  0\n",
       "fractal_dimension_se         0\n",
       "radius_worst                 0\n",
       "texture_worst                0\n",
       "perimeter_worst              0\n",
       "area_worst                   0\n",
       "smoothness_worst             0\n",
       "compactness_worst            0\n",
       "concavity_worst              0\n",
       "concave points_worst         0\n",
       "symmetry_worst               0\n",
       "fractal_dimension_worst      0\n",
       "Unnamed: 32                569\n",
       "dtype: int64"
      ]
     },
     "execution_count": 6,
     "metadata": {},
     "output_type": "execute_result"
    }
   ],
   "source": [
    "#great, looks like everything except for our label(diagnosis) is numerical. \n",
    "#lets check for missing values: \n",
    "df.isnull().sum()"
   ]
  },
  {
   "cell_type": "code",
   "execution_count": 7,
   "metadata": {},
   "outputs": [],
   "source": [
    "#the Unnamed:32 column is filled with missing values, lets drop it. \n",
    "df.drop('Unnamed: 32',inplace=True,axis=1)"
   ]
  },
  {
   "cell_type": "code",
   "execution_count": 8,
   "metadata": {},
   "outputs": [],
   "source": [
    "#We also dont want the ID column as it gives us no predictive information about our label\n",
    "df.drop('id', inplace=True, axis=1)"
   ]
  },
  {
   "cell_type": "code",
   "execution_count": 9,
   "metadata": {},
   "outputs": [
    {
     "name": "stdout",
     "output_type": "stream",
     "text": [
      "10 10 10\n"
     ]
    }
   ],
   "source": [
    "#As you can see from the column names: the data can be divded into 3 parts: \n",
    "#1.Means 2. Standard errors. 3.Worst Cells\n",
    "#Each of which contain the same 10 parameters\n",
    "#Here Mean signifies the means of the all cells, standard Error of all cell and worst signifies the worst cell\n",
    "#so lets divide the data into 3 dataframes \n",
    "\n",
    "mean_cols = [i for i in df.columns if '_mean' in i]\n",
    "se_cols = [i for i in df.columns if '_se' in i]\n",
    "worst_cols = [i for i in df.columns if '_worst' in i]\n",
    "\n",
    "df_m = pd.DataFrame(df, columns=mean_cols)\n",
    "df_s = pd.DataFrame(df, columns=se_cols)\n",
    "df_w = pd.DataFrame(df, columns=worst_cols)\n",
    "\n",
    "#Each column should have 10 features \n",
    "print(len(df_m.columns),len(df_s.columns),len(df_w.columns))"
   ]
  },
  {
   "cell_type": "code",
   "execution_count": 10,
   "metadata": {},
   "outputs": [],
   "source": [
    "#great, lets put our label in its own DataFrame as well: \n",
    "label = df['diagnosis']"
   ]
  },
  {
   "cell_type": "code",
   "execution_count": 11,
   "metadata": {},
   "outputs": [
    {
     "name": "stdout",
     "output_type": "stream",
     "text": [
      "     Mean:\n",
      "        radius_mean  texture_mean  perimeter_mean    area_mean  \\\n",
      "count   569.000000    569.000000      569.000000   569.000000   \n",
      "mean     14.127292     19.289649       91.969033   654.889104   \n",
      "std       3.524049      4.301036       24.298981   351.914129   \n",
      "min       6.981000      9.710000       43.790000   143.500000   \n",
      "25%      11.700000     16.170000       75.170000   420.300000   \n",
      "50%      13.370000     18.840000       86.240000   551.100000   \n",
      "75%      15.780000     21.800000      104.100000   782.700000   \n",
      "max      28.110000     39.280000      188.500000  2501.000000   \n",
      "\n",
      "       smoothness_mean  compactness_mean  concavity_mean  concave points_mean  \\\n",
      "count       569.000000        569.000000      569.000000           569.000000   \n",
      "mean          0.096360          0.104341        0.088799             0.048919   \n",
      "std           0.014064          0.052813        0.079720             0.038803   \n",
      "min           0.052630          0.019380        0.000000             0.000000   \n",
      "25%           0.086370          0.064920        0.029560             0.020310   \n",
      "50%           0.095870          0.092630        0.061540             0.033500   \n",
      "75%           0.105300          0.130400        0.130700             0.074000   \n",
      "max           0.163400          0.345400        0.426800             0.201200   \n",
      "\n",
      "       symmetry_mean  fractal_dimension_mean  \n",
      "count     569.000000              569.000000  \n",
      "mean        0.181162                0.062798  \n",
      "std         0.027414                0.007060  \n",
      "min         0.106000                0.049960  \n",
      "25%         0.161900                0.057700  \n",
      "50%         0.179200                0.061540  \n",
      "75%         0.195700                0.066120  \n",
      "max         0.304000                0.097440  \n",
      "\n",
      "\n",
      "     Worst:\n",
      "        radius_worst  texture_worst  perimeter_worst   area_worst  \\\n",
      "count    569.000000     569.000000       569.000000   569.000000   \n",
      "mean      16.269190      25.677223       107.261213   880.583128   \n",
      "std        4.833242       6.146258        33.602542   569.356993   \n",
      "min        7.930000      12.020000        50.410000   185.200000   \n",
      "25%       13.010000      21.080000        84.110000   515.300000   \n",
      "50%       14.970000      25.410000        97.660000   686.500000   \n",
      "75%       18.790000      29.720000       125.400000  1084.000000   \n",
      "max       36.040000      49.540000       251.200000  4254.000000   \n",
      "\n",
      "       smoothness_worst  compactness_worst  concavity_worst  \\\n",
      "count        569.000000         569.000000       569.000000   \n",
      "mean           0.132369           0.254265         0.272188   \n",
      "std            0.022832           0.157336         0.208624   \n",
      "min            0.071170           0.027290         0.000000   \n",
      "25%            0.116600           0.147200         0.114500   \n",
      "50%            0.131300           0.211900         0.226700   \n",
      "75%            0.146000           0.339100         0.382900   \n",
      "max            0.222600           1.058000         1.252000   \n",
      "\n",
      "       concave points_worst  symmetry_worst  fractal_dimension_worst  \n",
      "count            569.000000      569.000000               569.000000  \n",
      "mean               0.114606        0.290076                 0.083946  \n",
      "std                0.065732        0.061867                 0.018061  \n",
      "min                0.000000        0.156500                 0.055040  \n",
      "25%                0.064930        0.250400                 0.071460  \n",
      "50%                0.099930        0.282200                 0.080040  \n",
      "75%                0.161400        0.317900                 0.092080  \n",
      "max                0.291000        0.663800                 0.207500  \n"
     ]
    }
   ],
   "source": [
    "#lets explore some descriptive stats, especially i want to see the difference between worst and mean.\n",
    "print('     Mean:\\n',df_m.describe())\n",
    "print('\\n\\n     Worst:\\n',df_w.describe())"
   ]
  },
  {
   "cell_type": "code",
   "execution_count": 207,
   "metadata": {},
   "outputs": [
    {
     "data": {
      "text/plain": [
       "<matplotlib.axes._subplots.AxesSubplot at 0x1a2556d780>"
      ]
     },
     "execution_count": 207,
     "metadata": {},
     "output_type": "execute_result"
    },
    {
     "data": {
      "image/png": "[encoded data removed]",
      "text/plain": [
       "<Figure size 1080x1080 with 2 Axes>"
      ]
     },
     "metadata": {
      "needs_background": "light"
     },
     "output_type": "display_data"
    }
   ],
   "source": [
    "#Looks like, as expected the wrost cells have slightly increased means and STDEV. \n",
    "#now lets plot a heatmap to check and remove multicollinearity. \n",
    "\n",
    "plt.figure(figsize=(15,15))\n",
    "sns.heatmap(df_m.corr(), cbar = True,  square = True,\n",
    "            annot=True, fmt= '.2f',annot_kws={'size': 15},\n",
    "           cmap= 'coolwarm')"
   ]
  },
  {
   "cell_type": "code",
   "execution_count": 13,
   "metadata": {},
   "outputs": [],
   "source": [
    "#we'll remove features that show high collinearity ~>.80\n",
    "drop_cols = ['concave points_mean','compactness_mean','area_mean','perimeter_mean']\n",
    "df_m.drop(drop_cols,inplace=True,axis=1)"
   ]
  },
  {
   "cell_type": "code",
   "execution_count": 208,
   "metadata": {},
   "outputs": [
    {
     "data": {
      "text/plain": [
       "<matplotlib.axes._subplots.AxesSubplot at 0x1a2a58bd30>"
      ]
     },
     "execution_count": 208,
     "metadata": {},
     "output_type": "execute_result"
    },
    {
     "data": {
      "image/png": "[encoded data removed]",
      "text/plain": [
       "<Figure size 936x936 with 2 Axes>"
      ]
     },
     "metadata": {
      "needs_background": "light"
     },
     "output_type": "display_data"
    }
   ],
   "source": [
    "#redraw the heatmap to check again.\n",
    "plt.figure(figsize=(13,13))\n",
    "sns.heatmap(df_m.corr(), cbar = True,  square = True,\n",
    "            annot=True, fmt= '.2f',annot_kws={'size': 15},\n",
    "           cmap= 'coolwarm')"
   ]
  },
  {
   "cell_type": "code",
   "execution_count": 15,
   "metadata": {},
   "outputs": [],
   "source": [
    "#almost forgot, lets turn that label into numerical: 1 for M, 0 for B:\n",
    "label = np.where(label=='B',1,0)"
   ]
  },
  {
   "cell_type": "code",
   "execution_count": 63,
   "metadata": {},
   "outputs": [],
   "source": [
    "#Time to split the dataset: \n",
    "from sklearn.model_selection import train_test_split\n",
    "\n",
    "X_train, X_test, y_train, y_test = train_test_split(df_m, label, test_size=0.2)"
   ]
  },
  {
   "cell_type": "code",
   "execution_count": 109,
   "metadata": {},
   "outputs": [],
   "source": [
    "#lets try different tests and see how they perform: \n",
    "#1.Logistic Regression \n",
    "#2.KNN \n",
    "#3.Random Forest\n",
    "#4.Support Vector Machine (SVM)\n",
    "\n",
    "def tests(X_train=X_train, X_test=X_test, y_train=y_train, y_test=y_test): \n",
    "#1. Logistic Reg\n",
    "    from sklearn.linear_model import LogisticRegression\n",
    "    ks_model = LogisticRegression().fit(X_train, y_train)\n",
    "    \n",
    "    #Predict\n",
    "    from sklearn.metrics import confusion_matrix\n",
    "    y_pred_test = ks_model.predict(X_test)\n",
    "    \n",
    "    #ConfusionMatrix\n",
    "    Log_CM = confusion_matrix(y_test, y_pred_test)\n",
    "    \n",
    "    #AUC\n",
    "    from sklearn import metrics\n",
    "    y_pred_proba = ks_model.predict_proba(X_test)[::,1]\n",
    "    fpr, tpr, _ = metrics.roc_curve(y_test,  y_pred_proba)\n",
    "    Log_auc = metrics.roc_auc_score(y_test, y_pred_proba)\n",
    "    \n",
    "    \n",
    "#2. KNN\n",
    "    from sklearn.neighbors import KNeighborsClassifier\n",
    "    neighbor_model = KNeighborsClassifier(n_neighbors=2)\n",
    "    neighbor_model.fit(X_train, y_train) \n",
    "    \n",
    "    #Predict\n",
    "    y_pred_test_KNN =neighbor_model.predict(X_test)\n",
    "    \n",
    "    #ConfusionMatrix\n",
    "    KNN_CM = confusion_matrix(y_test, y_pred_test_KNN)\n",
    "    \n",
    "    #AUC\n",
    "    y_pred_proba = neighbor_model.predict_proba(X_test)[::,1]\n",
    "    fpr, tpr, _ = metrics.roc_curve(y_test,  y_pred_proba)\n",
    "    KNN_auc = metrics.roc_auc_score(y_test, y_pred_proba)    \n",
    "    \n",
    "#3.Random Forest\n",
    "    from sklearn.ensemble import RandomForestClassifier\n",
    "    ks_rf = RandomForestClassifier(n_estimators=50).fit(X_train, y_train)\n",
    "    \n",
    "    #Predict \n",
    "    y_pred_test_rf = ks_rf.predict(X_test)\n",
    "    \n",
    "    #ConfustionMatrix\n",
    "    RF_CM = confusion_matrix(y_test, y_pred_test_rf)\n",
    "    \n",
    "    #AUC\n",
    "    y_pred_proba_rf = ks_rf.predict_proba(X_test)[::,1]\n",
    "    fpr, tpr, _ = metrics.roc_curve(y_test,  y_pred_proba_rf)\n",
    "    RF_auc = metrics.roc_auc_score(y_test, y_pred_proba_rf)\n",
    "    \n",
    "    \n",
    "#4.Support Vector Machine (SVM)\n",
    "    from sklearn.svm import SVC\n",
    "    svc_model = SVC(gamma='auto')\n",
    "    svc_model.fit(X_train, y_train) \n",
    "    \n",
    "    #Predict\n",
    "    y_pred_test_SVM = svc_model.predict(X_test)\n",
    "    \n",
    "    #ConfusionMatrix \n",
    "    SVM_CM = confusion_matrix(y_test, y_pred_test_SVM)\n",
    "    \n",
    "    #AUC\n",
    "    y_pred_proba_SVM = svc_model.predict(X_test)\n",
    "    fpr, tpr, _ = metrics.roc_curve(y_test,  y_pred_proba_SVM)\n",
    "    SVM_auc = metrics.roc_auc_score(y_test, y_pred_proba_SVM)    \n",
    "    \n",
    "    #Results  \n",
    "    results = [[Log_CM,Log_auc], [KNN_CM,KNN_auc], [RF_CM,RF_auc], [SVM_CM,SVM_auc]]\n",
    "#     print('\\nLogistic regression: \\n')\n",
    "#     print('Confusion Matrix:\\n', Log_CM)\n",
    "#     print('AUC: ', Log_auc)\n",
    "\n",
    "#     print('\\nKNN: \\n')\n",
    "#     print('Confusion Matrix:\\n', KNN_CM)\n",
    "#     print('AUC: ', KNN_auc)    \n",
    "\n",
    "#     print('\\nRandom Forest: \\n')\n",
    "#     print('Confusion Matrix:\\n', RF_CM)\n",
    "#     print('AUC: ', RF_auc)\n",
    "\n",
    "#     print('\\nSVM: \\n')\n",
    "#     print('Confusion Matrix:\\n', SVM_CM)\n",
    "#     print('AUC: ', SVM_auc)    \n",
    "    return results\n"
   ]
  },
  {
   "cell_type": "code",
   "execution_count": 197,
   "metadata": {},
   "outputs": [],
   "source": [
    "#lets cross-validate our model n times: \n",
    "\n",
    "def cross_val(n,df=df_m):\n",
    "    log_list = [] \n",
    "    knn_list = [] \n",
    "    rf_list = [] \n",
    "    svm_list = [] \n",
    "    \n",
    "    for i in range(n):\n",
    "        from sklearn.model_selection import train_test_split\n",
    "        X_train, X_test, y_train, y_test = train_test_split(df_m, label, test_size=0.1)\n",
    "        \n",
    "        log, knn, rf, svm = tests(X_train, X_test, y_train, y_test)\n",
    "        \n",
    "        log_list.append(log)\n",
    "        knn_list.append(knn)\n",
    "        rf_list.append(rf)\n",
    "        svm_list.append(svm)\n",
    "    \n",
    "    log_CM = [i[0] for i in log_list]\n",
    "    knn_CM = [i[0] for i in knn_list]\n",
    "    rf_CM = [i[0] for i in rf_list] \n",
    "    svm_CM = [i[0] for i in svm_list]\n",
    "    #Find averages\n",
    "    x=0\n",
    "    for i in log_CM: \n",
    "        x+=i\n",
    "    x_log = x/len(log_CM)\n",
    "    \n",
    "    x=0\n",
    "    for i in knn_CM: \n",
    "        x+=i\n",
    "    x_knn = x/len(knn_CM) \n",
    "    \n",
    "    x=0\n",
    "    for i in rf_CM: \n",
    "        x+=i\n",
    "    x_rf = x/len(rf_CM)\n",
    "\n",
    "    x=0\n",
    "    for i in svm_CM: \n",
    "        x+=i\n",
    "    x_svm = x/len(svm_CM)\n",
    "    \n",
    "    log_auc = [i[1] for i in log_list]\n",
    "    knn_auc = [i[1] for i in knn_list]\n",
    "    rf_auc = [i[1] for i in rf_list] \n",
    "    svm_auc = [i[1] for i in svm_list]    \n",
    "    \n",
    "    print('\\n1. Logistic regression: \\n')\n",
    "    print('Confusion Matrix:\\n', x_log)\n",
    "    print('\\nAUC: ', np.mean(log_auc))\n",
    "\n",
    "    print('\\n1. KNN: \\n')\n",
    "    print('Confusion Matrix:\\n', x_knn)\n",
    "    print('\\nAUC: ', np.mean(knn_auc))   \n",
    "\n",
    "    print('\\n1. Random Forest: \\n')\n",
    "    print('Confusion Matrix:\\n', x_rf)\n",
    "    print('\\nAUC: ', np.mean(rf_auc))\n",
    "\n",
    "    print('\\n1. SVM: \\n')\n",
    "    print('Confusion Matrix:\\n', x_svm)\n",
    "    print('\\nAUC: ', np.mean(svm_auc))  \n",
    "    \n",
    "    return 'Completed'"
   ]
  },
  {
   "cell_type": "code",
   "execution_count": 204,
   "metadata": {},
   "outputs": [
    {
     "name": "stdout",
     "output_type": "stream",
     "text": [
      "\n",
      "1. Logistic regression: \n",
      "\n",
      "Confusion Matrix:\n",
      " [[16.735  4.99 ]\n",
      " [ 0.955 34.32 ]]\n",
      "\n",
      "AUC:  0.9623233956170958\n",
      "\n",
      "1. KNN: \n",
      "\n",
      "Confusion Matrix:\n",
      " [[19.315  2.41 ]\n",
      " [ 6.415 28.86 ]]\n",
      "\n",
      "AUC:  0.8987720367794213\n",
      "\n",
      "1. Random Forest: \n",
      "\n",
      "Confusion Matrix:\n",
      " [[19.78   1.945]\n",
      " [ 1.04  34.235]]\n",
      "\n",
      "AUC:  0.983550666449244\n",
      "\n",
      "1. SVM: \n",
      "\n",
      "Confusion Matrix:\n",
      " [[17.585  4.14 ]\n",
      " [ 2.055 33.22 ]]\n",
      "\n",
      "AUC:  0.8756180687213118\n"
     ]
    },
    {
     "data": {
      "text/plain": [
       "'Completed'"
      ]
     },
     "execution_count": 204,
     "metadata": {},
     "output_type": "execute_result"
    }
   ],
   "source": [
    "#now lets cross validate each data section and see which data and model is 'best' for prediction:\n",
    "#Mean measurements\n",
    "cross_val(200,df_m)"
   ]
  },
  {
   "cell_type": "code",
   "execution_count": 205,
   "metadata": {},
   "outputs": [
    {
     "name": "stdout",
     "output_type": "stream",
     "text": [
      "\n",
      "1. Logistic regression: \n",
      "\n",
      "Confusion Matrix:\n",
      " [[16.59   4.925]\n",
      " [ 0.915 34.57 ]]\n",
      "\n",
      "AUC:  0.9628040941243584\n",
      "\n",
      "1. KNN: \n",
      "\n",
      "Confusion Matrix:\n",
      " [[19.145  2.37 ]\n",
      " [ 6.42  29.065]]\n",
      "\n",
      "AUC:  0.8996784181329355\n",
      "\n",
      "1. Random Forest: \n",
      "\n",
      "Confusion Matrix:\n",
      " [[19.62   1.895]\n",
      " [ 1.095 34.39 ]]\n",
      "\n",
      "AUC:  0.9832382471876144\n",
      "\n",
      "1. SVM: \n",
      "\n",
      "Confusion Matrix:\n",
      " [[17.555  3.96 ]\n",
      " [ 1.99  33.495]]\n",
      "\n",
      "AUC:  0.8794435210135052\n"
     ]
    },
    {
     "data": {
      "text/plain": [
       "'Completed'"
      ]
     },
     "execution_count": 205,
     "metadata": {},
     "output_type": "execute_result"
    }
   ],
   "source": [
    "#worst measurements\n",
    "cross_val(200,df_w)"
   ]
  },
  {
   "cell_type": "code",
   "execution_count": 206,
   "metadata": {},
   "outputs": [
    {
     "name": "stdout",
     "output_type": "stream",
     "text": [
      "\n",
      "1. Logistic regression: \n",
      "\n",
      "Confusion Matrix:\n",
      " [[16.775  4.525]\n",
      " [ 0.78  34.92 ]]\n",
      "\n",
      "AUC:  0.9654262783987433\n",
      "\n",
      "1. KNN: \n",
      "\n",
      "Confusion Matrix:\n",
      " [[19.175  2.125]\n",
      " [ 6.225 29.475]]\n",
      "\n",
      "AUC:  0.9068710573782802\n",
      "\n",
      "1. Random Forest: \n",
      "\n",
      "Confusion Matrix:\n",
      " [[19.475  1.825]\n",
      " [ 1.025 34.675]]\n",
      "\n",
      "AUC:  0.9832714873345175\n",
      "\n",
      "1. SVM: \n",
      "\n",
      "Confusion Matrix:\n",
      " [[17.51   3.79 ]\n",
      " [ 2.065 33.635]]\n",
      "\n",
      "AUC:  0.8816092055737497\n"
     ]
    },
    {
     "data": {
      "text/plain": [
       "'Completed'"
      ]
     },
     "execution_count": 206,
     "metadata": {},
     "output_type": "execute_result"
    }
   ],
   "source": [
    "#Standard errors of Meaasurements\n",
    "cross_val(200,df_s)"
   ]
  },
  {
   "cell_type": "code",
   "execution_count": null,
   "metadata": {},
   "outputs": [],
   "source": [
    "#In conclusion, we can see that for all data tiers the Random forrest, closely followed by the\n",
    "#logistic regression offer the best predictive power.\n",
    "#secondly, it appears the 3 data tiers whare the same population mean."
   ]
  },
  {
   "cell_type": "code",
   "execution_count": null,
   "metadata": {},
   "outputs": [],
   "source": [
    "#With an AUC of 0.98+ and confusion matrix showing so little false negatives and false positives \n",
    "#  tells us this model is quite powerful."
   ]
  },
  {
   "cell_type": "code",
   "execution_count": null,
   "metadata": {},
   "outputs": [],
   "source": [
    "#Limitations: more records would make this finding more robust."
   ]
  },
  {
   "cell_type": "code",
   "execution_count": null,
   "metadata": {},
   "outputs": [],
   "source": []
  },
  {
   "cell_type": "code",
   "execution_count": null,
   "metadata": {},
   "outputs": [],
   "source": []
  }
 ],
 "metadata": {
  "kernelspec": {
   "display_name": "Python 3",
   "language": "python",
   "name": "python3"
  },
  "language_info": {
   "codemirror_mode": {
    "name": "ipython",
    "version": 3
   },
   "file_extension": ".py",
   "mimetype": "text/x-python",
   "name": "python",
   "nbconvert_exporter": "python",
   "pygments_lexer": "ipython3",
   "version": "3.7.1"
  }
 },
 "nbformat": 4,
 "nbformat_minor": 2
}
