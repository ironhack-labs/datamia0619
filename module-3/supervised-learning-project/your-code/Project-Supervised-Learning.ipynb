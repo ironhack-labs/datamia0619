{
 "cells": [
  {
   "cell_type": "markdown",
   "metadata": {
    "cell_style": "center"
   },
   "source": [
    "<h1>Project: Supervised Learning</h1>"
   ]
  },
  {
   "cell_type": "markdown",
   "metadata": {},
   "source": [
    "### Import libraries\n",
    "<a id='import_block'></a>"
   ]
  },
  {
   "cell_type": "code",
   "execution_count": 1,
   "metadata": {},
   "outputs": [],
   "source": [
    "%matplotlib inline\n",
    "import matplotlib.pyplot as plt\n",
    "import seaborn as sns\n",
    "import pandas as pd\n",
    "import numpy as np\n",
    "import re\n",
    "import warnings"
   ]
  },
  {
   "cell_type": "markdown",
   "metadata": {},
   "source": [
    "<a id='data_prep'></a>\n",
    "## Data preparation"
   ]
  },
  {
   "cell_type": "code",
   "execution_count": 2,
   "metadata": {},
   "outputs": [],
   "source": [
    "# import data\n",
    "id_mapping = 'data/dataset_diabetes/IDs_mapping.csv'\n",
    "diabetic_data = 'data/dataset_diabetes/diabetic_data.csv'\n",
    "\n",
    "diabetic_df = pd.read_csv(diabetic_data)\n",
    "id_mapping_df = pd.read_csv(id_mapping)"
   ]
  },
  {
   "cell_type": "code",
   "execution_count": 3,
   "metadata": {
    "cell_style": "center"
   },
   "outputs": [
    {
     "data": {
      "text/html": [
       "<div>\n",
       "<style scoped>\n",
       "    .dataframe tbody tr th:only-of-type {\n",
       "        vertical-align: middle;\n",
       "    }\n",
       "\n",
       "    .dataframe tbody tr th {\n",
       "        vertical-align: top;\n",
       "    }\n",
       "\n",
       "    .dataframe thead th {\n",
       "        text-align: right;\n",
       "    }\n",
       "</style>\n",
       "<table border=\"1\" class=\"dataframe\">\n",
       "  <thead>\n",
       "    <tr style=\"text-align: right;\">\n",
       "      <th></th>\n",
       "      <th>encounter_id</th>\n",
       "      <th>patient_nbr</th>\n",
       "      <th>race</th>\n",
       "      <th>gender</th>\n",
       "      <th>age</th>\n",
       "      <th>weight</th>\n",
       "      <th>admission_type_id</th>\n",
       "      <th>discharge_disposition_id</th>\n",
       "      <th>admission_source_id</th>\n",
       "      <th>time_in_hospital</th>\n",
       "      <th>...</th>\n",
       "      <th>citoglipton</th>\n",
       "      <th>insulin</th>\n",
       "      <th>glyburide-metformin</th>\n",
       "      <th>glipizide-metformin</th>\n",
       "      <th>glimepiride-pioglitazone</th>\n",
       "      <th>metformin-rosiglitazone</th>\n",
       "      <th>metformin-pioglitazone</th>\n",
       "      <th>change</th>\n",
       "      <th>diabetesMed</th>\n",
       "      <th>readmitted</th>\n",
       "    </tr>\n",
       "  </thead>\n",
       "  <tbody>\n",
       "    <tr>\n",
       "      <th>0</th>\n",
       "      <td>2278392</td>\n",
       "      <td>8222157</td>\n",
       "      <td>Caucasian</td>\n",
       "      <td>Female</td>\n",
       "      <td>[0-10)</td>\n",
       "      <td>?</td>\n",
       "      <td>6</td>\n",
       "      <td>25</td>\n",
       "      <td>1</td>\n",
       "      <td>1</td>\n",
       "      <td>...</td>\n",
       "      <td>No</td>\n",
       "      <td>No</td>\n",
       "      <td>No</td>\n",
       "      <td>No</td>\n",
       "      <td>No</td>\n",
       "      <td>No</td>\n",
       "      <td>No</td>\n",
       "      <td>No</td>\n",
       "      <td>No</td>\n",
       "      <td>NO</td>\n",
       "    </tr>\n",
       "    <tr>\n",
       "      <th>1</th>\n",
       "      <td>149190</td>\n",
       "      <td>55629189</td>\n",
       "      <td>Caucasian</td>\n",
       "      <td>Female</td>\n",
       "      <td>[10-20)</td>\n",
       "      <td>?</td>\n",
       "      <td>1</td>\n",
       "      <td>1</td>\n",
       "      <td>7</td>\n",
       "      <td>3</td>\n",
       "      <td>...</td>\n",
       "      <td>No</td>\n",
       "      <td>Up</td>\n",
       "      <td>No</td>\n",
       "      <td>No</td>\n",
       "      <td>No</td>\n",
       "      <td>No</td>\n",
       "      <td>No</td>\n",
       "      <td>Ch</td>\n",
       "      <td>Yes</td>\n",
       "      <td>&gt;30</td>\n",
       "    </tr>\n",
       "    <tr>\n",
       "      <th>2</th>\n",
       "      <td>64410</td>\n",
       "      <td>86047875</td>\n",
       "      <td>AfricanAmerican</td>\n",
       "      <td>Female</td>\n",
       "      <td>[20-30)</td>\n",
       "      <td>?</td>\n",
       "      <td>1</td>\n",
       "      <td>1</td>\n",
       "      <td>7</td>\n",
       "      <td>2</td>\n",
       "      <td>...</td>\n",
       "      <td>No</td>\n",
       "      <td>No</td>\n",
       "      <td>No</td>\n",
       "      <td>No</td>\n",
       "      <td>No</td>\n",
       "      <td>No</td>\n",
       "      <td>No</td>\n",
       "      <td>No</td>\n",
       "      <td>Yes</td>\n",
       "      <td>NO</td>\n",
       "    </tr>\n",
       "    <tr>\n",
       "      <th>3</th>\n",
       "      <td>500364</td>\n",
       "      <td>82442376</td>\n",
       "      <td>Caucasian</td>\n",
       "      <td>Male</td>\n",
       "      <td>[30-40)</td>\n",
       "      <td>?</td>\n",
       "      <td>1</td>\n",
       "      <td>1</td>\n",
       "      <td>7</td>\n",
       "      <td>2</td>\n",
       "      <td>...</td>\n",
       "      <td>No</td>\n",
       "      <td>Up</td>\n",
       "      <td>No</td>\n",
       "      <td>No</td>\n",
       "      <td>No</td>\n",
       "      <td>No</td>\n",
       "      <td>No</td>\n",
       "      <td>Ch</td>\n",
       "      <td>Yes</td>\n",
       "      <td>NO</td>\n",
       "    </tr>\n",
       "    <tr>\n",
       "      <th>4</th>\n",
       "      <td>16680</td>\n",
       "      <td>42519267</td>\n",
       "      <td>Caucasian</td>\n",
       "      <td>Male</td>\n",
       "      <td>[40-50)</td>\n",
       "      <td>?</td>\n",
       "      <td>1</td>\n",
       "      <td>1</td>\n",
       "      <td>7</td>\n",
       "      <td>1</td>\n",
       "      <td>...</td>\n",
       "      <td>No</td>\n",
       "      <td>Steady</td>\n",
       "      <td>No</td>\n",
       "      <td>No</td>\n",
       "      <td>No</td>\n",
       "      <td>No</td>\n",
       "      <td>No</td>\n",
       "      <td>Ch</td>\n",
       "      <td>Yes</td>\n",
       "      <td>NO</td>\n",
       "    </tr>\n",
       "  </tbody>\n",
       "</table>\n",
       "<p>5 rows × 50 columns</p>\n",
       "</div>"
      ],
      "text/plain": [
       "   encounter_id  patient_nbr             race  gender      age weight  \\\n",
       "0       2278392      8222157        Caucasian  Female   [0-10)      ?   \n",
       "1        149190     55629189        Caucasian  Female  [10-20)      ?   \n",
       "2         64410     86047875  AfricanAmerican  Female  [20-30)      ?   \n",
       "3        500364     82442376        Caucasian    Male  [30-40)      ?   \n",
       "4         16680     42519267        Caucasian    Male  [40-50)      ?   \n",
       "\n",
       "   admission_type_id  discharge_disposition_id  admission_source_id  \\\n",
       "0                  6                        25                    1   \n",
       "1                  1                         1                    7   \n",
       "2                  1                         1                    7   \n",
       "3                  1                         1                    7   \n",
       "4                  1                         1                    7   \n",
       "\n",
       "   time_in_hospital  ... citoglipton insulin  glyburide-metformin  \\\n",
       "0                 1  ...          No      No                   No   \n",
       "1                 3  ...          No      Up                   No   \n",
       "2                 2  ...          No      No                   No   \n",
       "3                 2  ...          No      Up                   No   \n",
       "4                 1  ...          No  Steady                   No   \n",
       "\n",
       "   glipizide-metformin  glimepiride-pioglitazone  metformin-rosiglitazone  \\\n",
       "0                   No                        No                       No   \n",
       "1                   No                        No                       No   \n",
       "2                   No                        No                       No   \n",
       "3                   No                        No                       No   \n",
       "4                   No                        No                       No   \n",
       "\n",
       "   metformin-pioglitazone  change diabetesMed readmitted  \n",
       "0                      No      No          No         NO  \n",
       "1                      No      Ch         Yes        >30  \n",
       "2                      No      No         Yes         NO  \n",
       "3                      No      Ch         Yes         NO  \n",
       "4                      No      Ch         Yes         NO  \n",
       "\n",
       "[5 rows x 50 columns]"
      ]
     },
     "execution_count": 3,
     "metadata": {},
     "output_type": "execute_result"
    }
   ],
   "source": [
    "diabetic_df.head()"
   ]
  },
  {
   "cell_type": "code",
   "execution_count": 4,
   "metadata": {},
   "outputs": [
    {
     "data": {
      "text/html": [
       "<div>\n",
       "<style scoped>\n",
       "    .dataframe tbody tr th:only-of-type {\n",
       "        vertical-align: middle;\n",
       "    }\n",
       "\n",
       "    .dataframe tbody tr th {\n",
       "        vertical-align: top;\n",
       "    }\n",
       "\n",
       "    .dataframe thead th {\n",
       "        text-align: right;\n",
       "    }\n",
       "</style>\n",
       "<table border=\"1\" class=\"dataframe\">\n",
       "  <thead>\n",
       "    <tr style=\"text-align: right;\">\n",
       "      <th></th>\n",
       "      <th>admission_type_id</th>\n",
       "      <th>description</th>\n",
       "    </tr>\n",
       "  </thead>\n",
       "  <tbody>\n",
       "    <tr>\n",
       "      <th>0</th>\n",
       "      <td>1</td>\n",
       "      <td>Emergency</td>\n",
       "    </tr>\n",
       "    <tr>\n",
       "      <th>1</th>\n",
       "      <td>2</td>\n",
       "      <td>Urgent</td>\n",
       "    </tr>\n",
       "    <tr>\n",
       "      <th>2</th>\n",
       "      <td>3</td>\n",
       "      <td>Elective</td>\n",
       "    </tr>\n",
       "    <tr>\n",
       "      <th>3</th>\n",
       "      <td>4</td>\n",
       "      <td>Newborn</td>\n",
       "    </tr>\n",
       "    <tr>\n",
       "      <th>4</th>\n",
       "      <td>5</td>\n",
       "      <td>Not Available</td>\n",
       "    </tr>\n",
       "  </tbody>\n",
       "</table>\n",
       "</div>"
      ],
      "text/plain": [
       "  admission_type_id    description\n",
       "0                 1      Emergency\n",
       "1                 2         Urgent\n",
       "2                 3       Elective\n",
       "3                 4        Newborn\n",
       "4                 5  Not Available"
      ]
     },
     "execution_count": 4,
     "metadata": {},
     "output_type": "execute_result"
    }
   ],
   "source": [
    "id_mapping_df.head()"
   ]
  },
  {
   "cell_type": "code",
   "execution_count": 5,
   "metadata": {},
   "outputs": [
    {
     "name": "stdout",
     "output_type": "stream",
     "text": [
      "(101766, 50) \n",
      " (67, 2)\n"
     ]
    }
   ],
   "source": [
    "# examine shape of each dataset\n",
    "print(diabetic_df.shape, '\\n', id_mapping_df.shape)"
   ]
  },
  {
   "cell_type": "code",
   "execution_count": 6,
   "metadata": {},
   "outputs": [
    {
     "data": {
      "text/plain": [
       "False"
      ]
     },
     "execution_count": 6,
     "metadata": {},
     "output_type": "execute_result"
    }
   ],
   "source": [
    "# check data for nulls\n",
    "any(diabetic_df.isnull().sum())"
   ]
  },
  {
   "cell_type": "markdown",
   "metadata": {},
   "source": [
    "<p>The code above suggests that the data contains no null values, but the data description provided alongside the data documents percentage of data missing for each feature:</p> \n",
    "<a id='percentage_missing'></a>"
   ]
  },
  {
   "cell_type": "code",
   "execution_count": 7,
   "metadata": {},
   "outputs": [
    {
     "data": {
      "text/html": [
       "\n",
       "        <iframe\n",
       "            width=\"950\"\n",
       "            height=\"400\"\n",
       "            src=\"https://www.hindawi.com/journals/bmri/2014/781670/tab1/\"\n",
       "            frameborder=\"0\"\n",
       "            allowfullscreen\n",
       "        ></iframe>\n",
       "        "
      ],
      "text/plain": [
       "<IPython.lib.display.IFrame at 0x7f4e161bf2b0>"
      ]
     },
     "metadata": {},
     "output_type": "display_data"
    }
   ],
   "source": [
    "if True:\n",
    "    from IPython.display import IFrame    \n",
    "    display(IFrame(\"https://www.hindawi.com/journals/bmri/2014/781670/tab1/\", width=950, height=400))"
   ]
  },
  {
   "cell_type": "code",
   "execution_count": 8,
   "metadata": {},
   "outputs": [
    {
     "data": {
      "text/plain": [
       "True"
      ]
     },
     "execution_count": 8,
     "metadata": {},
     "output_type": "execute_result"
    }
   ],
   "source": [
    "any(id_mapping_df.isnull().sum())"
   ]
  },
  {
   "cell_type": "code",
   "execution_count": 9,
   "metadata": {},
   "outputs": [
    {
     "name": "stdout",
     "output_type": "stream",
     "text": [
      "------Percentage missing------ \n",
      "\n"
     ]
    },
    {
     "data": {
      "text/plain": [
       "admission_type_id    2.985075\n",
       "description          7.462687\n",
       "dtype: float64"
      ]
     },
     "execution_count": 9,
     "metadata": {},
     "output_type": "execute_result"
    }
   ],
   "source": [
    "print('------Percentage missing------ \\n')\n",
    "id_mapping_df.isnull().sum() / id_mapping_df.shape[0] * 100"
   ]
  },
  {
   "cell_type": "markdown",
   "metadata": {},
   "source": [
    "<p>Since it's less than 10 percent missing, and the other dataset that it's mapping to contains no null values, these rows will be dropped.</p>"
   ]
  },
  {
   "cell_type": "code",
   "execution_count": 10,
   "metadata": {},
   "outputs": [
    {
     "data": {
      "text/plain": [
       "(62, 2)"
      ]
     },
     "execution_count": 10,
     "metadata": {},
     "output_type": "execute_result"
    }
   ],
   "source": [
    "# drop rows containing nulls, assign to new df\n",
    "id_map = id_mapping_df.dropna(0)\n",
    "id_map.shape"
   ]
  },
  {
   "cell_type": "code",
   "execution_count": 11,
   "metadata": {},
   "outputs": [
    {
     "data": {
      "text/plain": [
       "admission_type_id    object\n",
       "description          object\n",
       "dtype: object"
      ]
     },
     "execution_count": 11,
     "metadata": {},
     "output_type": "execute_result"
    }
   ],
   "source": [
    "# examine data types\n",
    "id_map.dtypes"
   ]
  },
  {
   "cell_type": "code",
   "execution_count": 12,
   "metadata": {},
   "outputs": [
    {
     "name": "stdout",
     "output_type": "stream",
     "text": [
      "32  unique values in admission_type\n"
     ]
    },
    {
     "data": {
      "text/plain": [
       "array(['1', '2', '3', '4', '5', '7', '8', 'discharge_disposition_id', '6',\n",
       "       '9', '10', '11', '12', '13', '14', '15', '16', '17', '19', '20',\n",
       "       '21', '22', '23', '24', '25', '26', '30', '27', '28', '29',\n",
       "       'admission_source_id', '18'], dtype=object)"
      ]
     },
     "execution_count": 12,
     "metadata": {},
     "output_type": "execute_result"
    }
   ],
   "source": [
    "# unique values and value counts\n",
    "print(len(id_map.admission_type_id.unique()),\n",
    "      ' unique values in admission_type')\n",
    "id_map.admission_type_id.unique()"
   ]
  },
  {
   "cell_type": "code",
   "execution_count": 13,
   "metadata": {
    "scrolled": true
   },
   "outputs": [
    {
     "data": {
      "text/html": [
       "<div>\n",
       "<style scoped>\n",
       "    .dataframe tbody tr th:only-of-type {\n",
       "        vertical-align: middle;\n",
       "    }\n",
       "\n",
       "    .dataframe tbody tr th {\n",
       "        vertical-align: top;\n",
       "    }\n",
       "\n",
       "    .dataframe thead th {\n",
       "        text-align: right;\n",
       "    }\n",
       "</style>\n",
       "<table border=\"1\" class=\"dataframe\">\n",
       "  <thead>\n",
       "    <tr style=\"text-align: right;\">\n",
       "      <th></th>\n",
       "      <th>Columns</th>\n",
       "      <th>Total Unique</th>\n",
       "      <th>Percentage Unique</th>\n",
       "    </tr>\n",
       "  </thead>\n",
       "  <tbody>\n",
       "    <tr>\n",
       "      <th>39</th>\n",
       "      <td>examide</td>\n",
       "      <td>1</td>\n",
       "      <td>0.000983</td>\n",
       "    </tr>\n",
       "    <tr>\n",
       "      <th>40</th>\n",
       "      <td>citoglipton</td>\n",
       "      <td>1</td>\n",
       "      <td>0.000983</td>\n",
       "    </tr>\n",
       "    <tr>\n",
       "      <th>37</th>\n",
       "      <td>troglitazone</td>\n",
       "      <td>2</td>\n",
       "      <td>0.001965</td>\n",
       "    </tr>\n",
       "    <tr>\n",
       "      <th>29</th>\n",
       "      <td>acetohexamide</td>\n",
       "      <td>2</td>\n",
       "      <td>0.001965</td>\n",
       "    </tr>\n",
       "    <tr>\n",
       "      <th>32</th>\n",
       "      <td>tolbutamide</td>\n",
       "      <td>2</td>\n",
       "      <td>0.001965</td>\n",
       "    </tr>\n",
       "    <tr>\n",
       "      <th>43</th>\n",
       "      <td>glipizide-metformin</td>\n",
       "      <td>2</td>\n",
       "      <td>0.001965</td>\n",
       "    </tr>\n",
       "    <tr>\n",
       "      <th>48</th>\n",
       "      <td>diabetesMed</td>\n",
       "      <td>2</td>\n",
       "      <td>0.001965</td>\n",
       "    </tr>\n",
       "    <tr>\n",
       "      <th>45</th>\n",
       "      <td>metformin-rosiglitazone</td>\n",
       "      <td>2</td>\n",
       "      <td>0.001965</td>\n",
       "    </tr>\n",
       "    <tr>\n",
       "      <th>47</th>\n",
       "      <td>change</td>\n",
       "      <td>2</td>\n",
       "      <td>0.001965</td>\n",
       "    </tr>\n",
       "    <tr>\n",
       "      <th>44</th>\n",
       "      <td>glimepiride-pioglitazone</td>\n",
       "      <td>2</td>\n",
       "      <td>0.001965</td>\n",
       "    </tr>\n",
       "    <tr>\n",
       "      <th>46</th>\n",
       "      <td>metformin-pioglitazone</td>\n",
       "      <td>2</td>\n",
       "      <td>0.001965</td>\n",
       "    </tr>\n",
       "    <tr>\n",
       "      <th>49</th>\n",
       "      <td>readmitted</td>\n",
       "      <td>3</td>\n",
       "      <td>0.002948</td>\n",
       "    </tr>\n",
       "    <tr>\n",
       "      <th>3</th>\n",
       "      <td>gender</td>\n",
       "      <td>3</td>\n",
       "      <td>0.002948</td>\n",
       "    </tr>\n",
       "    <tr>\n",
       "      <th>38</th>\n",
       "      <td>tolazamide</td>\n",
       "      <td>3</td>\n",
       "      <td>0.002948</td>\n",
       "    </tr>\n",
       "    <tr>\n",
       "      <th>27</th>\n",
       "      <td>chlorpropamide</td>\n",
       "      <td>4</td>\n",
       "      <td>0.003931</td>\n",
       "    </tr>\n",
       "    <tr>\n",
       "      <th>28</th>\n",
       "      <td>glimepiride</td>\n",
       "      <td>4</td>\n",
       "      <td>0.003931</td>\n",
       "    </tr>\n",
       "    <tr>\n",
       "      <th>30</th>\n",
       "      <td>glipizide</td>\n",
       "      <td>4</td>\n",
       "      <td>0.003931</td>\n",
       "    </tr>\n",
       "    <tr>\n",
       "      <th>31</th>\n",
       "      <td>glyburide</td>\n",
       "      <td>4</td>\n",
       "      <td>0.003931</td>\n",
       "    </tr>\n",
       "    <tr>\n",
       "      <th>42</th>\n",
       "      <td>glyburide-metformin</td>\n",
       "      <td>4</td>\n",
       "      <td>0.003931</td>\n",
       "    </tr>\n",
       "    <tr>\n",
       "      <th>35</th>\n",
       "      <td>acarbose</td>\n",
       "      <td>4</td>\n",
       "      <td>0.003931</td>\n",
       "    </tr>\n",
       "    <tr>\n",
       "      <th>36</th>\n",
       "      <td>miglitol</td>\n",
       "      <td>4</td>\n",
       "      <td>0.003931</td>\n",
       "    </tr>\n",
       "    <tr>\n",
       "      <th>26</th>\n",
       "      <td>nateglinide</td>\n",
       "      <td>4</td>\n",
       "      <td>0.003931</td>\n",
       "    </tr>\n",
       "    <tr>\n",
       "      <th>41</th>\n",
       "      <td>insulin</td>\n",
       "      <td>4</td>\n",
       "      <td>0.003931</td>\n",
       "    </tr>\n",
       "    <tr>\n",
       "      <th>33</th>\n",
       "      <td>pioglitazone</td>\n",
       "      <td>4</td>\n",
       "      <td>0.003931</td>\n",
       "    </tr>\n",
       "    <tr>\n",
       "      <th>34</th>\n",
       "      <td>rosiglitazone</td>\n",
       "      <td>4</td>\n",
       "      <td>0.003931</td>\n",
       "    </tr>\n",
       "    <tr>\n",
       "      <th>24</th>\n",
       "      <td>metformin</td>\n",
       "      <td>4</td>\n",
       "      <td>0.003931</td>\n",
       "    </tr>\n",
       "    <tr>\n",
       "      <th>23</th>\n",
       "      <td>A1Cresult</td>\n",
       "      <td>4</td>\n",
       "      <td>0.003931</td>\n",
       "    </tr>\n",
       "    <tr>\n",
       "      <th>22</th>\n",
       "      <td>max_glu_serum</td>\n",
       "      <td>4</td>\n",
       "      <td>0.003931</td>\n",
       "    </tr>\n",
       "    <tr>\n",
       "      <th>25</th>\n",
       "      <td>repaglinide</td>\n",
       "      <td>4</td>\n",
       "      <td>0.003931</td>\n",
       "    </tr>\n",
       "    <tr>\n",
       "      <th>2</th>\n",
       "      <td>race</td>\n",
       "      <td>6</td>\n",
       "      <td>0.005896</td>\n",
       "    </tr>\n",
       "    <tr>\n",
       "      <th>13</th>\n",
       "      <td>num_procedures</td>\n",
       "      <td>7</td>\n",
       "      <td>0.006879</td>\n",
       "    </tr>\n",
       "    <tr>\n",
       "      <th>6</th>\n",
       "      <td>admission_type_id</td>\n",
       "      <td>8</td>\n",
       "      <td>0.007861</td>\n",
       "    </tr>\n",
       "    <tr>\n",
       "      <th>4</th>\n",
       "      <td>age</td>\n",
       "      <td>10</td>\n",
       "      <td>0.009826</td>\n",
       "    </tr>\n",
       "    <tr>\n",
       "      <th>5</th>\n",
       "      <td>weight</td>\n",
       "      <td>10</td>\n",
       "      <td>0.009826</td>\n",
       "    </tr>\n",
       "    <tr>\n",
       "      <th>9</th>\n",
       "      <td>time_in_hospital</td>\n",
       "      <td>14</td>\n",
       "      <td>0.013757</td>\n",
       "    </tr>\n",
       "    <tr>\n",
       "      <th>21</th>\n",
       "      <td>number_diagnoses</td>\n",
       "      <td>16</td>\n",
       "      <td>0.015722</td>\n",
       "    </tr>\n",
       "    <tr>\n",
       "      <th>8</th>\n",
       "      <td>admission_source_id</td>\n",
       "      <td>17</td>\n",
       "      <td>0.016705</td>\n",
       "    </tr>\n",
       "    <tr>\n",
       "      <th>10</th>\n",
       "      <td>payer_code</td>\n",
       "      <td>18</td>\n",
       "      <td>0.017688</td>\n",
       "    </tr>\n",
       "    <tr>\n",
       "      <th>17</th>\n",
       "      <td>number_inpatient</td>\n",
       "      <td>21</td>\n",
       "      <td>0.020636</td>\n",
       "    </tr>\n",
       "    <tr>\n",
       "      <th>7</th>\n",
       "      <td>discharge_disposition_id</td>\n",
       "      <td>26</td>\n",
       "      <td>0.025549</td>\n",
       "    </tr>\n",
       "    <tr>\n",
       "      <th>16</th>\n",
       "      <td>number_emergency</td>\n",
       "      <td>33</td>\n",
       "      <td>0.032427</td>\n",
       "    </tr>\n",
       "    <tr>\n",
       "      <th>15</th>\n",
       "      <td>number_outpatient</td>\n",
       "      <td>39</td>\n",
       "      <td>0.038323</td>\n",
       "    </tr>\n",
       "    <tr>\n",
       "      <th>11</th>\n",
       "      <td>medical_specialty</td>\n",
       "      <td>73</td>\n",
       "      <td>0.071733</td>\n",
       "    </tr>\n",
       "    <tr>\n",
       "      <th>14</th>\n",
       "      <td>num_medications</td>\n",
       "      <td>75</td>\n",
       "      <td>0.073698</td>\n",
       "    </tr>\n",
       "    <tr>\n",
       "      <th>12</th>\n",
       "      <td>num_lab_procedures</td>\n",
       "      <td>118</td>\n",
       "      <td>0.115952</td>\n",
       "    </tr>\n",
       "    <tr>\n",
       "      <th>18</th>\n",
       "      <td>diag_1</td>\n",
       "      <td>717</td>\n",
       "      <td>0.704558</td>\n",
       "    </tr>\n",
       "    <tr>\n",
       "      <th>19</th>\n",
       "      <td>diag_2</td>\n",
       "      <td>749</td>\n",
       "      <td>0.736002</td>\n",
       "    </tr>\n",
       "    <tr>\n",
       "      <th>20</th>\n",
       "      <td>diag_3</td>\n",
       "      <td>790</td>\n",
       "      <td>0.776291</td>\n",
       "    </tr>\n",
       "    <tr>\n",
       "      <th>1</th>\n",
       "      <td>patient_nbr</td>\n",
       "      <td>71518</td>\n",
       "      <td>70.276910</td>\n",
       "    </tr>\n",
       "    <tr>\n",
       "      <th>0</th>\n",
       "      <td>encounter_id</td>\n",
       "      <td>101766</td>\n",
       "      <td>100.000000</td>\n",
       "    </tr>\n",
       "  </tbody>\n",
       "</table>\n",
       "</div>"
      ],
      "text/plain": [
       "                     Columns  Total Unique  Percentage Unique\n",
       "39                   examide             1           0.000983\n",
       "40               citoglipton             1           0.000983\n",
       "37              troglitazone             2           0.001965\n",
       "29             acetohexamide             2           0.001965\n",
       "32               tolbutamide             2           0.001965\n",
       "43       glipizide-metformin             2           0.001965\n",
       "48               diabetesMed             2           0.001965\n",
       "45   metformin-rosiglitazone             2           0.001965\n",
       "47                    change             2           0.001965\n",
       "44  glimepiride-pioglitazone             2           0.001965\n",
       "46    metformin-pioglitazone             2           0.001965\n",
       "49                readmitted             3           0.002948\n",
       "3                     gender             3           0.002948\n",
       "38                tolazamide             3           0.002948\n",
       "27            chlorpropamide             4           0.003931\n",
       "28               glimepiride             4           0.003931\n",
       "30                 glipizide             4           0.003931\n",
       "31                 glyburide             4           0.003931\n",
       "42       glyburide-metformin             4           0.003931\n",
       "35                  acarbose             4           0.003931\n",
       "36                  miglitol             4           0.003931\n",
       "26               nateglinide             4           0.003931\n",
       "41                   insulin             4           0.003931\n",
       "33              pioglitazone             4           0.003931\n",
       "34             rosiglitazone             4           0.003931\n",
       "24                 metformin             4           0.003931\n",
       "23                 A1Cresult             4           0.003931\n",
       "22             max_glu_serum             4           0.003931\n",
       "25               repaglinide             4           0.003931\n",
       "2                       race             6           0.005896\n",
       "13            num_procedures             7           0.006879\n",
       "6          admission_type_id             8           0.007861\n",
       "4                        age            10           0.009826\n",
       "5                     weight            10           0.009826\n",
       "9           time_in_hospital            14           0.013757\n",
       "21          number_diagnoses            16           0.015722\n",
       "8        admission_source_id            17           0.016705\n",
       "10                payer_code            18           0.017688\n",
       "17          number_inpatient            21           0.020636\n",
       "7   discharge_disposition_id            26           0.025549\n",
       "16          number_emergency            33           0.032427\n",
       "15         number_outpatient            39           0.038323\n",
       "11         medical_specialty            73           0.071733\n",
       "14           num_medications            75           0.073698\n",
       "12        num_lab_procedures           118           0.115952\n",
       "18                    diag_1           717           0.704558\n",
       "19                    diag_2           749           0.736002\n",
       "20                    diag_3           790           0.776291\n",
       "1                patient_nbr         71518          70.276910\n",
       "0               encounter_id        101766         100.000000"
      ]
     },
     "execution_count": 13,
     "metadata": {},
     "output_type": "execute_result"
    }
   ],
   "source": [
    "# examine number of unique values in each column\n",
    "columns = [*diabetic_df.columns]\n",
    "uniques = [len(diabetic_df[column].unique()) for column in columns]\n",
    "unique_df = pd.DataFrame(zip(columns, uniques), columns = ['Columns', 'Total Unique'])\n",
    "unique_df['Percentage Unique'] = unique_df['Total Unique'] / diabetic_df.shape[0] * 100\n",
    "unique_df.sort_values(by = 'Percentage Unique')"
   ]
  },
  {
   "cell_type": "markdown",
   "metadata": {},
   "source": [
    "<p>Column <code>encounter_id</code> is dropped since it will not be useful for prediction</p>\n"
   ]
  },
  {
   "cell_type": "code",
   "execution_count": 14,
   "metadata": {},
   "outputs": [],
   "source": [
    "diabetic_df.drop(['encounter_id', 'patient_nbr',\n",
    "                  'discharge_disposition_id','admission_source_id'], axis = 1, inplace = True)"
   ]
  },
  {
   "cell_type": "code",
   "execution_count": 15,
   "metadata": {},
   "outputs": [
    {
     "data": {
      "text/html": [
       "<div>\n",
       "<style scoped>\n",
       "    .dataframe tbody tr th:only-of-type {\n",
       "        vertical-align: middle;\n",
       "    }\n",
       "\n",
       "    .dataframe tbody tr th {\n",
       "        vertical-align: top;\n",
       "    }\n",
       "\n",
       "    .dataframe thead th {\n",
       "        text-align: right;\n",
       "    }\n",
       "</style>\n",
       "<table border=\"1\" class=\"dataframe\">\n",
       "  <thead>\n",
       "    <tr style=\"text-align: right;\">\n",
       "      <th></th>\n",
       "      <th>admission_type_id</th>\n",
       "      <th>time_in_hospital</th>\n",
       "      <th>num_lab_procedures</th>\n",
       "      <th>num_procedures</th>\n",
       "      <th>num_medications</th>\n",
       "      <th>number_outpatient</th>\n",
       "      <th>number_emergency</th>\n",
       "      <th>number_inpatient</th>\n",
       "      <th>number_diagnoses</th>\n",
       "    </tr>\n",
       "  </thead>\n",
       "  <tbody>\n",
       "    <tr>\n",
       "      <th>count</th>\n",
       "      <td>101766.000000</td>\n",
       "      <td>101766.000000</td>\n",
       "      <td>101766.000000</td>\n",
       "      <td>101766.000000</td>\n",
       "      <td>101766.000000</td>\n",
       "      <td>101766.000000</td>\n",
       "      <td>101766.000000</td>\n",
       "      <td>101766.000000</td>\n",
       "      <td>101766.000000</td>\n",
       "    </tr>\n",
       "    <tr>\n",
       "      <th>mean</th>\n",
       "      <td>2.024006</td>\n",
       "      <td>4.395987</td>\n",
       "      <td>43.095641</td>\n",
       "      <td>1.339730</td>\n",
       "      <td>16.021844</td>\n",
       "      <td>0.369357</td>\n",
       "      <td>0.197836</td>\n",
       "      <td>0.635566</td>\n",
       "      <td>7.422607</td>\n",
       "    </tr>\n",
       "    <tr>\n",
       "      <th>std</th>\n",
       "      <td>1.445403</td>\n",
       "      <td>2.985108</td>\n",
       "      <td>19.674362</td>\n",
       "      <td>1.705807</td>\n",
       "      <td>8.127566</td>\n",
       "      <td>1.267265</td>\n",
       "      <td>0.930472</td>\n",
       "      <td>1.262863</td>\n",
       "      <td>1.933600</td>\n",
       "    </tr>\n",
       "    <tr>\n",
       "      <th>min</th>\n",
       "      <td>1.000000</td>\n",
       "      <td>1.000000</td>\n",
       "      <td>1.000000</td>\n",
       "      <td>0.000000</td>\n",
       "      <td>1.000000</td>\n",
       "      <td>0.000000</td>\n",
       "      <td>0.000000</td>\n",
       "      <td>0.000000</td>\n",
       "      <td>1.000000</td>\n",
       "    </tr>\n",
       "    <tr>\n",
       "      <th>25%</th>\n",
       "      <td>1.000000</td>\n",
       "      <td>2.000000</td>\n",
       "      <td>31.000000</td>\n",
       "      <td>0.000000</td>\n",
       "      <td>10.000000</td>\n",
       "      <td>0.000000</td>\n",
       "      <td>0.000000</td>\n",
       "      <td>0.000000</td>\n",
       "      <td>6.000000</td>\n",
       "    </tr>\n",
       "    <tr>\n",
       "      <th>50%</th>\n",
       "      <td>1.000000</td>\n",
       "      <td>4.000000</td>\n",
       "      <td>44.000000</td>\n",
       "      <td>1.000000</td>\n",
       "      <td>15.000000</td>\n",
       "      <td>0.000000</td>\n",
       "      <td>0.000000</td>\n",
       "      <td>0.000000</td>\n",
       "      <td>8.000000</td>\n",
       "    </tr>\n",
       "    <tr>\n",
       "      <th>75%</th>\n",
       "      <td>3.000000</td>\n",
       "      <td>6.000000</td>\n",
       "      <td>57.000000</td>\n",
       "      <td>2.000000</td>\n",
       "      <td>20.000000</td>\n",
       "      <td>0.000000</td>\n",
       "      <td>0.000000</td>\n",
       "      <td>1.000000</td>\n",
       "      <td>9.000000</td>\n",
       "    </tr>\n",
       "    <tr>\n",
       "      <th>max</th>\n",
       "      <td>8.000000</td>\n",
       "      <td>14.000000</td>\n",
       "      <td>132.000000</td>\n",
       "      <td>6.000000</td>\n",
       "      <td>81.000000</td>\n",
       "      <td>42.000000</td>\n",
       "      <td>76.000000</td>\n",
       "      <td>21.000000</td>\n",
       "      <td>16.000000</td>\n",
       "    </tr>\n",
       "  </tbody>\n",
       "</table>\n",
       "</div>"
      ],
      "text/plain": [
       "       admission_type_id  time_in_hospital  num_lab_procedures  \\\n",
       "count      101766.000000     101766.000000       101766.000000   \n",
       "mean            2.024006          4.395987           43.095641   \n",
       "std             1.445403          2.985108           19.674362   \n",
       "min             1.000000          1.000000            1.000000   \n",
       "25%             1.000000          2.000000           31.000000   \n",
       "50%             1.000000          4.000000           44.000000   \n",
       "75%             3.000000          6.000000           57.000000   \n",
       "max             8.000000         14.000000          132.000000   \n",
       "\n",
       "       num_procedures  num_medications  number_outpatient  number_emergency  \\\n",
       "count   101766.000000    101766.000000      101766.000000     101766.000000   \n",
       "mean         1.339730        16.021844           0.369357          0.197836   \n",
       "std          1.705807         8.127566           1.267265          0.930472   \n",
       "min          0.000000         1.000000           0.000000          0.000000   \n",
       "25%          0.000000        10.000000           0.000000          0.000000   \n",
       "50%          1.000000        15.000000           0.000000          0.000000   \n",
       "75%          2.000000        20.000000           0.000000          0.000000   \n",
       "max          6.000000        81.000000          42.000000         76.000000   \n",
       "\n",
       "       number_inpatient  number_diagnoses  \n",
       "count     101766.000000     101766.000000  \n",
       "mean           0.635566          7.422607  \n",
       "std            1.262863          1.933600  \n",
       "min            0.000000          1.000000  \n",
       "25%            0.000000          6.000000  \n",
       "50%            0.000000          8.000000  \n",
       "75%            1.000000          9.000000  \n",
       "max           21.000000         16.000000  "
      ]
     },
     "execution_count": 15,
     "metadata": {},
     "output_type": "execute_result"
    }
   ],
   "source": [
    "diabetic_df.describe()"
   ]
  },
  {
   "cell_type": "markdown",
   "metadata": {},
   "source": [
    "<p>The <a href=\"#percentage_missing\">documentation</a> containing feature descriptions also includes percentage of missing values within each feature.</p> <p>It is used as a reference and each column containing missing values is further examined manually since they're not readily identified using routine methods in python (<code>.isnull()</code> etc..). <code>Weight</code> is missing ~ 97% of its values. We look at the data in the column so that we can identify the input used to classify missing values within the data.</p>"
   ]
  },
  {
   "cell_type": "code",
   "execution_count": 16,
   "metadata": {},
   "outputs": [
    {
     "data": {
      "text/plain": [
       "?            98569\n",
       "[75-100)      1336\n",
       "[50-75)        897\n",
       "[100-125)      625\n",
       "[125-150)      145\n",
       "[25-50)         97\n",
       "[0-25)          48\n",
       "[150-175)       35\n",
       "[175-200)       11\n",
       ">200             3\n",
       "Name: weight, dtype: int64"
      ]
     },
     "execution_count": 16,
     "metadata": {},
     "output_type": "execute_result"
    }
   ],
   "source": [
    "diabetic_df['weight'].value_counts()"
   ]
  },
  {
   "cell_type": "code",
   "execution_count": 17,
   "metadata": {},
   "outputs": [
    {
     "data": {
      "text/plain": [
       "str"
      ]
     },
     "execution_count": 17,
     "metadata": {},
     "output_type": "execute_result"
    }
   ],
   "source": [
    "# also important to note that the column dtype is shown as int64\n",
    "# when each entry is actually a str\n",
    "type(diabetic_df['weight'][0])"
   ]
  },
  {
   "cell_type": "code",
   "execution_count": 18,
   "metadata": {},
   "outputs": [
    {
     "data": {
      "text/html": [
       "<div>\n",
       "<style scoped>\n",
       "    .dataframe tbody tr th:only-of-type {\n",
       "        vertical-align: middle;\n",
       "    }\n",
       "\n",
       "    .dataframe tbody tr th {\n",
       "        vertical-align: top;\n",
       "    }\n",
       "\n",
       "    .dataframe thead th {\n",
       "        text-align: right;\n",
       "    }\n",
       "</style>\n",
       "<table border=\"1\" class=\"dataframe\">\n",
       "  <thead>\n",
       "    <tr style=\"text-align: right;\">\n",
       "      <th></th>\n",
       "      <th>feature</th>\n",
       "      <th>missing_values</th>\n",
       "      <th>percentage_missing</th>\n",
       "    </tr>\n",
       "  </thead>\n",
       "  <tbody>\n",
       "    <tr>\n",
       "      <th>1</th>\n",
       "      <td>weight</td>\n",
       "      <td>98569</td>\n",
       "      <td>96.858479</td>\n",
       "    </tr>\n",
       "    <tr>\n",
       "      <th>3</th>\n",
       "      <td>medical_specialty</td>\n",
       "      <td>49949</td>\n",
       "      <td>49.082208</td>\n",
       "    </tr>\n",
       "    <tr>\n",
       "      <th>2</th>\n",
       "      <td>payer_code</td>\n",
       "      <td>40256</td>\n",
       "      <td>39.557416</td>\n",
       "    </tr>\n",
       "    <tr>\n",
       "      <th>0</th>\n",
       "      <td>race</td>\n",
       "      <td>2273</td>\n",
       "      <td>2.233555</td>\n",
       "    </tr>\n",
       "    <tr>\n",
       "      <th>6</th>\n",
       "      <td>diag_3</td>\n",
       "      <td>1423</td>\n",
       "      <td>1.398306</td>\n",
       "    </tr>\n",
       "    <tr>\n",
       "      <th>5</th>\n",
       "      <td>diag_2</td>\n",
       "      <td>358</td>\n",
       "      <td>0.351787</td>\n",
       "    </tr>\n",
       "    <tr>\n",
       "      <th>4</th>\n",
       "      <td>diag_1</td>\n",
       "      <td>21</td>\n",
       "      <td>0.020636</td>\n",
       "    </tr>\n",
       "  </tbody>\n",
       "</table>\n",
       "</div>"
      ],
      "text/plain": [
       "             feature  missing_values  percentage_missing\n",
       "1             weight           98569           96.858479\n",
       "3  medical_specialty           49949           49.082208\n",
       "2         payer_code           40256           39.557416\n",
       "0               race            2273            2.233555\n",
       "6             diag_3            1423            1.398306\n",
       "5             diag_2             358            0.351787\n",
       "4             diag_1              21            0.020636"
      ]
     },
     "execution_count": 18,
     "metadata": {},
     "output_type": "execute_result"
    }
   ],
   "source": [
    "columns = diabetic_df.columns\n",
    "columns_with_nulls = []\n",
    "\n",
    "with warnings.catch_warnings(): # suppresses future warnings\n",
    "    warnings.simplefilter(action='ignore', category=FutureWarning)\n",
    "    for column in columns:\n",
    "        if '?' in diabetic_df[column].unique():\n",
    "            count = diabetic_df[column].value_counts().to_dict().get('?')\n",
    "            columns_with_nulls.append((column, count, count/diabetic_df.shape[0] * 100)) # appends True for '?' in column\n",
    "            \n",
    "\n",
    "missing = pd.DataFrame(columns_with_nulls, columns = ['feature', 'missing_values', 'percentage_missing'])\n",
    "missing.sort_values(by='percentage_missing', ascending=False)"
   ]
  },
  {
   "cell_type": "markdown",
   "metadata": {},
   "source": [
    "<p>In addressing missing values, we verify that the above output is aligned with what's described in the documentation.</p>"
   ]
  },
  {
   "cell_type": "code",
   "execution_count": 19,
   "metadata": {},
   "outputs": [
    {
     "data": {
      "text/html": [
       "<div>\n",
       "<style scoped>\n",
       "    .dataframe tbody tr th:only-of-type {\n",
       "        vertical-align: middle;\n",
       "    }\n",
       "\n",
       "    .dataframe tbody tr th {\n",
       "        vertical-align: top;\n",
       "    }\n",
       "\n",
       "    .dataframe thead th {\n",
       "        text-align: right;\n",
       "    }\n",
       "</style>\n",
       "<table border=\"1\" class=\"dataframe\">\n",
       "  <thead>\n",
       "    <tr style=\"text-align: right;\">\n",
       "      <th></th>\n",
       "      <th>Columns</th>\n",
       "      <th>Total Unique</th>\n",
       "      <th>Percentage Unique</th>\n",
       "    </tr>\n",
       "  </thead>\n",
       "  <tbody>\n",
       "    <tr>\n",
       "      <th>20</th>\n",
       "      <td>diag_3</td>\n",
       "      <td>790</td>\n",
       "      <td>0.776291</td>\n",
       "    </tr>\n",
       "    <tr>\n",
       "      <th>19</th>\n",
       "      <td>diag_2</td>\n",
       "      <td>749</td>\n",
       "      <td>0.736002</td>\n",
       "    </tr>\n",
       "    <tr>\n",
       "      <th>18</th>\n",
       "      <td>diag_1</td>\n",
       "      <td>717</td>\n",
       "      <td>0.704558</td>\n",
       "    </tr>\n",
       "    <tr>\n",
       "      <th>11</th>\n",
       "      <td>medical_specialty</td>\n",
       "      <td>73</td>\n",
       "      <td>0.071733</td>\n",
       "    </tr>\n",
       "    <tr>\n",
       "      <th>10</th>\n",
       "      <td>payer_code</td>\n",
       "      <td>18</td>\n",
       "      <td>0.017688</td>\n",
       "    </tr>\n",
       "    <tr>\n",
       "      <th>5</th>\n",
       "      <td>weight</td>\n",
       "      <td>10</td>\n",
       "      <td>0.009826</td>\n",
       "    </tr>\n",
       "    <tr>\n",
       "      <th>2</th>\n",
       "      <td>race</td>\n",
       "      <td>6</td>\n",
       "      <td>0.005896</td>\n",
       "    </tr>\n",
       "  </tbody>\n",
       "</table>\n",
       "</div>"
      ],
      "text/plain": [
       "              Columns  Total Unique  Percentage Unique\n",
       "20             diag_3           790           0.776291\n",
       "19             diag_2           749           0.736002\n",
       "18             diag_1           717           0.704558\n",
       "11  medical_specialty            73           0.071733\n",
       "10         payer_code            18           0.017688\n",
       "5              weight            10           0.009826\n",
       "2                race             6           0.005896"
      ]
     },
     "execution_count": 19,
     "metadata": {},
     "output_type": "execute_result"
    }
   ],
   "source": [
    "unique_df[unique_df['Columns'].isin([*missing.feature])].sort_values(by = 'Percentage Unique', ascending = False)"
   ]
  },
  {
   "cell_type": "markdown",
   "metadata": {},
   "source": [
    "<p><code>diag_1</code>, <code>diag_2</code>, <code>diag_3</code> and <code>race</code> percent values missing are low enough to retain. Variation is checked before dropping columns containing many missing values.</p>"
   ]
  },
  {
   "cell_type": "code",
   "execution_count": 20,
   "metadata": {},
   "outputs": [
    {
     "name": "stdout",
     "output_type": "stream",
     "text": [
      "------Before------\n",
      " (101766, 46)\n",
      "\n",
      "------After------\n",
      " (98053, 43)\n"
     ]
    }
   ],
   "source": [
    "cols_to_drop = ['medical_specialty', 'payer_code', 'weight']\n",
    "print('------Before------\\n', diabetic_df.shape)\n",
    "diabetic_df.drop(cols_to_drop, axis = 1,  inplace = True)\n",
    "\n",
    "# for retained columns, the rows containing nulls are dropped\n",
    "with warnings.catch_warnings(): # suppresses future warnings\n",
    "    warnings.simplefilter(action='ignore', category=FutureWarning)\n",
    "    diabetic = diabetic_df[~(diabetic_df == '?').any(axis=1)]\n",
    "print('\\n------After------\\n', diabetic.shape)"
   ]
  },
  {
   "cell_type": "markdown",
   "metadata": {},
   "source": [
    "### Functions\n",
    "<a id='functions'></a>"
   ]
  },
  {
   "cell_type": "code",
   "execution_count": 21,
   "metadata": {},
   "outputs": [],
   "source": [
    "def leftRightStrip(df, column, left, right):\n",
    "    '''\n",
    "    strips characters from column str values\n",
    "    '''\n",
    "    return df[column].map(lambda x: x.lstrip(left).rstrip(right))"
   ]
  },
  {
   "cell_type": "code",
   "execution_count": 22,
   "metadata": {},
   "outputs": [],
   "source": [
    "def icd_Convert(df, col):\n",
    "    '''\n",
    "    converts ICD into general category\n",
    "    '''\n",
    "    df['temp']=np.nan\n",
    "    condition = df[col]==250\n",
    "    df.loc[condition,'temp']='Diabetes'\n",
    "    try:\n",
    "        condition = (df[col]>=140) & (df[col]<=239)\n",
    "        df.loc[condition,'temp']='Neoplasms'\n",
    "    except:\n",
    "        pass\n",
    "    try:\n",
    "        condition = (df[col]>=710) & (df[col]<=739)\n",
    "        df.loc[condition,'temp']='Muscoloskeletal'\n",
    "    except:\n",
    "        pass\n",
    "    try:\n",
    "        condition = (df[col]>=800) & (df[col]<=999)\n",
    "        df.loc[condition,'temp']='Injury'\n",
    "    except:\n",
    "        pass\n",
    "    try:\n",
    "        condition = (df[col]>=580) & (df[col]<=629) | (df[col]==788)\n",
    "        df.loc[condition,'temp']='Genitourinary'\n",
    "    except:\n",
    "        pass\n",
    "    try:\n",
    "        condition = (df[col]>=520) & (df[col]<=579) | (df[col]==787)\n",
    "        df.loc[condition,'temp']='Digestive'\n",
    "    except:\n",
    "        pass\n",
    "    try:\n",
    "        condition = (df[col]>=460) & (df[col]<=519) | (df[col]==786)\n",
    "        df.loc[condition,'temp']='Respiratory'\n",
    "    except:\n",
    "        pass\n",
    "    try:\n",
    "        condition = (df[col]>=390) & (df[col]<=458) | (df[col]==785)\n",
    "        df.loc[condition,'temp']='Circulatory'\n",
    "    except:\n",
    "        pass\n",
    "    try:\n",
    "        df[(df[col]==250)][col] = 'Diabetes'\n",
    "    except:\n",
    "        pass\n",
    "    \n",
    "    condition = df[col]==0\n",
    "    df.loc[condition,col]='?'\n",
    "    df['temp']=df['temp'].fillna('Others')\n",
    "    condition = df['temp']=='0'\n",
    "    df.loc[condition,'temp']=np.nan\n",
    "    df[col]=df['temp']\n",
    "    df.drop('temp',axis=1,inplace=True)\n",
    " "
   ]
  },
  {
   "cell_type": "code",
   "execution_count": 23,
   "metadata": {},
   "outputs": [],
   "source": [
    "# removing Unknown/Invalid gender entries\n",
    "diabetic = diabetic[diabetic['gender']!='Unknown/Invalid']"
   ]
  },
  {
   "cell_type": "code",
   "execution_count": 24,
   "metadata": {},
   "outputs": [],
   "source": [
    "# group diagnoses columns together based on ICD classification\n",
    "\n",
    "diagnoses = ['diag_1','diag_2','diag_3']\n",
    "\n",
    "for diag in diagnoses:\n",
    "    diabetic[diag] = diabetic[diag].str.replace('E','-')\n",
    "    diabetic[diag] = diabetic[diag].str.replace('V','-')\n",
    "    condition = diabetic[diag].str.contains('250')\n",
    "    diabetic.loc[condition,diag] = '250'\n",
    "\n",
    "diabetic[diagnoses] = diabetic[diagnoses].astype(float)"
   ]
  },
  {
   "cell_type": "code",
   "execution_count": null,
   "metadata": {},
   "outputs": [],
   "source": [
    "for diag in diagnoses:\n",
    "    icd_Convert(diabetic, diag)\n",
    "\n",
    "diabetic.dropna(inplace = True)"
   ]
  },
  {
   "cell_type": "code",
   "execution_count": 26,
   "metadata": {},
   "outputs": [
    {
     "data": {
      "text/html": [
       "<div>\n",
       "<style scoped>\n",
       "    .dataframe tbody tr th:only-of-type {\n",
       "        vertical-align: middle;\n",
       "    }\n",
       "\n",
       "    .dataframe tbody tr th {\n",
       "        vertical-align: top;\n",
       "    }\n",
       "\n",
       "    .dataframe thead th {\n",
       "        text-align: right;\n",
       "    }\n",
       "</style>\n",
       "<table border=\"1\" class=\"dataframe\">\n",
       "  <thead>\n",
       "    <tr style=\"text-align: right;\">\n",
       "      <th></th>\n",
       "      <th>diag_1</th>\n",
       "      <th>diag_2</th>\n",
       "      <th>diag_3</th>\n",
       "    </tr>\n",
       "  </thead>\n",
       "  <tbody>\n",
       "    <tr>\n",
       "      <th>1</th>\n",
       "      <td>Others</td>\n",
       "      <td>Diabetes</td>\n",
       "      <td>Others</td>\n",
       "    </tr>\n",
       "    <tr>\n",
       "      <th>2</th>\n",
       "      <td>Others</td>\n",
       "      <td>Diabetes</td>\n",
       "      <td>Others</td>\n",
       "    </tr>\n",
       "    <tr>\n",
       "      <th>3</th>\n",
       "      <td>Others</td>\n",
       "      <td>Diabetes</td>\n",
       "      <td>Circulatory</td>\n",
       "    </tr>\n",
       "    <tr>\n",
       "      <th>4</th>\n",
       "      <td>Neoplasms</td>\n",
       "      <td>Neoplasms</td>\n",
       "      <td>Diabetes</td>\n",
       "    </tr>\n",
       "    <tr>\n",
       "      <th>5</th>\n",
       "      <td>Circulatory</td>\n",
       "      <td>Circulatory</td>\n",
       "      <td>Diabetes</td>\n",
       "    </tr>\n",
       "  </tbody>\n",
       "</table>\n",
       "</div>"
      ],
      "text/plain": [
       "        diag_1       diag_2       diag_3\n",
       "1       Others     Diabetes       Others\n",
       "2       Others     Diabetes       Others\n",
       "3       Others     Diabetes  Circulatory\n",
       "4    Neoplasms    Neoplasms     Diabetes\n",
       "5  Circulatory  Circulatory     Diabetes"
      ]
     },
     "execution_count": 26,
     "metadata": {},
     "output_type": "execute_result"
    }
   ],
   "source": [
    "diabetic[diagnoses].head()"
   ]
  },
  {
   "cell_type": "markdown",
   "metadata": {},
   "source": [
    "### Exploring each variable\n",
    "<a id=\"EDA\"></a>\n",
    "in this section, features are prepared for use in an ML algorithm."
   ]
  },
  {
   "cell_type": "code",
   "execution_count": 27,
   "metadata": {},
   "outputs": [],
   "source": [
    "# strip unwanted characters from age\n",
    "diabetic['age'] = leftRightStrip(diabetic, 'age', '[', ')')\n",
    "diabetic['age'] = diabetic['age'].str[1:].str.split('-',expand=True)[1]"
   ]
  },
  {
   "cell_type": "code",
   "execution_count": 28,
   "metadata": {},
   "outputs": [
    {
     "data": {
      "text/plain": [
       "Text(0.5, 0, 'Distribution of Age')"
      ]
     },
     "execution_count": 28,
     "metadata": {},
     "output_type": "execute_result"
    },
    {
     "data": {
      "image/png": "[encoded data removed]",
      "text/plain": [
       "<Figure size 432x288 with 1 Axes>"
      ]
     },
     "metadata": {
      "needs_background": "light"
     },
     "output_type": "display_data"
    }
   ],
   "source": [
    "diabetic['age'] = diabetic['age'].astype(int)\n",
    "sns.countplot(diabetic['age'])\n",
    "plt.xlabel('Distribution of Age')"
   ]
  },
  {
   "cell_type": "code",
   "execution_count": 29,
   "metadata": {
    "scrolled": true
   },
   "outputs": [
    {
     "name": "stdout",
     "output_type": "stream",
     "text": [
      "10  unique values in  age\n",
      "\n",
      "\n",
      "8  unique values in  admission_type_id\n",
      "\n",
      "\n",
      "14  unique values in  time_in_hospital\n",
      "\n",
      "\n",
      "118  unique values in  num_lab_procedures\n",
      "\n",
      "\n",
      "7  unique values in  num_procedures\n",
      "\n",
      "\n",
      "75  unique values in  num_medications\n",
      "\n",
      "\n",
      "39  unique values in  number_outpatient\n",
      "\n",
      "\n",
      "33  unique values in  number_emergency\n",
      "\n",
      "\n",
      "20  unique values in  number_inpatient\n",
      "\n",
      "\n",
      "14  unique values in  number_diagnoses\n",
      "\n",
      "\n"
     ]
    }
   ],
   "source": [
    "# examine numeric data, to check if categorical\n",
    "numeric = [*diabetic.select_dtypes('int64').columns]\n",
    "\n",
    "for num in numeric:\n",
    "    x = len(diabetic[num].unique())\n",
    "    print(x, ' unique values in ', num)\n",
    "    print('\\n')"
   ]
  },
  {
   "cell_type": "code",
   "execution_count": 30,
   "metadata": {},
   "outputs": [
    {
     "data": {
      "text/plain": [
       "Text(0.5, 0, 'Number of lab procedures')"
      ]
     },
     "execution_count": 30,
     "metadata": {},
     "output_type": "execute_result"
    },
    {
     "data": {
      "image/png": "[encoded data removed]",
      "text/plain": [
       "<Figure size 432x288 with 1 Axes>"
      ]
     },
     "metadata": {
      "needs_background": "light"
     },
     "output_type": "display_data"
    }
   ],
   "source": [
    "diabetic.num_lab_procedures.hist(bins = 10)\n",
    "plt.title('Frequency of Number of lab Procedures')\n",
    "plt.xlabel('Number of lab procedures')"
   ]
  },
  {
   "cell_type": "code",
   "execution_count": 31,
   "metadata": {},
   "outputs": [
    {
     "data": {
      "text/html": [
       "<div>\n",
       "<style scoped>\n",
       "    .dataframe tbody tr th:only-of-type {\n",
       "        vertical-align: middle;\n",
       "    }\n",
       "\n",
       "    .dataframe tbody tr th {\n",
       "        vertical-align: top;\n",
       "    }\n",
       "\n",
       "    .dataframe thead th {\n",
       "        text-align: right;\n",
       "    }\n",
       "</style>\n",
       "<table border=\"1\" class=\"dataframe\">\n",
       "  <thead>\n",
       "    <tr style=\"text-align: right;\">\n",
       "      <th></th>\n",
       "      <th>Circulatory</th>\n",
       "      <th>Diabetes</th>\n",
       "      <th>Digestive</th>\n",
       "      <th>Genitourinary</th>\n",
       "      <th>Injury</th>\n",
       "      <th>Muscoloskeletal</th>\n",
       "      <th>Neoplasms</th>\n",
       "      <th>Others</th>\n",
       "      <th>Respiratory</th>\n",
       "    </tr>\n",
       "  </thead>\n",
       "  <tbody>\n",
       "    <tr>\n",
       "      <th>1</th>\n",
       "      <td>0</td>\n",
       "      <td>1</td>\n",
       "      <td>0</td>\n",
       "      <td>0</td>\n",
       "      <td>0</td>\n",
       "      <td>0</td>\n",
       "      <td>0</td>\n",
       "      <td>2</td>\n",
       "      <td>0</td>\n",
       "    </tr>\n",
       "    <tr>\n",
       "      <th>2</th>\n",
       "      <td>0</td>\n",
       "      <td>1</td>\n",
       "      <td>0</td>\n",
       "      <td>0</td>\n",
       "      <td>0</td>\n",
       "      <td>0</td>\n",
       "      <td>0</td>\n",
       "      <td>2</td>\n",
       "      <td>0</td>\n",
       "    </tr>\n",
       "    <tr>\n",
       "      <th>3</th>\n",
       "      <td>1</td>\n",
       "      <td>1</td>\n",
       "      <td>0</td>\n",
       "      <td>0</td>\n",
       "      <td>0</td>\n",
       "      <td>0</td>\n",
       "      <td>0</td>\n",
       "      <td>1</td>\n",
       "      <td>0</td>\n",
       "    </tr>\n",
       "    <tr>\n",
       "      <th>4</th>\n",
       "      <td>0</td>\n",
       "      <td>1</td>\n",
       "      <td>0</td>\n",
       "      <td>0</td>\n",
       "      <td>0</td>\n",
       "      <td>0</td>\n",
       "      <td>2</td>\n",
       "      <td>0</td>\n",
       "      <td>0</td>\n",
       "    </tr>\n",
       "    <tr>\n",
       "      <th>5</th>\n",
       "      <td>2</td>\n",
       "      <td>1</td>\n",
       "      <td>0</td>\n",
       "      <td>0</td>\n",
       "      <td>0</td>\n",
       "      <td>0</td>\n",
       "      <td>0</td>\n",
       "      <td>0</td>\n",
       "      <td>0</td>\n",
       "    </tr>\n",
       "  </tbody>\n",
       "</table>\n",
       "</div>"
      ],
      "text/plain": [
       "   Circulatory  Diabetes  Digestive  Genitourinary  Injury  Muscoloskeletal  \\\n",
       "1            0         1          0              0       0                0   \n",
       "2            0         1          0              0       0                0   \n",
       "3            1         1          0              0       0                0   \n",
       "4            0         1          0              0       0                0   \n",
       "5            2         1          0              0       0                0   \n",
       "\n",
       "   Neoplasms  Others  Respiratory  \n",
       "1          0       2            0  \n",
       "2          0       2            0  \n",
       "3          0       1            0  \n",
       "4          2       0            0  \n",
       "5          0       0            0  "
      ]
     },
     "execution_count": 31,
     "metadata": {},
     "output_type": "execute_result"
    }
   ],
   "source": [
    "# Diagnoses Features\n",
    "x = pd.get_dummies(diabetic['diag_1'])\n",
    "y = pd.get_dummies(diabetic['diag_2'])\n",
    "z = pd.get_dummies(diabetic['diag_3'])\n",
    "df_diag = x + y + z\n",
    "df_diag.head()"
   ]
  },
  {
   "cell_type": "code",
   "execution_count": 32,
   "metadata": {},
   "outputs": [
    {
     "data": {
      "text/plain": [
       "<matplotlib.axes._subplots.AxesSubplot at 0x7f4e001d1ba8>"
      ]
     },
     "execution_count": 32,
     "metadata": {},
     "output_type": "execute_result"
    },
    {
     "data": {
      "image/png": "[encoded data removed]",
      "text/plain": [
       "<Figure size 432x288 with 1 Axes>"
      ]
     },
     "metadata": {
      "needs_background": "light"
     },
     "output_type": "display_data"
    }
   ],
   "source": [
    "diabetic.number_emergency.hist() "
   ]
  },
  {
   "cell_type": "code",
   "execution_count": 33,
   "metadata": {},
   "outputs": [],
   "source": [
    "diabetic.number_emergency.value_counts() # we can leave this out given the large skew\n",
    "feature_drop = ['number_emergency']"
   ]
  },
  {
   "cell_type": "code",
   "execution_count": 34,
   "metadata": {},
   "outputs": [
    {
     "data": {
      "text/plain": [
       "<matplotlib.axes._subplots.AxesSubplot at 0x7f4e001c59b0>"
      ]
     },
     "execution_count": 34,
     "metadata": {},
     "output_type": "execute_result"
    },
    {
     "data": {
      "image/png": "[encoded data removed]",
      "text/plain": [
       "<Figure size 432x288 with 1 Axes>"
      ]
     },
     "metadata": {
      "needs_background": "light"
     },
     "output_type": "display_data"
    }
   ],
   "source": [
    "diabetic.number_diagnoses.hist()"
   ]
  },
  {
   "cell_type": "code",
   "execution_count": 35,
   "metadata": {},
   "outputs": [],
   "source": [
    "diabetic.number_diagnoses.value_counts()\n",
    "feature_drop.append('number_diagnoses')"
   ]
  },
  {
   "cell_type": "code",
   "execution_count": 36,
   "metadata": {},
   "outputs": [
    {
     "data": {
      "text/plain": [
       "None    81859\n",
       ">8       7631\n",
       "Norm     4854\n",
       ">7       3708\n",
       "Name: A1Cresult, dtype: int64"
      ]
     },
     "execution_count": 36,
     "metadata": {},
     "output_type": "execute_result"
    }
   ],
   "source": [
    "diabetic.A1Cresult.value_counts() # too many None = ' not measured'"
   ]
  },
  {
   "cell_type": "code",
   "execution_count": 37,
   "metadata": {},
   "outputs": [],
   "source": [
    "feature_drop.append('A1Cresult')"
   ]
  },
  {
   "cell_type": "code",
   "execution_count": 38,
   "metadata": {},
   "outputs": [
    {
     "data": {
      "text/plain": [
       "<matplotlib.axes._subplots.AxesSubplot at 0x7f4e0045a710>"
      ]
     },
     "execution_count": 38,
     "metadata": {},
     "output_type": "execute_result"
    },
    {
     "data": {
      "image/png": "[encoded data removed]",
      "text/plain": [
       "<Figure size 432x288 with 1 Axes>"
      ]
     },
     "metadata": {
      "needs_background": "light"
     },
     "output_type": "display_data"
    }
   ],
   "source": [
    "diabetic.number_inpatient.hist()"
   ]
  },
  {
   "cell_type": "code",
   "execution_count": 39,
   "metadata": {},
   "outputs": [
    {
     "data": {
      "text/plain": [
       "<matplotlib.axes._subplots.AxesSubplot at 0x7f4e0054cb38>"
      ]
     },
     "execution_count": 39,
     "metadata": {},
     "output_type": "execute_result"
    },
    {
     "data": {
      "image/png": "[encoded data removed]",
      "text/plain": [
       "<Figure size 432x288 with 1 Axes>"
      ]
     },
     "metadata": {
      "needs_background": "light"
     },
     "output_type": "display_data"
    }
   ],
   "source": [
    "diabetic.number_outpatient.hist()"
   ]
  },
  {
   "cell_type": "code",
   "execution_count": 40,
   "metadata": {},
   "outputs": [],
   "source": [
    "feature_drop.append('number_inpatient')\n",
    "feature_drop.append('number_outpatient')\n",
    "feature_drop.append('race')"
   ]
  },
  {
   "cell_type": "code",
   "execution_count": 41,
   "metadata": {},
   "outputs": [],
   "source": [
    "cols = []"
   ]
  },
  {
   "cell_type": "code",
   "execution_count": 42,
   "metadata": {},
   "outputs": [
    {
     "data": {
      "text/plain": [
       "Index(['race', 'gender', 'age', 'admission_type_id', 'time_in_hospital',\n",
       "       'num_lab_procedures', 'num_procedures', 'num_medications',\n",
       "       'number_outpatient', 'number_emergency', 'number_inpatient', 'diag_1',\n",
       "       'diag_2', 'diag_3', 'number_diagnoses', 'max_glu_serum', 'A1Cresult',\n",
       "       'metformin', 'repaglinide', 'nateglinide', 'chlorpropamide',\n",
       "       'glimepiride', 'acetohexamide', 'glipizide', 'glyburide', 'tolbutamide',\n",
       "       'pioglitazone', 'rosiglitazone', 'acarbose', 'miglitol', 'troglitazone',\n",
       "       'tolazamide', 'examide', 'citoglipton', 'insulin',\n",
       "       'glyburide-metformin', 'glipizide-metformin',\n",
       "       'glimepiride-pioglitazone', 'metformin-rosiglitazone',\n",
       "       'metformin-pioglitazone', 'change', 'diabetesMed', 'readmitted'],\n",
       "      dtype='object')"
      ]
     },
     "execution_count": 42,
     "metadata": {},
     "output_type": "execute_result"
    }
   ],
   "source": [
    "diabetic.columns"
   ]
  },
  {
   "cell_type": "code",
   "execution_count": 43,
   "metadata": {},
   "outputs": [],
   "source": [
    "# iterate through meds and check variation\n",
    "meds = ['metformin', 'repaglinide', 'nateglinide', 'chlorpropamide',\n",
    "       'glimepiride', 'acetohexamide', 'glipizide', 'glyburide', 'tolbutamide',\n",
    "       'pioglitazone', 'rosiglitazone', 'acarbose', 'miglitol', 'troglitazone',\n",
    "       'tolazamide', 'examide', 'citoglipton', 'insulin',\n",
    "       'glyburide-metformin', 'glipizide-metformin',\n",
    "       'glimepiride-pioglitazone', 'metformin-rosiglitazone',\n",
    "       'metformin-pioglitazone']"
   ]
  },
  {
   "cell_type": "code",
   "execution_count": 44,
   "metadata": {},
   "outputs": [],
   "source": [
    "# check major dosage changes\n",
    "med_up = []\n",
    "med_down = []\n",
    "med_steady = []\n",
    "\n",
    "threshold = 5000  # looking for 20000 instances of change or no change"
   ]
  },
  {
   "cell_type": "code",
   "execution_count": 45,
   "metadata": {},
   "outputs": [
    {
     "name": "stdout",
     "output_type": "stream",
     "text": [
      "['insulin', 10899]\n"
     ]
    }
   ],
   "source": [
    "# Dosage increases\n",
    "for med in meds:\n",
    "    count = len(diabetic[diabetic[med] == 'Up'][med])\n",
    "    if count > threshold:\n",
    "        med_up.append([med, count])\n",
    "print(*med_up)"
   ]
  },
  {
   "cell_type": "code",
   "execution_count": 46,
   "metadata": {},
   "outputs": [
    {
     "name": "stdout",
     "output_type": "stream",
     "text": [
      "['insulin', 11843]\n"
     ]
    }
   ],
   "source": [
    "# Dosage decreases\n",
    "for med in meds:\n",
    "    count = len(diabetic[diabetic[med] == 'Down'][med])\n",
    "    if count > threshold:\n",
    "        med_down.append([med, count])\n",
    "print(*med_down)"
   ]
  },
  {
   "cell_type": "code",
   "execution_count": 47,
   "metadata": {},
   "outputs": [
    {
     "name": "stdout",
     "output_type": "stream",
     "text": [
      "['metformin', 17677] ['glipizide', 10990] ['glyburide', 8932] ['pioglitazone', 6755] ['rosiglitazone', 5908] ['insulin', 29368]\n"
     ]
    }
   ],
   "source": [
    "# Dosage No change\n",
    "for med in meds:\n",
    "    count = len(diabetic[diabetic[med] == 'Steady'][med])\n",
    "    if count > threshold:\n",
    "        med_steady.append([med, count])\n",
    "print(*med_steady)"
   ]
  },
  {
   "cell_type": "code",
   "execution_count": 87,
   "metadata": {},
   "outputs": [],
   "source": [
    "# med related features\n",
    "\n",
    "ch_dict = {\n",
    "            'No':-1,\n",
    "            'Ch':1\n",
    "}\n",
    "\n",
    "diabetic['change'] = diabetic['change'].replace(ch_dict)\n",
    "\n",
    "diabetes_med = {\n",
    "            'No':-1,\n",
    "            'Yes':1\n",
    "}\n",
    "diabetic['diabetesMed'] = diabetic['diabetesMed'].replace(diabetes_med)\n",
    "\n",
    "dose_dict = {\n",
    "            'Up':10,\n",
    "            'Down':-10,\n",
    "            'Steady':0,\n",
    "            'No':-20\n",
    "}\n",
    "for med in meds:\n",
    "    diabetic[med] = diabetic[med].replace(dose_dict)"
   ]
  },
  {
   "cell_type": "code",
   "execution_count": 68,
   "metadata": {},
   "outputs": [],
   "source": [
    "df_med = pd.concat([diabetic[meds], diabetic['change'], diabetic['diabetesMed']], axis = 1)"
   ]
  },
  {
   "cell_type": "code",
   "execution_count": 51,
   "metadata": {},
   "outputs": [],
   "source": [
    "df_gend = pd.get_dummies(diabetic['gender'])"
   ]
  },
  {
   "cell_type": "code",
   "execution_count": 98,
   "metadata": {},
   "outputs": [],
   "source": [
    "# extract target and encode\n",
    "readmit_dict = {\n",
    "    'NO': 0,\n",
    "    '<30':1,\n",
    "    '>30':1  \n",
    "}\n",
    "\n",
    "diabetic['readmitted'] = diabetic['readmitted'].replace(readmit_dict)"
   ]
  },
  {
   "cell_type": "markdown",
   "metadata": {},
   "source": [
    "### Feature selection\n",
    "<a id=\"Feature_Selection\"></a>\n",
    "<p>ICD codes from diagnoses</p>\n",
    "<code>\n",
    "'Circulatory', 'Diabetes', 'Digestive', 'Genitourinary', 'Injury', 'Muscoloskeletal', 'Neoplasms', 'Others', 'Respiratory'</code>\n",
    "<p>Medications that were either modified in dosage or kept steady using a threshold of 5000 instances</p>\n",
    "<code>'metformin_Down', 'metformin_No', 'metformin_Steady', 'metformin_Up', 'glipizide_Down', 'glipizide_No', 'glipizide_Steady', 'glipizide_Up','glyburide_Down', 'glyburide_No', 'glyburide_Steady', 'glyburide_Up','pioglitazone_Down', 'pioglitazone_No', 'pioglitazone_Steady','pioglitazone_Up', 'rosiglitazone_Down', 'rosiglitazone_No','rosiglitazone_Steady', 'rosiglitazone_Up', 'insulin_Down','insulin_No', 'insulin_Steady', 'insulin_Up',</code>\n",
    "<p>Gender</p>\n",
    "<code>'Female', 'Male'</code>\n",
    "<p>Age group</p>\n",
    "<code> 'age'</code>"
   ]
  },
  {
   "cell_type": "code",
   "execution_count": 99,
   "metadata": {},
   "outputs": [],
   "source": [
    "# Set Features and target\n",
    "X = pd.concat([df_diag, df_med, df_gend, diabetic['age']], axis = 1)\n",
    "y = diabetic['readmitted']"
   ]
  },
  {
   "cell_type": "markdown",
   "metadata": {},
   "source": [
    "### Splitting the data"
   ]
  },
  {
   "cell_type": "code",
   "execution_count": 100,
   "metadata": {},
   "outputs": [],
   "source": [
    "from sklearn.model_selection import train_test_split\n",
    "# 80/20 split\n",
    "X_train, X_test, y_train, y_test = train_test_split(X, y, test_size = 0.20)"
   ]
  },
  {
   "cell_type": "markdown",
   "metadata": {},
   "source": [
    "## Logistic Regression"
   ]
  },
  {
   "cell_type": "code",
   "execution_count": 132,
   "metadata": {},
   "outputs": [
    {
     "name": "stderr",
     "output_type": "stream",
     "text": [
      "/home/fred/anaconda3/lib/python3.7/site-packages/sklearn/linear_model/logistic.py:432: FutureWarning: Default solver will be changed to 'lbfgs' in 0.22. Specify a solver to silence this warning.\n",
      "  FutureWarning)\n"
     ]
    }
   ],
   "source": [
    "from sklearn.linear_model import LogisticRegression\n",
    "\n",
    "med_model = LogisticRegression().fit(X_train, y_train)"
   ]
  },
  {
   "cell_type": "code",
   "execution_count": 133,
   "metadata": {},
   "outputs": [
    {
     "data": {
      "text/plain": [
       "array([[7667, 2772],\n",
       "       [6128, 3044]])"
      ]
     },
     "execution_count": 133,
     "metadata": {},
     "output_type": "execute_result"
    }
   ],
   "source": [
    "from sklearn.metrics import confusion_matrix, roc_auc_score, roc_curve\n",
    "\n",
    "y_pred_test = med_model.predict(X_test)\n",
    "confusion_matrix(y_test, y_pred_test)"
   ]
  },
  {
   "cell_type": "code",
   "execution_count": 159,
   "metadata": {},
   "outputs": [
    {
     "data": {
      "text/plain": [
       "Circulatory                 0.054756\n",
       "Diabetes                    0.038518\n",
       "Digestive                   0.074287\n",
       "Genitourinary               0.081906\n",
       "Injury                     -0.061030\n",
       "Muscoloskeletal            -0.112217\n",
       "Neoplasms                  -0.178765\n",
       "Others                      0.022011\n",
       "Respiratory                 0.082313\n",
       "metformin                  -0.013732\n",
       "repaglinide                 0.006061\n",
       "nateglinide                -0.001607\n",
       "chlorpropamide             -0.005948\n",
       "glimepiride                -0.005606\n",
       "acetohexamide               0.109785\n",
       "glipizide                  -0.001371\n",
       "glyburide                  -0.007458\n",
       "tolbutamide                -0.058300\n",
       "pioglitazone               -0.000684\n",
       "rosiglitazone               0.000463\n",
       "acarbose                    0.023063\n",
       "miglitol                    0.014810\n",
       "troglitazone                0.025213\n",
       "tolazamide                 -0.028415\n",
       "examide                    -0.011877\n",
       "citoglipton                -0.011877\n",
       "insulin                    -0.004230\n",
       "glyburide-metformin        -0.006768\n",
       "glipizide-metformin         0.028654\n",
       "glimepiride-pioglitazone    0.114856\n",
       "metformin-rosiglitazone    -0.011877\n",
       "metformin-pioglitazone     -0.132328\n",
       "change                      0.085368\n",
       "diabetesMed                 0.178721\n",
       "Female                      0.042610\n",
       "Male                       -0.042016\n",
       "age                         0.002818\n",
       "dtype: float64"
      ]
     },
     "execution_count": 159,
     "metadata": {},
     "output_type": "execute_result"
    }
   ],
   "source": [
    "y_pred_prob = med_model.predict_proba(X_test)[::,1]\n",
    "pd.Series(med_model.coef_[0], index=X.columns) # coefficients"
   ]
  },
  {
   "cell_type": "code",
   "execution_count": 135,
   "metadata": {},
   "outputs": [
    {
     "data": {
      "text/plain": [
       "[<matplotlib.lines.Line2D at 0x7f4df954f2b0>]"
      ]
     },
     "execution_count": 135,
     "metadata": {},
     "output_type": "execute_result"
    },
    {
     "data": {
      "image/png": "[encoded data removed]",
      "text/plain": [
       "<Figure size 432x288 with 1 Axes>"
      ]
     },
     "metadata": {
      "needs_background": "light"
     },
     "output_type": "display_data"
    }
   ],
   "source": [
    "fpr, tpr, _ = roc_curve(y_test,  y_pred_prob)\n",
    "auc = roc_auc_score(y_test, y_pred_prob)\n",
    "\n",
    "plt.plot(fpr,tpr)"
   ]
  },
  {
   "cell_type": "code",
   "execution_count": 136,
   "metadata": {},
   "outputs": [
    {
     "name": "stdout",
     "output_type": "stream",
     "text": [
      "Accuracy:  0.5556174591766835 \n",
      " 0.5461730661363521\n"
     ]
    }
   ],
   "source": [
    "print('Accuracy: ',auc,'\\n',  med_model.score(X_test, y_test))"
   ]
  },
  {
   "cell_type": "code",
   "execution_count": 137,
   "metadata": {},
   "outputs": [],
   "source": [
    "# random forest down here"
   ]
  },
  {
   "cell_type": "markdown",
   "metadata": {},
   "source": [
    "## Random Forest"
   ]
  },
  {
   "cell_type": "code",
   "execution_count": 138,
   "metadata": {},
   "outputs": [
    {
     "name": "stderr",
     "output_type": "stream",
     "text": [
      "/home/fred/anaconda3/lib/python3.7/site-packages/sklearn/ensemble/forest.py:245: FutureWarning: The default value of n_estimators will change from 10 in version 0.20 to 100 in 0.22.\n",
      "  \"10 in version 0.20 to 100 in 0.22.\", FutureWarning)\n"
     ]
    }
   ],
   "source": [
    "from sklearn.ensemble import RandomForestClassifier\n",
    "\n",
    "ks_rf = RandomForestClassifier().fit(X_train, y_train)"
   ]
  },
  {
   "cell_type": "code",
   "execution_count": 139,
   "metadata": {},
   "outputs": [
    {
     "data": {
      "text/plain": [
       "array([[6392, 4047],\n",
       "       [5147, 4025]])"
      ]
     },
     "execution_count": 139,
     "metadata": {},
     "output_type": "execute_result"
    }
   ],
   "source": [
    "y_pred_test_rf = ks_rf.predict(X_test)\n",
    "confusion_matrix(y_test, y_pred_test_rf)"
   ]
  },
  {
   "cell_type": "code",
   "execution_count": 140,
   "metadata": {},
   "outputs": [
    {
     "data": {
      "text/plain": [
       "[<matplotlib.lines.Line2D at 0x7f4df973cb70>]"
      ]
     },
     "execution_count": 140,
     "metadata": {},
     "output_type": "execute_result"
    },
    {
     "data": {
      "image/png": "[encoded data removed]",
      "text/plain": [
       "<Figure size 432x288 with 1 Axes>"
      ]
     },
     "metadata": {
      "needs_background": "light"
     },
     "output_type": "display_data"
    }
   ],
   "source": [
    "y_pred_proba_rf = ks_rf.predict_proba(X_test)[::,1]\n",
    "fpr, tpr, _ = roc_curve(y_test,  y_pred_proba_rf)\n",
    "auc = roc_auc_score(y_test, y_pred_proba_rf)\n",
    "\n",
    "plt.plot(fpr,tpr)"
   ]
  },
  {
   "cell_type": "code",
   "execution_count": 141,
   "metadata": {},
   "outputs": [
    {
     "data": {
      "text/plain": [
       "0.5329976159548293"
      ]
     },
     "execution_count": 141,
     "metadata": {},
     "output_type": "execute_result"
    }
   ],
   "source": [
    "auc"
   ]
  },
  {
   "cell_type": "code",
   "execution_count": null,
   "metadata": {},
   "outputs": [],
   "source": []
  },
  {
   "cell_type": "code",
   "execution_count": null,
   "metadata": {},
   "outputs": [],
   "source": []
  }
 ],
 "metadata": {
  "kernelspec": {
   "display_name": "Python 3",
   "language": "python",
   "name": "python3"
  },
  "language_info": {
   "codemirror_mode": {
    "name": "ipython",
    "version": 3
   },
   "file_extension": ".py",
   "mimetype": "text/x-python",
   "name": "python",
   "nbconvert_exporter": "python",
   "pygments_lexer": "ipython3",
   "version": "3.7.3"
  }
 },
 "nbformat": 4,
 "nbformat_minor": 2
}
