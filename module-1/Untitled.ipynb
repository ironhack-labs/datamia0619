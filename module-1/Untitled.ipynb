{
 "cells": [
  {
   "cell_type": "code",
   "execution_count": 2,
   "metadata": {},
   "outputs": [
    {
     "data": {
      "text/plain": [
       "4"
      ]
     },
     "execution_count": 2,
     "metadata": {},
     "output_type": "execute_result"
    }
   ],
   "source": [
    "square = lambda x: x*x\n",
    "square(2)"
   ]
  },
  {
   "cell_type": "code",
   "execution_count": 3,
   "metadata": {},
   "outputs": [
    {
     "data": {
      "text/plain": [
       "20"
      ]
     },
     "execution_count": 3,
     "metadata": {},
     "output_type": "execute_result"
    }
   ],
   "source": [
    "multiply = lambda x: x*10\n",
    "multiply(2)"
   ]
  },
  {
   "cell_type": "code",
   "execution_count": 4,
   "metadata": {},
   "outputs": [
    {
     "data": {
      "text/plain": [
       "50"
      ]
     },
     "execution_count": 4,
     "metadata": {},
     "output_type": "execute_result"
    }
   ],
   "source": [
    "multiply = lambda x, y: x*y\n",
    "multiply(5,10)"
   ]
  },
  {
   "cell_type": "code",
   "execution_count": 5,
   "metadata": {},
   "outputs": [],
   "source": [
    "def generate_range(lower):\n",
    "    return lambda upper: range(lower, upper)\n",
    "    \n",
    "custom_range = generate_range(0) # instead of 0 could be empty ()"
   ]
  },
  {
   "cell_type": "code",
   "execution_count": 6,
   "metadata": {},
   "outputs": [
    {
     "name": "stdout",
     "output_type": "stream",
     "text": [
      "0\n",
      "1\n",
      "2\n",
      "3\n",
      "4\n",
      "5\n",
      "6\n",
      "7\n",
      "8\n",
      "9\n"
     ]
    }
   ],
   "source": [
    "for x in custom_range(10):\n",
    "    print(x)"
   ]
  },
  {
   "cell_type": "code",
   "execution_count": 7,
   "metadata": {},
   "outputs": [
    {
     "name": "stdout",
     "output_type": "stream",
     "text": [
      "[1, 4, 9, 16, 25, 36, 49, 64, 81]\n"
     ]
    }
   ],
   "source": [
    "square = lambda x: x * x\n",
    "squared = [square(x) for x in range(1, 10)]\n",
    "\n",
    "print(squared)"
   ]
  },
  {
   "cell_type": "code",
   "execution_count": null,
   "metadata": {},
   "outputs": [],
   "source": [
    "# try with define function. will take 6-7 lines\n"
   ]
  },
  {
   "cell_type": "code",
   "execution_count": 8,
   "metadata": {},
   "outputs": [
    {
     "name": "stdout",
     "output_type": "stream",
     "text": [
      "['Calclulus', 'Philosophy', 'Art History', 'Computer Science']\n"
     ]
    }
   ],
   "source": [
    "school_dash = ['Calclulus', 'Philosophy', 'Art-History', 'Computer-Science']\n",
    "\n",
    "school_space = [(lambda x: x.replace('-', ' '))(x) for x in school_dash]\n",
    "\n",
    "print(school_space)"
   ]
  },
  {
   "cell_type": "code",
   "execution_count": 9,
   "metadata": {},
   "outputs": [
    {
     "data": {
      "text/plain": [
       "['Calclulus', 'Philosophy', 'Art History', 'Computer Science']"
      ]
     },
     "execution_count": 9,
     "metadata": {},
     "output_type": "execute_result"
    }
   ],
   "source": [
    "import re\n",
    "replace = lambda x: re.sub('-', ' ', x)\n",
    "school_space = [replace(x) for x in school_dash]\n",
    "school_space\n"
   ]
  },
  {
   "cell_type": "code",
   "execution_count": 11,
   "metadata": {},
   "outputs": [
    {
     "data": {
      "text/plain": [
       "['Calclulus', 'Philosophy', 'Art History', 'Computer Science']"
      ]
     },
     "execution_count": 11,
     "metadata": {},
     "output_type": "execute_result"
    }
   ],
   "source": [
    "import re\n",
    "school_space = [ (lambda x: re.sub('-', ' ', x)) (x) for x in school_dash]\n",
    "school_space"
   ]
  },
  {
   "cell_type": "code",
   "execution_count": 12,
   "metadata": {},
   "outputs": [
    {
     "data": {
      "text/plain": [
       "0.5"
      ]
     },
     "execution_count": 12,
     "metadata": {},
     "output_type": "execute_result"
    }
   ],
   "source": [
    "div = lambda num, denom: num / denom if (denom != 0) else 0\n",
    "\n",
    "div(5, 10)"
   ]
  },
  {
   "cell_type": "code",
   "execution_count": 13,
   "metadata": {},
   "outputs": [
    {
     "data": {
      "text/plain": [
       "['Computer Science', 'Calclulus', 'Philosophy', 'Art History']"
      ]
     },
     "execution_count": 13,
     "metadata": {},
     "output_type": "execute_result"
    }
   ],
   "source": [
    "last = lambda x: x[-1]\n",
    "\n",
    "sorted(school_space, key=last)"
   ]
  },
  {
   "cell_type": "code",
   "execution_count": null,
   "metadata": {},
   "outputs": [],
   "source": [
    "# docs.python.org/3/tutorial/classes.html or docs.python.org/3/tutorial/index.html"
   ]
  },
  {
   "cell_type": "code",
   "execution_count": null,
   "metadata": {},
   "outputs": [],
   "source": []
  },
  {
   "cell_type": "code",
   "execution_count": 24,
   "metadata": {},
   "outputs": [
    {
     "ename": "TypeError",
     "evalue": "Person() takes no arguments",
     "output_type": "error",
     "traceback": [
      "\u001b[1;31m---------------------------------------------------------------------------\u001b[0m",
      "\u001b[1;31mTypeError\u001b[0m                                 Traceback (most recent call last)",
      "\u001b[1;32m<ipython-input-24-6abab27a6392>\u001b[0m in \u001b[0;36m<module>\u001b[1;34m\u001b[0m\n\u001b[0;32m     25\u001b[0m     \u001b[1;34m\"844 Euclid Ave Apt 1, Miami Beach, FL 33139\"\u001b[0m\u001b[1;33m,\u001b[0m\u001b[1;33m\u001b[0m\u001b[1;33m\u001b[0m\u001b[0m\n\u001b[0;32m     26\u001b[0m     \u001b[1;34m\"858 222 9752\"\u001b[0m\u001b[1;33m,\u001b[0m\u001b[1;33m\u001b[0m\u001b[1;33m\u001b[0m\u001b[0m\n\u001b[1;32m---> 27\u001b[1;33m     \u001b[1;34m\"regi_zeta@hotmail.com\"\u001b[0m\u001b[1;33m\u001b[0m\u001b[1;33m\u001b[0m\u001b[0m\n\u001b[0m\u001b[0;32m     28\u001b[0m \u001b[1;33m\u001b[0m\u001b[0m\n\u001b[0;32m     29\u001b[0m )\n",
      "\u001b[1;31mTypeError\u001b[0m: Person() takes no arguments"
     ]
    }
   ],
   "source": [
    "import datetime\n",
    "class Person:\n",
    "    def _init_(self, first_name, last_name, dob, address, telephone, email): # self must be there, the rest no. _init_ special function\n",
    "        self.first_name = first_name\n",
    "        self.last_name = last_name\n",
    "        self.dob = dob\n",
    "        \n",
    "        self. address = address\n",
    "        self.telephone = telephone\n",
    "        self.email = telephone\n",
    "        \n",
    "    def age(self):\n",
    "        today = datetime.date.today()\n",
    "        age = today.year - self.dob.year\n",
    "        \n",
    "        if today < datetime.date(today.year, self.dob.month, self.dob.day):\n",
    "            age -= 1\n",
    "            \n",
    "        return age\n",
    "    \n",
    "regina = Person(\n",
    "    \"regina\",\n",
    "    \"gizatullina\",\n",
    "     datetime.date(1988, 4, 18), # year, month, day\n",
    "    \"844 Euclid Ave Apt 1, Miami Beach, FL 33139\",\n",
    "    \"858 222 9752\",\n",
    "    \"regi_zeta@hotmail.com\"\n",
    "\n",
    ")\n",
    "\n",
    "print(person.first_name)\n",
    "print(person.last_name)\n",
    "print(person.email)\n",
    "print(person.age())"
   ]
  },
  {
   "cell_type": "code",
   "execution_count": null,
   "metadata": {},
   "outputs": [],
   "source": [
    "import numpy as np\n",
    "\n",
    "def ordinary_least_squares(X, y):\n",
    "    # This function returns the regression coefficients of a linear model\n",
    "    # input: X - predictor variables and y - response variables\n",
    "    # output: regression coefficients\n",
    "    \n",
    "    xtx = np.dot(X.T, X) ## x-transpose times x\n",
    "    xtx_inv = np.linalg.inv(xtx) ## inverse of x-transpose times x\n",
    "    xty = np.dot(X.T, y) ## x-transpose times y\n",
    "    return np.dot(xtx_inv, xty)"
   ]
  },
  {
   "cell_type": "code",
   "execution_count": null,
   "metadata": {},
   "outputs": [],
   "source": [
    "class LinearReg:\n",
    "\n",
    "    def __init__(self, fit_intercept=True):\n",
    "        self.fit_intercept = fit_intercept\n",
    "        self.coefficients = None\n",
    "        self.intercept = None\n",
    "        \n",
    "    def fit(self, X, y):\n",
    "        # This function returns the fitted linear model \n",
    "        # input: X - predictor variables and y - response variables\n",
    "        # output: regression coefficients\n",
    "        \n",
    "        xtx = np.dot(X.T, X) ## x-transpose times x\n",
    "        xtx_inv = np.linalg.inv(xtx) ## inverse of x-transpose times x\n",
    "        xty = np.dot(X.T, y) ## x-transpose times y\n",
    "        coefficients = np.dot(xtx_inv, xty)\n",
    "        \n",
    "        if self.fit_intercept:\n",
    "            self.intercept = coefficients[0]\n",
    "            self.coefficients = coefficients[1:]\n",
    "        else:\n",
    "            self.intercept = 0\n",
    "            self.coefficients = coefficients\n",
    "            \n",
    "            \n",
    "    def predict(self, X):\n",
    "        # This function returns the predicted values\n",
    "        # input: array of dependent variables\n",
    "        # output: predicted values\n",
    "        if len(X.shape) == 1:\n",
    "            X = X.reshape(-1,1) \n",
    "            return self.intercept_ + np.dot(X, self.coef_) "
   ]
  },
  {
   "cell_type": "code",
   "execution_count": null,
   "metadata": {},
   "outputs": [],
   "source": [
    "linreg = LinearReg()\n",
    "linreg.fit(X, y)"
   ]
  }
 ],
 "metadata": {
  "kernelspec": {
   "display_name": "Python 3",
   "language": "python",
   "name": "python3"
  },
  "language_info": {
   "codemirror_mode": {
    "name": "ipython",
    "version": 3
   },
   "file_extension": ".py",
   "mimetype": "text/x-python",
   "name": "python",
   "nbconvert_exporter": "python",
   "pygments_lexer": "ipython3",
   "version": "3.7.3"
  }
 },
 "nbformat": 4,
 "nbformat_minor": 2
}
