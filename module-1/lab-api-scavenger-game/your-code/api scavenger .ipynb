{
 "cells": [
  {
   "cell_type": "code",
   "execution_count": 18,
   "metadata": {},
   "outputs": [],
   "source": [
    "import requests\n",
    "import json\n",
    "import getpass\n",
    "import pandas as pd\n",
    "import numpy as np"
   ]
  },
  {
   "cell_type": "code",
   "execution_count": 8,
   "metadata": {},
   "outputs": [],
   "source": [
    "username = 'regina9'"
   ]
  },
  {
   "cell_type": "code",
   "execution_count": 9,
   "metadata": {},
   "outputs": [
    {
     "name": "stdout",
     "output_type": "stream",
     "text": [
      "Token: ········\n"
     ]
    }
   ],
   "source": [
    "token = getpass.getpass(prompt='Token: ', stream=None)"
   ]
  },
  {
   "cell_type": "code",
   "execution_count": 10,
   "metadata": {},
   "outputs": [],
   "source": [
    "#reusable session object with saved log in credentials\n",
    "github_session = requests.Session()\n",
    "github_session.auth = (username, token)"
   ]
  },
  {
   "cell_type": "raw",
   "metadata": {},
   "source": [
    "#1 Forking Languages"
   ]
  },
  {
   "cell_type": "code",
   "execution_count": 31,
   "metadata": {},
   "outputs": [],
   "source": [
    "url = 'https://api.github.com/repos/ironhack-datalabs/datamia0619/forks'\n",
    "forks = json.loads(github_session.get(url).text)"
   ]
  },
  {
   "cell_type": "code",
   "execution_count": 32,
   "metadata": {},
   "outputs": [],
   "source": [
    "lingos = [] #languages of each fork\n",
    "for fork in forks:\n",
    "    lingos.append(fork['language'])"
   ]
  },
  {
   "cell_type": "code",
   "execution_count": 33,
   "metadata": {},
   "outputs": [
    {
     "data": {
      "text/plain": [
       "array(['HTML', 'Jupyter Notebook'], dtype='<U16')"
      ]
     },
     "execution_count": 33,
     "metadata": {},
     "output_type": "execute_result"
    }
   ],
   "source": [
    "np.unique(lingos) "
   ]
  },
  {
   "cell_type": "raw",
   "metadata": {},
   "source": [
    "#2 Count commits"
   ]
  },
  {
   "cell_type": "code",
   "execution_count": 41,
   "metadata": {},
   "outputs": [
    {
     "data": {
      "text/plain": [
       "'https://api.github.com/repos/regina9/datamia0619/commits{/sha}'"
      ]
     },
     "execution_count": 41,
     "metadata": {},
     "output_type": "execute_result"
    }
   ],
   "source": [
    "forks[3]['commits_url']"
   ]
  },
  {
   "cell_type": "code",
   "execution_count": 79,
   "metadata": {},
   "outputs": [
    {
     "data": {
      "text/plain": [
       "39"
      ]
     },
     "execution_count": 79,
     "metadata": {},
     "output_type": "execute_result"
    }
   ],
   "source": [
    "date = '2019-07-22' #find the number of commits from last week\n",
    "all_commits = 0\n",
    "for fork in forks:\n",
    "    commit_url = (fork['commits_url'].replace(\"{/sha}\", \"\") + '?since=' + date)\n",
    "    commits = json.loads(github_session.get(commit_url).text)\n",
    "    for commit in commits:\n",
    "        all_commits +=1\n",
    "all_commits"
   ]
  },
  {
   "cell_type": "raw",
   "metadata": {},
   "source": [
    "# Hidden Cold Joke"
   ]
  },
  {
   "cell_type": "code",
   "execution_count": 82,
   "metadata": {},
   "outputs": [],
   "source": [
    "repo_url = 'https://api.github.com/repos/ironhack-datalabs/scavenger'\n",
    "url = repo_url + '/git/trees/9308ccc8a4c34c5e3a991ee815222a9691c32476?recursive=1'"
   ]
  },
  {
   "cell_type": "code",
   "execution_count": 96,
   "metadata": {},
   "outputs": [],
   "source": [
    "trees = json.loads(github_session.get(url).text)"
   ]
  },
  {
   "cell_type": "code",
   "execution_count": 105,
   "metadata": {},
   "outputs": [
    {
     "data": {
      "text/plain": [
       "{'path': '17020/.0007.scavengerhunt',\n",
       " 'mode': '100644',\n",
       " 'type': 'blob',\n",
       " 'sha': '6abb415e0ae3450be0f323113bcca2af195ebbff',\n",
       " 'size': 5,\n",
       " 'url': 'https://api.github.com/repos/ironhack-datalabs/scavenger/git/blobs/6abb415e0ae3450be0f323113bcca2af195ebbff'}"
      ]
     },
     "execution_count": 105,
     "metadata": {},
     "output_type": "execute_result"
    }
   ],
   "source": [
    "trees['tree'][12]"
   ]
  },
  {
   "cell_type": "code",
   "execution_count": 106,
   "metadata": {},
   "outputs": [
    {
     "data": {
      "text/plain": [
       "array(['.gitignore', '15024', '15024/.0006.scavengerhunt', '15024/40',\n",
       "       '15024/74', '15024/99', '15534', '15534/.0008.scavengerhunt',\n",
       "       '15534/.0012.scavengerhunt', '15534/2', '15534/98', '17020',\n",
       "       '17020/.0007.scavengerhunt', '17020/46', '17020/97', '30351',\n",
       "       '30351/.0021.scavengerhunt', '30351/22', '30351/96', '40303',\n",
       "       '40303/.0022.scavengerhunt', '40303/51', '40303/65', '44639',\n",
       "       '44639/.0005.scavengerhunt', '44639/76', '44639/91', '45525',\n",
       "       '45525/.0018.scavengerhunt', '45525/67', '45525/90', '47222',\n",
       "       '47222/.0016.scavengerhunt', '47222/.0024.scavengerhunt',\n",
       "       '47222/7', '47222/89', '47830', '47830/.0010.scavengerhunt',\n",
       "       '47830/66', '47830/85', '49418', '49418/.0014.scavengerhunt',\n",
       "       '49418/30', '49418/38', '49418/84', '50896',\n",
       "       '50896/.0011.scavengerhunt', '50896/4', '50896/83', '55417',\n",
       "       '55417/.0023.scavengerhunt', '55417/14', '55417/82', '55685',\n",
       "       '55685/.0020.scavengerhunt', '55685/5', '55685/81', '60224',\n",
       "       '60224/.0003.scavengerhunt', '60224/1', '60224/80', '64880',\n",
       "       '64880/3', '64880/57', '64880/79', '66032', '66032/28', '66032/47',\n",
       "       '66032/77', '68848', '68848/.0004.scavengerhunt', '68848/16',\n",
       "       '68848/75', '70751', '70751/.0019.scavengerhunt', '70751/18',\n",
       "       '70751/44', '70751/68', '70985', '70985/.0017.scavengerhunt',\n",
       "       '70985/11', '70985/59', '88596', '88596/.0002.scavengerhunt',\n",
       "       '88596/12', '88596/32', '88596/55', '89046', '89046/64',\n",
       "       '89046/70', '89046/73', '89338', '89338/.0013.scavengerhunt',\n",
       "       '89338/35', '89338/43', '89338/8', '91701',\n",
       "       '91701/.0015.scavengerhunt', '91701/33', '91701/39', '97881',\n",
       "       '97881/.0009.scavengerhunt', '97881/26', '97881/36', '97881/71',\n",
       "       '98750', '98750/.0001.scavengerhunt', '98750/20', '98750/62'],\n",
       "      dtype='<U25')"
      ]
     },
     "execution_count": 106,
     "metadata": {},
     "output_type": "execute_result"
    }
   ],
   "source": [
    "paths = []\n",
    "for file in trees['tree']:\n",
    "    paths.append(file['path'])\n",
    "np.unique(paths)"
   ]
  },
  {
   "cell_type": "code",
   "execution_count": 114,
   "metadata": {},
   "outputs": [],
   "source": [
    "files = []\n",
    "for file in paths:\n",
    "    if file.endswith('.scavengerhunt'):\n",
    "        files.append(file.rsplit('/', 1)[1])\n",
    "\n",
    "files.sort()"
   ]
  },
  {
   "cell_type": "code",
   "execution_count": 131,
   "metadata": {},
   "outputs": [
    {
     "data": {
      "text/plain": [
       "['.0001.scavengerhunt', '.0002.scavengerhunt', '.0003.scavengerhunt']"
      ]
     },
     "execution_count": 131,
     "metadata": {},
     "output_type": "execute_result"
    }
   ],
   "source": [
    "files[:3]"
   ]
  },
  {
   "cell_type": "code",
   "execution_count": 116,
   "metadata": {},
   "outputs": [],
   "source": [
    "fpaths = {}\n",
    "def find_path (f):\n",
    "    for file in trees['tree']:\n",
    "        if file['path'].endswith(f):\n",
    "            fpaths[f] = file['path']\n",
    "\n",
    "for file in files:\n",
    "    find_path(file)   \n"
   ]
  },
  {
   "cell_type": "code",
   "execution_count": 130,
   "metadata": {},
   "outputs": [
    {
     "name": "stdout",
     "output_type": "stream",
     "text": [
      "In data science, 80 percent of time spent is preparing data, 20 percent of time is spent complaining about the need to prepare data.\n"
     ]
    }
   ],
   "source": [
    "# Get content for all needed files\n",
    "import base64\n",
    "secret = []\n",
    "for file in files:\n",
    "    url = repo_url + '/contents/'  + fpaths[file]\n",
    "    content = json.loads(github_session.get(url).text)\n",
    "    message = base64.b64decode(content['content']).decode(\"utf-8\").rstrip()\n",
    "    secret.append(message)\n",
    "print(' '.join(secret))"
   ]
  }
 ],
 "metadata": {
  "kernelspec": {
   "display_name": "Python 3",
   "language": "python",
   "name": "python3"
  },
  "language_info": {
   "codemirror_mode": {
    "name": "ipython",
    "version": 3
   },
   "file_extension": ".py",
   "mimetype": "text/x-python",
   "name": "python",
   "nbconvert_exporter": "python",
   "pygments_lexer": "ipython3",
   "version": "3.7.3"
  }
 },
 "nbformat": 4,
 "nbformat_minor": 2
}
