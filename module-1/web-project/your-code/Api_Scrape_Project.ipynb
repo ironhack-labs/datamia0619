{
 "cells": [
  {
   "cell_type": "code",
   "execution_count": 44,
   "metadata": {},
   "outputs": [],
   "source": [
    "import requests as r\n",
    "import pandas as pd \n",
    "from bs4 import BeautifulSoup as bs\n",
    "import re\n",
    "import time as t\n",
    "from requests import Session\n",
    "import json\n",
    "import datetime"
   ]
  },
  {
   "cell_type": "code",
   "execution_count": 45,
   "metadata": {},
   "outputs": [],
   "source": [
    "pages = 0\n",
    "url = 'https://www.google.com/search?q=bitcoin&client=firefox-b-1-d&tbm=nws&ei=jWIWXYnSDorZ5gLo8JbIDg&start='+str(pages)+'&sa=N&ved=0ahUKEwjJzJ6K7YzjAhWKrFkKHWi4Bek4WhDy0wMIXA&biw=1320&bih=737&dpr=1.09'\n"
   ]
  },
  {
   "cell_type": "code",
   "execution_count": 52,
   "metadata": {},
   "outputs": [],
   "source": [
    "def request(url,start=0, pages=1,): \n",
    "    \n",
    "    url = 'https://www.google.com/search?q=bitcoin&client=firefox-b-1-d&tbm=nws&ei=jWIWXYnSDorZ5gLo8JbIDg&start='+str(pages)+'&sa=N&ved=0ahUKEwjJzJ6K7YzjAhWKrFkKHWi4Bek4WhDy0wMIXA&biw=1320&bih=737&dpr=1.09'\n",
    "    soup_string_list = []\n",
    "    soup_list = []\n",
    "    if pages != 1:\n",
    "        \n",
    "        try:\n",
    "            \n",
    "            for i in range(start,pages):\n",
    "                'Page %s in progress...'%(i)\n",
    "\n",
    "                pages += (i*10)-10\n",
    "                html = r.get(url, timeout=1).content\n",
    "                soup = bs(html, 'lxml')\n",
    "\n",
    "                soup_string = str(bs(html, 'lxml'))\n",
    "                soup_string_list.append(soup_string)\n",
    "                soup_string = ''.join(soup_string_list)\n",
    "\n",
    "                soup_list.append(soup) \n",
    "                \n",
    "                \n",
    "                \n",
    "                t.sleep(1)\n",
    "            return soup_string, soup_list\n",
    "        except: \n",
    "            pass\n",
    "        \n",
    "    else:\n",
    "        html = r.get(url, timeout=1).content\n",
    "        soup_string = str(bs(html, 'lxml'))\n",
    "        \n",
    "        soup = bs(html, 'html.parser')\n",
    "        soup.prettify()\n",
    "        \n",
    "        return soup_string, soup\n",
    "    \n",
    "    \n",
    "    \n",
    "def clean_titles(soup_string):\n",
    "    \n",
    "    search = re.findall('\">.{0,200}</a></h3>', soup_string)\n",
    "    sub_1 = list(map(lambda x: re.sub(r\"(</b>)\",r\"\",x), search))\n",
    "    sub_2 = list(map(lambda x: re.sub(r\"(<b>)\",r\"\",x), sub_1))\n",
    "    rstrip = list(map(lambda x: x.strip('</a></h3>'), sub_2))\n",
    "    lstrip = list(map(lambda x: x.lstrip('\">'), rstrip))\n",
    "    \n",
    "    return lstrip\n",
    "\n",
    "\n",
    "def clean_sources(soup): \n",
    "    clean = []\n",
    "    \n",
    "    for i in soup:\n",
    "        search = i.find_all('div', attrs={'class':'slp'})\n",
    "        text = [i.text for i in search]\n",
    "        split = list(map(lambda x: x.split('-'), text))\n",
    "        rstrip = list(map(lambda x: x[0].rstrip(), split))\n",
    "        \n",
    "        clean.append(rstrip)\n",
    "        \n",
    "    flatten = [i for mid in clean for i in mid]\n",
    "    \n",
    "    return flatten\n",
    "\n",
    "\n",
    "\n",
    "def clean_dates(soup): \n",
    "    clean = []\n",
    "    \n",
    "    for i in soup: \n",
    "        search = i.find_all('div', attrs={'class':'slp'})\n",
    "        text = [i.text for i in search]\n",
    "        split = list(map(lambda x: x.split('-'), text))\n",
    "        rstrip = list(map(lambda x: x[1].rstrip(), split))\n",
    "        lstrip = list(map(lambda x : x.lstrip(), rstrip))\n",
    "        \n",
    "        clean.append(lstrip)\n",
    "        \n",
    "    flatten = [i for mid in clean for i in mid]\n",
    "    \n",
    "    return flatten\n",
    "\n",
    "\n",
    "\n",
    "\n",
    "\n",
    "\n",
    "\n",
    "\n",
    "\n",
    "\n",
    "\n",
    "\n"
   ]
  },
  {
   "cell_type": "code",
   "execution_count": 49,
   "metadata": {},
   "outputs": [
    {
     "name": "stdout",
     "output_type": "stream",
     "text": [
      "CPU times: user 13.5 s, sys: 1.72 s, total: 15.2 s\n",
      "Wall time: 22min 41s\n"
     ]
    }
   ],
   "source": [
    "%%time\n",
    "titles, DatesAndSources = request(url,0,300)"
   ]
  },
  {
   "cell_type": "code",
   "execution_count": 50,
   "metadata": {},
   "outputs": [
    {
     "name": "stdout",
     "output_type": "stream",
     "text": [
      "Titles Length:0\n",
      "Sources Length:0\n",
      "Dates Length:0\n"
     ]
    }
   ],
   "source": [
    "print('Titles Length:%s\\nSources Length:%s\\nDates Length:%s'%(len(clean_titles(titles)),\n",
    "                                                              len(clean_sources(DatesAndSources)),\n",
    "                                                             len(clean_dates(DatesAndSources))))"
   ]
  },
  {
   "cell_type": "code",
   "execution_count": null,
   "metadata": {},
   "outputs": [],
   "source": []
  },
  {
   "cell_type": "code",
   "execution_count": null,
   "metadata": {},
   "outputs": [],
   "source": []
  },
  {
   "cell_type": "code",
   "execution_count": null,
   "metadata": {},
   "outputs": [],
   "source": []
  },
  {
   "cell_type": "code",
   "execution_count": 19,
   "metadata": {},
   "outputs": [],
   "source": [
    "df = pd.DataFrame()"
   ]
  },
  {
   "cell_type": "code",
   "execution_count": 20,
   "metadata": {},
   "outputs": [
    {
     "data": {
      "text/html": [
       "<div>\n",
       "<style scoped>\n",
       "    .dataframe tbody tr th:only-of-type {\n",
       "        vertical-align: middle;\n",
       "    }\n",
       "\n",
       "    .dataframe tbody tr th {\n",
       "        vertical-align: top;\n",
       "    }\n",
       "\n",
       "    .dataframe thead th {\n",
       "        text-align: right;\n",
       "    }\n",
       "</style>\n",
       "<table border=\"1\" class=\"dataframe\">\n",
       "  <thead>\n",
       "    <tr style=\"text-align: right;\">\n",
       "      <th></th>\n",
       "      <th>Title</th>\n",
       "      <th>Source</th>\n",
       "      <th>Date</th>\n",
       "    </tr>\n",
       "  </thead>\n",
       "  <tbody>\n",
       "    <tr>\n",
       "      <th>0</th>\n",
       "      <td>Bitcoin Climbs to One-Year High on Facebook Cr...</td>\n",
       "      <td>Bloomberg</td>\n",
       "      <td>Jun 16, 2019</td>\n",
       "    </tr>\n",
       "    <tr>\n",
       "      <th>1</th>\n",
       "      <td>Facebook's Cryptocurrency Could Be Good News f...</td>\n",
       "      <td>Barron's</td>\n",
       "      <td>Jun 14, 2019</td>\n",
       "    </tr>\n",
       "    <tr>\n",
       "      <th>2</th>\n",
       "      <td>Bitcoin Hits 15-Month High as Naysayers Double...</td>\n",
       "      <td>Cointelegraph</td>\n",
       "      <td>5 days ago</td>\n",
       "    </tr>\n",
       "    <tr>\n",
       "      <th>3</th>\n",
       "      <td>$200000 in Bitcoin Seized in Dark Net Drug Probe</td>\n",
       "      <td>CoinDesk</td>\n",
       "      <td>Jun 18, 2019</td>\n",
       "    </tr>\n",
       "    <tr>\n",
       "      <th>4</th>\n",
       "      <td>Bitcoin Struggles for Price Gains As Litecoin ...</td>\n",
       "      <td>CoinDesk</td>\n",
       "      <td>Jun 12, 2019</td>\n",
       "    </tr>\n",
       "  </tbody>\n",
       "</table>\n",
       "</div>"
      ],
      "text/plain": [
       "                                               Title         Source  \\\n",
       "0  Bitcoin Climbs to One-Year High on Facebook Cr...      Bloomberg   \n",
       "1  Facebook's Cryptocurrency Could Be Good News f...       Barron's   \n",
       "2  Bitcoin Hits 15-Month High as Naysayers Double...  Cointelegraph   \n",
       "3   $200000 in Bitcoin Seized in Dark Net Drug Probe       CoinDesk   \n",
       "4  Bitcoin Struggles for Price Gains As Litecoin ...       CoinDesk   \n",
       "\n",
       "           Date  \n",
       "0  Jun 16, 2019  \n",
       "1  Jun 14, 2019  \n",
       "2    5 days ago  \n",
       "3  Jun 18, 2019  \n",
       "4  Jun 12, 2019  "
      ]
     },
     "execution_count": 20,
     "metadata": {},
     "output_type": "execute_result"
    }
   ],
   "source": [
    "df['Title'] = clean_titles(titles)\n",
    "df['Source'] = clean_sources(DatesAndSources)\n",
    "df['Date'] = clean_dates(DatesAndSources)\n",
    "df[df['Date']=='3 days ago']\n",
    "df.head()"
   ]
  },
  {
   "cell_type": "code",
   "execution_count": null,
   "metadata": {},
   "outputs": [],
   "source": []
  },
  {
   "cell_type": "code",
   "execution_count": null,
   "metadata": {},
   "outputs": [],
   "source": []
  },
  {
   "cell_type": "code",
   "execution_count": null,
   "metadata": {},
   "outputs": [],
   "source": []
  },
  {
   "cell_type": "code",
   "execution_count": 23,
   "metadata": {},
   "outputs": [
    {
     "data": {
      "text/plain": [
       "(1025, 3)"
      ]
     },
     "execution_count": 23,
     "metadata": {},
     "output_type": "execute_result"
    }
   ],
   "source": [
    "df_daily.shape"
   ]
  },
  {
   "cell_type": "code",
   "execution_count": 22,
   "metadata": {},
   "outputs": [],
   "source": [
    "df_daily = df[df['Date'].str.contains('2019|2018')]"
   ]
  },
  {
   "cell_type": "code",
   "execution_count": 24,
   "metadata": {},
   "outputs": [],
   "source": [
    "def format_date(series=df_daily['Date']):\n",
    "\n",
    "    unformated = list(series)\n",
    "    formated = []\n",
    "    try: \n",
    "        for i in unformated: \n",
    "            if '2019' in i:  \n",
    "\n",
    "                take = datetime.datetime.strptime(i, '%b %d, %Y')\n",
    "                cut = take.isoformat()[:10]\n",
    "                formated.append(cut)\n",
    "    except:\n",
    "        formated.append(i)\n",
    "\n",
    "    return formated\n",
    "\n",
    "\n",
    "\n",
    "def BTC(start='2019-01-01', end='2019-07-25'):  \n",
    "    \n",
    "    key = 'fcf1f334-f9b2-4acd-8024-3b425c1272a4'\n",
    "    domain = 'https://api.coindesk.com/v1/bpi/historical/close.json?start=%s&end=%s'%(start,end)\n",
    "    JSON = r.get(domain).json()['bpi']\n",
    "    keys = list(JSON)\n",
    "    \n",
    "    df = pd.DataFrame()\n",
    "    df['Date'] = keys\n",
    "    \n",
    "    values = []\n",
    "    for i in keys: \n",
    "        values.append(JSON[i])\n",
    "        \n",
    "    df['Price'] = values\n",
    "    \n",
    "    return df"
   ]
  },
  {
   "cell_type": "code",
   "execution_count": 25,
   "metadata": {},
   "outputs": [
    {
     "name": "stdout",
     "output_type": "stream",
     "text": [
      "1025\n",
      "1025\n"
     ]
    }
   ],
   "source": [
    "print(len(df_daily['Date']))\n",
    "print(len(format_date()))"
   ]
  },
  {
   "cell_type": "code",
   "execution_count": 26,
   "metadata": {},
   "outputs": [
    {
     "name": "stderr",
     "output_type": "stream",
     "text": [
      "/anaconda3/lib/python3.7/site-packages/ipykernel_launcher.py:1: SettingWithCopyWarning: \n",
      "A value is trying to be set on a copy of a slice from a DataFrame.\n",
      "Try using .loc[row_indexer,col_indexer] = value instead\n",
      "\n",
      "See the caveats in the documentation: http://pandas.pydata.org/pandas-docs/stable/indexing.html#indexing-view-versus-copy\n",
      "  \"\"\"Entry point for launching an IPython kernel.\n"
     ]
    }
   ],
   "source": [
    "df_daily['Date'] = format_date()"
   ]
  },
  {
   "cell_type": "code",
   "execution_count": 27,
   "metadata": {},
   "outputs": [
    {
     "data": {
      "text/html": [
       "<div>\n",
       "<style scoped>\n",
       "    .dataframe tbody tr th:only-of-type {\n",
       "        vertical-align: middle;\n",
       "    }\n",
       "\n",
       "    .dataframe tbody tr th {\n",
       "        vertical-align: top;\n",
       "    }\n",
       "\n",
       "    .dataframe thead th {\n",
       "        text-align: right;\n",
       "    }\n",
       "</style>\n",
       "<table border=\"1\" class=\"dataframe\">\n",
       "  <thead>\n",
       "    <tr style=\"text-align: right;\">\n",
       "      <th></th>\n",
       "      <th>Title</th>\n",
       "      <th>Source</th>\n",
       "      <th>Date</th>\n",
       "    </tr>\n",
       "  </thead>\n",
       "  <tbody>\n",
       "    <tr>\n",
       "      <th>0</th>\n",
       "      <td>Bitcoin Climbs to One-Year High on Facebook Cr...</td>\n",
       "      <td>Bloomberg</td>\n",
       "      <td>2019-06-16</td>\n",
       "    </tr>\n",
       "    <tr>\n",
       "      <th>1</th>\n",
       "      <td>Facebook's Cryptocurrency Could Be Good News f...</td>\n",
       "      <td>Barron's</td>\n",
       "      <td>2019-06-14</td>\n",
       "    </tr>\n",
       "    <tr>\n",
       "      <th>3</th>\n",
       "      <td>$200000 in Bitcoin Seized in Dark Net Drug Probe</td>\n",
       "      <td>CoinDesk</td>\n",
       "      <td>2019-06-18</td>\n",
       "    </tr>\n",
       "    <tr>\n",
       "      <th>4</th>\n",
       "      <td>Bitcoin Struggles for Price Gains As Litecoin ...</td>\n",
       "      <td>CoinDesk</td>\n",
       "      <td>2019-06-12</td>\n",
       "    </tr>\n",
       "    <tr>\n",
       "      <th>6</th>\n",
       "      <td>Bitcoin Price Eyes Stronger Recovery Rally Aft...</td>\n",
       "      <td>CoinDesk</td>\n",
       "      <td>2019-06-07</td>\n",
       "    </tr>\n",
       "  </tbody>\n",
       "</table>\n",
       "</div>"
      ],
      "text/plain": [
       "                                               Title     Source        Date\n",
       "0  Bitcoin Climbs to One-Year High on Facebook Cr...  Bloomberg  2019-06-16\n",
       "1  Facebook's Cryptocurrency Could Be Good News f...   Barron's  2019-06-14\n",
       "3   $200000 in Bitcoin Seized in Dark Net Drug Probe   CoinDesk  2019-06-18\n",
       "4  Bitcoin Struggles for Price Gains As Litecoin ...   CoinDesk  2019-06-12\n",
       "6  Bitcoin Price Eyes Stronger Recovery Rally Aft...   CoinDesk  2019-06-07"
      ]
     },
     "execution_count": 27,
     "metadata": {},
     "output_type": "execute_result"
    }
   ],
   "source": [
    "df_daily.head()"
   ]
  },
  {
   "cell_type": "code",
   "execution_count": null,
   "metadata": {},
   "outputs": [],
   "source": []
  },
  {
   "cell_type": "code",
   "execution_count": null,
   "metadata": {},
   "outputs": [],
   "source": []
  },
  {
   "cell_type": "code",
   "execution_count": 28,
   "metadata": {},
   "outputs": [],
   "source": [
    "mini = df_daily['Date'].min()\n",
    "maxi = df_daily['Date'].max()\n"
   ]
  },
  {
   "cell_type": "code",
   "execution_count": 29,
   "metadata": {},
   "outputs": [],
   "source": [
    "join_df = BTC(mini, maxi).join(df_daily.set_index('Date'),on='Date')"
   ]
  },
  {
   "cell_type": "code",
   "execution_count": 30,
   "metadata": {},
   "outputs": [
    {
     "data": {
      "text/plain": [
       "(1033, 4)"
      ]
     },
     "execution_count": 30,
     "metadata": {},
     "output_type": "execute_result"
    }
   ],
   "source": [
    "join_df.shape"
   ]
  },
  {
   "cell_type": "code",
   "execution_count": 31,
   "metadata": {},
   "outputs": [],
   "source": [
    "unique_df = join_df.drop_duplicates('Title').reset_index()"
   ]
  },
  {
   "cell_type": "code",
   "execution_count": 32,
   "metadata": {},
   "outputs": [
    {
     "data": {
      "text/html": [
       "<div>\n",
       "<style scoped>\n",
       "    .dataframe tbody tr th:only-of-type {\n",
       "        vertical-align: middle;\n",
       "    }\n",
       "\n",
       "    .dataframe tbody tr th {\n",
       "        vertical-align: top;\n",
       "    }\n",
       "\n",
       "    .dataframe thead th {\n",
       "        text-align: right;\n",
       "    }\n",
       "</style>\n",
       "<table border=\"1\" class=\"dataframe\">\n",
       "  <thead>\n",
       "    <tr style=\"text-align: right;\">\n",
       "      <th></th>\n",
       "      <th>index</th>\n",
       "      <th>Date</th>\n",
       "      <th>Price</th>\n",
       "      <th>Title</th>\n",
       "      <th>Source</th>\n",
       "    </tr>\n",
       "  </thead>\n",
       "  <tbody>\n",
       "    <tr>\n",
       "      <th>0</th>\n",
       "      <td>0</td>\n",
       "      <td>2019-06-05</td>\n",
       "      <td>7785.9850</td>\n",
       "      <td>Apple's iPhone Is Taking Its First Steps Into ...</td>\n",
       "      <td>Forbes</td>\n",
       "    </tr>\n",
       "    <tr>\n",
       "      <th>1</th>\n",
       "      <td>1</td>\n",
       "      <td>2019-06-06</td>\n",
       "      <td>7806.7150</td>\n",
       "      <td>NaN</td>\n",
       "      <td>NaN</td>\n",
       "    </tr>\n",
       "    <tr>\n",
       "      <th>2</th>\n",
       "      <td>2</td>\n",
       "      <td>2019-06-07</td>\n",
       "      <td>8001.2767</td>\n",
       "      <td>Bitcoin Price Eyes Stronger Recovery Rally Aft...</td>\n",
       "      <td>CoinDesk</td>\n",
       "    </tr>\n",
       "    <tr>\n",
       "      <th>3</th>\n",
       "      <td>5</td>\n",
       "      <td>2019-06-10</td>\n",
       "      <td>8016.6917</td>\n",
       "      <td>Michael Ford Named Newest Bitcoin Core Code Ma...</td>\n",
       "      <td>CoinDesk</td>\n",
       "    </tr>\n",
       "    <tr>\n",
       "      <th>4</th>\n",
       "      <td>5</td>\n",
       "      <td>2019-06-10</td>\n",
       "      <td>8016.6917</td>\n",
       "      <td>Crypto Platform Says It Aims to Solve Bitcoin ...</td>\n",
       "      <td>Cointelegraph</td>\n",
       "    </tr>\n",
       "    <tr>\n",
       "      <th>5</th>\n",
       "      <td>5</td>\n",
       "      <td>2019-06-10</td>\n",
       "      <td>8016.6917</td>\n",
       "      <td>Bitcoin Risks Short-Term Bear Reversal Below $...</td>\n",
       "      <td>CoinDesk</td>\n",
       "    </tr>\n",
       "    <tr>\n",
       "      <th>6</th>\n",
       "      <td>7</td>\n",
       "      <td>2019-06-12</td>\n",
       "      <td>8173.3567</td>\n",
       "      <td>Bitcoin Struggles for Price Gains As Litecoin ...</td>\n",
       "      <td>CoinDesk</td>\n",
       "    </tr>\n",
       "    <tr>\n",
       "      <th>7</th>\n",
       "      <td>9</td>\n",
       "      <td>2019-06-14</td>\n",
       "      <td>8693.7650</td>\n",
       "      <td>Facebook's Cryptocurrency Could Be Good News f...</td>\n",
       "      <td>Barron's</td>\n",
       "    </tr>\n",
       "    <tr>\n",
       "      <th>8</th>\n",
       "      <td>11</td>\n",
       "      <td>2019-06-16</td>\n",
       "      <td>8976.5367</td>\n",
       "      <td>Bitcoin Climbs to One-Year High on Facebook Cr...</td>\n",
       "      <td>Bloomberg</td>\n",
       "    </tr>\n",
       "    <tr>\n",
       "      <th>9</th>\n",
       "      <td>11</td>\n",
       "      <td>2019-06-16</td>\n",
       "      <td>8976.5367</td>\n",
       "      <td>Bitcoin tops $9000 level for first time in 13 ...</td>\n",
       "      <td>MarketWatch</td>\n",
       "    </tr>\n",
       "    <tr>\n",
       "      <th>10</th>\n",
       "      <td>13</td>\n",
       "      <td>2019-06-18</td>\n",
       "      <td>9083.8167</td>\n",
       "      <td>$200000 in Bitcoin Seized in Dark Net Drug Probe</td>\n",
       "      <td>CoinDesk</td>\n",
       "    </tr>\n",
       "    <tr>\n",
       "      <th>11</th>\n",
       "      <td>15</td>\n",
       "      <td>2019-06-20</td>\n",
       "      <td>9539.7883</td>\n",
       "      <td>Bitcoin Breaks $9300 as US Stock Market Sees M...</td>\n",
       "      <td>Cointelegraph</td>\n",
       "    </tr>\n",
       "    <tr>\n",
       "      <th>12</th>\n",
       "      <td>16</td>\n",
       "      <td>2019-06-21</td>\n",
       "      <td>10232.9167</td>\n",
       "      <td>Ripple CEO: Bitcoin and XRP Aren't Competitors...</td>\n",
       "      <td>Cointelegraph</td>\n",
       "    </tr>\n",
       "  </tbody>\n",
       "</table>\n",
       "</div>"
      ],
      "text/plain": [
       "    index        Date       Price  \\\n",
       "0       0  2019-06-05   7785.9850   \n",
       "1       1  2019-06-06   7806.7150   \n",
       "2       2  2019-06-07   8001.2767   \n",
       "3       5  2019-06-10   8016.6917   \n",
       "4       5  2019-06-10   8016.6917   \n",
       "5       5  2019-06-10   8016.6917   \n",
       "6       7  2019-06-12   8173.3567   \n",
       "7       9  2019-06-14   8693.7650   \n",
       "8      11  2019-06-16   8976.5367   \n",
       "9      11  2019-06-16   8976.5367   \n",
       "10     13  2019-06-18   9083.8167   \n",
       "11     15  2019-06-20   9539.7883   \n",
       "12     16  2019-06-21  10232.9167   \n",
       "\n",
       "                                                Title         Source  \n",
       "0   Apple's iPhone Is Taking Its First Steps Into ...         Forbes  \n",
       "1                                                 NaN            NaN  \n",
       "2   Bitcoin Price Eyes Stronger Recovery Rally Aft...       CoinDesk  \n",
       "3   Michael Ford Named Newest Bitcoin Core Code Ma...       CoinDesk  \n",
       "4   Crypto Platform Says It Aims to Solve Bitcoin ...  Cointelegraph  \n",
       "5   Bitcoin Risks Short-Term Bear Reversal Below $...       CoinDesk  \n",
       "6   Bitcoin Struggles for Price Gains As Litecoin ...       CoinDesk  \n",
       "7   Facebook's Cryptocurrency Could Be Good News f...       Barron's  \n",
       "8   Bitcoin Climbs to One-Year High on Facebook Cr...      Bloomberg  \n",
       "9   Bitcoin tops $9000 level for first time in 13 ...    MarketWatch  \n",
       "10   $200000 in Bitcoin Seized in Dark Net Drug Probe       CoinDesk  \n",
       "11  Bitcoin Breaks $9300 as US Stock Market Sees M...  Cointelegraph  \n",
       "12  Ripple CEO: Bitcoin and XRP Aren't Competitors...  Cointelegraph  "
      ]
     },
     "execution_count": 32,
     "metadata": {},
     "output_type": "execute_result"
    }
   ],
   "source": [
    "unique_df"
   ]
  },
  {
   "cell_type": "code",
   "execution_count": 936,
   "metadata": {},
   "outputs": [
    {
     "data": {
      "text/plain": [
       "pandas.core.frame.DataFrame"
      ]
     },
     "execution_count": 936,
     "metadata": {},
     "output_type": "execute_result"
    }
   ],
   "source": []
  },
  {
   "cell_type": "code",
   "execution_count": 536,
   "metadata": {},
   "outputs": [],
   "source": []
  },
  {
   "cell_type": "code",
   "execution_count": null,
   "metadata": {},
   "outputs": [],
   "source": []
  },
  {
   "cell_type": "code",
   "execution_count": 813,
   "metadata": {},
   "outputs": [],
   "source": []
  },
  {
   "cell_type": "code",
   "execution_count": null,
   "metadata": {},
   "outputs": [],
   "source": []
  },
  {
   "cell_type": "code",
   "execution_count": null,
   "metadata": {},
   "outputs": [],
   "source": []
  },
  {
   "cell_type": "code",
   "execution_count": null,
   "metadata": {},
   "outputs": [],
   "source": []
  },
  {
   "cell_type": "code",
   "execution_count": null,
   "metadata": {},
   "outputs": [],
   "source": []
  },
  {
   "cell_type": "code",
   "execution_count": null,
   "metadata": {},
   "outputs": [],
   "source": []
  },
  {
   "cell_type": "code",
   "execution_count": null,
   "metadata": {},
   "outputs": [],
   "source": []
  },
  {
   "cell_type": "code",
   "execution_count": null,
   "metadata": {},
   "outputs": [],
   "source": []
  },
  {
   "cell_type": "code",
   "execution_count": null,
   "metadata": {},
   "outputs": [],
   "source": []
  },
  {
   "cell_type": "code",
   "execution_count": null,
   "metadata": {},
   "outputs": [],
   "source": []
  }
 ],
 "metadata": {
  "kernelspec": {
   "display_name": "Python 3",
   "language": "python",
   "name": "python3"
  },
  "language_info": {
   "codemirror_mode": {
    "name": "ipython",
    "version": 3
   },
   "file_extension": ".py",
   "mimetype": "text/x-python",
   "name": "python",
   "nbconvert_exporter": "python",
   "pygments_lexer": "ipython3",
   "version": "3.7.1"
  }
 },
 "nbformat": 4,
 "nbformat_minor": 2
}
