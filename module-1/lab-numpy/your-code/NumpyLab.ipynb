{
 "cells": [
  {
   "cell_type": "code",
   "execution_count": 1,
   "metadata": {},
   "outputs": [
    {
     "name": "stdout",
     "output_type": "stream",
     "text": [
      "1.16.4\n"
     ]
    }
   ],
   "source": [
    "#1. Import the NUMPY package under the name np.\n",
    "import numpy as np\n",
    "\n",
    "#2. Print the NUMPY version and the configuration.\n",
    "print(np.__version__)"
   ]
  },
  {
   "cell_type": "code",
   "execution_count": 2,
   "metadata": {},
   "outputs": [
    {
     "name": "stdout",
     "output_type": "stream",
     "text": [
      "[[[4.46895429e-01 5.86570952e-01 5.25180947e-01 2.50174330e-01\n",
      "   9.59845380e-01]\n",
      "  [6.63733638e-01 9.35818752e-01 3.65291131e-02 7.39621600e-01\n",
      "   1.71829578e-01]\n",
      "  [6.65152204e-01 1.59917260e-01 7.67480452e-01 3.69096382e-01\n",
      "   2.49794791e-01]]\n",
      "\n",
      " [[3.29978898e-01 4.87250555e-01 7.33830862e-01 9.43006707e-05\n",
      "   2.02060735e-01]\n",
      "  [8.68940863e-01 1.95350132e-01 6.08945255e-01 3.32462858e-01\n",
      "   6.83850757e-01]\n",
      "  [5.40549288e-01 5.82779531e-01 8.93491428e-01 7.73590190e-01\n",
      "   2.57202481e-01]]]\n"
     ]
    }
   ],
   "source": [
    "#3. Generate a 2x3x5 3-dimensional array with random values. Assign the array to variable \"a\"\n",
    "# Challenge: there are at least three easy ways that use numpy to generate random arrays. How many ways can you find?\n",
    "a = np.random.random((2,3,5))\n",
    "\n",
    "#4. Print a.\n",
    "print(a)"
   ]
  },
  {
   "cell_type": "code",
   "execution_count": 3,
   "metadata": {},
   "outputs": [
    {
     "name": "stdout",
     "output_type": "stream",
     "text": [
      "[[[1 1 1]\n",
      "  [1 1 1]]\n",
      "\n",
      " [[1 1 1]\n",
      "  [1 1 1]]\n",
      "\n",
      " [[1 1 1]\n",
      "  [1 1 1]]\n",
      "\n",
      " [[1 1 1]\n",
      "  [1 1 1]]\n",
      "\n",
      " [[1 1 1]\n",
      "  [1 1 1]]]\n"
     ]
    }
   ],
   "source": [
    "#5. Create a 5x2x3 3-dimensional array with all values equaling 1.\n",
    "#Assign the array to variable \"b\"\n",
    "b = np.full((5,2,3), 1)\n",
    "\n",
    "#6. Print b.\n",
    "print(b)"
   ]
  },
  {
   "cell_type": "code",
   "execution_count": 4,
   "metadata": {},
   "outputs": [
    {
     "name": "stdout",
     "output_type": "stream",
     "text": [
      "True\n"
     ]
    }
   ],
   "source": [
    "#7. Do a and b have the same size? How do you prove that in Python code?\n",
    "if a.size == b.size:\n",
    "    print (True)\n",
    "else:\n",
    "    print (False)"
   ]
  },
  {
   "cell_type": "code",
   "execution_count": 5,
   "metadata": {},
   "outputs": [
    {
     "name": "stdout",
     "output_type": "stream",
     "text": [
      "You cannot add arrays, unless they have the same dimension\n"
     ]
    }
   ],
   "source": [
    "#8. Are you able to add a and b? Why or why not?\n",
    "try:\n",
    "    print(np.add(a,b))\n",
    "except:\n",
    "    print(\"You cannot add arrays, unless they have the same dimension\")"
   ]
  },
  {
   "cell_type": "code",
   "execution_count": 6,
   "metadata": {},
   "outputs": [
    {
     "name": "stdout",
     "output_type": "stream",
     "text": [
      "[[[1 1 1 1 1]\n",
      "  [1 1 1 1 1]\n",
      "  [1 1 1 1 1]]\n",
      "\n",
      " [[1 1 1 1 1]\n",
      "  [1 1 1 1 1]\n",
      "  [1 1 1 1 1]]]\n"
     ]
    }
   ],
   "source": [
    "#9. Transpose b so that it has the same structure of a (i.e. become a 2x3x5 array). Assign the transposed array to varialbe \"c\".\n",
    "c = b.reshape(2,3,5)\n",
    "print(c)"
   ]
  },
  {
   "cell_type": "code",
   "execution_count": 7,
   "metadata": {},
   "outputs": [
    {
     "name": "stdout",
     "output_type": "stream",
     "text": [
      "[[[1.44689543 1.58657095 1.52518095 1.25017433 1.95984538]\n",
      "  [1.66373364 1.93581875 1.03652911 1.7396216  1.17182958]\n",
      "  [1.6651522  1.15991726 1.76748045 1.36909638 1.24979479]]\n",
      "\n",
      " [[1.3299789  1.48725056 1.73383086 1.0000943  1.20206073]\n",
      "  [1.86894086 1.19535013 1.60894525 1.33246286 1.68385076]\n",
      "  [1.54054929 1.58277953 1.89349143 1.77359019 1.25720248]]]\n"
     ]
    }
   ],
   "source": [
    "#10. Try to add a and c. Now it should work.\n",
    "# Assign the sum to varialbe \"d\". But why does it work now?\n",
    "d = np.add(a,c)\n",
    "print(d)\n",
    "# This works now because the arrays have the same dimensions"
   ]
  },
  {
   "cell_type": "code",
   "execution_count": 8,
   "metadata": {},
   "outputs": [
    {
     "name": "stdout",
     "output_type": "stream",
     "text": [
      "[[[4.46895429e-01 5.86570952e-01 5.25180947e-01 2.50174330e-01\n",
      "   9.59845380e-01]\n",
      "  [6.63733638e-01 9.35818752e-01 3.65291131e-02 7.39621600e-01\n",
      "   1.71829578e-01]\n",
      "  [6.65152204e-01 1.59917260e-01 7.67480452e-01 3.69096382e-01\n",
      "   2.49794791e-01]]\n",
      "\n",
      " [[3.29978898e-01 4.87250555e-01 7.33830862e-01 9.43006707e-05\n",
      "   2.02060735e-01]\n",
      "  [8.68940863e-01 1.95350132e-01 6.08945255e-01 3.32462858e-01\n",
      "   6.83850757e-01]\n",
      "  [5.40549288e-01 5.82779531e-01 8.93491428e-01 7.73590190e-01\n",
      "   2.57202481e-01]]] \n",
      "\n",
      "\n",
      "[[[1.44689543 1.58657095 1.52518095 1.25017433 1.95984538]\n",
      "  [1.66373364 1.93581875 1.03652911 1.7396216  1.17182958]\n",
      "  [1.6651522  1.15991726 1.76748045 1.36909638 1.24979479]]\n",
      "\n",
      " [[1.3299789  1.48725056 1.73383086 1.0000943  1.20206073]\n",
      "  [1.86894086 1.19535013 1.60894525 1.33246286 1.68385076]\n",
      "  [1.54054929 1.58277953 1.89349143 1.77359019 1.25720248]]]\n"
     ]
    }
   ],
   "source": [
    "#11. Print a and d.\n",
    "# Notice the difference and relation of the two array in terms of the values? Explain.\n",
    "print(a, \"\\n\\n\")\n",
    "print(d)\n",
    "# d is just the same as a, but all values are incremented by 1"
   ]
  },
  {
   "cell_type": "code",
   "execution_count": 9,
   "metadata": {},
   "outputs": [
    {
     "name": "stdout",
     "output_type": "stream",
     "text": [
      "[[[4.46895429e-01 5.86570952e-01 5.25180947e-01 2.50174330e-01\n",
      "   9.59845380e-01]\n",
      "  [6.63733638e-01 9.35818752e-01 3.65291131e-02 7.39621600e-01\n",
      "   1.71829578e-01]\n",
      "  [6.65152204e-01 1.59917260e-01 7.67480452e-01 3.69096382e-01\n",
      "   2.49794791e-01]]\n",
      "\n",
      " [[3.29978898e-01 4.87250555e-01 7.33830862e-01 9.43006707e-05\n",
      "   2.02060735e-01]\n",
      "  [8.68940863e-01 1.95350132e-01 6.08945255e-01 3.32462858e-01\n",
      "   6.83850757e-01]\n",
      "  [5.40549288e-01 5.82779531e-01 8.93491428e-01 7.73590190e-01\n",
      "   2.57202481e-01]]]\n"
     ]
    }
   ],
   "source": [
    "#12. Multiply a and c. Assign the result to e.\n",
    "e = np.multiply(a,c)\n",
    "print(e)\n",
    "#13. Does e equal to a? Why or why not?\n",
    "# Yes it does, because 1*x = x and array c only has values of \"1\""
   ]
  },
  {
   "cell_type": "code",
   "execution_count": 10,
   "metadata": {},
   "outputs": [
    {
     "name": "stdout",
     "output_type": "stream",
     "text": [
      "1.9598453798666293 1.000094300670745 1.5006006314057452\n"
     ]
    }
   ],
   "source": [
    "#14. Identify the max, min, and mean values in d.\n",
    "# Assign those values to variables \"d_max\", \"d_min\", and \"d_mean\"\n",
    "d_max = np.max(d)\n",
    "d_min = np.min(d)\n",
    "d_mean = np.mean(d)\n",
    "print(d_max, d_min, d_mean)"
   ]
  },
  {
   "cell_type": "code",
   "execution_count": 11,
   "metadata": {},
   "outputs": [],
   "source": [
    "#15. Now we want to label the values in d.\n",
    "# First create an empty array \"f\" with the same shape (i.e. 2x3x5) as d using `np.empty`.\n",
    "f = np.empty((2,3,5))"
   ]
  },
  {
   "cell_type": "code",
   "execution_count": 15,
   "metadata": {},
   "outputs": [
    {
     "name": "stdout",
     "output_type": "stream",
     "text": [
      "0\n",
      "1\n",
      "[[[ 25.  25.  75.  25.  25.]\n",
      "  [ 75.  25. 100.  25.  75.]\n",
      "  [ 75.  25.  25.  75.  25.]]\n",
      "\n",
      " [[ 75.   0.  75.  25.  25.]\n",
      "  [ 75.  25.  25.  75.  75.]\n",
      "  [ 75.  25.  25.  75.  25.]]]\n"
     ]
    }
   ],
   "source": [
    "#16. Populate the values in f.\n",
    "# For each value in d, if it's larger than d_min but smaller than d_mean, assign 25 to the corresponding value in f.\n",
    "# If a value in d is larger than d_mean but smaller than d_max, assign 75 to the corresponding value in f.\n",
    "# If a value equals to d_mean, assign 50 to the corresponding value in f.\n",
    "# Assign 0 to the corresponding value(s) in f for d_min in d.\n",
    "# Assign 100 to the corresponding value(s) in f for d_max in d.\n",
    "# In the end, f should have only the following values: 0, 25, 50, 75, and 100.\n",
    "# Note: you don't have to use Numpy in this question.\n",
    "for i in range(len(d)):\n",
    "    print (i)\n",
    "    for j in range(len(d[0])):\n",
    "        for k in range(len(d[0][0])):\n",
    "            x = d[i][j][k]\n",
    "            if x > d_min and x < d_mean:\n",
    "                f[i][j][k] = 25\n",
    "            elif x > d_mean and x < d_max:\n",
    "                f[i][j][k] = 75\n",
    "            elif x == d_mean:\n",
    "                f[i][j][k] = 50\n",
    "            elif x == d_min:\n",
    "                f[i][j][k] = 0\n",
    "            elif x == d_max:\n",
    "                f[i][j][k] = 100\n",
    "            #print(d[i][j][k])\n",
    "print (f)"
   ]
  },
  {
   "cell_type": "code",
   "execution_count": 13,
   "metadata": {},
   "outputs": [
    {
     "name": "stdout",
     "output_type": "stream",
     "text": [
      "[[[1.44689543 1.58657095 1.52518095 1.25017433 1.95984538]\n",
      "  [1.66373364 1.93581875 1.03652911 1.7396216  1.17182958]\n",
      "  [1.6651522  1.15991726 1.76748045 1.36909638 1.24979479]]\n",
      "\n",
      " [[1.3299789  1.48725056 1.73383086 1.0000943  1.20206073]\n",
      "  [1.86894086 1.19535013 1.60894525 1.33246286 1.68385076]\n",
      "  [1.54054929 1.58277953 1.89349143 1.77359019 1.25720248]]] \n",
      "\n",
      "\n",
      "[[[ 25.  75.  75.  25. 100.]\n",
      "  [ 75.  75.  25.  75.  25.]\n",
      "  [ 75.  25.  75.  25.  25.]]\n",
      "\n",
      " [[ 25.  25.  75.   0.  25.]\n",
      "  [ 75.  25.  75.  25.  75.]\n",
      "  [ 75.  75.  75.  75.  25.]]]\n"
     ]
    }
   ],
   "source": [
    "#17. Print d and f. Do you have your expected f?\n",
    "print(d, \"\\n\\n\")\n",
    "print(f)"
   ]
  },
  {
   "cell_type": "code",
   "execution_count": 14,
   "metadata": {},
   "outputs": [
    {
     "name": "stdout",
     "output_type": "stream",
     "text": [
      "[[['B' 'D' 'D' 'B' 'E']\n",
      "  ['D' 'D' 'B' 'D' 'B']\n",
      "  ['D' 'B' 'D' 'B' 'B']]\n",
      "\n",
      " [['B' 'B' 'D' 'A' 'B']\n",
      "  ['D' 'B' 'D' 'B' 'D']\n",
      "  ['D' 'D' 'D' 'D' 'B']]]\n"
     ]
    }
   ],
   "source": [
    "#18. Bonus question: instead of using numbers (i.e. 0, 25, 50, 75, and 100),\n",
    "# how to use string values (\"A\", \"B\", \"C\", \"D\", and \"E\") to label the array elements? \n",
    "g = np.full((2,3,5), \"\")\n",
    "for i in range(len(d)):\n",
    "    for j in range(len(d[0])):\n",
    "        for k in range(len(d[0][0])):\n",
    "            x = d[i][j][k]\n",
    "            if x > d_min and x < d_mean:\n",
    "                g[i][j][k] = \"B\"\n",
    "            elif x > d_mean and x < d_max:\n",
    "                g[i][j][k] = \"D\"\n",
    "            elif x == d_mean:\n",
    "                g[i][j][k] = \"C\"\n",
    "            elif x == d_min:\n",
    "                g[i][j][k] = \"A\"\n",
    "            elif x == d_max:\n",
    "                g[i][j][k] = \"E\"\n",
    "print(g)"
   ]
  }
 ],
 "metadata": {
  "kernelspec": {
   "display_name": "Python 3",
   "language": "python",
   "name": "python3"
  },
  "language_info": {
   "codemirror_mode": {
    "name": "ipython",
    "version": 3
   },
   "file_extension": ".py",
   "mimetype": "text/x-python",
   "name": "python",
   "nbconvert_exporter": "python",
   "pygments_lexer": "ipython3",
   "version": "3.7.3"
  }
 },
 "nbformat": 4,
 "nbformat_minor": 2
}
