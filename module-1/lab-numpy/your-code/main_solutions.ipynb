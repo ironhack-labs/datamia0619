{
 "cells": [
  {
   "cell_type": "markdown",
   "metadata": {},
   "source": [
    "# Lab - Introduction to NumPy"
   ]
  },
  {
   "cell_type": "markdown",
   "metadata": {},
   "source": [
    "## 1. Import the NumPy package under the name np"
   ]
  },
  {
   "cell_type": "code",
   "execution_count": 35,
   "metadata": {},
   "outputs": [],
   "source": [
    "import numpy as np\n",
    "from IPython.display import Latex"
   ]
  },
  {
   "cell_type": "markdown",
   "metadata": {},
   "source": [
    "## 2. Print the NumPy version and the configuration"
   ]
  },
  {
   "cell_type": "code",
   "execution_count": 3,
   "metadata": {},
   "outputs": [
    {
     "name": "stdout",
     "output_type": "stream",
     "text": [
      "1.15.4\n",
      "mkl_info:\n",
      "    libraries = ['mkl_rt', 'pthread']\n",
      "    library_dirs = ['/home/fred/anaconda3/lib']\n",
      "    define_macros = [('SCIPY_MKL_H', None), ('HAVE_CBLAS', None)]\n",
      "    include_dirs = ['/home/fred/anaconda3/include']\n",
      "blas_mkl_info:\n",
      "    libraries = ['mkl_rt', 'pthread']\n",
      "    library_dirs = ['/home/fred/anaconda3/lib']\n",
      "    define_macros = [('SCIPY_MKL_H', None), ('HAVE_CBLAS', None)]\n",
      "    include_dirs = ['/home/fred/anaconda3/include']\n",
      "blas_opt_info:\n",
      "    libraries = ['mkl_rt', 'pthread']\n",
      "    library_dirs = ['/home/fred/anaconda3/lib']\n",
      "    define_macros = [('SCIPY_MKL_H', None), ('HAVE_CBLAS', None)]\n",
      "    include_dirs = ['/home/fred/anaconda3/include']\n",
      "lapack_mkl_info:\n",
      "    libraries = ['mkl_rt', 'pthread']\n",
      "    library_dirs = ['/home/fred/anaconda3/lib']\n",
      "    define_macros = [('SCIPY_MKL_H', None), ('HAVE_CBLAS', None)]\n",
      "    include_dirs = ['/home/fred/anaconda3/include']\n",
      "lapack_opt_info:\n",
      "    libraries = ['mkl_rt', 'pthread']\n",
      "    library_dirs = ['/home/fred/anaconda3/lib']\n",
      "    define_macros = [('SCIPY_MKL_H', None), ('HAVE_CBLAS', None)]\n",
      "    include_dirs = ['/home/fred/anaconda3/include']\n",
      "None\n"
     ]
    }
   ],
   "source": [
    "print(np.__version__)\n",
    "print(np.show_config())"
   ]
  },
  {
   "cell_type": "markdown",
   "metadata": {},
   "source": [
    "## 3. Generate a 2x3x5 3-dimensional array with random values.\n",
    "## Assign the array to variable \"a\" Challenge: there are at least three easy ways that use numpy to generate random arrays. How many ways can you find?\n"
   ]
  },
  {
   "cell_type": "code",
   "execution_count": 4,
   "metadata": {},
   "outputs": [],
   "source": [
    "a = np.random.random((2, 3, 5))"
   ]
  },
  {
   "cell_type": "markdown",
   "metadata": {},
   "source": [
    "## 4. Print a"
   ]
  },
  {
   "cell_type": "code",
   "execution_count": 5,
   "metadata": {},
   "outputs": [
    {
     "name": "stdout",
     "output_type": "stream",
     "text": [
      "[[[0.87460122 0.539841   0.02084874 0.55074298 0.14670756]\n",
      "  [0.5424662  0.49272222 0.64030985 0.80152741 0.97042533]\n",
      "  [0.06841341 0.08990002 0.63238161 0.25012216 0.96658452]]\n",
      "\n",
      " [[0.88094887 0.9014059  0.4532697  0.95472811 0.61264508]\n",
      "  [0.860857   0.5092282  0.63871966 0.11080657 0.59326195]\n",
      "  [0.62175003 0.53538051 0.88952979 0.9017931  0.85710612]]]\n"
     ]
    }
   ],
   "source": [
    "print(a)"
   ]
  },
  {
   "cell_type": "markdown",
   "metadata": {},
   "source": [
    "## 5. Create a 5x2x3 3-dimensional array with all values equaling 1. Assign the array to variable \"b\""
   ]
  },
  {
   "cell_type": "code",
   "execution_count": 6,
   "metadata": {},
   "outputs": [],
   "source": [
    "b = np.ones((5, 2, 3))"
   ]
  },
  {
   "cell_type": "markdown",
   "metadata": {},
   "source": [
    "## 6. Print b"
   ]
  },
  {
   "cell_type": "code",
   "execution_count": 7,
   "metadata": {},
   "outputs": [
    {
     "name": "stdout",
     "output_type": "stream",
     "text": [
      "[[[1. 1. 1.]\n",
      "  [1. 1. 1.]]\n",
      "\n",
      " [[1. 1. 1.]\n",
      "  [1. 1. 1.]]\n",
      "\n",
      " [[1. 1. 1.]\n",
      "  [1. 1. 1.]]\n",
      "\n",
      " [[1. 1. 1.]\n",
      "  [1. 1. 1.]]\n",
      "\n",
      " [[1. 1. 1.]\n",
      "  [1. 1. 1.]]]\n"
     ]
    }
   ],
   "source": [
    "print(b)"
   ]
  },
  {
   "cell_type": "markdown",
   "metadata": {},
   "source": [
    "## 7. Do a and b have the same size? How do you prove that in Python code?"
   ]
  },
  {
   "cell_type": "code",
   "execution_count": 8,
   "metadata": {},
   "outputs": [
    {
     "name": "stdout",
     "output_type": "stream",
     "text": [
      "False\n"
     ]
    }
   ],
   "source": [
    "isEqualArray = np.array_equal(a, b)\n",
    "print(isEqualArray)"
   ]
  },
  {
   "cell_type": "markdown",
   "metadata": {},
   "source": [
    "## 8. Are you able to add a and b? Why or why not?"
   ]
  },
  {
   "cell_type": "code",
   "execution_count": 29,
   "metadata": {},
   "outputs": [
    {
     "name": "stdout",
     "output_type": "stream",
     "text": [
      "No. Arrays a and b are of unequal shapes, and therefore cannot be added\n"
     ]
    }
   ],
   "source": [
    "if isEqualArray:\n",
    "    sumAB = np.add(a, b)\n",
    "    print(sumAB)\n",
    "else:\n",
    "    print(\"No. Arrays a and b are of unequal shapes, and therefore cannot be added\")"
   ]
  },
  {
   "cell_type": "markdown",
   "metadata": {},
   "source": [
    "## 9. Transpose b so that it has the same structure of a (i.e. become a 2x3x5 array). Assign the transposed array to varialbe \"c\"."
   ]
  },
  {
   "cell_type": "code",
   "execution_count": 25,
   "metadata": {},
   "outputs": [
    {
     "name": "stdout",
     "output_type": "stream",
     "text": [
      "[[[1. 1. 1. 1. 1.]\n",
      "  [1. 1. 1. 1. 1.]\n",
      "  [1. 1. 1. 1. 1.]]\n",
      "\n",
      " [[1. 1. 1. 1. 1.]\n",
      "  [1. 1. 1. 1. 1.]\n",
      "  [1. 1. 1. 1. 1.]]]\n"
     ]
    }
   ],
   "source": [
    "b.shape\n",
    "c = np.reshape(b, (2, 3, 5))\n",
    "print(c)"
   ]
  },
  {
   "cell_type": "markdown",
   "metadata": {},
   "source": [
    "## 10. Try to add a and c. Now it should work. Assign the sum to varialbe \"d\". But why does it work now?"
   ]
  },
  {
   "cell_type": "code",
   "execution_count": 87,
   "metadata": {},
   "outputs": [
    {
     "name": "stdout",
     "output_type": "stream",
     "text": [
      "[[[1.87460122 1.539841   1.02084874 1.55074298 1.14670756]\n",
      "  [1.5424662  1.49272222 1.64030985 1.80152741 1.97042533]\n",
      "  [1.06841341 1.08990002 1.63238161 1.25012216 1.96658452]]\n",
      "\n",
      " [[1.88094887 1.9014059  1.4532697  1.95472811 1.61264508]\n",
      "  [1.860857   1.5092282  1.63871966 1.11080657 1.59326195]\n",
      "  [1.62175003 1.53538051 1.88952979 1.9017931  1.85710612]]] \n",
      "\n",
      "Addition works since both arrays are of the same shape.\n"
     ]
    }
   ],
   "source": [
    "d = np.add(a, c)\n",
    "print(d, \"\\n\\nAddition works since both arrays are of the same shape.\")"
   ]
  },
  {
   "cell_type": "markdown",
   "metadata": {},
   "source": [
    "## 11. Print a and d. Notice the difference and relation of the two array in terms of the values? Explain."
   ]
  },
  {
   "cell_type": "code",
   "execution_count": 86,
   "metadata": {},
   "outputs": [
    {
     "name": "stdout",
     "output_type": "stream",
     "text": [
      "[[[0.87460122 0.539841   0.02084874 0.55074298 0.14670756]\n",
      "  [0.5424662  0.49272222 0.64030985 0.80152741 0.97042533]\n",
      "  [0.06841341 0.08990002 0.63238161 0.25012216 0.96658452]]\n",
      "\n",
      " [[0.88094887 0.9014059  0.4532697  0.95472811 0.61264508]\n",
      "  [0.860857   0.5092282  0.63871966 0.11080657 0.59326195]\n",
      "  [0.62175003 0.53538051 0.88952979 0.9017931  0.85710612]]] [[[1.87460122 1.539841   1.02084874 1.55074298 1.14670756]\n",
      "  [1.5424662  1.49272222 1.64030985 1.80152741 1.97042533]\n",
      "  [1.06841341 1.08990002 1.63238161 1.25012216 1.96658452]]\n",
      "\n",
      " [[1.88094887 1.9014059  1.4532697  1.95472811 1.61264508]\n",
      "  [1.860857   1.5092282  1.63871966 1.11080657 1.59326195]\n",
      "  [1.62175003 1.53538051 1.88952979 1.9017931  1.85710612]]] \n",
      "\n",
      "b was comprised of all ones, therefore adding a to b(sup)T = c added 1 to each of the values in a.\n"
     ]
    }
   ],
   "source": [
    "print(a, d, \"\\n\\nb was comprised of all ones, therefore adding a to b(sup)T = c added 1 to each of the values in a.\")"
   ]
  },
  {
   "cell_type": "markdown",
   "metadata": {},
   "source": [
    "## 12. Multiply a and c. Assign the result to e."
   ]
  },
  {
   "cell_type": "code",
   "execution_count": 85,
   "metadata": {},
   "outputs": [
    {
     "name": "stdout",
     "output_type": "stream",
     "text": [
      "[[[0.87460122 0.539841   0.02084874 0.55074298 0.14670756]\n",
      "  [0.5424662  0.49272222 0.64030985 0.80152741 0.97042533]\n",
      "  [0.06841341 0.08990002 0.63238161 0.25012216 0.96658452]]\n",
      "\n",
      " [[0.88094887 0.9014059  0.4532697  0.95472811 0.61264508]\n",
      "  [0.860857   0.5092282  0.63871966 0.11080657 0.59326195]\n",
      "  [0.62175003 0.53538051 0.88952979 0.9017931  0.85710612]]]\n"
     ]
    }
   ],
   "source": [
    "e =  np.multiply(a, c)\n",
    "print(e)"
   ]
  },
  {
   "cell_type": "markdown",
   "metadata": {},
   "source": [
    "## 13. Does e equal to a? Why or why not?\n"
   ]
  },
  {
   "cell_type": "markdown",
   "metadata": {},
   "source": [
    "## 14. Identify the max, min, and mean values in d. Assign those values to variables \"d_max\", \"d_min\", and \"d_mean\""
   ]
  },
  {
   "cell_type": "code",
   "execution_count": 77,
   "metadata": {},
   "outputs": [
    {
     "name": "stdout",
     "output_type": "stream",
     "text": [
      "min: 1.0208487356235925\n",
      "max: 1.9704253252889354\n",
      "mean: 1.5969674930007005\n"
     ]
    }
   ],
   "source": [
    "d_min = np.min(d)\n",
    "d_max = np.max(d)\n",
    "d_mean = np.mean(d)\n",
    "print(\"min: {}\\nmax: {}\\nmean: {}\".format(d_min, d_max, d_mean))"
   ]
  },
  {
   "cell_type": "markdown",
   "metadata": {},
   "source": [
    "## 15. Now we want to label the values in d. First create an empty array \"f\" with the same shape (i.e. 2x3x5) as d using `np.empty`."
   ]
  },
  {
   "cell_type": "code",
   "execution_count": 52,
   "metadata": {},
   "outputs": [],
   "source": [
    "f = np.empty((2, 3, 5))"
   ]
  },
  {
   "cell_type": "markdown",
   "metadata": {},
   "source": [
    "## 16. Populate the values in f. For each value in d, if it's larger than d_min but smaller than d_mean, assign 25 to the corresponding value in f. If a value in d is larger than d_mean but smaller than d_max, assign 75 to the corresponding value in f. If a value equals to d_mean, assign 50 to the corresponding value in f. Assign 0 to the corresponding value(s) in f for d_min in d. Assign 100 to the corresponding value(s) in f for d_max in d. In the end, f should have only the following values: 0, 25, 50, 75, and 100. Note: you don't have to use Numpy in this question."
   ]
  },
  {
   "cell_type": "code",
   "execution_count": 91,
   "metadata": {},
   "outputs": [
    {
     "data": {
      "text/plain": [
       "array([[[ 75.,  25.,   0.,  25.,  25.],\n",
       "        [ 25.,  25.,  75.,  75., 100.],\n",
       "        [ 25.,  25.,  75.,  25.,  75.]],\n",
       "\n",
       "       [[ 75.,  75.,  25.,  75.,  75.],\n",
       "        [ 75.,  25.,  75.,  25.,  25.],\n",
       "        [ 75.,  25.,  75.,  75.,  75.]]])"
      ]
     },
     "execution_count": 91,
     "metadata": {},
     "output_type": "execute_result"
    }
   ],
   "source": [
    "f[(d > d_min)&(d < d_mean)] = 25\n",
    "f[(d > d_mean)&(d < d_max)] = 75\n",
    "f[d == d_mean] = 50\n",
    "f[d == d_min] = 0\n",
    "f[d == d_max] = 100\n",
    "f"
   ]
  },
  {
   "cell_type": "markdown",
   "metadata": {},
   "source": [
    "## 17. Print d and f. Do you have your expected f?"
   ]
  },
  {
   "cell_type": "code",
   "execution_count": 94,
   "metadata": {},
   "outputs": [
    {
     "name": "stdout",
     "output_type": "stream",
     "text": [
      "[[[1.87460122 1.539841   1.02084874 1.55074298 1.14670756]\n",
      "  [1.5424662  1.49272222 1.64030985 1.80152741 1.97042533]\n",
      "  [1.06841341 1.08990002 1.63238161 1.25012216 1.96658452]]\n",
      "\n",
      " [[1.88094887 1.9014059  1.4532697  1.95472811 1.61264508]\n",
      "  [1.860857   1.5092282  1.63871966 1.11080657 1.59326195]\n",
      "  [1.62175003 1.53538051 1.88952979 1.9017931  1.85710612]]]\n",
      "[[[ 75.  25.   0.  25.  25.]\n",
      "  [ 25.  25.  75.  75. 100.]\n",
      "  [ 25.  25.  75.  25.  75.]]\n",
      "\n",
      " [[ 75.  75.  25.  75.  75.]\n",
      "  [ 75.  25.  75.  25.  25.]\n",
      "  [ 75.  25.  75.  75.  75.]]]\n"
     ]
    }
   ],
   "source": [
    "print(d) # Yes\n",
    "print(f)"
   ]
  },
  {
   "cell_type": "markdown",
   "metadata": {},
   "source": [
    "## 18. Bonus question: instead of using numbers (i.e. 0, 25, 50, 75, and 100), how to use string values (\"A\", \"B\", \"C\", \"D\", and \"E\") to label the array elements? "
   ]
  },
  {
   "cell_type": "code",
   "execution_count": 102,
   "metadata": {},
   "outputs": [
    {
     "data": {
      "text/plain": [
       "array([[['D', 'B', 'A', 'B', 'B'],\n",
       "        ['B', 'B', 'D', 'D', 'E'],\n",
       "        ['B', 'B', 'D', 'B', 'D']],\n",
       "\n",
       "       [['D', 'D', 'B', 'D', 'D'],\n",
       "        ['D', 'B', 'D', 'B', 'B'],\n",
       "        ['D', 'B', 'D', 'D', 'D']]], dtype='<U1')"
      ]
     },
     "execution_count": 102,
     "metadata": {},
     "output_type": "execute_result"
    }
   ],
   "source": [
    "g = np.empty((2, 3, 5), dtype = str)\n",
    "g[(d > d_min)&(d < d_mean)] = \"B\"\n",
    "g[(d > d_mean)&(d < d_max)] = \"D\"\n",
    "g[d == d_mean] = \"C\"\n",
    "g[d == d_min] = \"A\"\n",
    "g[d == d_max] = \"E\"\n",
    "g\n"
   ]
  },
  {
   "cell_type": "code",
   "execution_count": null,
   "metadata": {},
   "outputs": [],
   "source": []
  }
 ],
 "metadata": {
  "kernelspec": {
   "display_name": "Python 3",
   "language": "python",
   "name": "python3"
  },
  "language_info": {
   "codemirror_mode": {
    "name": "ipython",
    "version": 3
   },
   "file_extension": ".py",
   "mimetype": "text/x-python",
   "name": "python",
   "nbconvert_exporter": "python",
   "pygments_lexer": "ipython3",
   "version": "3.7.0"
  }
 },
 "nbformat": 4,
 "nbformat_minor": 2
}
