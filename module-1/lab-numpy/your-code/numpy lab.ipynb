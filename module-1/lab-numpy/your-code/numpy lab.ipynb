{
 "cells": [
  {
   "cell_type": "code",
   "execution_count": 1,
   "metadata": {},
   "outputs": [],
   "source": [
    "import numpy as np"
   ]
  },
  {
   "cell_type": "code",
   "execution_count": 2,
   "metadata": {},
   "outputs": [
    {
     "name": "stdout",
     "output_type": "stream",
     "text": [
      "1.16.2\n"
     ]
    }
   ],
   "source": [
    "print(np.__version__)"
   ]
  },
  {
   "cell_type": "code",
   "execution_count": 3,
   "metadata": {},
   "outputs": [
    {
     "name": "stdout",
     "output_type": "stream",
     "text": [
      "mkl_info:\n",
      "    libraries = ['mkl_rt']\n",
      "    library_dirs = ['C:/Users/regi_/Anaconda3\\\\Library\\\\lib']\n",
      "    define_macros = [('SCIPY_MKL_H', None), ('HAVE_CBLAS', None)]\n",
      "    include_dirs = ['C:\\\\Program Files (x86)\\\\IntelSWTools\\\\compilers_and_libraries_2019.0.117\\\\windows\\\\mkl', 'C:\\\\Program Files (x86)\\\\IntelSWTools\\\\compilers_and_libraries_2019.0.117\\\\windows\\\\mkl\\\\include', 'C:\\\\Program Files (x86)\\\\IntelSWTools\\\\compilers_and_libraries_2019.0.117\\\\windows\\\\mkl\\\\lib', 'C:/Users/regi_/Anaconda3\\\\Library\\\\include']\n",
      "blas_mkl_info:\n",
      "    libraries = ['mkl_rt']\n",
      "    library_dirs = ['C:/Users/regi_/Anaconda3\\\\Library\\\\lib']\n",
      "    define_macros = [('SCIPY_MKL_H', None), ('HAVE_CBLAS', None)]\n",
      "    include_dirs = ['C:\\\\Program Files (x86)\\\\IntelSWTools\\\\compilers_and_libraries_2019.0.117\\\\windows\\\\mkl', 'C:\\\\Program Files (x86)\\\\IntelSWTools\\\\compilers_and_libraries_2019.0.117\\\\windows\\\\mkl\\\\include', 'C:\\\\Program Files (x86)\\\\IntelSWTools\\\\compilers_and_libraries_2019.0.117\\\\windows\\\\mkl\\\\lib', 'C:/Users/regi_/Anaconda3\\\\Library\\\\include']\n",
      "blas_opt_info:\n",
      "    libraries = ['mkl_rt']\n",
      "    library_dirs = ['C:/Users/regi_/Anaconda3\\\\Library\\\\lib']\n",
      "    define_macros = [('SCIPY_MKL_H', None), ('HAVE_CBLAS', None)]\n",
      "    include_dirs = ['C:\\\\Program Files (x86)\\\\IntelSWTools\\\\compilers_and_libraries_2019.0.117\\\\windows\\\\mkl', 'C:\\\\Program Files (x86)\\\\IntelSWTools\\\\compilers_and_libraries_2019.0.117\\\\windows\\\\mkl\\\\include', 'C:\\\\Program Files (x86)\\\\IntelSWTools\\\\compilers_and_libraries_2019.0.117\\\\windows\\\\mkl\\\\lib', 'C:/Users/regi_/Anaconda3\\\\Library\\\\include']\n",
      "lapack_mkl_info:\n",
      "    libraries = ['mkl_rt']\n",
      "    library_dirs = ['C:/Users/regi_/Anaconda3\\\\Library\\\\lib']\n",
      "    define_macros = [('SCIPY_MKL_H', None), ('HAVE_CBLAS', None)]\n",
      "    include_dirs = ['C:\\\\Program Files (x86)\\\\IntelSWTools\\\\compilers_and_libraries_2019.0.117\\\\windows\\\\mkl', 'C:\\\\Program Files (x86)\\\\IntelSWTools\\\\compilers_and_libraries_2019.0.117\\\\windows\\\\mkl\\\\include', 'C:\\\\Program Files (x86)\\\\IntelSWTools\\\\compilers_and_libraries_2019.0.117\\\\windows\\\\mkl\\\\lib', 'C:/Users/regi_/Anaconda3\\\\Library\\\\include']\n",
      "lapack_opt_info:\n",
      "    libraries = ['mkl_rt']\n",
      "    library_dirs = ['C:/Users/regi_/Anaconda3\\\\Library\\\\lib']\n",
      "    define_macros = [('SCIPY_MKL_H', None), ('HAVE_CBLAS', None)]\n",
      "    include_dirs = ['C:\\\\Program Files (x86)\\\\IntelSWTools\\\\compilers_and_libraries_2019.0.117\\\\windows\\\\mkl', 'C:\\\\Program Files (x86)\\\\IntelSWTools\\\\compilers_and_libraries_2019.0.117\\\\windows\\\\mkl\\\\include', 'C:\\\\Program Files (x86)\\\\IntelSWTools\\\\compilers_and_libraries_2019.0.117\\\\windows\\\\mkl\\\\lib', 'C:/Users/regi_/Anaconda3\\\\Library\\\\include']\n",
      "None\n"
     ]
    }
   ],
   "source": [
    "print(np.show_config())"
   ]
  },
  {
   "cell_type": "code",
   "execution_count": 4,
   "metadata": {},
   "outputs": [
    {
     "name": "stdout",
     "output_type": "stream",
     "text": [
      "[[[0.61681318 0.5910209  0.67601799 0.25537516 0.47981783]\n",
      "  [0.280159   0.50775764 0.17804969 0.41116406 0.8620068 ]\n",
      "  [0.48354813 0.07577686 0.55025047 0.13853183 0.85380872]]\n",
      "\n",
      " [[0.29744698 0.42880875 0.94750196 0.5701038  0.91706079]\n",
      "  [0.88631947 0.32218788 0.2326092  0.74446881 0.53186933]\n",
      "  [0.27012724 0.57105879 0.80066506 0.36534311 0.50386688]]]\n"
     ]
    }
   ],
   "source": [
    "a = np.random.random((2,3,5))\n",
    "print(a)"
   ]
  },
  {
   "cell_type": "code",
   "execution_count": 5,
   "metadata": {},
   "outputs": [
    {
     "name": "stdout",
     "output_type": "stream",
     "text": [
      "[[[1. 1. 1.]\n",
      "  [1. 1. 1.]]\n",
      "\n",
      " [[1. 1. 1.]\n",
      "  [1. 1. 1.]]\n",
      "\n",
      " [[1. 1. 1.]\n",
      "  [1. 1. 1.]]\n",
      "\n",
      " [[1. 1. 1.]\n",
      "  [1. 1. 1.]]\n",
      "\n",
      " [[1. 1. 1.]\n",
      "  [1. 1. 1.]]]\n"
     ]
    }
   ],
   "source": [
    "b = np.ones((5,2,3))\n",
    "print(b)"
   ]
  },
  {
   "cell_type": "code",
   "execution_count": 6,
   "metadata": {},
   "outputs": [
    {
     "name": "stdout",
     "output_type": "stream",
     "text": [
      "30\n",
      "30\n"
     ]
    }
   ],
   "source": [
    "print(a.size)\n",
    "print(b.size)"
   ]
  },
  {
   "cell_type": "code",
   "execution_count": 7,
   "metadata": {},
   "outputs": [],
   "source": [
    "# yes, sizes are the same"
   ]
  },
  {
   "cell_type": "code",
   "execution_count": 8,
   "metadata": {},
   "outputs": [
    {
     "name": "stdout",
     "output_type": "stream",
     "text": [
      "(2, 3, 5)\n",
      "(5, 2, 3)\n"
     ]
    }
   ],
   "source": [
    "# no, you cannot add a and be because they have different shapes.\n",
    "print(a.shape)\n",
    "print(b.shape)"
   ]
  },
  {
   "cell_type": "code",
   "execution_count": 9,
   "metadata": {},
   "outputs": [
    {
     "name": "stdout",
     "output_type": "stream",
     "text": [
      "[[[1. 1. 1. 1. 1.]\n",
      "  [1. 1. 1. 1. 1.]\n",
      "  [1. 1. 1. 1. 1.]]\n",
      "\n",
      " [[1. 1. 1. 1. 1.]\n",
      "  [1. 1. 1. 1. 1.]\n",
      "  [1. 1. 1. 1. 1.]]]\n"
     ]
    }
   ],
   "source": [
    "c = b.reshape(2,3,5)\n",
    "print(c)"
   ]
  },
  {
   "cell_type": "code",
   "execution_count": 10,
   "metadata": {},
   "outputs": [
    {
     "name": "stdout",
     "output_type": "stream",
     "text": [
      "(2, 3, 5)\n"
     ]
    }
   ],
   "source": [
    "print(c.shape)"
   ]
  },
  {
   "cell_type": "code",
   "execution_count": 11,
   "metadata": {},
   "outputs": [
    {
     "name": "stdout",
     "output_type": "stream",
     "text": [
      "[[[1.61681318 1.5910209  1.67601799 1.25537516 1.47981783]\n",
      "  [1.280159   1.50775764 1.17804969 1.41116406 1.8620068 ]\n",
      "  [1.48354813 1.07577686 1.55025047 1.13853183 1.85380872]]\n",
      "\n",
      " [[1.29744698 1.42880875 1.94750196 1.5701038  1.91706079]\n",
      "  [1.88631947 1.32218788 1.2326092  1.74446881 1.53186933]\n",
      "  [1.27012724 1.57105879 1.80066506 1.36534311 1.50386688]]]\n"
     ]
    }
   ],
   "source": [
    "# we can add a and c now because it has the same shape now. 2x3x5\n",
    "d = np.add(a, c)\n",
    "print(d)"
   ]
  },
  {
   "cell_type": "code",
   "execution_count": 12,
   "metadata": {},
   "outputs": [
    {
     "name": "stdout",
     "output_type": "stream",
     "text": [
      "[[[0.61681318 0.5910209  0.67601799 0.25537516 0.47981783]\n",
      "  [0.280159   0.50775764 0.17804969 0.41116406 0.8620068 ]\n",
      "  [0.48354813 0.07577686 0.55025047 0.13853183 0.85380872]]\n",
      "\n",
      " [[0.29744698 0.42880875 0.94750196 0.5701038  0.91706079]\n",
      "  [0.88631947 0.32218788 0.2326092  0.74446881 0.53186933]\n",
      "  [0.27012724 0.57105879 0.80066506 0.36534311 0.50386688]]]\n"
     ]
    }
   ],
   "source": [
    "print(a)"
   ]
  },
  {
   "cell_type": "code",
   "execution_count": 13,
   "metadata": {},
   "outputs": [
    {
     "name": "stdout",
     "output_type": "stream",
     "text": [
      "[[[1.61681318 1.5910209  1.67601799 1.25537516 1.47981783]\n",
      "  [1.280159   1.50775764 1.17804969 1.41116406 1.8620068 ]\n",
      "  [1.48354813 1.07577686 1.55025047 1.13853183 1.85380872]]\n",
      "\n",
      " [[1.29744698 1.42880875 1.94750196 1.5701038  1.91706079]\n",
      "  [1.88631947 1.32218788 1.2326092  1.74446881 1.53186933]\n",
      "  [1.27012724 1.57105879 1.80066506 1.36534311 1.50386688]]]\n"
     ]
    }
   ],
   "source": [
    "print(d)"
   ]
  },
  {
   "cell_type": "code",
   "execution_count": 14,
   "metadata": {},
   "outputs": [],
   "source": [
    "# the relation between the a and d is the difference between their values of 1. since the d was a sum of a and c(array of ones)\n"
   ]
  },
  {
   "cell_type": "code",
   "execution_count": 15,
   "metadata": {},
   "outputs": [
    {
     "name": "stdout",
     "output_type": "stream",
     "text": [
      "[[[0.61681318 0.5910209  0.67601799 0.25537516 0.47981783]\n",
      "  [0.280159   0.50775764 0.17804969 0.41116406 0.8620068 ]\n",
      "  [0.48354813 0.07577686 0.55025047 0.13853183 0.85380872]]\n",
      "\n",
      " [[0.29744698 0.42880875 0.94750196 0.5701038  0.91706079]\n",
      "  [0.88631947 0.32218788 0.2326092  0.74446881 0.53186933]\n",
      "  [0.27012724 0.57105879 0.80066506 0.36534311 0.50386688]]]\n"
     ]
    }
   ],
   "source": [
    "e = np.multiply(a, c)\n",
    "print(e)"
   ]
  },
  {
   "cell_type": "code",
   "execution_count": 16,
   "metadata": {},
   "outputs": [],
   "source": [
    "# yes, e equals to a because we multiplied the elements of array a by ones"
   ]
  },
  {
   "cell_type": "code",
   "execution_count": 17,
   "metadata": {},
   "outputs": [
    {
     "name": "stdout",
     "output_type": "stream",
     "text": [
      "1.9475019558846138\n",
      "1.0757768583394753\n",
      "1.5116512106303233\n"
     ]
    }
   ],
   "source": [
    "d_max = np.max(d)\n",
    "d_min = np.min(d)\n",
    "d_mean = np.mean(d)\n",
    "print(d_max)\n",
    "print(d_min)\n",
    "print(d_mean)"
   ]
  },
  {
   "cell_type": "code",
   "execution_count": 18,
   "metadata": {},
   "outputs": [
    {
     "name": "stdout",
     "output_type": "stream",
     "text": [
      "[[[0.61681318 0.5910209  0.67601799 0.25537516 0.47981783]\n",
      "  [0.280159   0.50775764 0.17804969 0.41116406 0.8620068 ]\n",
      "  [0.48354813 0.07577686 0.55025047 0.13853183 0.85380872]]\n",
      "\n",
      " [[0.29744698 0.42880875 0.94750196 0.5701038  0.91706079]\n",
      "  [0.88631947 0.32218788 0.2326092  0.74446881 0.53186933]\n",
      "  [0.27012724 0.57105879 0.80066506 0.36534311 0.50386688]]]\n"
     ]
    }
   ],
   "source": [
    "#Now we want to label the values in d. First create an empty array \"f\" with the same shape (i.e. 2x3x5) as d using `np.empty`.\n",
    "f = np.empty((2,3,5))\n",
    "print(f)"
   ]
  },
  {
   "cell_type": "code",
   "execution_count": 19,
   "metadata": {},
   "outputs": [
    {
     "name": "stdout",
     "output_type": "stream",
     "text": [
      "[[[ 75.  75.  75.  25.  25.]\n",
      "  [ 25.  25.  25.  25.  75.]\n",
      "  [ 25.   0.  75.  25.  75.]]\n",
      "\n",
      " [[ 25.  25. 100.  75.  75.]\n",
      "  [ 75.  25.  25.  75.  75.]\n",
      "  [ 25.  75.  75.  25.  25.]]]\n"
     ]
    }
   ],
   "source": [
    "for x in range(len(d)):\n",
    "    for y in range(len(d[0])):\n",
    "        for i in range(len(d[0][0])):\n",
    "            if d[x][y][i] > d_min and d[x][y][i] < d_mean:\n",
    "                f[x][y][i] = 25\n",
    "            if d[x][y][i] > d_mean and d[x][y][i] < d_max:\n",
    "                f[x][y][i] = 75\n",
    "            if d[x][y][i] == d_mean:\n",
    "                f[x][y][i] = 50\n",
    "            if d[x][y][i] == d_min:\n",
    "                f[x][y][i] = 0\n",
    "            if d[x][y][i] == d_max:\n",
    "                f[x][y][i] = 100\n",
    "print(f)"
   ]
  },
  {
   "cell_type": "code",
   "execution_count": 20,
   "metadata": {},
   "outputs": [
    {
     "name": "stdout",
     "output_type": "stream",
     "text": [
      "[[[1.61681318 1.5910209  1.67601799 1.25537516 1.47981783]\n",
      "  [1.280159   1.50775764 1.17804969 1.41116406 1.8620068 ]\n",
      "  [1.48354813 1.07577686 1.55025047 1.13853183 1.85380872]]\n",
      "\n",
      " [[1.29744698 1.42880875 1.94750196 1.5701038  1.91706079]\n",
      "  [1.88631947 1.32218788 1.2326092  1.74446881 1.53186933]\n",
      "  [1.27012724 1.57105879 1.80066506 1.36534311 1.50386688]]]\n"
     ]
    }
   ],
   "source": [
    "print(d)"
   ]
  },
  {
   "cell_type": "code",
   "execution_count": 24,
   "metadata": {},
   "outputs": [
    {
     "name": "stdout",
     "output_type": "stream",
     "text": [
      "[[[' ' ' ' ' ' ' ' ' ']\n",
      "  [' ' ' ' ' ' ' ' ' ']\n",
      "  [' ' ' ' ' ' ' ' ' ']]\n",
      "\n",
      " [[' ' ' ' ' ' ' ' ' ']\n",
      "  [' ' ' ' ' ' ' ' ' ']\n",
      "  [' ' ' ' ' ' ' ' ' ']]]\n",
      "[[['B' 'B' 'B' 'A' 'A']\n",
      "  ['A' 'A' 'A' 'A' 'B']\n",
      "  ['A' 'D' 'B' 'A' 'B']]\n",
      "\n",
      " [['A' 'A' 'E' 'B' 'B']\n",
      "  ['B' 'A' 'A' 'B' 'B']\n",
      "  ['A' 'B' 'B' 'A' 'A']]]\n"
     ]
    }
   ],
   "source": [
    "new_d = np.full((2,3,5), \" \")\n",
    "print(new_d)\n",
    "for x in range(len(d)):\n",
    "    for y in range(len(d[0])):\n",
    "        for i in range(len(d[0][0])):\n",
    "            if d[x][y][i] > d_min and d[x][y][i] < d_mean:\n",
    "                new_d[x][y][i] = \"A\"\n",
    "            if d[x][y][i] > d_mean and d[x][y][i] < d_max:\n",
    "                new_d[x][y][i] = \"B\"\n",
    "            if d[x][y][i] == d_mean:\n",
    "                new_d[x][y][i] = \"C\"\n",
    "            if d[x][y][i] == d_min:\n",
    "                new_d[x][y][i] = \"D\"\n",
    "            if d[x][y][i] == d_max:\n",
    "                new_d[x][y][i] = \"E\"\n",
    "print(new_d)"
   ]
  },
  {
   "cell_type": "code",
   "execution_count": null,
   "metadata": {},
   "outputs": [],
   "source": []
  }
 ],
 "metadata": {
  "kernelspec": {
   "display_name": "Python 3",
   "language": "python",
   "name": "python3"
  },
  "language_info": {
   "codemirror_mode": {
    "name": "ipython",
    "version": 3
   },
   "file_extension": ".py",
   "mimetype": "text/x-python",
   "name": "python",
   "nbconvert_exporter": "python",
   "pygments_lexer": "ipython3",
   "version": "3.7.3"
  }
 },
 "nbformat": 4,
 "nbformat_minor": 2
}
