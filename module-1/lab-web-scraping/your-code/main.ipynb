{
 "cells": [
  {
   "cell_type": "markdown",
   "metadata": {},
   "source": [
    "# Web Scraping Lab\n",
    "\n",
    "You will find in this notebook some scrapy exercises to practise your scraping skills.\n",
    "\n",
    "**Tips:**\n",
    "\n",
    "- Check the response status code for each request to ensure you have obtained the intended contennt.\n",
    "- Print the response text in each request to understand the kind of info you are getting and its format.\n",
    "- Check for patterns in the response text to extract the data/info requested in each question.\n",
    "- Visit each url and take a look at its source through Chrome DevTools. You'll need to identify the html tags, special class names etc. used for the html content you are expected to extract."
   ]
  },
  {
   "cell_type": "markdown",
   "metadata": {},
   "source": [
    "- [Requests library](http://docs.python-requests.org/en/master/#the-user-guide) documentation \n",
    "- [Beautiful Soup Doc](https://www.crummy.com/software/BeautifulSoup/bs4/doc/)\n",
    "- [Urllib](https://docs.python.org/3/library/urllib.html#module-urllib)\n",
    "- [re lib](https://docs.python.org/3/library/re.html)\n",
    "- [lxml lib](https://lxml.de/)\n",
    "- [Scrapy](https://scrapy.org/)\n",
    "- [List of HTTP status codes](https://en.wikipedia.org/wiki/List_of_HTTP_status_codes)\n",
    "- [HTML basics](http://www.simplehtmlguide.com/cheatsheet.php)\n",
    "- [CSS basics](https://www.cssbasics.com/#page_start)"
   ]
  },
  {
   "cell_type": "markdown",
   "metadata": {},
   "source": [
    "#### Below are the libraries and modules you may need. `requests`,  `BeautifulSoup` and `pandas` are imported for you. If you prefer to use additional libraries feel free to uncomment them."
   ]
  },
  {
   "cell_type": "code",
   "execution_count": 1,
   "metadata": {},
   "outputs": [],
   "source": [
    "import requests\n",
    "from bs4 import BeautifulSoup\n",
    "import pandas as pd\n",
    "# from pprint import pprint\n",
    "# from lxml import html\n",
    "# from lxml.html import fromstring\n",
    "# import urllib.request\n",
    "# from urllib.request import urlopen\n",
    "# import random\n",
    "import re\n",
    "# import scrapy"
   ]
  },
  {
   "cell_type": "markdown",
   "metadata": {},
   "source": [
    "#### Download, parse (using BeautifulSoup), and print the content from the Trending Developers page from GitHub:"
   ]
  },
  {
   "cell_type": "code",
   "execution_count": 5,
   "metadata": {},
   "outputs": [],
   "source": [
    "# This is the url you will scrape in this exercise\n",
    "url = 'https://github.com/trending/developers'"
   ]
  },
  {
   "cell_type": "code",
   "execution_count": null,
   "metadata": {},
   "outputs": [],
   "source": [
    "#your code\n",
    "\n",
    "html = requests.get(url).content\n",
    "soup = BeautifulSoup(html, 'lxml')\n",
    "soup.prettify()\n",
    "trenders = soup.find_all('h1', attrs = {'class':'h3 lh-condensed'})\n",
    "trenders = [trender.text for trender in trenders]\n",
    "soup"
   ]
  },
  {
   "cell_type": "markdown",
   "metadata": {},
   "source": [
    "#### Display the names of the trending developers retrieved in the previous step.\n",
    "\n",
    "Your output should be a Python list of developer names. Each name should not contain any html tag.\n",
    "\n",
    "**Instructions:**\n",
    "\n",
    "1. Find out the html tag and class names used for the developer names. You can achieve this using Chrome DevTools.\n",
    "\n",
    "1. Use BeautifulSoup to extract all the html elements that contain the developer names.\n",
    "\n",
    "1. Use string manipulation techniques to replace whitespaces and linebreaks (i.e. `\\n`) in the *text* of each html element. Use a list to store the clean names.\n",
    "\n",
    "1. Print the list of names.\n",
    "\n",
    "Your output should look like below:\n",
    "\n",
    "```\n",
    "['trimstray (@trimstray)',\n",
    " 'joewalnes (JoeWalnes)',\n",
    " 'charlax (Charles-AxelDein)',\n",
    " 'ForrestKnight (ForrestKnight)',\n",
    " 'revery-ui (revery-ui)',\n",
    " 'alibaba (Alibaba)',\n",
    " 'Microsoft (Microsoft)',\n",
    " 'github (GitHub)',\n",
    " 'facebook (Facebook)',\n",
    " 'boazsegev (Bo)',\n",
    " 'google (Google)',\n",
    " 'cloudfetch',\n",
    " 'sindresorhus (SindreSorhus)',\n",
    " 'tensorflow',\n",
    " 'apache (TheApacheSoftwareFoundation)',\n",
    " 'DevonCrawford (DevonCrawford)',\n",
    " 'ARMmbed (ArmMbed)',\n",
    " 'vuejs (vuejs)',\n",
    " 'fastai (fast.ai)',\n",
    " 'QiShaoXuan (Qi)',\n",
    " 'joelparkerhenderson (JoelParkerHenderson)',\n",
    " 'torvalds (LinusTorvalds)',\n",
    " 'CyC2018',\n",
    " 'komeiji-satori (神楽坂覚々)',\n",
    " 'script-8']\n",
    " ```"
   ]
  },
  {
   "cell_type": "code",
   "execution_count": 7,
   "metadata": {},
   "outputs": [
    {
     "name": "stdout",
     "output_type": "stream",
     "text": [
      "Trending Developers on GitHub\n",
      "\n",
      "Full Name:                User:\n",
      "\n",
      "Alan Shaw                  (alanshaw)\n",
      "\n",
      "Carl Lerche                (carllerche)\n",
      "\n",
      "Jens Segers                (jenssegers)\n",
      "\n",
      "Gaëtan Renaudeau           (gre)\n",
      "\n",
      "Yuta Hiroto                (hiroppy)\n",
      "\n",
      "Guillaume Chau             (Akryum)\n",
      "\n",
      "chencheng (云谦)             (sorrycc)\n",
      "\n",
      "Mark Bates                 (markbates)\n",
      "\n",
      "Nuno Maduro                (nunomaduro)\n",
      "\n",
      "Derk-Jan Karrenbeld        (SleeplessByte)\n",
      "\n",
      "Dmitriy Kovalenko          (dmtrKovalenko)\n",
      "\n",
      "Norman Maurer              (normanmaurer)\n",
      "\n",
      "Frank Denis                (jedisct1)\n",
      "\n",
      "Zizaco                     (Zizaco)\n",
      "\n",
      "Jared Palmer               (jaredpalmer)\n",
      "\n",
      "Vincent Prouillet          (Keats)\n",
      "\n",
      "Felix Angelov              (felangel)\n",
      "\n",
      "Stefan Prodan              (stefanprodan)\n",
      "\n",
      "Andrei Gherzan             (agherzan)\n",
      "\n",
      "Michał Pierzchała          (thymikee)\n",
      "\n",
      "Federico Brigante          (bfred-it)\n",
      "\n",
      "David Hérault              (dherault)\n",
      "\n",
      "Kevin Sheppard             (bashtage)\n",
      "\n",
      "Alon Zakai                 (kripken)\n",
      "\n",
      "Vladimir Mihailenco        (vmihailenco)\n",
      "\n"
     ]
    }
   ],
   "source": [
    "#your code\n",
    "\n",
    "more = soup.find_all('article')\n",
    "garbage = [i.text.strip().split('\\n') for i in more]\n",
    "less_garbage = []\n",
    "lesser_garbage = []\n",
    "for i in range(len(garbage)):\n",
    "    if i % 2 == 0:\n",
    "        less_garbage.append(garbage[i][10])\n",
    "        \n",
    "print('Trending Developers on GitHub\\n')\n",
    "print('Full Name:                User:\\n')\n",
    "for x, y in zip(trenders, less_garbage):\n",
    "    print('{:<20}       ({})\\n'.format(x, y))"
   ]
  },
  {
   "cell_type": "markdown",
   "metadata": {},
   "source": [
    "#### Display the trending Python repositories in GitHub\n",
    "\n",
    "The steps to solve this problem is similar to the previous one except that you need to find out the repository names instead of developer names."
   ]
  },
  {
   "cell_type": "code",
   "execution_count": null,
   "metadata": {},
   "outputs": [],
   "source": [
    "# This is the url you will scrape in this exercise\n",
    "url = 'https://github.com/trending/python?since=daily'\n",
    "\n",
    "html = requests.get(url).content\n",
    "soup = BeautifulSoup(html, 'lxml')\n",
    "soup.prettify()"
   ]
  },
  {
   "cell_type": "code",
   "execution_count": null,
   "metadata": {},
   "outputs": [],
   "source": [
    "#your code\n",
    "\n",
    "output = soup.find_all('h1', attrs = {'class':'h3 lh-condensed'})\n",
    "output"
   ]
  },
  {
   "cell_type": "code",
   "execution_count": 12,
   "metadata": {},
   "outputs": [
    {
     "name": "stdout",
     "output_type": "stream",
     "text": [
      "Printing trending repositories...\n",
      "\n",
      "nl2sql_baseline\n",
      "\n",
      "USTC-Course\n",
      "\n",
      "instabot.py\n",
      "\n",
      "wtfpython-cn\n",
      "\n",
      "Vxscan\n",
      "\n",
      "wtfpython\n",
      "\n",
      "Real-Time-Voice-Cloning\n",
      "\n",
      "pyrobot\n",
      "\n",
      "Mask_RCNN\n",
      "\n",
      "maskrcnn-benchmark\n",
      "\n",
      "helm-charts\n",
      "\n",
      "documentation\n",
      "\n",
      "Awesome-Linux-Software\n",
      "\n",
      "wagtail\n",
      "\n",
      "biobert\n",
      "\n",
      "meson\n",
      "\n",
      "bokeh\n",
      "\n",
      "speech-driven-animation\n",
      "\n",
      "oppia\n",
      "\n",
      "WeblogicScan\n",
      "\n",
      "elasticsearch-py\n",
      "\n",
      "AV_Data_Capture\n",
      "\n",
      "darkflow\n",
      "\n",
      "CheatSheetSeries\n",
      "\n",
      "gspread\n",
      "\n"
     ]
    }
   ],
   "source": [
    "pattern =re.compile('/\\s(.*)\\n')\n",
    "repos = [pattern.findall(output[i].text)[0] for i in range(len(output))]\n",
    "print('Printing trending repositories...\\n')\n",
    "for repo in repos:\n",
    "    print(repo + '\\n')\n"
   ]
  },
  {
   "cell_type": "markdown",
   "metadata": {},
   "source": [
    "#### Display all the image links from Walt Disney wikipedia page"
   ]
  },
  {
   "cell_type": "code",
   "execution_count": 13,
   "metadata": {},
   "outputs": [],
   "source": [
    "# This is the url you will scrape in this exercise\n",
    "url = 'https://en.wikipedia.org/wiki/Walt_Disney'"
   ]
  },
  {
   "cell_type": "code",
   "execution_count": null,
   "metadata": {},
   "outputs": [],
   "source": [
    "#your code\n",
    "\n",
    "html = requests.get(url).content\n",
    "soup = BeautifulSoup(html, 'lxml')\n",
    "soup.prettify()"
   ]
  },
  {
   "cell_type": "code",
   "execution_count": 15,
   "metadata": {},
   "outputs": [],
   "source": [
    "images = soup.find_all('img')\n",
    "imageLinks = []\n",
    "for image in images:\n",
    "    imageLinks.append('https:' + image['src'])\n"
   ]
  },
  {
   "cell_type": "code",
   "execution_count": 16,
   "metadata": {},
   "outputs": [
    {
     "name": "stdout",
     "output_type": "stream",
     "text": [
      "Removing https://en.wikipedia.org/wiki/Special:CentralAutoLogin/start?type=1x1 as it isn't an image...\n"
     ]
    }
   ],
   "source": [
    "# removing junk link\n",
    "print('Removing {} as it isn\\'t an image...'.format(imageLinks[30]))\n",
    "imageLinks.remove(imageLinks[30])"
   ]
  },
  {
   "cell_type": "code",
   "execution_count": 17,
   "metadata": {
    "scrolled": true
   },
   "outputs": [
    {
     "name": "stdout",
     "output_type": "stream",
     "text": [
      "32 images extracted from https://en.wikipedia.org/wiki/Walt_Disney\n",
      "Printing links...\n",
      "\n",
      "https://upload.wikimedia.org/wikipedia/en/thumb/e/e7/Cscr-featured.svg/20px-Cscr-featured.svg.png\n",
      "\n",
      "https://upload.wikimedia.org/wikipedia/en/thumb/1/1b/Semi-protection-shackle.svg/20px-Semi-protection-shackle.svg.png\n",
      "\n",
      "https://upload.wikimedia.org/wikipedia/commons/thumb/d/df/Walt_Disney_1946.JPG/220px-Walt_Disney_1946.JPG\n",
      "\n",
      "https://upload.wikimedia.org/wikipedia/commons/thumb/8/87/Walt_Disney_1942_signature.svg/150px-Walt_Disney_1942_signature.svg.png\n",
      "\n",
      "https://upload.wikimedia.org/wikipedia/commons/thumb/c/c4/Walt_Disney_envelope_ca._1921.jpg/220px-Walt_Disney_envelope_ca._1921.jpg\n",
      "\n",
      "https://upload.wikimedia.org/wikipedia/commons/thumb/4/4d/Newman_Laugh-O-Gram_%281921%29.webm/220px-seek%3D2-Newman_Laugh-O-Gram_%281921%29.webm.jpg\n",
      "\n",
      "https://upload.wikimedia.org/wikipedia/commons/thumb/0/0d/Trolley_Troubles_poster.jpg/170px-Trolley_Troubles_poster.jpg\n",
      "\n",
      "https://upload.wikimedia.org/wikipedia/commons/thumb/7/71/Walt_Disney_and_his_cartoon_creation_%22Mickey_Mouse%22_-_National_Board_of_Review_Magazine.jpg/170px-Walt_Disney_and_his_cartoon_creation_%22Mickey_Mouse%22_-_National_Board_of_Review_Magazine.jpg\n",
      "\n",
      "https://upload.wikimedia.org/wikipedia/en/thumb/4/4e/Steamboat-willie.jpg/170px-Steamboat-willie.jpg\n",
      "\n",
      "https://upload.wikimedia.org/wikipedia/commons/thumb/5/57/Walt_Disney_1935.jpg/170px-Walt_Disney_1935.jpg\n",
      "\n",
      "https://upload.wikimedia.org/wikipedia/commons/thumb/c/cd/Walt_Disney_Snow_white_1937_trailer_screenshot_%2813%29.jpg/220px-Walt_Disney_Snow_white_1937_trailer_screenshot_%2813%29.jpg\n",
      "\n",
      "https://upload.wikimedia.org/wikipedia/commons/thumb/1/15/Disney_drawing_goofy.jpg/170px-Disney_drawing_goofy.jpg\n",
      "\n",
      "https://upload.wikimedia.org/wikipedia/commons/thumb/1/13/DisneySchiphol1951.jpg/220px-DisneySchiphol1951.jpg\n",
      "\n",
      "https://upload.wikimedia.org/wikipedia/commons/thumb/8/8c/WaltDisneyplansDisneylandDec1954.jpg/220px-WaltDisneyplansDisneylandDec1954.jpg\n",
      "\n",
      "https://upload.wikimedia.org/wikipedia/commons/thumb/f/ff/Walt_disney_portrait_right.jpg/170px-Walt_disney_portrait_right.jpg\n",
      "\n",
      "https://upload.wikimedia.org/wikipedia/commons/thumb/1/1a/Walt_Disney_Grave.JPG/170px-Walt_Disney_Grave.JPG\n",
      "\n",
      "https://upload.wikimedia.org/wikipedia/commons/thumb/2/2d/Roy_O._Disney_with_Company_at_Press_Conference.jpg/170px-Roy_O._Disney_with_Company_at_Press_Conference.jpg\n",
      "\n",
      "https://upload.wikimedia.org/wikipedia/commons/thumb/a/a9/Disney_Display_Case.JPG/170px-Disney_Display_Case.JPG\n",
      "\n",
      "https://upload.wikimedia.org/wikipedia/commons/thumb/6/6c/Disney1968.jpg/170px-Disney1968.jpg\n",
      "\n",
      "https://upload.wikimedia.org/wikipedia/en/thumb/8/8a/OOjs_UI_icon_edit-ltr-progressive.svg/10px-OOjs_UI_icon_edit-ltr-progressive.svg.png\n",
      "\n",
      "https://upload.wikimedia.org/wikipedia/commons/thumb/d/da/Animation_disc.svg/30px-Animation_disc.svg.png\n",
      "\n",
      "https://upload.wikimedia.org/wikipedia/en/thumb/6/69/P_vip.svg/29px-P_vip.svg.png\n",
      "\n",
      "https://upload.wikimedia.org/wikipedia/commons/thumb/1/1a/Magic_Kingdom_castle.jpg/24px-Magic_Kingdom_castle.jpg\n",
      "\n",
      "https://upload.wikimedia.org/wikipedia/en/thumb/e/e7/Video-x-generic.svg/30px-Video-x-generic.svg.png\n",
      "\n",
      "https://upload.wikimedia.org/wikipedia/commons/thumb/a/a3/Flag_of_Los_Angeles_County%2C_California.svg/30px-Flag_of_Los_Angeles_County%2C_California.svg.png\n",
      "\n",
      "https://upload.wikimedia.org/wikipedia/commons/thumb/a/a3/USA_flag_on_television.svg/30px-USA_flag_on_television.svg.png\n",
      "\n",
      "https://upload.wikimedia.org/wikipedia/en/thumb/4/4a/Commons-logo.svg/22px-Commons-logo.svg.png\n",
      "\n",
      "https://upload.wikimedia.org/wikipedia/commons/thumb/f/fa/Wikiquote-logo.svg/25px-Wikiquote-logo.svg.png\n",
      "\n",
      "https://upload.wikimedia.org/wikipedia/commons/thumb/f/ff/Wikidata-logo.svg/30px-Wikidata-logo.svg.png\n",
      "\n",
      "https://upload.wikimedia.org/wikipedia/en/thumb/8/8a/OOjs_UI_icon_edit-ltr-progressive.svg/10px-OOjs_UI_icon_edit-ltr-progressive.svg.png\n",
      "\n",
      "https:/static/images/wikimedia-button.png\n",
      "\n",
      "https:/static/images/poweredby_mediawiki_88x31.png\n",
      "\n"
     ]
    }
   ],
   "source": [
    "print('{} images extracted from {}\\nPrinting links...\\n'.format(len(imageLinks), url))\n",
    "for link in imageLinks:\n",
    "    print(link + '\\n')"
   ]
  },
  {
   "cell_type": "markdown",
   "metadata": {},
   "source": [
    "#### Retrieve an arbitary Wikipedia page of \"Python\" and create a list of links on that page"
   ]
  },
  {
   "cell_type": "code",
   "execution_count": 18,
   "metadata": {},
   "outputs": [],
   "source": [
    "# This is the url you will scrape in this exercise\n",
    "url ='https://en.wikipedia.org/wiki/Python' "
   ]
  },
  {
   "cell_type": "code",
   "execution_count": 19,
   "metadata": {},
   "outputs": [],
   "source": [
    "#your code\n",
    "links = []\n",
    "html = requests.get(url).content\n",
    "soup = BeautifulSoup(html, 'lxml')\n",
    "soup.prettify()\n",
    "\n",
    "for link in soup.find_all('a', href=True):\n",
    "    links.append(link['href'])"
   ]
  },
  {
   "cell_type": "code",
   "execution_count": 20,
   "metadata": {},
   "outputs": [],
   "source": [
    "filteredLinks = [link for link in links if link.startswith('#') != True]\n",
    "filteredLinks = [link for link in filteredLinks if link.startswith('https://') == True]"
   ]
  },
  {
   "cell_type": "code",
   "execution_count": null,
   "metadata": {},
   "outputs": [],
   "source": [
    "for link in filteredLinks:\n",
    "    print(link + '\\n')"
   ]
  },
  {
   "cell_type": "markdown",
   "metadata": {},
   "source": [
    "#### Number of Titles that have changed in the United States Code since its last release point "
   ]
  },
  {
   "cell_type": "code",
   "execution_count": 22,
   "metadata": {},
   "outputs": [],
   "source": [
    "# This is the url you will scrape in this exercise\n",
    "url = 'http://uscode.house.gov/download/download.shtml'"
   ]
  },
  {
   "cell_type": "code",
   "execution_count": null,
   "metadata": {},
   "outputs": [],
   "source": [
    "#your code\n",
    "\n",
    "html = requests.get(url).content\n",
    "soup = BeautifulSoup(html, 'lxml')\n",
    "soup.prettify()"
   ]
  },
  {
   "cell_type": "code",
   "execution_count": 24,
   "metadata": {},
   "outputs": [],
   "source": [
    "titleChange = soup.find_all(\"div\", {'class':'usctitlechanged'})"
   ]
  },
  {
   "cell_type": "code",
   "execution_count": 25,
   "metadata": {},
   "outputs": [],
   "source": [
    "output = titleChange[0].text"
   ]
  },
  {
   "cell_type": "code",
   "execution_count": 26,
   "metadata": {},
   "outputs": [
    {
     "name": "stdout",
     "output_type": "stream",
     "text": [
      "Titles that have changed since the last release point:\n",
      "\n",
      "Title 2 - The Congress\n"
     ]
    }
   ],
   "source": [
    "result = re.findall('\\s*(.*)\\n', output)[0]\n",
    "print('Titles that have changed since the last release point:\\n\\n{}'.format(result))"
   ]
  },
  {
   "cell_type": "markdown",
   "metadata": {},
   "source": [
    "#### A Python list with the top ten FBI's Most Wanted names "
   ]
  },
  {
   "cell_type": "code",
   "execution_count": 27,
   "metadata": {},
   "outputs": [],
   "source": [
    "# This is the url you will scrape in this exercise\n",
    "url = 'https://www.fbi.gov/wanted/topten'"
   ]
  },
  {
   "cell_type": "code",
   "execution_count": null,
   "metadata": {},
   "outputs": [],
   "source": [
    "#your code \n",
    "\n",
    "html = requests.get(url).content\n",
    "soup = BeautifulSoup(html, 'lxml')\n",
    "soup.prettify()"
   ]
  },
  {
   "cell_type": "code",
   "execution_count": 29,
   "metadata": {},
   "outputs": [
    {
     "name": "stdout",
     "output_type": "stream",
     "text": [
      "FBI's Top Ten Most Wanted List: \n",
      "\n",
      "RAFAEL CARO-QUINTERO\n",
      "\n",
      "ALEXIS FLORES\n",
      "\n",
      "EUGENE PALMER\n",
      "\n",
      "SANTIAGO VILLALBA MEDEROS\n",
      "\n",
      "ROBERT WILLIAM FISHER\n",
      "\n",
      "BHADRESHKUMAR CHETANBHAI PATEL\n",
      "\n",
      "ARNOLDO JIMENEZ\n",
      "\n",
      "ALEJANDRO ROSALES CASTILLO\n",
      "\n",
      "YASER ABDEL SAID\n",
      "\n",
      "JASON DEREK BROWN\n",
      "\n"
     ]
    }
   ],
   "source": [
    "mostWanted = soup.find_all('h3', {'class':'title'})\n",
    "topTen = [re.findall('\\n(.*)\\n', criminal.text)[0] for criminal in mostWanted]\n",
    "print(\"FBI's Top Ten Most Wanted List: \\n\")\n",
    "for wanted in topTen:\n",
    "    print(wanted + '\\n')"
   ]
  },
  {
   "cell_type": "markdown",
   "metadata": {},
   "source": [
    "####  20 latest earthquakes info (date, time, latitude, longitude and region name) by the EMSC as a pandas dataframe"
   ]
  },
  {
   "cell_type": "code",
   "execution_count": 30,
   "metadata": {},
   "outputs": [],
   "source": [
    "# This is the url you will scrape in this exercise\n",
    "url = 'https://www.emsc-csem.org/Earthquake/'"
   ]
  },
  {
   "cell_type": "code",
   "execution_count": null,
   "metadata": {},
   "outputs": [],
   "source": [
    "#your code\n",
    "\n",
    "html = requests.get(url).content\n",
    "soup = BeautifulSoup(html, 'lxml')\n",
    "soup.prettify()"
   ]
  },
  {
   "cell_type": "code",
   "execution_count": 32,
   "metadata": {},
   "outputs": [],
   "source": [
    "# Update regions\n",
    "regions = soup.find_all('td', {'class':'tb_region'})[0:20]\n",
    "regions = [region.text.replace('\\xa0','') for region in regions]\n",
    "\n",
    "# Update date and time\n",
    "extract = '>(.*)\\s'\n",
    "dates = soup.find_all('b')[0:20]\n",
    "dates = [date.text.replace('earthquake', '').replace('\\xa0\\xa0\\xa0', ' ').split(' ') for date in dates]\n",
    "times = [time[1] for time in dates]\n",
    "dates = [date[0] for date in dates]\n",
    "\n",
    "# latitudes\n",
    "latitudes = soup.find_all('td', {'class':'tabev1'})[0:40]\n",
    "latitudes = [latitude.text.replace('\\xa0', '') for latitude in latitudes]\n",
    "\n",
    "# longitudes\n",
    "longitudes = latitudes[1::2] # take every odd index item starting with 1\n",
    "latitudes = latitudes[::2]\n",
    "\n",
    "# directional data (NSEW)\n",
    "vertDirections = soup.find_all('td', {'class':'tabev2'})[0::3]\n",
    "vertDirections = [vert.text.replace('\\xa0\\xa0','') for vert in vertDirections]\n",
    "horizontalDirections = soup.find_all('td', {'class':'tabev2'})[1::3]\n",
    "horizontalDirections = [hori.text.replace('\\xa0\\xa0', '') for hori in horizontalDirections]\n",
    "\n",
    "\n",
    "lats = []\n",
    "longs = []\n",
    "\n",
    "for lat, long in zip(latitudes, longitudes):\n",
    "    lats.append(lat + ' ' + vertDirections[latitudes.index(lat)])\n",
    "    longs.append(long + ' ' + horizontalDirections[longitudes.index(long)])\n",
    "    \n",
    "\n",
    "EARTHQUAKES = {'Date':dates,\n",
    "               'Time':times,\n",
    "               'Latitude':lats,\n",
    "               'Longitude':longs,\n",
    "               'Region':regions,\n",
    "              }"
   ]
  },
  {
   "cell_type": "code",
   "execution_count": 33,
   "metadata": {},
   "outputs": [
    {
     "data": {
      "text/html": [
       "<div>\n",
       "<style scoped>\n",
       "    .dataframe tbody tr th:only-of-type {\n",
       "        vertical-align: middle;\n",
       "    }\n",
       "\n",
       "    .dataframe tbody tr th {\n",
       "        vertical-align: top;\n",
       "    }\n",
       "\n",
       "    .dataframe thead th {\n",
       "        text-align: right;\n",
       "    }\n",
       "</style>\n",
       "<table border=\"1\" class=\"dataframe\">\n",
       "  <thead>\n",
       "    <tr style=\"text-align: right;\">\n",
       "      <th></th>\n",
       "      <th>Date</th>\n",
       "      <th>Time</th>\n",
       "      <th>Latitude</th>\n",
       "      <th>Longitude</th>\n",
       "      <th>Region</th>\n",
       "    </tr>\n",
       "  </thead>\n",
       "  <tbody>\n",
       "    <tr>\n",
       "      <th>0</th>\n",
       "      <td>2019-06-26</td>\n",
       "      <td>12:54:00.0</td>\n",
       "      <td>9.38 S</td>\n",
       "      <td>75.92 W</td>\n",
       "      <td>CENTRAL PERU</td>\n",
       "    </tr>\n",
       "    <tr>\n",
       "      <th>1</th>\n",
       "      <td>2019-06-26</td>\n",
       "      <td>12:16:25.0</td>\n",
       "      <td>38.41 N</td>\n",
       "      <td>41.98 E</td>\n",
       "      <td>EASTERN TURKEY</td>\n",
       "    </tr>\n",
       "    <tr>\n",
       "      <th>2</th>\n",
       "      <td>2019-06-26</td>\n",
       "      <td>12:14:24.0</td>\n",
       "      <td>2.54 S</td>\n",
       "      <td>138.68 E</td>\n",
       "      <td>PAPUA, INDONESIA</td>\n",
       "    </tr>\n",
       "    <tr>\n",
       "      <th>3</th>\n",
       "      <td>2019-06-26</td>\n",
       "      <td>11:56:54.1</td>\n",
       "      <td>38.18 N</td>\n",
       "      <td>22.55 E</td>\n",
       "      <td>GREECE</td>\n",
       "    </tr>\n",
       "    <tr>\n",
       "      <th>4</th>\n",
       "      <td>2019-06-26</td>\n",
       "      <td>11:23:51.1</td>\n",
       "      <td>40.44 N</td>\n",
       "      <td>20.83 E</td>\n",
       "      <td>GREECE</td>\n",
       "    </tr>\n",
       "    <tr>\n",
       "      <th>5</th>\n",
       "      <td>2019-06-26</td>\n",
       "      <td>11:07:00.0</td>\n",
       "      <td>9.42 S</td>\n",
       "      <td>75.93 W</td>\n",
       "      <td>CENTRAL PERU</td>\n",
       "    </tr>\n",
       "    <tr>\n",
       "      <th>6</th>\n",
       "      <td>2019-06-26</td>\n",
       "      <td>11:02:20.6</td>\n",
       "      <td>56.06 N</td>\n",
       "      <td>164.63 E</td>\n",
       "      <td>KOMANDORSKIYE OSTROVA REGION</td>\n",
       "    </tr>\n",
       "    <tr>\n",
       "      <th>7</th>\n",
       "      <td>2019-06-26</td>\n",
       "      <td>10:57:24.6</td>\n",
       "      <td>56.16 N</td>\n",
       "      <td>164.46 E</td>\n",
       "      <td>KOMANDORSKIYE OSTROVA REGION</td>\n",
       "    </tr>\n",
       "    <tr>\n",
       "      <th>8</th>\n",
       "      <td>2019-06-26</td>\n",
       "      <td>10:43:01.5</td>\n",
       "      <td>56.21 N</td>\n",
       "      <td>164.04 E</td>\n",
       "      <td>KOMANDORSKIYE OSTROVA REGION</td>\n",
       "    </tr>\n",
       "    <tr>\n",
       "      <th>9</th>\n",
       "      <td>2019-06-26</td>\n",
       "      <td>10:38:58.0</td>\n",
       "      <td>3.04 S</td>\n",
       "      <td>136.97 E</td>\n",
       "      <td>PAPUA, INDONESIA</td>\n",
       "    </tr>\n",
       "    <tr>\n",
       "      <th>10</th>\n",
       "      <td>2019-06-26</td>\n",
       "      <td>10:36:20.0</td>\n",
       "      <td>2.47 S</td>\n",
       "      <td>138.59 E</td>\n",
       "      <td>PAPUA, INDONESIA</td>\n",
       "    </tr>\n",
       "    <tr>\n",
       "      <th>11</th>\n",
       "      <td>2019-06-26</td>\n",
       "      <td>10:17:06.0</td>\n",
       "      <td>66.30 N</td>\n",
       "      <td>157.21 W</td>\n",
       "      <td>NORTHERN ALASKA</td>\n",
       "    </tr>\n",
       "    <tr>\n",
       "      <th>12</th>\n",
       "      <td>2019-06-26</td>\n",
       "      <td>10:06:17.2</td>\n",
       "      <td>19.17 N</td>\n",
       "      <td>155.48 W</td>\n",
       "      <td>ISLAND OF HAWAII, HAWAII</td>\n",
       "    </tr>\n",
       "    <tr>\n",
       "      <th>13</th>\n",
       "      <td>2019-06-26</td>\n",
       "      <td>09:56:42.0</td>\n",
       "      <td>16.64 N</td>\n",
       "      <td>99.36 W</td>\n",
       "      <td>OFFSHORE GUERRERO, MEXICO</td>\n",
       "    </tr>\n",
       "    <tr>\n",
       "      <th>14</th>\n",
       "      <td>2019-06-26</td>\n",
       "      <td>09:55:17.0</td>\n",
       "      <td>16.60 N</td>\n",
       "      <td>99.36 W</td>\n",
       "      <td>OFFSHORE GUERRERO, MEXICO</td>\n",
       "    </tr>\n",
       "    <tr>\n",
       "      <th>15</th>\n",
       "      <td>2019-06-26</td>\n",
       "      <td>09:54:04.4</td>\n",
       "      <td>40.38 N</td>\n",
       "      <td>121.73 W</td>\n",
       "      <td>NORTHERN CALIFORNIA</td>\n",
       "    </tr>\n",
       "    <tr>\n",
       "      <th>16</th>\n",
       "      <td>2019-06-26</td>\n",
       "      <td>09:48:55.0</td>\n",
       "      <td>16.37 N</td>\n",
       "      <td>97.76 W</td>\n",
       "      <td>OAXACA, MEXICO</td>\n",
       "    </tr>\n",
       "    <tr>\n",
       "      <th>17</th>\n",
       "      <td>2019-06-26</td>\n",
       "      <td>09:46:22.9</td>\n",
       "      <td>36.22 N</td>\n",
       "      <td>120.26 W</td>\n",
       "      <td>CENTRAL CALIFORNIA</td>\n",
       "    </tr>\n",
       "    <tr>\n",
       "      <th>18</th>\n",
       "      <td>2019-06-26</td>\n",
       "      <td>09:36:17.0</td>\n",
       "      <td>23.14 S</td>\n",
       "      <td>69.27 W</td>\n",
       "      <td>ANTOFAGASTA, CHILE</td>\n",
       "    </tr>\n",
       "    <tr>\n",
       "      <th>19</th>\n",
       "      <td>2019-06-26</td>\n",
       "      <td>09:21:58.9</td>\n",
       "      <td>36.60 N</td>\n",
       "      <td>70.41 E</td>\n",
       "      <td>HINDU KUSH REGION, AFGHANISTAN</td>\n",
       "    </tr>\n",
       "  </tbody>\n",
       "</table>\n",
       "</div>"
      ],
      "text/plain": [
       "          Date        Time Latitude Longitude                          Region\n",
       "0   2019-06-26  12:54:00.0   9.38 S   75.92 W                    CENTRAL PERU\n",
       "1   2019-06-26  12:16:25.0  38.41 N   41.98 E                  EASTERN TURKEY\n",
       "2   2019-06-26  12:14:24.0   2.54 S  138.68 E                PAPUA, INDONESIA\n",
       "3   2019-06-26  11:56:54.1  38.18 N   22.55 E                          GREECE\n",
       "4   2019-06-26  11:23:51.1  40.44 N   20.83 E                          GREECE\n",
       "5   2019-06-26  11:07:00.0   9.42 S   75.93 W                    CENTRAL PERU\n",
       "6   2019-06-26  11:02:20.6  56.06 N  164.63 E    KOMANDORSKIYE OSTROVA REGION\n",
       "7   2019-06-26  10:57:24.6  56.16 N  164.46 E    KOMANDORSKIYE OSTROVA REGION\n",
       "8   2019-06-26  10:43:01.5  56.21 N  164.04 E    KOMANDORSKIYE OSTROVA REGION\n",
       "9   2019-06-26  10:38:58.0   3.04 S  136.97 E                PAPUA, INDONESIA\n",
       "10  2019-06-26  10:36:20.0   2.47 S  138.59 E                PAPUA, INDONESIA\n",
       "11  2019-06-26  10:17:06.0  66.30 N  157.21 W                 NORTHERN ALASKA\n",
       "12  2019-06-26  10:06:17.2  19.17 N  155.48 W        ISLAND OF HAWAII, HAWAII\n",
       "13  2019-06-26  09:56:42.0  16.64 N   99.36 W       OFFSHORE GUERRERO, MEXICO\n",
       "14  2019-06-26  09:55:17.0  16.60 N   99.36 W       OFFSHORE GUERRERO, MEXICO\n",
       "15  2019-06-26  09:54:04.4  40.38 N  121.73 W             NORTHERN CALIFORNIA\n",
       "16  2019-06-26  09:48:55.0  16.37 N   97.76 W                  OAXACA, MEXICO\n",
       "17  2019-06-26  09:46:22.9  36.22 N  120.26 W              CENTRAL CALIFORNIA\n",
       "18  2019-06-26  09:36:17.0  23.14 S   69.27 W              ANTOFAGASTA, CHILE\n",
       "19  2019-06-26  09:21:58.9  36.60 N   70.41 E  HINDU KUSH REGION, AFGHANISTAN"
      ]
     },
     "execution_count": 33,
     "metadata": {},
     "output_type": "execute_result"
    }
   ],
   "source": [
    "df = pd.DataFrame.from_dict(EARTHQUAKES)\n",
    "df"
   ]
  },
  {
   "cell_type": "code",
   "execution_count": 224,
   "metadata": {},
   "outputs": [],
   "source": []
  },
  {
   "cell_type": "markdown",
   "metadata": {},
   "source": [
    "#### Display the date, days, title, city, country of next 25 hackathon events as a Pandas dataframe table\n",
    "\n",
    "##### Note: there seems to only be 7 events"
   ]
  },
  {
   "cell_type": "code",
   "execution_count": 330,
   "metadata": {},
   "outputs": [],
   "source": [
    "# This is the url you will scrape in this exercise\n",
    "url ='https://hackevents.co/search/anything/anywhere/anytime'\n"
   ]
  },
  {
   "cell_type": "markdown",
   "metadata": {},
   "source": [
    "#### Count number of tweets by a given Twitter account."
   ]
  },
  {
   "cell_type": "markdown",
   "metadata": {},
   "source": [
    "You will need to include a ***try/except block*** for account names not found. \n",
    "<br>***Hint:*** the program should count the number of tweets for any provided account"
   ]
  },
  {
   "cell_type": "code",
   "execution_count": null,
   "metadata": {},
   "outputs": [],
   "source": [
    "# This is the url you will scrape in this exercise \n",
    "# You will need to add the account credentials to this url\n",
    "url = 'https://twitter.com/'"
   ]
  },
  {
   "cell_type": "code",
   "execution_count": 2,
   "metadata": {},
   "outputs": [
    {
     "name": "stdin",
     "output_type": "stream",
     "text": [
      "Enter API_KEY ·························\n",
      "Enter API_SECRET ··················································\n"
     ]
    }
   ],
   "source": [
    "#your code\n",
    "import tweepy\n",
    "import getpass\n",
    "\n",
    "API_KEY = getpass.getpass('Enter API_KEY' )\n",
    "API_SECRET = getpass.getpass('Enter API_SECRET' )"
   ]
  },
  {
   "cell_type": "code",
   "execution_count": 3,
   "metadata": {},
   "outputs": [
    {
     "name": "stdin",
     "output_type": "stream",
     "text": [
      "Enter ACCESS_TOKEN ··················································\n",
      "Enter ACCESS_TOKEN_SECRET ·············································\n"
     ]
    }
   ],
   "source": [
    "ACCESS_TOKEN = getpass.getpass('Enter ACCESS_TOKEN' )\n",
    "ACCESS_TOKEN_SECRET = getpass.getpass('Enter ACCESS_TOKEN_SECRET' )"
   ]
  },
  {
   "cell_type": "code",
   "execution_count": 4,
   "metadata": {},
   "outputs": [],
   "source": [
    "auth = tweepy.OAuthHandler(API_KEY, API_SECRET)\n",
    "auth.set_access_token(ACCESS_TOKEN, ACCESS_TOKEN_SECRET)\n",
    "api = tweepy.API(auth)"
   ]
  },
  {
   "cell_type": "code",
   "execution_count": 26,
   "metadata": {},
   "outputs": [],
   "source": [
    "# define tweetCounter\n",
    "def tweetCounter(user):\n",
    "    '''function takes a username and returns an int showing total tweet count'''\n",
    "    try:\n",
    "        user = api.get_user(user)\n",
    "    except:\n",
    "        print(\"User name invalid or not found, please check for any errors in spelling.\")\n",
    "    else:\n",
    "        return str(user.statuses_count)"
   ]
  },
  {
   "cell_type": "code",
   "execution_count": 27,
   "metadata": {},
   "outputs": [
    {
     "name": "stdout",
     "output_type": "stream",
     "text": [
      "User 'SenSanders' has tweeted 20324 times\n"
     ]
    }
   ],
   "source": [
    "# assign user name\n",
    "user = 'SenSanders'\n",
    "print(\"User '{}' has tweeted {} times\".format(user, tweetCounter(user)))"
   ]
  },
  {
   "cell_type": "markdown",
   "metadata": {},
   "source": [
    "#### Number of followers of a given twitter account"
   ]
  },
  {
   "cell_type": "markdown",
   "metadata": {},
   "source": [
    "You will need to include a ***try/except block*** in case account/s name not found. \n",
    "<br>***Hint:*** the program should count the followers for any provided account"
   ]
  },
  {
   "cell_type": "code",
   "execution_count": 67,
   "metadata": {},
   "outputs": [],
   "source": [
    "# This is the url you will scrape in this exercise \n",
    "# You will need to add the account credentials to this url\n"
   ]
  },
  {
   "cell_type": "code",
   "execution_count": 64,
   "metadata": {},
   "outputs": [],
   "source": [
    "#your code\n",
    "\n",
    "def getFollowers(user):\n",
    "    '''this function returns number of followers for a given username'''\n",
    "    url = 'https://twitter.com/' + user\n",
    "    import requests\n",
    "    from bs4 import BeautifulSoup\n",
    "    try:\n",
    "        html = requests.get(url).content\n",
    "        soup = BeautifulSoup(html, \"lxml\")\n",
    "        import re\n",
    "        name = soup.find_all('a', {'class':'ProfileHeaderCard-nameLink u-textInheritColor js-nav'})[0].text\n",
    "        output = [re.findall(r'\"(.*?)\"', str(element))[1] for element in soup.find_all('span', {'class':'ProfileNav-value'})]\n",
    "    except:\n",
    "        print('user name {} was not found, try again'.format(user))\n",
    "    else:\n",
    "        return 'User {} (@{}) has {} followers'.format(name, user, output[2])\n"
   ]
  },
  {
   "cell_type": "code",
   "execution_count": 66,
   "metadata": {},
   "outputs": [
    {
     "name": "stdout",
     "output_type": "stream",
     "text": [
      "User Bernie Sanders (@SenSanders) has 8409579 followers\n"
     ]
    }
   ],
   "source": [
    "# run code on user declared earlier\n",
    "\n",
    "print(getFollowers(user))"
   ]
  },
  {
   "cell_type": "markdown",
   "metadata": {},
   "source": [
    "#### List all language names and number of related articles in the order they appear in wikipedia.org"
   ]
  },
  {
   "cell_type": "code",
   "execution_count": 68,
   "metadata": {},
   "outputs": [],
   "source": [
    "# This is the url you will scrape in this exercise\n",
    "url = 'https://www.wikipedia.org/'"
   ]
  },
  {
   "cell_type": "code",
   "execution_count": 133,
   "metadata": {},
   "outputs": [],
   "source": [
    "#your code\n",
    "\n",
    "html = requests.get(url).content\n",
    "soup = BeautifulSoup(html, \"lxml\")\n",
    "languages = [lang.text for lang in soup.find_all('strong')]\n",
    "languages = languages[1:11]\n",
    "articles = [re.findall('(.*)\\+', article.string.replace('\\xa0', ',')) for article in soup.find_all('bdi')]\n",
    "articles = [article[0] for article in articles[:10]]"
   ]
  },
  {
   "cell_type": "code",
   "execution_count": 142,
   "metadata": {},
   "outputs": [
    {
     "data": {
      "text/html": [
       "<div>\n",
       "<style scoped>\n",
       "    .dataframe tbody tr th:only-of-type {\n",
       "        vertical-align: middle;\n",
       "    }\n",
       "\n",
       "    .dataframe tbody tr th {\n",
       "        vertical-align: top;\n",
       "    }\n",
       "\n",
       "    .dataframe thead th {\n",
       "        text-align: right;\n",
       "    }\n",
       "</style>\n",
       "<table border=\"1\" class=\"dataframe\">\n",
       "  <thead>\n",
       "    <tr style=\"text-align: right;\">\n",
       "      <th></th>\n",
       "      <th>Language</th>\n",
       "      <th>Articles</th>\n",
       "    </tr>\n",
       "  </thead>\n",
       "  <tbody>\n",
       "    <tr>\n",
       "      <th>0</th>\n",
       "      <td>English</td>\n",
       "      <td>5,878,000</td>\n",
       "    </tr>\n",
       "    <tr>\n",
       "      <th>1</th>\n",
       "      <td>日本語</td>\n",
       "      <td>1,155,000</td>\n",
       "    </tr>\n",
       "    <tr>\n",
       "      <th>2</th>\n",
       "      <td>Español</td>\n",
       "      <td>1,528,000</td>\n",
       "    </tr>\n",
       "    <tr>\n",
       "      <th>3</th>\n",
       "      <td>Deutsch</td>\n",
       "      <td>2,314,000</td>\n",
       "    </tr>\n",
       "    <tr>\n",
       "      <th>4</th>\n",
       "      <td>Русский</td>\n",
       "      <td>1,551,000</td>\n",
       "    </tr>\n",
       "    <tr>\n",
       "      <th>5</th>\n",
       "      <td>Français</td>\n",
       "      <td>2,116,000</td>\n",
       "    </tr>\n",
       "    <tr>\n",
       "      <th>6</th>\n",
       "      <td>Italiano</td>\n",
       "      <td>1,535,000</td>\n",
       "    </tr>\n",
       "    <tr>\n",
       "      <th>7</th>\n",
       "      <td>中文</td>\n",
       "      <td>1,062,000</td>\n",
       "    </tr>\n",
       "    <tr>\n",
       "      <th>8</th>\n",
       "      <td>Português</td>\n",
       "      <td>1,008,000</td>\n",
       "    </tr>\n",
       "    <tr>\n",
       "      <th>9</th>\n",
       "      <td>Polski</td>\n",
       "      <td>1,342,000</td>\n",
       "    </tr>\n",
       "  </tbody>\n",
       "</table>\n",
       "</div>"
      ],
      "text/plain": [
       "    Language   Articles\n",
       "0    English  5,878,000\n",
       "1        日本語  1,155,000\n",
       "2    Español  1,528,000\n",
       "3    Deutsch  2,314,000\n",
       "4    Русский  1,551,000\n",
       "5   Français  2,116,000\n",
       "6   Italiano  1,535,000\n",
       "7         中文  1,062,000\n",
       "8  Português  1,008,000\n",
       "9     Polski  1,342,000"
      ]
     },
     "execution_count": 142,
     "metadata": {},
     "output_type": "execute_result"
    }
   ],
   "source": [
    "import pandas as pd\n",
    "results = pd.DataFrame({'Language' : languages, 'Articles' : articles})\n",
    "results.name = 'Number of Articles per Language \\non Wikipedia'\n",
    "results"
   ]
  },
  {
   "cell_type": "markdown",
   "metadata": {},
   "source": [
    "#### A list with the different kind of datasets available in data.gov.uk "
   ]
  },
  {
   "cell_type": "code",
   "execution_count": 151,
   "metadata": {},
   "outputs": [
    {
     "data": {
      "text/html": [
       "<div>\n",
       "<style scoped>\n",
       "    .dataframe tbody tr th:only-of-type {\n",
       "        vertical-align: middle;\n",
       "    }\n",
       "\n",
       "    .dataframe tbody tr th {\n",
       "        vertical-align: top;\n",
       "    }\n",
       "\n",
       "    .dataframe thead th {\n",
       "        text-align: right;\n",
       "    }\n",
       "</style>\n",
       "<table border=\"1\" class=\"dataframe\">\n",
       "  <thead>\n",
       "    <tr style=\"text-align: right;\">\n",
       "      <th></th>\n",
       "      <th>Category</th>\n",
       "    </tr>\n",
       "  </thead>\n",
       "  <tbody>\n",
       "    <tr>\n",
       "      <th>0</th>\n",
       "      <td>Business and economy</td>\n",
       "    </tr>\n",
       "    <tr>\n",
       "      <th>1</th>\n",
       "      <td>Crime and justice</td>\n",
       "    </tr>\n",
       "    <tr>\n",
       "      <th>2</th>\n",
       "      <td>Defence</td>\n",
       "    </tr>\n",
       "    <tr>\n",
       "      <th>3</th>\n",
       "      <td>Education</td>\n",
       "    </tr>\n",
       "    <tr>\n",
       "      <th>4</th>\n",
       "      <td>Environment</td>\n",
       "    </tr>\n",
       "    <tr>\n",
       "      <th>5</th>\n",
       "      <td>Government</td>\n",
       "    </tr>\n",
       "    <tr>\n",
       "      <th>6</th>\n",
       "      <td>Government spending</td>\n",
       "    </tr>\n",
       "    <tr>\n",
       "      <th>7</th>\n",
       "      <td>Health</td>\n",
       "    </tr>\n",
       "    <tr>\n",
       "      <th>8</th>\n",
       "      <td>Mapping</td>\n",
       "    </tr>\n",
       "    <tr>\n",
       "      <th>9</th>\n",
       "      <td>Society</td>\n",
       "    </tr>\n",
       "    <tr>\n",
       "      <th>10</th>\n",
       "      <td>Towns and cities</td>\n",
       "    </tr>\n",
       "    <tr>\n",
       "      <th>11</th>\n",
       "      <td>Transport</td>\n",
       "    </tr>\n",
       "  </tbody>\n",
       "</table>\n",
       "</div>"
      ],
      "text/plain": [
       "                Category\n",
       "0   Business and economy\n",
       "1      Crime and justice\n",
       "2                Defence\n",
       "3              Education\n",
       "4            Environment\n",
       "5             Government\n",
       "6    Government spending\n",
       "7                 Health\n",
       "8                Mapping\n",
       "9                Society\n",
       "10      Towns and cities\n",
       "11             Transport"
      ]
     },
     "execution_count": 151,
     "metadata": {},
     "output_type": "execute_result"
    }
   ],
   "source": [
    "# This is the url you will scrape in this exercise\n",
    "url = 'https://data.gov.uk/'\n",
    "\n",
    "html = requests.get(url).content\n",
    "soup = BeautifulSoup(html, \"lxml\")\n",
    "results = [data.a.text for data in soup.find_all('h2')]\n",
    "govData = pd.DataFrame({'Category':results})\n",
    "govData"
   ]
  },
  {
   "cell_type": "markdown",
   "metadata": {},
   "source": [
    "#### Top 10 languages by number of native speakers stored in a Pandas Dataframe"
   ]
  },
  {
   "cell_type": "code",
   "execution_count": 176,
   "metadata": {},
   "outputs": [],
   "source": [
    "# This is the url you will scrape in this exercise\n",
    "url = 'https://en.wikipedia.org/wiki/List_of_languages_by_number_of_native_speakers'\n",
    "\n",
    "html = requests.get(url).content\n",
    "soup = BeautifulSoup(html, \"lxml\")\n",
    "soup = soup.find_all('table', {'class':'wikitable sortable'})\n",
    "pandasHtml = pd.read_html(html, attrs = {'class':'wikitable sortable'}, header = 0)"
   ]
  },
  {
   "cell_type": "code",
   "execution_count": 188,
   "metadata": {},
   "outputs": [
    {
     "data": {
      "text/html": [
       "<div>\n",
       "<style scoped>\n",
       "    .dataframe tbody tr th:only-of-type {\n",
       "        vertical-align: middle;\n",
       "    }\n",
       "\n",
       "    .dataframe tbody tr th {\n",
       "        vertical-align: top;\n",
       "    }\n",
       "\n",
       "    .dataframe thead th {\n",
       "        text-align: right;\n",
       "    }\n",
       "</style>\n",
       "<table border=\"1\" class=\"dataframe\">\n",
       "  <thead>\n",
       "    <tr style=\"text-align: right;\">\n",
       "      <th></th>\n",
       "      <th>Language</th>\n",
       "      <th>Native Speakers in Millions\n",
       " 2007\n",
       " (2010)</th>\n",
       "      <th>Percentage of world population \n",
       " (2007)</th>\n",
       "    </tr>\n",
       "    <tr>\n",
       "      <th>Rank</th>\n",
       "      <th></th>\n",
       "      <th></th>\n",
       "      <th></th>\n",
       "    </tr>\n",
       "  </thead>\n",
       "  <tbody>\n",
       "    <tr>\n",
       "      <th>1</th>\n",
       "      <td>Mandarin (entire branch)</td>\n",
       "      <td>935 (955)</td>\n",
       "      <td>14.1%</td>\n",
       "    </tr>\n",
       "    <tr>\n",
       "      <th>2</th>\n",
       "      <td>Spanish</td>\n",
       "      <td>390 (405)</td>\n",
       "      <td>5.85%</td>\n",
       "    </tr>\n",
       "    <tr>\n",
       "      <th>3</th>\n",
       "      <td>English</td>\n",
       "      <td>365 (360)</td>\n",
       "      <td>5.52%</td>\n",
       "    </tr>\n",
       "    <tr>\n",
       "      <th>4</th>\n",
       "      <td>Hindi[b]</td>\n",
       "      <td>295 (310)</td>\n",
       "      <td>4.46%</td>\n",
       "    </tr>\n",
       "    <tr>\n",
       "      <th>5</th>\n",
       "      <td>Arabic</td>\n",
       "      <td>280 (295)</td>\n",
       "      <td>4.23%</td>\n",
       "    </tr>\n",
       "    <tr>\n",
       "      <th>6</th>\n",
       "      <td>Portuguese</td>\n",
       "      <td>205 (215)</td>\n",
       "      <td>3.08%</td>\n",
       "    </tr>\n",
       "    <tr>\n",
       "      <th>7</th>\n",
       "      <td>Bengali (Bangla)</td>\n",
       "      <td>200 (205)</td>\n",
       "      <td>3.05%</td>\n",
       "    </tr>\n",
       "    <tr>\n",
       "      <th>8</th>\n",
       "      <td>Russian</td>\n",
       "      <td>160 (155)</td>\n",
       "      <td>2.42%</td>\n",
       "    </tr>\n",
       "    <tr>\n",
       "      <th>9</th>\n",
       "      <td>Japanese</td>\n",
       "      <td>125 (125)</td>\n",
       "      <td>1.92%</td>\n",
       "    </tr>\n",
       "    <tr>\n",
       "      <th>10</th>\n",
       "      <td>Punjabi</td>\n",
       "      <td>95 (100)</td>\n",
       "      <td>1.44%</td>\n",
       "    </tr>\n",
       "  </tbody>\n",
       "</table>\n",
       "</div>"
      ],
      "text/plain": [
       "                      Language Native Speakers in Millions\\n 2007\\n (2010)  \\\n",
       "Rank                                                                         \n",
       "1     Mandarin (entire branch)                                   935 (955)   \n",
       "2                      Spanish                                   390 (405)   \n",
       "3                      English                                   365 (360)   \n",
       "4                     Hindi[b]                                   295 (310)   \n",
       "5                       Arabic                                   280 (295)   \n",
       "6                   Portuguese                                   205 (215)   \n",
       "7             Bengali (Bangla)                                   200 (205)   \n",
       "8                      Russian                                   160 (155)   \n",
       "9                     Japanese                                   125 (125)   \n",
       "10                     Punjabi                                    95 (100)   \n",
       "\n",
       "     Percentage of world population \\n (2007)  \n",
       "Rank                                           \n",
       "1                                       14.1%  \n",
       "2                                       5.85%  \n",
       "3                                       5.52%  \n",
       "4                                       4.46%  \n",
       "5                                       4.23%  \n",
       "6                                       3.08%  \n",
       "7                                       3.05%  \n",
       "8                                       2.42%  \n",
       "9                                       1.92%  \n",
       "10                                      1.44%  "
      ]
     },
     "execution_count": 188,
     "metadata": {},
     "output_type": "execute_result"
    }
   ],
   "source": [
    "#your code\n",
    "colnames = ['Language', 'Native Speakers in Millions\\n 2007\\n (2010)',\n",
    "           'Percentage of world population \\n (2007)']\n",
    "results = pd.DataFrame(pandasHtml[1]).set_index('Rank', drop=True)\n",
    "results.columns = colnames\n",
    "finalResults = results.head(10)\n",
    "finalResults"
   ]
  },
  {
   "cell_type": "markdown",
   "metadata": {},
   "source": [
    "### BONUS QUESTIONS"
   ]
  },
  {
   "cell_type": "markdown",
   "metadata": {},
   "source": [
    "#### Scrape a certain number of tweets of a given Twitter account."
   ]
  },
  {
   "cell_type": "code",
   "execution_count": null,
   "metadata": {},
   "outputs": [],
   "source": [
    "# This is the url you will scrape in this exercise \n",
    "# You will need to add the account credentials to this url\n",
    "url = 'https://twitter.com/'"
   ]
  },
  {
   "cell_type": "code",
   "execution_count": null,
   "metadata": {},
   "outputs": [],
   "source": [
    "# your code\n"
   ]
  },
  {
   "cell_type": "markdown",
   "metadata": {},
   "source": [
    "#### IMDB's Top 250 data (movie name, Initial release, director name and stars) as a pandas dataframe"
   ]
  },
  {
   "cell_type": "code",
   "execution_count": null,
   "metadata": {},
   "outputs": [],
   "source": [
    "# This is the url you will scrape in this exercise \n",
    "url = 'https://www.imdb.com/chart/top'"
   ]
  },
  {
   "cell_type": "code",
   "execution_count": null,
   "metadata": {},
   "outputs": [],
   "source": [
    "# your code"
   ]
  },
  {
   "cell_type": "markdown",
   "metadata": {},
   "source": [
    "#### Movie name, year and a brief summary of the top 10 random movies (IMDB) as a pandas dataframe."
   ]
  },
  {
   "cell_type": "code",
   "execution_count": null,
   "metadata": {},
   "outputs": [],
   "source": [
    "#This is the url you will scrape in this exercise\n",
    "url = 'http://www.imdb.com/chart/top'"
   ]
  },
  {
   "cell_type": "code",
   "execution_count": null,
   "metadata": {},
   "outputs": [],
   "source": [
    "#your code"
   ]
  },
  {
   "cell_type": "markdown",
   "metadata": {},
   "source": [
    "#### Find the live weather report (temperature, wind speed, description and weather) of a given city."
   ]
  },
  {
   "cell_type": "code",
   "execution_count": null,
   "metadata": {},
   "outputs": [],
   "source": [
    "#https://openweathermap.org/current\n",
    "city = city=input('Enter the city:')\n",
    "url = 'http://api.openweathermap.org/data/2.5/weather?'+'q='+city+'&APPID=b35975e18dc93725acb092f7272cc6b8&units=metric'"
   ]
  },
  {
   "cell_type": "code",
   "execution_count": null,
   "metadata": {},
   "outputs": [],
   "source": [
    "# your code"
   ]
  },
  {
   "cell_type": "markdown",
   "metadata": {},
   "source": [
    "#### Book name,price and stock availability as a pandas dataframe."
   ]
  },
  {
   "cell_type": "code",
   "execution_count": null,
   "metadata": {},
   "outputs": [],
   "source": [
    "# This is the url you will scrape in this exercise. \n",
    "# It is a fictional bookstore created to be scraped. \n",
    "url = 'http://books.toscrape.com/'"
   ]
  },
  {
   "cell_type": "code",
   "execution_count": null,
   "metadata": {},
   "outputs": [],
   "source": [
    "#your code"
   ]
  }
 ],
 "metadata": {
  "kernelspec": {
   "display_name": "Python 3",
   "language": "python",
   "name": "python3"
  },
  "language_info": {
   "codemirror_mode": {
    "name": "ipython",
    "version": 3
   },
   "file_extension": ".py",
   "mimetype": "text/x-python",
   "name": "python",
   "nbconvert_exporter": "python",
   "pygments_lexer": "ipython3",
   "version": "3.7.0"
  }
 },
 "nbformat": 4,
 "nbformat_minor": 2
}
