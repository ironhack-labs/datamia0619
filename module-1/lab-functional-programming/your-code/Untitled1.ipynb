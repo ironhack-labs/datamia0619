{
 "cells": [
  {
   "cell_type": "code",
   "execution_count": 6,
   "metadata": {},
   "outputs": [
    {
     "name": "stdout",
     "output_type": "stream",
     "text": [
      "Days to get out of the well :  11\n"
     ]
    }
   ],
   "source": [
    "well_height = 125\n",
    "daily_advance = 30\n",
    "night_retreat = 20\n",
    "advance_24hrs = daily_advance - night_retreat\n",
    "accumulated_distance = 0\n",
    "days = 0\n",
    "\n",
    "while accumulated_distance + daily_advance <= well_height:\n",
    "    accumulated_distance = accumulated_distance + advance_24hrs\n",
    "    days += 1 # number of full (24-hour) days spent in attempts to reach the top.\n",
    "days = days + 1 # adding 1 to count the next daily advance when the snail actually reaches the top and doesn't slide down. \n",
    "print(\"Days to get out of the well : \", days)"
   ]
  },
  {
   "cell_type": "code",
   "execution_count": null,
   "metadata": {},
   "outputs": [],
   "source": []
  }
 ],
 "metadata": {
  "kernelspec": {
   "display_name": "Python 3",
   "language": "python",
   "name": "python3"
  },
  "language_info": {
   "codemirror_mode": {
    "name": "ipython",
    "version": 3
   },
   "file_extension": ".py",
   "mimetype": "text/x-python",
   "name": "python",
   "nbconvert_exporter": "python",
   "pygments_lexer": "ipython3",
   "version": "3.7.3"
  }
 },
 "nbformat": 4,
 "nbformat_minor": 2
}
