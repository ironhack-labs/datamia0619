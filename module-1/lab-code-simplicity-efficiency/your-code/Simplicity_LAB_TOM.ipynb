{
 "cells": [
  {
   "cell_type": "code",
   "execution_count": null,
   "metadata": {},
   "outputs": [],
   "source": [
    "###CHALLENGE 1###"
   ]
  },
  {
   "cell_type": "code",
   "execution_count": 7,
   "metadata": {},
   "outputs": [
    {
     "name": "stdout",
     "output_type": "stream",
     "text": [
      "Welcome to this calculator!\n",
      "It can add and subtract ANY NUMBER\n",
      "Please choose your first number: 1\n",
      "What do you want to do? + or _: -\n",
      "Please choose your second number: 1\n",
      "0.0\n",
      "Thanks for using this calculator, goodbye :)\n"
     ]
    }
   ],
   "source": [
    "\n",
    "print('Welcome to this calculator!')\n",
    "print('It can add and subtract ANY NUMBER')\n",
    "a = float(input('Please choose your first number: '))\n",
    "b = input('What do you want to do? + or -: ')\n",
    "c = float(input('Please choose your second number: '))\n",
    "\n",
    "result = None\n",
    "\n",
    "while result == None:\n",
    "    if b == '+': \n",
    "        result = a + c\n",
    "        print(result)\n",
    "    if b == '-': \n",
    "        result = a - c\n",
    "        print(result)\n",
    "\n",
    "\n",
    "print(\"Thanks for using this calculator, goodbye :)\")"
   ]
  },
  {
   "cell_type": "code",
   "execution_count": null,
   "metadata": {},
   "outputs": [],
   "source": []
  },
  {
   "cell_type": "code",
   "execution_count": null,
   "metadata": {},
   "outputs": [],
   "source": [
    "###CHALLENGE 2###"
   ]
  },
  {
   "cell_type": "code",
   "execution_count": 23,
   "metadata": {},
   "outputs": [],
   "source": [
    "import random \n",
    "import string\n",
    "\n",
    "\n",
    "def RSG(mi,ma,n):\n",
    "    strings = ''\n",
    "    ls = []\n",
    "    for i in range(n):\n",
    "        for i in range(random.randint(mi,ma)):\n",
    "            strings += random.choice((string.ascii_lowercase + string.digits))\n",
    "        ls.append(strings)\n",
    "        strings = ''\n",
    "    return ls\n"
   ]
  },
  {
   "cell_type": "code",
   "execution_count": 24,
   "metadata": {},
   "outputs": [
    {
     "data": {
      "text/plain": [
       "['f8', '0', 'vdq', 'igs', '9', 'h', 'hz', 't2j', 'k83', 'yy']"
      ]
     },
     "execution_count": 24,
     "metadata": {},
     "output_type": "execute_result"
    }
   ],
   "source": [
    "RSG(1,5,10)"
   ]
  },
  {
   "cell_type": "code",
   "execution_count": null,
   "metadata": {},
   "outputs": [],
   "source": []
  },
  {
   "cell_type": "code",
   "execution_count": null,
   "metadata": {},
   "outputs": [],
   "source": [
    "###CHALLENGE 3 ###"
   ]
  },
  {
   "cell_type": "code",
   "execution_count": 6,
   "metadata": {},
   "outputs": [],
   "source": [
    "import time\n",
    "from itertools import product"
   ]
  },
  {
   "cell_type": "code",
   "execution_count": 7,
   "metadata": {},
   "outputs": [
    {
     "name": "stdout",
     "output_type": "stream",
     "text": [
      "What is the maximal length of the triangle side? Enter a number: 100\n",
      "--- 0.20665335655212402 seconds ---\n",
      "The longest side possible is 97\n"
     ]
    }
   ],
   "source": [
    "\n",
    "def my_function(X):\n",
    "    start = time.time()\n",
    "    solutions = []\n",
    "    for x,y,z in product(range(5, X), range(4, X), range(3, X)):\n",
    "        if (x*x==y*y+z*z):\n",
    "            solutions.append(max([x, y, z]))\n",
    "    print(\"--- %s seconds ---\" % (time.time() - start))\n",
    "    return(max(solutions))\n",
    "\n",
    "X = input(\"What is the maximal length of the triangle side? Enter a number: \")\n",
    "print(\"The longest side possible is \" + str(my_function(int(X))))"
   ]
  },
  {
   "cell_type": "code",
   "execution_count": null,
   "metadata": {},
   "outputs": [],
   "source": []
  },
  {
   "cell_type": "code",
   "execution_count": 8,
   "metadata": {},
   "outputs": [
    {
     "name": "stdout",
     "output_type": "stream",
     "text": [
      "What is the maximal length of the triangle side? Enter a number: 100\n",
      "--- 0.006624937057495117 seconds ---\n",
      "The longest side possible is 5\n"
     ]
    }
   ],
   "source": [
    "def my_function(X):\n",
    "   start_time = time.time()\n",
    "   solutions = []\n",
    "   for x,y,z in product(range(5, X),range(4, X),(3, X)):\n",
    "       if (x*x==y*y+z*z):\n",
    "           solutions.append(max([x, y, z]))\n",
    "   print(\"--- %s seconds ---\" % (time.time() - start_time))\n",
    "   return(max(solutions))\n",
    "\n",
    "\n",
    "X = input(\"What is the maximal length of the triangle side? Enter a number: \")\n",
    "print(\"The longest side possible is \" + str(my_function(int(X))))"
   ]
  },
  {
   "cell_type": "code",
   "execution_count": null,
   "metadata": {},
   "outputs": [],
   "source": []
  },
  {
   "cell_type": "code",
   "execution_count": null,
   "metadata": {},
   "outputs": [],
   "source": [
    "\n"
   ]
  },
  {
   "cell_type": "code",
   "execution_count": null,
   "metadata": {},
   "outputs": [],
   "source": []
  }
 ],
 "metadata": {
  "kernelspec": {
   "display_name": "Python 3",
   "language": "python",
   "name": "python3"
  },
  "language_info": {
   "codemirror_mode": {
    "name": "ipython",
    "version": 3
   },
   "file_extension": ".py",
   "mimetype": "text/x-python",
   "name": "python",
   "nbconvert_exporter": "python",
   "pygments_lexer": "ipython3",
   "version": "3.7.1"
  }
 },
 "nbformat": 4,
 "nbformat_minor": 2
}
