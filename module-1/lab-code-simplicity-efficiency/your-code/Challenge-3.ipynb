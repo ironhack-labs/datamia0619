{
 "cells": [
  {
   "cell_type": "code",
   "execution_count": 1,
   "metadata": {},
   "outputs": [
    {
     "name": "stdout",
     "output_type": "stream",
     "text": [
      "What is the maximal length of the triangle side? Enter a number: 500\n",
      "--- 45.9419891834259 seconds ---\n",
      "The longest side possible is 495\n"
     ]
    }
   ],
   "source": [
    "#original solution. Checking the time it takes to implement\n",
    "import time\n",
    "def my_function(X):\n",
    "   start_time = time.time()\n",
    "   solutions = []\n",
    "   for x in range(5, X):\n",
    "       for y in range(4, X):\n",
    "           for z in range(3, X):\n",
    "               if (x*x==y*y+z*z):\n",
    "                 solutions.append([x, y, z])\n",
    "   m = 0\n",
    "   for solution in solutions:\n",
    "       if m < max(solution):\n",
    "           m = max(solution)\n",
    "   print(\"--- %s seconds ---\" % (time.time() - start_time))\n",
    "   return m\n",
    "\n",
    "X = input(\"What is the maximal length of the triangle side? Enter a number: \")\n",
    "\n",
    "print(\"The longest side possible is \" + str(my_function(int(X))))"
   ]
  },
  {
   "cell_type": "code",
   "execution_count": 2,
   "metadata": {},
   "outputs": [
    {
     "name": "stdout",
     "output_type": "stream",
     "text": [
      "What is the maximal length of the triangle side? Enter a number: 500\n",
      "47.15338659286499\n",
      "The longest side possible is 495\n"
     ]
    }
   ],
   "source": [
    "import time \n",
    "\n",
    "def my_function(X):\n",
    "    start = time.time()\n",
    "    solutions = [max([x, y, z]) for x in range(5, X) for y in range(4, X) for z in range(3, X) if (x*x==y*y+z*z) ]\n",
    "    print(time.time() - start)\n",
    "    return max(solutions)\n",
    "\n",
    "X = input(\"What is the maximal length of the triangle side? Enter a number: \")\n",
    "\n",
    "print(\"The longest side possible is \" + str(my_function(int(X))))"
   ]
  },
  {
   "cell_type": "code",
   "execution_count": 3,
   "metadata": {},
   "outputs": [
    {
     "name": "stdout",
     "output_type": "stream",
     "text": [
      "What is the maximal length of the triangle side? Enter a number: 500\n",
      "--- 49.104893922805786 seconds ---\n",
      "The longest side possible is 495\n"
     ]
    }
   ],
   "source": [
    "import time\n",
    "from itertools import product\n",
    "\n",
    "def my_function(X):\n",
    "   start_time = time.time()\n",
    "   solutions = []\n",
    "   for x,y,z in product(range(5, X),range(4, X),range(3, X)):\n",
    "       if (x*x==y*y+z*z):\n",
    "           solutions.append(max([x, y, z]))\n",
    "   print(\"--- %s seconds ---\" % (time.time() - start_time))\n",
    "   return(max(solutions))\n",
    "X = input(\"What is the maximal length of the triangle side? Enter a number: \")\n",
    "print(\"The longest side possible is \" + str(my_function(int(X))))"
   ]
  },
  {
   "cell_type": "code",
   "execution_count": null,
   "metadata": {},
   "outputs": [],
   "source": []
  }
 ],
 "metadata": {
  "kernelspec": {
   "display_name": "Python 3",
   "language": "python",
   "name": "python3"
  },
  "language_info": {
   "codemirror_mode": {
    "name": "ipython",
    "version": 3
   },
   "file_extension": ".py",
   "mimetype": "text/x-python",
   "name": "python",
   "nbconvert_exporter": "python",
   "pygments_lexer": "ipython3",
   "version": "3.7.3"
  }
 },
 "nbformat": 4,
 "nbformat_minor": 2
}
