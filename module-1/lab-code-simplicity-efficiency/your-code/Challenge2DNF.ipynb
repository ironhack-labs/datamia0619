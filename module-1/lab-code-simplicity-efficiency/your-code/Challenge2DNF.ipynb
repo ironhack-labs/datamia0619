{
 "cells": [
  {
   "cell_type": "code",
   "execution_count": 37,
   "metadata": {},
   "outputs": [
    {
     "name": "stdout",
     "output_type": "stream",
     "text": [
      "Enter minimum string length: 3\n",
      "Enter maximum string length: 9\n",
      "How many random strings to generate? 7\n",
      "belb\n",
      "eip9ykxrv\n",
      "d974rvk2q\n",
      "jjnq0gu\n",
      "sm0b9cc\n",
      "3x1uyogj\n",
      "2qt5r\n"
     ]
    }
   ],
   "source": [
    "\"\"\"\n",
    "The code below generates a given number of random strings that consists of numbers and \n",
    "lower case English letters. You can also define the range of the variable lengths of\n",
    "the strings being generated.\n",
    "\n",
    "The code is functional but has a lot of room for improvement. Use what you have learned\n",
    "about simple and efficient code, refactor the code.\n",
    "\"\"\"\n",
    "\n",
    "from random import randint\n",
    "\n",
    "import random\n",
    "from string import digits, ascii_lowercase\n",
    "\n",
    "legals = digits + ascii_lowercase\n",
    "def rand_string(str_size, char_set=legals):\n",
    "    s = ''\n",
    "    for i in range(0,str_size):\n",
    "        s += random.choice(char_set)\n",
    "    return s\n",
    "\n",
    "# rand_string(range(mini,maxi))\n",
    "mini = int(input('Enter minimum string length: '))\n",
    "maxi = int(input('Enter maximum string length: '))\n",
    "strings = int(input('How many random strings to generate? '))\n",
    "\n",
    "for i in range(strings):\n",
    "    print(rand_string(randint(mini,maxi)))"
   ]
  },
  {
   "cell_type": "code",
   "execution_count": 36,
   "metadata": {},
   "outputs": [
    {
     "name": "stdout",
     "output_type": "stream",
     "text": [
      "0\n",
      "1\n",
      "2\n"
     ]
    }
   ],
   "source": [
    "x=3\n",
    "for i in range(0,x):\n",
    "    print(i)"
   ]
  },
  {
   "cell_type": "code",
   "execution_count": 30,
   "metadata": {},
   "outputs": [
    {
     "data": {
      "text/plain": [
       "int"
      ]
     },
     "execution_count": 30,
     "metadata": {},
     "output_type": "execute_result"
    }
   ],
   "source": [
    "type(mini)"
   ]
  },
  {
   "cell_type": "code",
   "execution_count": null,
   "metadata": {},
   "outputs": [],
   "source": [
    "range(mini,maxi)"
   ]
  },
  {
   "cell_type": "code",
   "execution_count": null,
   "metadata": {},
   "outputs": [],
   "source": []
  }
 ],
 "metadata": {
  "kernelspec": {
   "display_name": "Python 3",
   "language": "python",
   "name": "python3"
  },
  "language_info": {
   "codemirror_mode": {
    "name": "ipython",
    "version": 3
   },
   "file_extension": ".py",
   "mimetype": "text/x-python",
   "name": "python",
   "nbconvert_exporter": "python",
   "pygments_lexer": "ipython3",
   "version": "3.7.3"
  }
 },
 "nbformat": 4,
 "nbformat_minor": 2
}
