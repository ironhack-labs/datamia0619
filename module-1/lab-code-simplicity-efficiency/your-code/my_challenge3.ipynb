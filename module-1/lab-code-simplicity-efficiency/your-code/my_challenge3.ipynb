{
 "cells": [
  {
   "cell_type": "code",
   "execution_count": null,
   "metadata": {},
   "outputs": [],
   "source": [
    "\"\"\"\n",
    "You are presented with an integer number larger than 5. Your goal is to identify the longest side\n",
    "possible in a right triangle whose sides are not longer than the number you are given.\n",
    "\n",
    "For example, if you are given the number 15, there are 3 possibilities to compose right triangles:\n",
    "\n",
    "1. [3, 4, 5]\n",
    "2. [6, 8, 10]\n",
    "3. [5, 12, 13]\n",
    "\n",
    "The following function shows one way to solve the problem but the code is not ideal or efficient.\n",
    "Refactor the code based on what you have learned about code simplicity and efficiency.\n",
    "\"\"\"\n",
    "\n",
    "def my_function(X):\n",
    "    solutions = []\n",
    "    for x in range(5, X):\n",
    "        for y in range(4, X):\n",
    "            for z in range(3, X):\n",
    "                if (x*x==y*y+z*z):\n",
    "                  solutions.append([x, y, z])\n",
    "    m = 0\n",
    "    for solution in solutions:\n",
    "        if m < max(solution):\n",
    "            m = max(solution)\n",
    "    return m\n",
    "\n",
    "X = input(\"What is the maximal length of the triangle side? Enter a number: \")\n",
    "\n",
    "print(\"The longest side possible is \" + str(my_function(int(X))))\n",
    "\n"
   ]
  },
  {
   "cell_type": "code",
   "execution_count": null,
   "metadata": {},
   "outputs": [],
   "source": [
    "import math\n",
    "\n",
    "# Assume we are always given an integer\n",
    "x = int(input(\"What is the maximal length of the triangle side? Enter a number: \"))\n",
    "\n",
    "def my_function(X):\n",
    "    # The largest tested value; must be smaller than the original value\n",
    "    X -= 1\n",
    "    # The 2nd largest value which is smaller than X\n",
    "    Y = X - 1\n",
    "    # Test if the 3rd side would be an integer\n",
    "    Z = math.sqrt(X**2 - Y**2)\n",
    "    while (Z % 1 != 0):\n",
    "        # If no valid triple found, try next largest X value\n",
    "        if Z > Y:\n",
    "            return my_function(X)\n",
    "        # Otherwise, try next largest Y value and run the while loop again\n",
    "        else:\n",
    "            #print(X, Y, Z) # for debugging\n",
    "            Y -= 1\n",
    "            Z = math.sqrt(X**2 - Y**2)\n",
    "    return X\n",
    "\n",
    "print(\"The longest side possible is\", my_function(x))"
   ]
  },
  {
   "cell_type": "code",
   "execution_count": null,
   "metadata": {},
   "outputs": [],
   "source": []
  }
 ],
 "metadata": {
  "kernelspec": {
   "display_name": "Python 3",
   "language": "python",
   "name": "python3"
  },
  "language_info": {
   "codemirror_mode": {
    "name": "ipython",
    "version": 3
   },
   "file_extension": ".py",
   "mimetype": "text/x-python",
   "name": "python",
   "nbconvert_exporter": "python",
   "pygments_lexer": "ipython3",
   "version": "3.7.3"
  }
 },
 "nbformat": 4,
 "nbformat_minor": 2
}
