{
 "cells": [
  {
   "cell_type": "code",
   "execution_count": 1,
   "metadata": {},
   "outputs": [
    {
     "name": "stdout",
     "output_type": "stream",
     "text": [
      "Welcome to this calculator!\n",
      "It can add and subtract whole numbers from zero to five.\n"
     ]
    }
   ],
   "source": [
    "print('Welcome to this calculator!\\nIt can add and subtract whole numbers from zero to five.')"
   ]
  },
  {
   "cell_type": "code",
   "execution_count": 6,
   "metadata": {},
   "outputs": [
    {
     "name": "stdout",
     "output_type": "stream",
     "text": [
      "Please choose your first number (zero to five): one\n",
      "What do you want to do? plus or minus: plus\n",
      "Please choose your second number (zero to five): five\n",
      "0\n",
      "Thanks for using this calculator, goodbye :)\n"
     ]
    }
   ],
   "source": [
    "while True:\n",
    "    a = input(\"Please choose your first number (zero to five): \")\n",
    "    if a not in ('zero', 'one', 'two', 'three', 'four', 'five'):\n",
    "        print(\"I am not able to answer this question. Check your input.\")\n",
    "    else:\n",
    "        break\n",
    "while True:\n",
    "    b = input(\"What do you want to do? plus or minus: \")\n",
    "    if b not in ('plus', 'minus'):\n",
    "        print(\"I am not able to answer this question. Check your input.\")\n",
    "    else:\n",
    "        break\n",
    "while True:\n",
    "    c = input(\"Please choose your second number (zero to five): \")\n",
    "    if c not in ('zero', 'one', 'two', 'three', 'four', 'five'):\n",
    "        print(\"I am not able to answer this question. Check your input.\")\n",
    "    else:\n",
    "        break\n",
    "if a or c == 'zero':\n",
    "    a = 0\n",
    "    c = 0\n",
    "if a or c == 'one':\n",
    "    a = 1\n",
    "    c = 1\n",
    "if a or c == 'two':\n",
    "    a = 2\n",
    "    c = 2\n",
    "if a or c  == 'three':\n",
    "    a = 3\n",
    "    c = 3\n",
    "if a or c == 'four':\n",
    "    a = 4\n",
    "    c = 4\n",
    "if a or c == 'five':\n",
    "    a = 5\n",
    "    c = 5\n",
    "if b == 'plus':\n",
    "    print(a + c)\n",
    "else:\n",
    "    print(a - c)\n",
    "print(\"Thanks for using this calculator, goodbye :)\")"
   ]
  },
  {
   "cell_type": "code",
   "execution_count": null,
   "metadata": {},
   "outputs": [],
   "source": []
  }
 ],
 "metadata": {
  "kernelspec": {
   "display_name": "Python 3",
   "language": "python",
   "name": "python3"
  },
  "language_info": {
   "codemirror_mode": {
    "name": "ipython",
    "version": 3
   },
   "file_extension": ".py",
   "mimetype": "text/x-python",
   "name": "python",
   "nbconvert_exporter": "python",
   "pygments_lexer": "ipython3",
   "version": "3.7.3"
  }
 },
 "nbformat": 4,
 "nbformat_minor": 2
}
