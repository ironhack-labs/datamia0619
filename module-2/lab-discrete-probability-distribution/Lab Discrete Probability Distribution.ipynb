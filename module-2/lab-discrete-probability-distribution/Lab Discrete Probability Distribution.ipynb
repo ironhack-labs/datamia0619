{
 "cells": [
  {
   "cell_type": "markdown",
   "metadata": {},
   "source": [
    "# Before your start:\n",
    "\n",
    "    Read the README.md file\n",
    "    Comment as much as you can and use the resources (README.md file)\n",
    "    Happy learning!"
   ]
  },
  {
   "cell_type": "raw",
   "metadata": {},
   "source": [
    "Please note: All calculations must be done in python. \n",
    "Please round the final answer to three decimal places. "
   ]
  },
  {
   "cell_type": "markdown",
   "metadata": {},
   "source": [
    "## Bernoulli's Distribution"
   ]
  },
  {
   "cell_type": "raw",
   "metadata": {},
   "source": [
    "In a basket containing apples and oranges, there are 60 apples and 40 oranges. "
   ]
  },
  {
   "cell_type": "raw",
   "metadata": {},
   "source": [
    "A fruit is picked randomly from the basket. \n",
    "1. What is the probability that the fruit is apple?\n",
    "2. What is the probability that it is an orange?\n",
    "\n"
   ]
  },
  {
   "cell_type": "code",
   "execution_count": 4,
   "metadata": {},
   "outputs": [],
   "source": [
    "p = 0.6 # probability that the fruit is an apple \n",
    "q = 0.4 # probability that the fruit is an orange"
   ]
  },
  {
   "cell_type": "raw",
   "metadata": {},
   "source": [
    "Now we take a random sample of 20 fruits with replacement. \n",
    "What is the probability that the first 5 fruits are apples?\n",
    "Hint: (p**5)*(q**15)\n",
    "* first = would not meet criteria for bernoulli experiment "
   ]
  },
  {
   "cell_type": "markdown",
   "metadata": {},
   "source": [
    "$$f(r;p) = p^r(1-p)^{n-r},\\text{       for }r\\in\\{0,1\\}$$"
   ]
  },
  {
   "cell_type": "code",
   "execution_count": 88,
   "metadata": {},
   "outputs": [
    {
     "data": {
      "text/plain": [
       "8.349416423424006e-08"
      ]
     },
     "execution_count": 88,
     "metadata": {},
     "output_type": "execute_result"
    }
   ],
   "source": [
    "##Your solution here\n",
    "bernoulliProbability = (p**5) * (q**15)\n",
    "bernoulliProbability"
   ]
  },
  {
   "cell_type": "code",
   "execution_count": 104,
   "metadata": {},
   "outputs": [
    {
     "name": "stdout",
     "output_type": "stream",
     "text": [
      "0.0012944935222876511\n"
     ]
    }
   ],
   "source": [
    "from scipy.stats import bernoulli\n",
    "\n",
    "print(binom(20, p).pmf(5))"
   ]
  },
  {
   "cell_type": "markdown",
   "metadata": {},
   "source": [
    "## Binomial Distribution"
   ]
  },
  {
   "cell_type": "raw",
   "metadata": {},
   "source": [
    "Similar to the above problem, this time again we pick 20 fruits. \n",
    "What is the probability that this time we picked 5 apples and 15 oranges?\n",
    "Please note that this time we are not asking specifically about the \n",
    "first picks!!"
   ]
  },
  {
   "cell_type": "markdown",
   "metadata": {},
   "source": [
    "$$_nC_r = \\frac{nCr}{r!} = \\frac{n!}{r!(n - r)!}$$\n",
    "$$P(X) =  _nC_r \\cdot p^r \\cdot q^(n-r)$$\n"
   ]
  },
  {
   "cell_type": "code",
   "execution_count": 37,
   "metadata": {},
   "outputs": [],
   "source": [
    "##Your solutionm here\n",
    "from math import factorial as fact\n",
    "\n",
    "def binomialProbability(sampleSize, success, p, q):\n",
    "    nchooser = fact(sampleSize) / (fact(success) * fact(sampleSize - success))\n",
    "    pqProduct = (p**success) * (q**(sampleSize - success))\n",
    "    #print(nchooser)\n",
    "    #print(pqProduct)\n",
    "    return nchooser * pqProduct\n"
   ]
  },
  {
   "cell_type": "code",
   "execution_count": 38,
   "metadata": {},
   "outputs": [
    {
     "data": {
      "text/plain": [
       "0.0012944935222876579"
      ]
     },
     "execution_count": 38,
     "metadata": {},
     "output_type": "execute_result"
    }
   ],
   "source": [
    "binomialProbability(sampleSize, success, p, q)"
   ]
  },
  {
   "cell_type": "raw",
   "metadata": {},
   "source": [
    "During the lectures we also talked about CDF \n",
    "Consider the same problem as above except that this time we are \n",
    "interesed in the probability that less than 5 apples were selected. \n",
    "Compute the probability?"
   ]
  },
  {
   "cell_type": "code",
   "execution_count": 67,
   "metadata": {},
   "outputs": [
    {
     "name": "stdout",
     "output_type": "stream",
     "text": [
      "0.0003170311211686301\n"
     ]
    }
   ],
   "source": [
    "##Your solution here \n",
    "%matplotlib inline\n",
    "from scipy import stats\n",
    "from scipy.stats import binom\n",
    "import numpy as np\n",
    "from matplotlib import pyplot as plt\n",
    "\n",
    "n=20\n",
    "p=0.6\n",
    "binomial = binom(n,p)\n",
    "print(binomial.cdf(4))"
   ]
  },
  {
   "cell_type": "raw",
   "metadata": {},
   "source": [
    "Plot the probability distributiom function for the above binomial \n",
    "distribution. \n",
    "Hint: The range of x in a binomial distribution is from 0 to 'n'"
   ]
  },
  {
   "cell_type": "code",
   "execution_count": 66,
   "metadata": {},
   "outputs": [
    {
     "data": {
      "text/plain": [
       "<matplotlib.collections.LineCollection at 0x7fe8ef67b9b0>"
      ]
     },
     "execution_count": 66,
     "metadata": {},
     "output_type": "execute_result"
    },
    {
     "data": {
      "image/png": "[encoded data removed]",
      "text/plain": [
       "<Figure size 432x288 with 1 Axes>"
      ]
     },
     "metadata": {
      "needs_background": "light"
     },
     "output_type": "display_data"
    }
   ],
   "source": [
    "## Your code here\n",
    "import numpy as np\n",
    "from matplotlib import pyplot as plt\n",
    "x = np.arange(0,n)\n",
    "fig, ax = plt.subplots(1, 1)\n",
    "ax.plot(x, binom.pmf(x, n, p), 'bo')\n",
    "ax.vlines(x, 0, binom.pmf(x, n, p), colors='b', lw=5, alpha=0.5)\n",
    "\n"
   ]
  },
  {
   "cell_type": "code",
   "execution_count": null,
   "metadata": {},
   "outputs": [],
   "source": [
    "#Please label the axes and give a title to the plot \n"
   ]
  },
  {
   "cell_type": "markdown",
   "metadata": {},
   "source": [
    "## Poisson Distribution"
   ]
  },
  {
   "cell_type": "raw",
   "metadata": {},
   "source": [
    "In this problem you are required to use the Math library in python to \n",
    "solve the problem"
   ]
  },
  {
   "cell_type": "raw",
   "metadata": {},
   "source": [
    "In the UEFA champions league tournament, the average number of goals \n",
    "scored in a match is 2.3. What is the probability that the number of \n",
    "goals scored in a match is 5?"
   ]
  },
  {
   "cell_type": "raw",
   "metadata": {},
   "source": [
    "Hint: Use the exp() in the math library \n",
    "And to find the factorial, you can use the following code:"
   ]
  },
  {
   "cell_type": "code",
   "execution_count": 70,
   "metadata": {},
   "outputs": [],
   "source": [
    "import math\n",
    "#math.factorial(n)\n",
    "#where n is the number you want to find the factorial of"
   ]
  },
  {
   "cell_type": "markdown",
   "metadata": {},
   "source": [
    "### Poisson Formula\n",
    "P(x; $\\mu$) The <strong>Poisson probability</strong> that exactly x successes occur in a Poisson experiment, when the mean number of successes is $\\mu$.\n",
    "Given the mean number of successes ($\\mu$ = 2.3 goals per match) that occur in a specified region, we can compute the Poisson probability based on the following formula:\n",
    "$$P(x;\\mu) = e^{-\\mu}\\frac{\\mu^x}{x!}$$"
   ]
  },
  {
   "cell_type": "code",
   "execution_count": 74,
   "metadata": {},
   "outputs": [],
   "source": [
    "## Your code here \n",
    "\n",
    "x = 5.0\n",
    "mu = 2.3\n",
    "\n",
    "poissonProbability = math.exp(-mu) * ((mu**x)/fact(x))"
   ]
  },
  {
   "cell_type": "code",
   "execution_count": 75,
   "metadata": {},
   "outputs": [
    {
     "name": "stdout",
     "output_type": "stream",
     "text": [
      "0.05377502558194681\n"
     ]
    }
   ],
   "source": [
    "print(poissonProbability)"
   ]
  },
  {
   "cell_type": "raw",
   "metadata": {},
   "source": [
    "Draw a poisson probability distribution plot for the number of goals \n",
    "to be between 0 to 10"
   ]
  },
  {
   "cell_type": "code",
   "execution_count": 79,
   "metadata": {},
   "outputs": [
    {
     "name": "stdout",
     "output_type": "stream",
     "text": [
      "0.053775025581946814\n",
      "[0 2 0 0 2 1 3 2 1 1]\n"
     ]
    },
    {
     "data": {
      "text/plain": [
       "<matplotlib.collections.LineCollection at 0x7fe8ef5fe358>"
      ]
     },
     "execution_count": 79,
     "metadata": {},
     "output_type": "execute_result"
    },
    {
     "data": {
      "image/png": "[encoded data removed]",
      "text/plain": [
       "<Figure size 432x288 with 1 Axes>"
      ]
     },
     "metadata": {
      "needs_background": "light"
     },
     "output_type": "display_data"
    }
   ],
   "source": [
    "#Please label the axes and give a title to the plot \n",
    "from scipy.stats import poisson\n",
    "param = 2.3\n",
    "po = stats.poisson(param)\n",
    "print(po.pmf(5))     \n",
    "print(po.rvs(10))\n",
    "x = np.arange(0,6)\n",
    "fig, ax = plt.subplots(1, 1)\n",
    "ax.plot(x, poisson.pmf(x, param), 'bo', ms=8, label='poisson pmf')\n",
    "ax.vlines(x, 0, poisson.pmf(x, param), colors='b', lw=5, alpha=0.5)"
   ]
  },
  {
   "cell_type": "code",
   "execution_count": null,
   "metadata": {},
   "outputs": [],
   "source": []
  }
 ],
 "metadata": {
  "kernelspec": {
   "display_name": "Python 3",
   "language": "python",
   "name": "python3"
  },
  "language_info": {
   "codemirror_mode": {
    "name": "ipython",
    "version": 3
   },
   "file_extension": ".py",
   "mimetype": "text/x-python",
   "name": "python",
   "nbconvert_exporter": "python",
   "pygments_lexer": "ipython3",
   "version": "3.7.0"
  }
 },
 "nbformat": 4,
 "nbformat_minor": 2
}
