{
 "cells": [
  {
   "cell_type": "markdown",
   "metadata": {},
   "source": [
    "# Before your start:\n",
    "\n",
    "    Read the README.md file\n",
    "    Comment as much as you can and use the resources (README.md file)\n",
    "    Happy learning!"
   ]
  },
  {
   "cell_type": "markdown",
   "metadata": {},
   "source": [
    "In this exercise, we  will generate random numbers from the continuous disributions we learned in the lesson. There are two ways to generate random numbers:\n",
    "\n",
    "1. Using the numpy library \n",
    "1. using the Scipy library \n",
    "\n",
    "Use either or both of the lbraries in this exercise."
   ]
  },
  {
   "cell_type": "markdown",
   "metadata": {},
   "source": [
    "## Uniform Distribution\n",
    "\n",
    "To generate uniform random numbers between any two given values using scipy, we can either use the following code or the code that we have\n",
    "discussed in class:"
   ]
  },
  {
   "cell_type": "code",
   "execution_count": 9,
   "metadata": {},
   "outputs": [
    {
     "name": "stdout",
     "output_type": "stream",
     "text": [
      "[2.90933569 2.19321988 2.24129823 2.76699986 2.11039008 2.95104921\n",
      " 2.57117711 2.84813151 2.16163078 2.01613559]\n"
     ]
    }
   ],
   "source": [
    "from scipy.stats import uniform\n",
    "x = uniform.rvs(size=10)\n",
    "a = 2\n",
    "b = 3\n",
    "randoms  = a + (b-a)*x\n",
    "print(randoms)"
   ]
  },
  {
   "cell_type": "markdown",
   "metadata": {},
   "source": [
    "**Your task:**\n",
    "\n",
    "1. Based on the code above, write a function that generates uniformly distributed random numbers. There are several requirements for your function:\n",
    "    * It should accept 3 parameters: \n",
    "        * `bottom` - the lower boundary of the generated numbers\n",
    "        * `ceiling` - the upper boundary of the generated numbers\n",
    "        * `count` - how many numbers to generate\n",
    "    * It should return an array of uniformly distributed random numbers\n",
    "\n",
    "1. Call your function with 2 sets of params below:\n",
    "    * bottom=10, ceiling=15, count=100\n",
    "    * bottom=10, ceiling=60, count=1,000\n",
    "\n",
    "1. Plot the uniform distributions generated above using histograms, where x axis is the value and y axis is the count. Let the histogram's number of bins be 10.\n",
    "\n",
    "Your output should look like below:\n",
    "\n",
    "![uniform distribution](ud.png)"
   ]
  },
  {
   "cell_type": "code",
   "execution_count": 43,
   "metadata": {},
   "outputs": [],
   "source": [
    "# your code here\n",
    "import matplotlib.pyplot as plt\n",
    "import numpy as np\n",
    "\n",
    "def uni(lower, upper, count): \n",
    "    from scipy.stats import uniform\n",
    "    \n",
    "    x = uniform.rvs(size=count)\n",
    "    a = lower\n",
    "    b = upper\n",
    "    randoms  = a + (b-a)*x\n",
    "    array = np.array(randoms)\n",
    "    return plt.hist(array, bins=10)"
   ]
  },
  {
   "cell_type": "code",
   "execution_count": 46,
   "metadata": {},
   "outputs": [
    {
     "data": {
      "text/plain": [
       "(array([ 94., 102.,  99., 100.,  90.,  88., 100., 119., 107., 101.]),\n",
       " array([10.00209727, 10.50170981, 11.00132236, 11.5009349 , 12.00054745,\n",
       "        12.50015999, 12.99977254, 13.49938509, 13.99899763, 14.49861018,\n",
       "        14.99822272]),\n",
       " <a list of 10 Patch objects>)"
      ]
     },
     "execution_count": 46,
     "metadata": {},
     "output_type": "execute_result"
    },
    {
     "data": {
      "image/png": "[encoded data removed]",
      "text/plain": [
       "<Figure size 432x288 with 1 Axes>"
      ]
     },
     "metadata": {
      "needs_background": "light"
     },
     "output_type": "display_data"
    }
   ],
   "source": [
    "uni(10,15,1000)"
   ]
  },
  {
   "cell_type": "code",
   "execution_count": 47,
   "metadata": {},
   "outputs": [
    {
     "data": {
      "text/plain": [
       "(array([13., 15.,  7., 12.,  6., 11., 11., 10.,  7.,  8.]),\n",
       " array([10.05546606, 10.54528593, 11.0351058 , 11.52492567, 12.01474555,\n",
       "        12.50456542, 12.99438529, 13.48420516, 13.97402503, 14.4638449 ,\n",
       "        14.95366478]),\n",
       " <a list of 10 Patch objects>)"
      ]
     },
     "execution_count": 47,
     "metadata": {},
     "output_type": "execute_result"
    },
    {
     "data": {
      "image/png": "[encoded data removed]",
      "text/plain": [
       "<Figure size 432x288 with 1 Axes>"
      ]
     },
     "metadata": {
      "needs_background": "light"
     },
     "output_type": "display_data"
    }
   ],
   "source": [
    "uni(10,15,100)"
   ]
  },
  {
   "cell_type": "markdown",
   "metadata": {},
   "source": [
    "How are the two distributions different?"
   ]
  },
  {
   "cell_type": "code",
   "execution_count": 48,
   "metadata": {},
   "outputs": [],
   "source": [
    "# your answer below\n",
    "#with more samples, the higher the sample size, the more the distribution resembles uniform disttribution."
   ]
  },
  {
   "cell_type": "markdown",
   "metadata": {},
   "source": [
    "## Normal Distribution\n",
    "\n",
    "1. In the same way in the Uniform Distribution challenge, write a function that generates normally distributed random numbers.\n",
    "1. Generate 1,000 normally distributed numbers with the average of 10 and standard deviation of 1\n",
    "1. Generate 1,000 normally distributed numbers with the average of 10 and standard deviation of 50\n",
    "2. Plot the distributions of the data generated.\n",
    "\n",
    "Expected output:\n",
    "\n",
    "![normal distribution](nd.png)"
   ]
  },
  {
   "cell_type": "code",
   "execution_count": 68,
   "metadata": {},
   "outputs": [],
   "source": [
    "# your code here\n",
    "\n",
    "def normal(mean, std, count):\n",
    "    from scipy.stats import norm\n",
    "    \n",
    "    x = norm.rvs(size=count)\n",
    "    a = mean\n",
    "    b = std\n",
    "    \n",
    "    function = a + (b-a)*x\n",
    "    array = np.array(function)\n",
    "    \n",
    "    return plt.hist(array,bins=10)\n",
    "    \n",
    "    "
   ]
  },
  {
   "cell_type": "code",
   "execution_count": 70,
   "metadata": {},
   "outputs": [
    {
     "data": {
      "text/plain": [
       "(array([ 11.,  37.,  90., 182., 218., 213., 147.,  67.,  27.,   8.]),\n",
       " array([-15.9467447 , -10.64828031,  -5.34981592,  -0.05135153,\n",
       "          5.24711285,  10.54557724,  15.84404163,  21.14250602,\n",
       "         26.4409704 ,  31.73943479,  37.03789918]),\n",
       " <a list of 10 Patch objects>)"
      ]
     },
     "execution_count": 70,
     "metadata": {},
     "output_type": "execute_result"
    },
    {
     "data": {
      "image/png": "[encoded data removed]",
      "text/plain": [
       "<Figure size 432x288 with 1 Axes>"
      ]
     },
     "metadata": {
      "needs_background": "light"
     },
     "output_type": "display_data"
    }
   ],
   "source": [
    "normal(10,1,1000)"
   ]
  },
  {
   "cell_type": "code",
   "execution_count": 69,
   "metadata": {},
   "outputs": [
    {
     "data": {
      "text/plain": [
       "(array([ 12.,  37.,  97., 195., 239., 223., 114.,  57.,  21.,   5.]),\n",
       " array([-110.92367562,  -85.09107922,  -59.25848281,  -33.42588641,\n",
       "          -7.59329   ,   18.2393064 ,   44.07190281,   69.90449921,\n",
       "          95.73709561,  121.56969202,  147.40228842]),\n",
       " <a list of 10 Patch objects>)"
      ]
     },
     "execution_count": 69,
     "metadata": {},
     "output_type": "execute_result"
    },
    {
     "data": {
      "image/png": "[encoded data removed]",
      "text/plain": [
       "<Figure size 432x288 with 1 Axes>"
      ]
     },
     "metadata": {
      "needs_background": "light"
     },
     "output_type": "display_data"
    }
   ],
   "source": [
    "normal(10,50,1000)"
   ]
  },
  {
   "cell_type": "code",
   "execution_count": null,
   "metadata": {},
   "outputs": [],
   "source": []
  },
  {
   "cell_type": "markdown",
   "metadata": {},
   "source": [
    "How are the two distributions different?"
   ]
  },
  {
   "cell_type": "code",
   "execution_count": 71,
   "metadata": {},
   "outputs": [],
   "source": [
    "# your answer below\n",
    "# they are both normally distributed with a mean of 10, but they have muchdifferent spread/range as their std is different"
   ]
  },
  {
   "cell_type": "markdown",
   "metadata": {},
   "source": [
    "## Normal Distribution of Real Data\n",
    "\n",
    "In this challenge we are going to take a look the real data. We will use vehicles.csv file for this exercise"
   ]
  },
  {
   "cell_type": "code",
   "execution_count": 80,
   "metadata": {},
   "outputs": [
    {
     "data": {
      "text/html": [
       "<div>\n",
       "<style scoped>\n",
       "    .dataframe tbody tr th:only-of-type {\n",
       "        vertical-align: middle;\n",
       "    }\n",
       "\n",
       "    .dataframe tbody tr th {\n",
       "        vertical-align: top;\n",
       "    }\n",
       "\n",
       "    .dataframe thead th {\n",
       "        text-align: right;\n",
       "    }\n",
       "</style>\n",
       "<table border=\"1\" class=\"dataframe\">\n",
       "  <thead>\n",
       "    <tr style=\"text-align: right;\">\n",
       "      <th></th>\n",
       "      <th>Make</th>\n",
       "      <th>Model</th>\n",
       "      <th>Year</th>\n",
       "      <th>Engine Displacement</th>\n",
       "      <th>Cylinders</th>\n",
       "      <th>Transmission</th>\n",
       "      <th>Drivetrain</th>\n",
       "      <th>Vehicle Class</th>\n",
       "      <th>Fuel Type</th>\n",
       "      <th>Fuel Barrels/Year</th>\n",
       "      <th>City MPG</th>\n",
       "      <th>Highway MPG</th>\n",
       "      <th>Combined MPG</th>\n",
       "      <th>CO2 Emission Grams/Mile</th>\n",
       "      <th>Fuel Cost/Year</th>\n",
       "    </tr>\n",
       "  </thead>\n",
       "  <tbody>\n",
       "    <tr>\n",
       "      <th>0</th>\n",
       "      <td>AM General</td>\n",
       "      <td>DJ Po Vehicle 2WD</td>\n",
       "      <td>1984</td>\n",
       "      <td>2.5</td>\n",
       "      <td>4.0</td>\n",
       "      <td>Automatic 3-spd</td>\n",
       "      <td>2-Wheel Drive</td>\n",
       "      <td>Special Purpose Vehicle 2WD</td>\n",
       "      <td>Regular</td>\n",
       "      <td>19.388824</td>\n",
       "      <td>18</td>\n",
       "      <td>17</td>\n",
       "      <td>17</td>\n",
       "      <td>522.764706</td>\n",
       "      <td>1950</td>\n",
       "    </tr>\n",
       "    <tr>\n",
       "      <th>1</th>\n",
       "      <td>AM General</td>\n",
       "      <td>FJ8c Post Office</td>\n",
       "      <td>1984</td>\n",
       "      <td>4.2</td>\n",
       "      <td>6.0</td>\n",
       "      <td>Automatic 3-spd</td>\n",
       "      <td>2-Wheel Drive</td>\n",
       "      <td>Special Purpose Vehicle 2WD</td>\n",
       "      <td>Regular</td>\n",
       "      <td>25.354615</td>\n",
       "      <td>13</td>\n",
       "      <td>13</td>\n",
       "      <td>13</td>\n",
       "      <td>683.615385</td>\n",
       "      <td>2550</td>\n",
       "    </tr>\n",
       "  </tbody>\n",
       "</table>\n",
       "</div>"
      ],
      "text/plain": [
       "         Make              Model  Year  Engine Displacement  Cylinders  \\\n",
       "0  AM General  DJ Po Vehicle 2WD  1984                  2.5        4.0   \n",
       "1  AM General   FJ8c Post Office  1984                  4.2        6.0   \n",
       "\n",
       "      Transmission     Drivetrain                Vehicle Class Fuel Type  \\\n",
       "0  Automatic 3-spd  2-Wheel Drive  Special Purpose Vehicle 2WD   Regular   \n",
       "1  Automatic 3-spd  2-Wheel Drive  Special Purpose Vehicle 2WD   Regular   \n",
       "\n",
       "   Fuel Barrels/Year  City MPG  Highway MPG  Combined MPG  \\\n",
       "0          19.388824        18           17            17   \n",
       "1          25.354615        13           13            13   \n",
       "\n",
       "   CO2 Emission Grams/Mile  Fuel Cost/Year  \n",
       "0               522.764706            1950  \n",
       "1               683.615385            2550  "
      ]
     },
     "execution_count": 80,
     "metadata": {},
     "output_type": "execute_result"
    }
   ],
   "source": [
    "import os\n",
    "import pandas as pd\n",
    "\n",
    "df = pd.read_csv(os.getcwd()+'/vehicles.csv')\n",
    "df.head(2)"
   ]
  },
  {
   "cell_type": "markdown",
   "metadata": {},
   "source": [
    "First import vehicles.csv.\n",
    "Then plot the histograms for the following variables:\n",
    "\n",
    "1. Fuel Barrels/Year"
   ]
  },
  {
   "cell_type": "code",
   "execution_count": 86,
   "metadata": {},
   "outputs": [
    {
     "data": {
      "text/plain": [
       "(array([6.5000e+01, 1.6000e+01, 5.4000e+01, 3.2000e+02, 2.2040e+03,\n",
       "        4.5610e+03, 1.0248e+04, 6.7910e+03, 4.6130e+03, 4.3530e+03,\n",
       "        1.3610e+03, 7.3500e+02, 4.3900e+02, 1.3000e+02, 0.0000e+00,\n",
       "        3.6000e+01, 0.0000e+00, 2.1000e+01, 0.0000e+00, 5.0000e+00]),\n",
       " array([ 0.06      ,  2.41135714,  4.76271429,  7.11407143,  9.46542857,\n",
       "        11.81678571, 14.16814286, 16.5195    , 18.87085714, 21.22221429,\n",
       "        23.57357143, 25.92492857, 28.27628571, 30.62764286, 32.979     ,\n",
       "        35.33035714, 37.68171429, 40.03307143, 42.38442857, 44.73578571,\n",
       "        47.08714286]),\n",
       " <a list of 20 Patch objects>)"
      ]
     },
     "execution_count": 86,
     "metadata": {},
     "output_type": "execute_result"
    },
    {
     "data": {
      "image/png": "[encoded data removed]",
      "text/plain": [
       "<Figure size 432x288 with 1 Axes>"
      ]
     },
     "metadata": {
      "needs_background": "light"
     },
     "output_type": "display_data"
    }
   ],
   "source": [
    "# your code here\n",
    "plt.hist(df['Fuel Barrels/Year'],bins =20)"
   ]
  },
  {
   "cell_type": "markdown",
   "metadata": {},
   "source": [
    "2. CO2 Emission Grams/Mile "
   ]
  },
  {
   "cell_type": "code",
   "execution_count": 87,
   "metadata": {},
   "outputs": [
    {
     "data": {
      "text/plain": [
       "(array([1.300e+01, 2.100e+01, 1.490e+02, 6.830e+02, 3.422e+03, 6.783e+03,\n",
       "        9.421e+03, 5.990e+03, 2.530e+03, 4.295e+03, 1.276e+03, 7.340e+02,\n",
       "        4.430e+02, 1.300e+02, 0.000e+00, 3.600e+01, 0.000e+00, 2.100e+01,\n",
       "        0.000e+00, 5.000e+00]),\n",
       " array([  37.        ,   98.62857143,  160.25714286,  221.88571429,\n",
       "         283.51428571,  345.14285714,  406.77142857,  468.4       ,\n",
       "         530.02857143,  591.65714286,  653.28571429,  714.91428571,\n",
       "         776.54285714,  838.17142857,  899.8       ,  961.42857143,\n",
       "        1023.05714286, 1084.68571429, 1146.31428571, 1207.94285714,\n",
       "        1269.57142857]),\n",
       " <a list of 20 Patch objects>)"
      ]
     },
     "execution_count": 87,
     "metadata": {},
     "output_type": "execute_result"
    },
    {
     "data": {
      "image/png": "[encoded data removed]",
      "text/plain": [
       "<Figure size 432x288 with 1 Axes>"
      ]
     },
     "metadata": {
      "needs_background": "light"
     },
     "output_type": "display_data"
    }
   ],
   "source": [
    "# your code here\n",
    "plt.hist(df['CO2 Emission Grams/Mile'],bins =20)"
   ]
  },
  {
   "cell_type": "markdown",
   "metadata": {},
   "source": [
    "3. Combined MPG"
   ]
  },
  {
   "cell_type": "code",
   "execution_count": 88,
   "metadata": {},
   "outputs": [
    {
     "data": {
      "text/plain": [
       "(array([6.600e+01, 5.720e+02, 3.943e+03, 4.556e+03, 9.261e+03, 6.251e+03,\n",
       "        5.587e+03, 2.345e+03, 1.784e+03, 6.320e+02, 3.450e+02, 2.910e+02,\n",
       "        8.400e+01, 1.260e+02, 4.400e+01, 2.100e+01, 1.800e+01, 1.500e+01,\n",
       "        9.000e+00, 2.000e+00]),\n",
       " array([ 7.  ,  9.45, 11.9 , 14.35, 16.8 , 19.25, 21.7 , 24.15, 26.6 ,\n",
       "        29.05, 31.5 , 33.95, 36.4 , 38.85, 41.3 , 43.75, 46.2 , 48.65,\n",
       "        51.1 , 53.55, 56.  ]),\n",
       " <a list of 20 Patch objects>)"
      ]
     },
     "execution_count": 88,
     "metadata": {},
     "output_type": "execute_result"
    },
    {
     "data": {
      "image/png": "[encoded data removed]",
      "text/plain": [
       "<Figure size 432x288 with 1 Axes>"
      ]
     },
     "metadata": {
      "needs_background": "light"
     },
     "output_type": "display_data"
    }
   ],
   "source": [
    "# your code here\n",
    "plt.hist(df['Combined MPG'],bins =20)"
   ]
  },
  {
   "cell_type": "markdown",
   "metadata": {},
   "source": [
    "Which one(s) of the variables are nearly normally distributed? How do you know?"
   ]
  },
  {
   "cell_type": "code",
   "execution_count": null,
   "metadata": {},
   "outputs": [],
   "source": [
    "# your answer here\n",
    "#they are all close to being normally distributed. bell shaped, not too skewed, mean tendency."
   ]
  },
  {
   "cell_type": "markdown",
   "metadata": {},
   "source": [
    "## Exponential Distribution"
   ]
  },
  {
   "cell_type": "markdown",
   "metadata": {},
   "source": [
    "1. Using `numpy.random.exponential`, create a function that returns a list of numbers exponentially distributed with the mean of 10. \n",
    "\n",
    "1. Use the function to generate two number sequences with the size of 1 and 100.\n",
    "\n",
    "1. Plot the distributions as histograms with the nubmer of bins as 100.\n",
    "\n",
    "Your output should look like below:\n",
    "\n",
    "![exponential distribution](ed.png)"
   ]
  },
  {
   "cell_type": "code",
   "execution_count": 102,
   "metadata": {},
   "outputs": [],
   "source": [
    "# your code here\n",
    "def expo(mean, count):\n",
    "    array = np.random.exponential(mean,count)\n",
    "    return plt.hist(array, bins=100)"
   ]
  },
  {
   "cell_type": "code",
   "execution_count": 107,
   "metadata": {},
   "outputs": [
    {
     "data": {
      "text/plain": [
       "(array([66., 51., 50., 47., 47., 41., 42., 38., 45., 33., 38., 27., 22.,\n",
       "        21., 23., 30., 27., 17., 14., 20., 21., 14., 21.,  9.,  9., 12.,\n",
       "        15., 16., 12., 14., 13.,  8., 10., 10.,  8.,  7.,  5.,  6.,  5.,\n",
       "         3.,  6.,  7.,  1.,  6.,  6.,  2.,  3.,  4.,  3.,  3.,  3.,  4.,\n",
       "         2.,  2.,  2.,  0.,  0.,  2.,  2.,  0.,  3.,  1.,  0.,  0.,  0.,\n",
       "         1.,  1.,  2.,  1.,  0.,  1.,  1.,  1.,  0.,  2.,  0.,  0.,  0.,\n",
       "         1.,  1.,  1.,  0.,  1.,  0.,  1.,  1.,  0.,  0.,  2.,  0.,  0.,\n",
       "         0.,  1.,  0.,  1.,  0.,  0.,  0.,  0.,  1.]),\n",
       " array([1.53800691e-03, 6.15290626e-02, 1.21520118e-01, 1.81511174e-01,\n",
       "        2.41502229e-01, 3.01493285e-01, 3.61484341e-01, 4.21475396e-01,\n",
       "        4.81466452e-01, 5.41457508e-01, 6.01448563e-01, 6.61439619e-01,\n",
       "        7.21430675e-01, 7.81421730e-01, 8.41412786e-01, 9.01403842e-01,\n",
       "        9.61394897e-01, 1.02138595e+00, 1.08137701e+00, 1.14136806e+00,\n",
       "        1.20135912e+00, 1.26135018e+00, 1.32134123e+00, 1.38133229e+00,\n",
       "        1.44132334e+00, 1.50131440e+00, 1.56130545e+00, 1.62129651e+00,\n",
       "        1.68128756e+00, 1.74127862e+00, 1.80126968e+00, 1.86126073e+00,\n",
       "        1.92125179e+00, 1.98124284e+00, 2.04123390e+00, 2.10122495e+00,\n",
       "        2.16121601e+00, 2.22120707e+00, 2.28119812e+00, 2.34118918e+00,\n",
       "        2.40118023e+00, 2.46117129e+00, 2.52116234e+00, 2.58115340e+00,\n",
       "        2.64114446e+00, 2.70113551e+00, 2.76112657e+00, 2.82111762e+00,\n",
       "        2.88110868e+00, 2.94109973e+00, 3.00109079e+00, 3.06108184e+00,\n",
       "        3.12107290e+00, 3.18106396e+00, 3.24105501e+00, 3.30104607e+00,\n",
       "        3.36103712e+00, 3.42102818e+00, 3.48101923e+00, 3.54101029e+00,\n",
       "        3.60100135e+00, 3.66099240e+00, 3.72098346e+00, 3.78097451e+00,\n",
       "        3.84096557e+00, 3.90095662e+00, 3.96094768e+00, 4.02093873e+00,\n",
       "        4.08092979e+00, 4.14092085e+00, 4.20091190e+00, 4.26090296e+00,\n",
       "        4.32089401e+00, 4.38088507e+00, 4.44087612e+00, 4.50086718e+00,\n",
       "        4.56085824e+00, 4.62084929e+00, 4.68084035e+00, 4.74083140e+00,\n",
       "        4.80082246e+00, 4.86081351e+00, 4.92080457e+00, 4.98079562e+00,\n",
       "        5.04078668e+00, 5.10077774e+00, 5.16076879e+00, 5.22075985e+00,\n",
       "        5.28075090e+00, 5.34074196e+00, 5.40073301e+00, 5.46072407e+00,\n",
       "        5.52071513e+00, 5.58070618e+00, 5.64069724e+00, 5.70068829e+00,\n",
       "        5.76067935e+00, 5.82067040e+00, 5.88066146e+00, 5.94065252e+00,\n",
       "        6.00064357e+00]),\n",
       " <a list of 100 Patch objects>)"
      ]
     },
     "execution_count": 107,
     "metadata": {},
     "output_type": "execute_result"
    },
    {
     "data": {
      "image/png": "[encoded data removed]",
      "text/plain": [
       "<Figure size 432x288 with 1 Axes>"
      ]
     },
     "metadata": {
      "needs_background": "light"
     },
     "output_type": "display_data"
    }
   ],
   "source": [
    "expo(1,1000)"
   ]
  },
  {
   "cell_type": "code",
   "execution_count": 108,
   "metadata": {},
   "outputs": [
    {
     "data": {
      "text/plain": [
       "(array([69., 56., 53., 50., 40., 48., 53., 26., 46., 29., 22., 42., 30.,\n",
       "        15., 17., 28., 32., 16., 17., 18., 19., 13., 13., 16., 14., 11.,\n",
       "        10., 18.,  9., 16., 10., 14.,  4.,  8.,  8.,  4.,  4.,  5.,  4.,\n",
       "         5.,  8.,  7.,  5.,  3.,  2.,  5.,  3.,  4.,  2.,  1.,  3.,  4.,\n",
       "         5.,  2.,  2.,  4.,  0.,  1.,  2.,  0.,  3.,  1.,  0.,  0.,  2.,\n",
       "         1.,  1.,  1.,  1.,  2.,  0.,  3.,  0.,  0.,  2.,  0.,  1.,  0.,\n",
       "         1.,  1.,  1.,  1.,  0.,  0.,  1.,  0.,  1.,  0.,  0.,  0.,  0.,\n",
       "         0.,  0.,  0.,  0.,  0.,  0.,  0.,  0.,  1.]),\n",
       " array([1.31794329e-02, 5.99927278e-01, 1.18667512e+00, 1.77342297e+00,\n",
       "        2.36017081e+00, 2.94691866e+00, 3.53366651e+00, 4.12041435e+00,\n",
       "        4.70716220e+00, 5.29391004e+00, 5.88065789e+00, 6.46740573e+00,\n",
       "        7.05415358e+00, 7.64090142e+00, 8.22764927e+00, 8.81439711e+00,\n",
       "        9.40114496e+00, 9.98789280e+00, 1.05746407e+01, 1.11613885e+01,\n",
       "        1.17481363e+01, 1.23348842e+01, 1.29216320e+01, 1.35083799e+01,\n",
       "        1.40951277e+01, 1.46818756e+01, 1.52686234e+01, 1.58553713e+01,\n",
       "        1.64421191e+01, 1.70288669e+01, 1.76156148e+01, 1.82023626e+01,\n",
       "        1.87891105e+01, 1.93758583e+01, 1.99626062e+01, 2.05493540e+01,\n",
       "        2.11361019e+01, 2.17228497e+01, 2.23095976e+01, 2.28963454e+01,\n",
       "        2.34830932e+01, 2.40698411e+01, 2.46565889e+01, 2.52433368e+01,\n",
       "        2.58300846e+01, 2.64168325e+01, 2.70035803e+01, 2.75903282e+01,\n",
       "        2.81770760e+01, 2.87638239e+01, 2.93505717e+01, 2.99373195e+01,\n",
       "        3.05240674e+01, 3.11108152e+01, 3.16975631e+01, 3.22843109e+01,\n",
       "        3.28710588e+01, 3.34578066e+01, 3.40445545e+01, 3.46313023e+01,\n",
       "        3.52180502e+01, 3.58047980e+01, 3.63915458e+01, 3.69782937e+01,\n",
       "        3.75650415e+01, 3.81517894e+01, 3.87385372e+01, 3.93252851e+01,\n",
       "        3.99120329e+01, 4.04987808e+01, 4.10855286e+01, 4.16722765e+01,\n",
       "        4.22590243e+01, 4.28457721e+01, 4.34325200e+01, 4.40192678e+01,\n",
       "        4.46060157e+01, 4.51927635e+01, 4.57795114e+01, 4.63662592e+01,\n",
       "        4.69530071e+01, 4.75397549e+01, 4.81265028e+01, 4.87132506e+01,\n",
       "        4.92999984e+01, 4.98867463e+01, 5.04734941e+01, 5.10602420e+01,\n",
       "        5.16469898e+01, 5.22337377e+01, 5.28204855e+01, 5.34072334e+01,\n",
       "        5.39939812e+01, 5.45807291e+01, 5.51674769e+01, 5.57542247e+01,\n",
       "        5.63409726e+01, 5.69277204e+01, 5.75144683e+01, 5.81012161e+01,\n",
       "        5.86879640e+01]),\n",
       " <a list of 100 Patch objects>)"
      ]
     },
     "execution_count": 108,
     "metadata": {},
     "output_type": "execute_result"
    },
    {
     "data": {
      "image/png": "[encoded data removed]",
      "text/plain": [
       "<Figure size 432x288 with 1 Axes>"
      ]
     },
     "metadata": {
      "needs_background": "light"
     },
     "output_type": "display_data"
    }
   ],
   "source": [
    "expo(10,1000)"
   ]
  },
  {
   "cell_type": "markdown",
   "metadata": {},
   "source": [
    "How are the two distributions different?"
   ]
  },
  {
   "cell_type": "code",
   "execution_count": 109,
   "metadata": {},
   "outputs": [],
   "source": [
    "# your answer here\n",
    "#the mean and range are larger"
   ]
  },
  {
   "cell_type": "markdown",
   "metadata": {},
   "source": [
    "## Exponential Distribution of Real Data\n",
    "\n",
    "Suppose that the amount of time one spends in a bank is exponentially distributed with mean as 10 minutes (i.e. λ = 1/10). What is the probability that a customer will spend less than fifteen minutes in the bank? \n",
    "\n",
    "Write a code in python to solve this problem"
   ]
  },
  {
   "cell_type": "code",
   "execution_count": 116,
   "metadata": {},
   "outputs": [
    {
     "data": {
      "text/plain": [
       "0.9932620530009145"
      ]
     },
     "execution_count": 116,
     "metadata": {},
     "output_type": "execute_result"
    }
   ],
   "source": [
    "# your answer here\n",
    "# Hint: This is same as saying P(x<15)\n",
    "from scipy.stats import expon\n",
    "\n",
    "expon(10).cdf(15)\n",
    "\n"
   ]
  },
  {
   "cell_type": "markdown",
   "metadata": {},
   "source": [
    "What is the probability that the customer will spend more than 15 minutes"
   ]
  },
  {
   "cell_type": "code",
   "execution_count": 117,
   "metadata": {},
   "outputs": [
    {
     "data": {
      "text/plain": [
       "0.006737946999085476"
      ]
     },
     "execution_count": 117,
     "metadata": {},
     "output_type": "execute_result"
    }
   ],
   "source": [
    "# your answer here\n",
    "1 - expon(10).cdf(15)"
   ]
  },
  {
   "cell_type": "code",
   "execution_count": null,
   "metadata": {},
   "outputs": [],
   "source": []
  }
 ],
 "metadata": {
  "kernelspec": {
   "display_name": "Python 3",
   "language": "python",
   "name": "python3"
  },
  "language_info": {
   "codemirror_mode": {
    "name": "ipython",
    "version": 3
   },
   "file_extension": ".py",
   "mimetype": "text/x-python",
   "name": "python",
   "nbconvert_exporter": "python",
   "pygments_lexer": "ipython3",
   "version": "3.7.1"
  }
 },
 "nbformat": 4,
 "nbformat_minor": 2
}
