{
 "cells": [
  {
   "cell_type": "markdown",
   "metadata": {},
   "source": [
    "# Intro to Bayesian Statistics Lab\n",
    "\n",
    "Complete the following set of exercises to solidify your knowledge of Bayesian statistics and Bayesian data analysis."
   ]
  },
  {
   "cell_type": "code",
   "execution_count": 1,
   "metadata": {},
   "outputs": [],
   "source": [
    "import pandas as pd\n",
    "import numpy as np\n",
    "import matplotlib.pyplot as plt"
   ]
  },
  {
   "cell_type": "markdown",
   "metadata": {},
   "source": [
    "## 1. Cookie Problem\n",
    "\n",
    "Suppose we have two bowls of cookies. Bowl 1 contains 30 vanilla cookies and 10 chocolate cookies. Bowl 2 contains 20 of each. You randomly pick one cookie out of one of the bowls, and it is vanilla. Use Bayes Theorem to calculate the probability that the vanilla cookie you picked came from Bowl 1?"
   ]
  },
  {
   "cell_type": "markdown",
   "metadata": {},
   "source": [
    "$$P(A|B) = \\frac{P(B|A)P(A)}{P(B)}$$\n",
    "$P(A)$: \n",
    "<p><b>Prior probability</b> \"probability of selecting from a particular bowl, without any additional information about what is selected\" </p>\n",
    "$P(B|A)$:\n",
    "<p><b>Likelihood</b>, \"probability of selecting a vanilla cookie given it came from a particular bowl\"</p>\n",
    "$P(B)$:\n",
    "<p><b>marginal likelihood</b>, \"probability of event B, picking a vanilla cookie from both bowls\"</p>\n",
    "$P(A|B)$:\n",
    "<p><b>posterior probability</b>, \"probability of selecting from a given bowl givein that the cookie is vanilla\"</p>"
   ]
  },
  {
   "cell_type": "code",
   "execution_count": 2,
   "metadata": {},
   "outputs": [],
   "source": [
    "pOfA = 0.5 # probability of picking from bowl 1\n",
    "pOfB_given_A =  (30.0/40.0) # probability of selecting a cookie given its from bowl 1\n",
    "pOfB_given_Ac = (20.0/40.0) # probability of selecting from bowl 2\n",
    "pOfB = (pOfB_given_A * pOfA) + (pOfB_given_Ac * pOfA) # law of total probabilities, sum of probabilities of B given A and not A"
   ]
  },
  {
   "cell_type": "code",
   "execution_count": 4,
   "metadata": {},
   "outputs": [
    {
     "name": "stdout",
     "output_type": "stream",
     "text": [
      "Probability that vanilla cookie came from bowl 1 P(A|B) = 0.6\n"
     ]
    }
   ],
   "source": [
    "# probability vanilla cookie came from bowl 1\n",
    "pOfA_given_B = (pOfB_given_A * pOfA) / pOfB\n",
    "print('Probability that vanilla cookie came from bowl 1 P(A|B) = {}'.format(pOfA_given_B))"
   ]
  },
  {
   "cell_type": "markdown",
   "metadata": {},
   "source": [
    "What is the probability that it came from Bowl 2?"
   ]
  },
  {
   "cell_type": "code",
   "execution_count": 6,
   "metadata": {},
   "outputs": [
    {
     "name": "stdout",
     "output_type": "stream",
     "text": [
      "Probability that vanilla cookie came from bowl 2 P(Ac|B) = 0.4\n"
     ]
    }
   ],
   "source": [
    "# probability of choosing from bowl 2\n",
    "print('Probability that vanilla cookie came from bowl 2 P(Ac|B) = {}'.format((pOfA * pOfA)/pOfB))"
   ]
  },
  {
   "cell_type": "markdown",
   "metadata": {},
   "source": [
    "What if the cookie you had picked was chocolate? What are the probabilities that the chocolate cookie came from Bowl 1 and Bowl 2 respectively?"
   ]
  },
  {
   "cell_type": "code",
   "execution_count": 7,
   "metadata": {},
   "outputs": [
    {
     "name": "stdout",
     "output_type": "stream",
     "text": [
      "Bowl 1 = 0.3333333333333333\n",
      "Bowl 2 = 0.6666666666666666\n"
     ]
    }
   ],
   "source": [
    "# bowl 1\n",
    "new_marg = (0.25 * 0.5) + (0.5 * 0.5)\n",
    "print('Bowl 1 = {}'.format((0.25 * 0.5) / new_marg))\n",
    "print('Bowl 2 = {}'.format((0.5 * 0.5) / new_marg))"
   ]
  },
  {
   "cell_type": "markdown",
   "metadata": {},
   "source": [
    "## 2. Candy Problem\n",
    "\n",
    "Suppose you have two bags of candies:\n",
    "\n",
    "- In Bag 1, the mix of colors is:\n",
    "    - Brown - 30%\n",
    "    - Yellow - 20%\n",
    "    - Red - 20%\n",
    "    - Green - 10%\n",
    "    - Orange - 10%\n",
    "    - Tan - 10%\n",
    "    \n",
    "- In Bag 2, the mix of colors is:\n",
    "    - Blue - 24%\n",
    "    - Green - 20%\n",
    "    - Orange - 16%\n",
    "    - Yellow - 14%\n",
    "    - Red - 13%\n",
    "    - Brown - 13%\n",
    "    \n",
    "Not knowing which bag is which, you randomly draw one candy from each bag. One is yellow and one is green. What is the probability that the yellow one came from the Bag 1?\n",
    "\n",
    "*Hint: For the likelihoods, you will need to multiply the probabilities of drawing yellow from one bag and green from the other bag and vice versa.*"
   ]
  },
  {
   "cell_type": "code",
   "execution_count": 8,
   "metadata": {},
   "outputs": [],
   "source": [
    "def bayes_rule(priors, likelihoods):\n",
    "    marg = sum(np.multiply(priors, likelihoods))\n",
    "    post = np.divide(np.multiply(priors, likelihoods), marg)\n",
    "    return post"
   ]
  },
  {
   "cell_type": "markdown",
   "metadata": {},
   "source": [
    "What is the probability that the yellow candy came from Bag 2?"
   ]
  },
  {
   "cell_type": "code",
   "execution_count": 14,
   "metadata": {},
   "outputs": [
    {
     "name": "stdout",
     "output_type": "stream",
     "text": [
      "Probability that the yellow candy came from Bag 2 = 0.25925925925925924\n"
     ]
    }
   ],
   "source": [
    "priors = [0.5, 0.5] # prior probability of picking from either bag\n",
    "likelihoods = [0.20 * 0.20, 0.14 * 0.10]\n",
    "print('Probability that the yellow candy came from Bag 2 = {}'.format(bayes_rule(priors, likelihoods)[1]))"
   ]
  },
  {
   "cell_type": "markdown",
   "metadata": {},
   "source": [
    "What are the probabilities that the green one came from Bag 1 and Bag 2 respectively?"
   ]
  },
  {
   "cell_type": "code",
   "execution_count": 26,
   "metadata": {},
   "outputs": [
    {
     "name": "stdout",
     "output_type": "stream",
     "text": [
      "Probability that green one came from \n",
      "bag 1 = 0.25925925925925924\n",
      "bag 2 = 0.7407407407407408\n"
     ]
    }
   ],
   "source": [
    "expr = bayes_rule(priors, [1.0 - bae for bae in bayes_rule(priors, likelihoods)])\n",
    "print('Probability that green one came from \\nbag 1 = {}\\nbag 2 = {}'.format(expr[0], expr[1]))"
   ]
  },
  {
   "cell_type": "markdown",
   "metadata": {},
   "source": [
    "## 3. Monty Hall Problem\n",
    "\n",
    "Suppose you are a contestant on the popular game show *Let's Make a Deal*. The host of the show (Monty Hall) presents you with three doors - Door A, Door B, and Door C. He tells you that there is a sports car behind one of them and if you choose the correct one, you win the car!\n",
    "\n",
    "You select Door A, but then Monty makes things a little more interesting. He opens Door B to reveal that there is no sports car behind it and asks you if you would like to stick with your choice of Door A or switch your choice to Door C. Given this new information, what are the probabilities of you winning the car if you stick with Door A versus if you switch to Door C?"
   ]
  },
  {
   "cell_type": "markdown",
   "metadata": {},
   "source": [
    "<table>\n",
    "\t<tr>\n",
    "\t\t<th></th>\n",
    "\t\t<th>Prior</th>\n",
    "\t\t<th>Likelihood</th>\n",
    "\t\t<th>marg</th>\n",
    "\t\t<th>Posterior</th>\n",
    "\t</tr>\n",
    "\t<tr>\n",
    "\t\t<td>Hypothesis</td>\n",
    "\t\t<td>P(H)</td>\n",
    "\t\t<td>P(D|H)</td>\n",
    "\t\t<td>P(H)P(D|H)</td>\n",
    "\t\t<td>P(H|D)</td>\n",
    "\t</tr>\n",
    "\t<tr>\n",
    "\t\t<td>Door A</td>\n",
    "\t\t<td>1/3</td>\n",
    "\t\t<td>1/2</td>\n",
    "\t\t<td>1/6</td>\n",
    "\t\t<td>1/3</td>\n",
    "\t</tr>\n",
    "\t<tr>\n",
    "\t\t<td>Door B</td>\n",
    "\t\t<td>1/3</td>\n",
    "\t\t<td>0</td>\n",
    "\t\t<td>0</td>\n",
    "\t\t<td>0</td>\n",
    "\t</tr>\n",
    "\t<tr>\n",
    "\t\t<td>Door C</td>\n",
    "\t\t<td>1/3</td>\n",
    "\t\t<td>1</td>\n",
    "\t\t<td>1/3</td>\n",
    "\t\t<td>2/3</td>\n",
    "\t</tr>\n",
    "</table>"
   ]
  },
  {
   "cell_type": "code",
   "execution_count": 30,
   "metadata": {},
   "outputs": [
    {
     "name": "stdout",
     "output_type": "stream",
     "text": [
      "Door A, B, and C probabilities of finding car behind each: \n",
      "\n",
      "0.3333333333333333\n",
      "0.0\n",
      "0.6666666666666666\n"
     ]
    }
   ],
   "source": [
    "priors = [1/3, 1/3, 1/3]\n",
    "likelihoods = [1/2, # Chooses A, Host opens B, likelihood of car behind A is 1/2 (A or C), and 0 for B\n",
    "               0,\n",
    "               1] # since B was opened P(B) became 0 (no car) and C becomes 1\n",
    "print(\"Door A, B, and C probabilities of finding car behind each: \\n\")\n",
    "print(*bayes_rule(priors, likelihoods), sep = '\\n')"
   ]
  },
  {
   "cell_type": "markdown",
   "metadata": {},
   "source": [
    "## 4. Bayesian Analysis \n",
    "\n",
    "Suppose you work for a landscaping company, and they want to advertise their service online. They create an ad and sit back waiting for the money to roll in. On the first day, the ad sends 100 visitors to the site and 14 of them sign up for landscaping services. Create a generative model to come up with the posterior distribution and produce a visualization of what the posterior distribution would look like given the observed data."
   ]
  },
  {
   "cell_type": "code",
   "execution_count": 6,
   "metadata": {},
   "outputs": [
    {
     "data": {
      "text/plain": [
       "<matplotlib.axes._subplots.AxesSubplot at 0x7f5bba656518>"
      ]
     },
     "execution_count": 6,
     "metadata": {},
     "output_type": "execute_result"
    },
    {
     "data": {
      "image/png": "[encoded data removed]",
      "text/plain": [
       "<Figure size 432x288 with 1 Axes>"
      ]
     },
     "metadata": {
      "needs_background": "light"
     },
     "output_type": "display_data"
    }
   ],
   "source": [
    "%matplotlib inline\n",
    "import pandas as pd\n",
    "import numpy as np\n",
    "import matplotlib.pyplot as plt\n",
    "\n",
    "# generate random uniform dist and visualize\n",
    "\n",
    "n_draws = 100000\n",
    "prior = pd.Series(np.random.uniform(0, 1, size = n_draws))\n",
    "\n",
    "prior.hist()"
   ]
  },
  {
   "cell_type": "markdown",
   "metadata": {},
   "source": [
    "Produce a set of descriptive statistics for the posterior distribution."
   ]
  },
  {
   "cell_type": "code",
   "execution_count": 33,
   "metadata": {},
   "outputs": [
    {
     "data": {
      "text/plain": [
       "<matplotlib.axes._subplots.AxesSubplot at 0x7f5bba25f780>"
      ]
     },
     "execution_count": 33,
     "metadata": {},
     "output_type": "execute_result"
    },
    {
     "data": {
      "image/png": "[encoded data removed]",
      "text/plain": [
       "<Figure size 432x288 with 1 Axes>"
      ]
     },
     "metadata": {
      "needs_background": "light"
     },
     "output_type": "display_data"
    }
   ],
   "source": [
    "observed = 14 # people who signed up for landscaping\n",
    "\n",
    "def generative_model(n, param):\n",
    "    # simulates 100 visitors visiting the site a large number of times\n",
    "    # using random probability param form priors\n",
    "    # returns number of successes over n trials\n",
    "    result = np.random.binomial(n, param)\n",
    "    return result\n",
    "\n",
    "sim_data = [generative_model(100, p) for p in prior]\n",
    "\n",
    "posterior = prior[list(map(lambda x: x == observed, sim_data))]\n",
    "posterior.hist()"
   ]
  },
  {
   "cell_type": "code",
   "execution_count": 34,
   "metadata": {},
   "outputs": [
    {
     "data": {
      "text/plain": [
       "count    965.000000\n",
       "mean       0.147080\n",
       "std        0.036049\n",
       "min        0.053402\n",
       "25%        0.121287\n",
       "50%        0.143579\n",
       "75%        0.169429\n",
       "max        0.295836\n",
       "dtype: float64"
      ]
     },
     "execution_count": 34,
     "metadata": {},
     "output_type": "execute_result"
    }
   ],
   "source": [
    "posterior.describe()"
   ]
  },
  {
   "cell_type": "markdown",
   "metadata": {},
   "source": [
    "What is the 90% credible interval range?"
   ]
  },
  {
   "cell_type": "code",
   "execution_count": 35,
   "metadata": {},
   "outputs": [
    {
     "name": "stdout",
     "output_type": "stream",
     "text": [
      "0.08579442504200019 | 0.2270861671186677\n"
     ]
    }
   ],
   "source": [
    "print(posterior.quantile(.025), '|', posterior.quantile(.975))"
   ]
  },
  {
   "cell_type": "markdown",
   "metadata": {},
   "source": [
    "What is the Maximum Likelihood Estimate?"
   ]
  },
  {
   "cell_type": "code",
   "execution_count": 36,
   "metadata": {},
   "outputs": [
    {
     "name": "stdout",
     "output_type": "stream",
     "text": [
      "Maximum Likelihood Estimate:  0.14 | 0.11398963730569948\n"
     ]
    }
   ],
   "source": [
    "rounded = posterior.round(2) # convert to percentages\n",
    "mode = rounded.mode()[0] # find the mode within the list\n",
    "probability = list(rounded).count(mode)/len(rounded) \n",
    "print('Maximum Likelihood Estimate: ', mode, '|',probability)"
   ]
  },
  {
   "cell_type": "code",
   "execution_count": null,
   "metadata": {},
   "outputs": [],
   "source": []
  },
  {
   "cell_type": "code",
   "execution_count": null,
   "metadata": {},
   "outputs": [],
   "source": []
  }
 ],
 "metadata": {
  "kernelspec": {
   "display_name": "Python 3",
   "language": "python",
   "name": "python3"
  },
  "language_info": {
   "codemirror_mode": {
    "name": "ipython",
    "version": 3
   },
   "file_extension": ".py",
   "mimetype": "text/x-python",
   "name": "python",
   "nbconvert_exporter": "python",
   "pygments_lexer": "ipython3",
   "version": "3.7.0"
  }
 },
 "nbformat": 4,
 "nbformat_minor": 2
}
