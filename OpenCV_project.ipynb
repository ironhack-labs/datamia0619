{
 "cells": [
  {
   "cell_type": "code",
   "execution_count": 5,
   "metadata": {},
   "outputs": [],
   "source": [
    "\n",
    "import matplotlib.pyplot as plt \n",
    "import seaborn as sns \n",
    "from sklearn import linear_model \n",
    "from sklearn.metrics import mean_squared_error, r2_score \n",
    "import statsmodels.api as sm \n",
    "from statsmodels.formula.api import ols\n",
    "import pandas as pd \n",
    "import numpy as np \n",
    "import os \n",
    "import cv2\n",
    "from mss import mss\n",
    "from PIL import Image\n",
    "import imutils\n",
    "import time \n"
   ]
  },
  {
   "cell_type": "code",
   "execution_count": null,
   "metadata": {},
   "outputs": [],
   "source": []
  },
  {
   "cell_type": "code",
   "execution_count": 4,
   "metadata": {},
   "outputs": [
    {
     "name": "stderr",
     "output_type": "stream",
     "text": [
      "UsageError: Line magic function `%%time` not found.\n"
     ]
    }
   ],
   "source": [
    "while True: \n",
    "    \n",
    "    sct = mss()\n",
    "\n",
    "    filename = sct.shot(mon=-1, output='fullscreen.png')\n",
    "    image = cv2.imread(filename)\n",
    "    hsv = cv2.cvtColor(image,cv2.COLOR_BGR2HSV)\n",
    "    lower_range = np.array([0,0,0])\n",
    "    upper_range = np.array([0,0,0])\n",
    "\n",
    "    mask = cv2.inRange(hsv, lower_range, upper_range)\n",
    "    cv2.imshow('Masked',mask)\n",
    "    \n",
    "    result = cv2.bitwise_and(image,image,mask=mask)\n",
    "    cv2.imshow('Result',result)\n",
    "    \n",
    "    if cv2.waitKey(1) ==27: \n",
    "        break \n",
    "        \n",
    "cv2.DestroyAllWindows()"
   ]
  },
  {
   "cell_type": "code",
   "execution_count": null,
   "metadata": {},
   "outputs": [],
   "source": []
  },
  {
   "cell_type": "code",
   "execution_count": null,
   "metadata": {},
   "outputs": [],
   "source": []
  },
  {
   "cell_type": "code",
   "execution_count": null,
   "metadata": {},
   "outputs": [],
   "source": []
  },
  {
   "cell_type": "code",
   "execution_count": null,
   "metadata": {},
   "outputs": [],
   "source": []
  },
  {
   "cell_type": "code",
   "execution_count": null,
   "metadata": {},
   "outputs": [],
   "source": []
  },
  {
   "cell_type": "code",
   "execution_count": null,
   "metadata": {},
   "outputs": [],
   "source": [
    "df = pd.read_csv(os.getcwd()+'/Fitbit2.csv')"
   ]
  },
  {
   "cell_type": "code",
   "execution_count": null,
   "metadata": {},
   "outputs": [],
   "source": [
    "df.head()"
   ]
  },
  {
   "cell_type": "code",
   "execution_count": null,
   "metadata": {},
   "outputs": [],
   "source": [
    "df.shape"
   ]
  },
  {
   "cell_type": "code",
   "execution_count": null,
   "metadata": {},
   "outputs": [],
   "source": [
    "sns.pairplot(df)"
   ]
  },
  {
   "cell_type": "code",
   "execution_count": null,
   "metadata": {},
   "outputs": [],
   "source": [
    "lm = linear_model.LinearRegression() \n",
    "X = pd.DataFrame(data= df, columns=['MinutesOfBeingAwake'])\n",
    "Y = pd.DataFrame(data= df, columns=['NumberOfAwakings'])\n",
    "model = lm.fit(X,Y)\n",
    "lm.intercept_\n",
    "lm.coef_\n",
    "predictions  = lm.predict(X)"
   ]
  },
  {
   "cell_type": "code",
   "execution_count": null,
   "metadata": {},
   "outputs": [],
   "source": [
    "sns.regplot(x=\"MinutesOfBeingAwake\", y=\"NumberOfAwakings\", data=df)"
   ]
  },
  {
   "cell_type": "code",
   "execution_count": null,
   "metadata": {},
   "outputs": [],
   "source": []
  }
 ],
 "metadata": {
  "kernelspec": {
   "display_name": "Python 3",
   "language": "python",
   "name": "python3"
  },
  "language_info": {
   "codemirror_mode": {
    "name": "ipython",
    "version": 3
   },
   "file_extension": ".py",
   "mimetype": "text/x-python",
   "name": "python",
   "nbconvert_exporter": "python",
   "pygments_lexer": "ipython3",
   "version": "3.7.1"
  }
 },
 "nbformat": 4,
 "nbformat_minor": 2
}
